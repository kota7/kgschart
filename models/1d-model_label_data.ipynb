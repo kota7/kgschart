{
 "cells": [
  {
   "cell_type": "code",
   "execution_count": 22,
   "metadata": {},
   "outputs": [],
   "source": [
    "import os\n",
    "import numpy as np\n",
    "import pandas as pd\n",
    "from sklearn.model_selection import train_test_split\n",
    "from sklearn.pipeline import Pipeline\n",
    "from sklearn.naive_bayes import GaussianNB\n",
    "from matplotlib import pyplot as plt"
   ]
  },
  {
   "cell_type": "code",
   "execution_count": 20,
   "metadata": {},
   "outputs": [],
   "source": [
    "# karas set up\n",
    "# note: we use keras only for image data generation\n",
    "from keras import backend as K\n",
    "K.set_image_data_format('channels_last')\n",
    "from keras.preprocessing.image import ImageDataGenerator"
   ]
  },
  {
   "cell_type": "code",
   "execution_count": 14,
   "metadata": {
    "collapsed": true
   },
   "outputs": [],
   "source": [
    "proj_root = os.path.abspath(os.path.join('../')) \n",
    "datadir = os.path.join(proj_root, 'data/labels/')"
   ]
  },
  {
   "cell_type": "code",
   "execution_count": 15,
   "metadata": {},
   "outputs": [
    {
     "data": {
      "text/html": [
       "<div>\n",
       "<table border=\"1\" class=\"dataframe\">\n",
       "  <thead>\n",
       "    <tr style=\"text-align: right;\">\n",
       "      <th></th>\n",
       "      <th>0</th>\n",
       "      <th>1</th>\n",
       "    </tr>\n",
       "  </thead>\n",
       "  <tbody>\n",
       "    <tr>\n",
       "      <th>b'0'</th>\n",
       "      <td>8</td>\n",
       "      <td>8</td>\n",
       "    </tr>\n",
       "    <tr>\n",
       "      <th>b'1'</th>\n",
       "      <td>51</td>\n",
       "      <td>50</td>\n",
       "    </tr>\n",
       "    <tr>\n",
       "      <th>b'2'</th>\n",
       "      <td>16</td>\n",
       "      <td>15</td>\n",
       "    </tr>\n",
       "    <tr>\n",
       "      <th>b'3'</th>\n",
       "      <td>11</td>\n",
       "      <td>10</td>\n",
       "    </tr>\n",
       "    <tr>\n",
       "      <th>b'4'</th>\n",
       "      <td>10</td>\n",
       "      <td>10</td>\n",
       "    </tr>\n",
       "    <tr>\n",
       "      <th>b'5'</th>\n",
       "      <td>10</td>\n",
       "      <td>11</td>\n",
       "    </tr>\n",
       "    <tr>\n",
       "      <th>b'6'</th>\n",
       "      <td>11</td>\n",
       "      <td>10</td>\n",
       "    </tr>\n",
       "    <tr>\n",
       "      <th>b'7'</th>\n",
       "      <td>10</td>\n",
       "      <td>10</td>\n",
       "    </tr>\n",
       "    <tr>\n",
       "      <th>b'8'</th>\n",
       "      <td>11</td>\n",
       "      <td>11</td>\n",
       "    </tr>\n",
       "    <tr>\n",
       "      <th>b'9'</th>\n",
       "      <td>11</td>\n",
       "      <td>12</td>\n",
       "    </tr>\n",
       "    <tr>\n",
       "      <th>b'd'</th>\n",
       "      <td>12</td>\n",
       "      <td>13</td>\n",
       "    </tr>\n",
       "    <tr>\n",
       "      <th>b'k'</th>\n",
       "      <td>90</td>\n",
       "      <td>91</td>\n",
       "    </tr>\n",
       "  </tbody>\n",
       "</table>\n",
       "</div>"
      ],
      "text/plain": [
       "       0   1\n",
       "b'0'   8   8\n",
       "b'1'  51  50\n",
       "b'2'  16  15\n",
       "b'3'  11  10\n",
       "b'4'  10  10\n",
       "b'5'  10  11\n",
       "b'6'  11  10\n",
       "b'7'  10  10\n",
       "b'8'  11  11\n",
       "b'9'  11  12\n",
       "b'd'  12  13\n",
       "b'k'  90  91"
      ]
     },
     "execution_count": 15,
     "metadata": {},
     "output_type": "execute_result"
    }
   ],
   "source": [
    "X1 = np.load(os.path.join(datadir, 'X-1.npy'))\n",
    "Y1 = np.load(os.path.join(datadir, 'Y-1.npy'))\n",
    "\n",
    "X2 = np.load(os.path.join(datadir, 'X-2.npy'))\n",
    "Y2 = np.load(os.path.join(datadir, 'Y-2.npy'))\n",
    "\n",
    "\n",
    "X = np.vstack((X1, X2))\n",
    "Y = np.concatenate((Y1, Y2))\n",
    "\n",
    "X_train, X_test, Y_train, Y_test = train_test_split(\n",
    "        X, Y, test_size=0.5, stratify=Y, random_state=87)\n",
    "\n",
    "pd.concat([pd.Series(Y_train).value_counts(),\n",
    "           pd.Series(Y_test).value_counts()], axis=1)"
   ]
  },
  {
   "cell_type": "code",
   "execution_count": 16,
   "metadata": {},
   "outputs": [
    {
     "data": {
      "text/plain": [
       "True"
      ]
     },
     "execution_count": 16,
     "metadata": {},
     "output_type": "execute_result"
    }
   ],
   "source": [
    "# Define preprocessor class for pipelining\n",
    "class MyTrans:\n",
    "    def __init__(self):\n",
    "        pass\n",
    "    def fit(self, X, y=None):\n",
    "        return self\n",
    "    def transform(self, X, y=None):\n",
    "        return X.reshape(X.shape[0], -1)\n",
    "\n",
    "# quick test\n",
    "a = X[0].flatten()\n",
    "trans = MyTrans()\n",
    "trans.fit(X)\n",
    "b = trans.transform(X)[0]\n",
    "np.all(a==b)"
   ]
  },
  {
   "cell_type": "code",
   "execution_count": 17,
   "metadata": {},
   "outputs": [
    {
     "name": "stdout",
     "output_type": "stream",
     "text": [
      "train performance 1.0\n",
      "test performance 1.0\n"
     ]
    }
   ],
   "source": [
    "# Fit Gaussian Naive Bayes\n",
    "pipe = Pipeline([\n",
    "    ('flatten data to \"obs*feature\" shape', MyTrans()), \n",
    "    ('fit to gaussian naive bayes', GaussianNB())\n",
    "])\n",
    "fit = pipe.fit(X_train, Y_train)\n",
    "\n",
    "print('train performance', fit.score(X_train, Y_train))\n",
    "print('test performance', fit.score(X_test, Y_test))"
   ]
  },
  {
   "cell_type": "code",
   "execution_count": 57,
   "metadata": {},
   "outputs": [
    {
     "data": {
      "image/png": "[encoded data removed]",
      "text/plain": [
       "<matplotlib.figure.Figure at 0xcf7fe10>"
      ]
     },
     "metadata": {},
     "output_type": "display_data"
    }
   ],
   "source": [
    "# observe prediction or random cases\n",
    "def random_plot(X, y, predicted):\n",
    "    indices = np.random.choice(len(X), 8)\n",
    "    count = 0\n",
    "    for i in indices:\n",
    "        count += 1\n",
    "        ax = plt.subplot(2, 4, count)\n",
    "        ax.imshow(X[i], cmap='gray')\n",
    "        ax.text(0, 0, \n",
    "                'tr: %s, pr: %s' % (y[i].decode('utf-8'), predicted[i].decode('utf-8')), \\\n",
    "                bbox={'facecolor':\"wheat\"})\n",
    "    plt.show(block=False)\n",
    "\n",
    "pred = fit.predict(X_test)\n",
    "random_plot(X_test, Y_test, pred)\n"
   ]
  },
  {
   "cell_type": "code",
   "execution_count": null,
   "metadata": {
    "collapsed": true
   },
   "outputs": [],
   "source": []
  },
  {
   "cell_type": "code",
   "execution_count": null,
   "metadata": {
    "collapsed": true
   },
   "outputs": [],
   "source": []
  }
 ],
 "metadata": {
  "anaconda-cloud": {},
  "kernelspec": {
   "display_name": "Python [conda env:kgschart]",
   "language": "python",
   "name": "conda-env-kgschart-py"
  },
  "language_info": {
   "codemirror_mode": {
    "name": "ipython",
    "version": 3
   },
   "file_extension": ".py",
   "mimetype": "text/x-python",
   "name": "python",
   "nbconvert_exporter": "python",
   "pygments_lexer": "ipython3",
   "version": "3.5.2"
  }
 },
 "nbformat": 4,
 "nbformat_minor": 2
}
