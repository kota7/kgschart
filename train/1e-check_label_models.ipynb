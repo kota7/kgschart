{
 "cells": [
  {
   "cell_type": "code",
   "execution_count": 17,
   "metadata": {},
   "outputs": [],
   "source": [
    "import os\n",
    "import numpy as np\n",
    "from glob import glob\n",
    "from sklearn.externals import joblib\n",
    "\n",
    "proj_root = os.path.abspath(os.path.join('../')) \n",
    "datadir = os.path.join(proj_root, 'data/labels/')\n",
    "modeldir = os.path.join(proj_root, 'models/')\n"
   ]
  },
  {
   "cell_type": "code",
   "execution_count": 21,
   "metadata": {
    "collapsed": true
   },
   "outputs": [],
   "source": [
    "X1 = np.load(os.path.join(datadir, 'X-1.npy'))\n",
    "Y1 = np.load(os.path.join(datadir, 'Y-1.npy'))\n",
    "\n",
    "X2 = np.load(os.path.join(datadir, 'X-2.npy'))\n",
    "Y2 = np.load(os.path.join(datadir, 'Y-2.npy'))\n",
    "\n",
    "\n",
    "X = np.vstack((X1, X2))\n",
    "X_reshaped = X.reshape(X.shape[0], -1)\n",
    "Y = np.concatenate((Y1, Y2))"
   ]
  },
  {
   "cell_type": "code",
   "execution_count": 11,
   "metadata": {},
   "outputs": [],
   "source": [
    "model = joblib.load(os.path.join(modeldir, 'label_nb.pkl'))\n",
    "model = joblib.load(os.path.join(modeldir, 'label_mlp-full.pkl'))"
   ]
  },
  {
   "cell_type": "code",
   "execution_count": 26,
   "metadata": {},
   "outputs": [
    {
     "name": "stdout",
     "output_type": "stream",
     "text": [
      "label_mlp-full.pkl\n",
      "  accuracy = 1.0\n",
      "label_mlp-grid.pkl\n",
      "  accuracy = 1.0\n",
      "label_mlp.pkl\n",
      "  accuracy = 1.0\n",
      "label_nb.pkl\n",
      "  accuracy = 1.0\n",
      "label_pca-mlp.pkl\n",
      "  accuracy = 1.0\n"
     ]
    }
   ],
   "source": [
    "for fn in glob(os.path.join(modeldir, '*.pkl')):\n",
    "    print(os.path.basename(fn), end='\\n  accuracy = ')\n",
    "    model = joblib.load(fn)\n",
    "    print(model.score(X_reshaped, Y))"
   ]
  },
  {
   "cell_type": "code",
   "execution_count": null,
   "metadata": {
    "collapsed": true
   },
   "outputs": [],
   "source": []
  }
 ],
 "metadata": {
  "anaconda-cloud": {},
  "kernelspec": {
   "display_name": "Python [conda env:kgschart]",
   "language": "python",
   "name": "conda-env-kgschart-py"
  },
  "language_info": {
   "codemirror_mode": {
    "name": "ipython",
    "version": 3
   },
   "file_extension": ".py",
   "mimetype": "text/x-python",
   "name": "python",
   "nbconvert_exporter": "python",
   "pygments_lexer": "ipython3",
   "version": "3.5.2"
  }
 },
 "nbformat": 4,
 "nbformat_minor": 2
}
