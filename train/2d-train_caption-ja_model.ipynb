{
 "cells": [
  {
   "cell_type": "markdown",
   "metadata": {},
   "source": [
    "# Train Caption-ja letter classifier\n",
    "\n",
    "Goal: **Classify letters into digits, :, /, ~ and others**\n",
    "\n",
    "Let relevant letters = `{0-9, :, /, ~}`\n",
    "\n",
    "Steps\n",
    "\n",
    "\n",
    "1. Remove background columns from all input data\n",
    "\n",
    "2. Get the maximum size of relevant letters -> `(nr, nc)`\n",
    "\n",
    "3. filter out the data with size larger than `(nr+4, nc+4)`\n",
    "\n",
    "4. Pad all remaing data to the size `(nr+4, nc+4)`\n",
    "\n",
    "5. Train classification model on the created data\n",
    "  \n",
    "  A. One-step classifier\n",
    "  \n",
    "  B. Two-step classifer\n",
    "  \n",
    "    - Binary classification between relevant vs not\n",
    "  \n",
    "    - Multiclass classification among relevant letters"
   ]
  },
  {
   "cell_type": "code",
   "execution_count": 1,
   "metadata": {},
   "outputs": [
    {
     "name": "stderr",
     "output_type": "stream",
     "text": [
      "Using Theano backend.\n"
     ]
    }
   ],
   "source": [
    "import os\n",
    "import sys\n",
    "import json\n",
    "import numpy as np\n",
    "import pandas as pd\n",
    "from matplotlib import pyplot as plt\n",
    "import seaborn as sns\n",
    "from sklearn.externals import joblib\n",
    "from sklearn.svm import SVC\n",
    "from sklearn.decomposition import PCA\n",
    "from sklearn.neural_network import MLPClassifier\n",
    "from sklearn.linear_model import LogisticRegression\n",
    "from sklearn.pipeline import Pipeline\n",
    "from sklearn.metrics import classification_report\n",
    "from sklearn.model_selection import GridSearchCV\n",
    "from keras.preprocessing.image import ImageDataGenerator"
   ]
  },
  {
   "cell_type": "code",
   "execution_count": 2,
   "metadata": {
    "collapsed": true
   },
   "outputs": [],
   "source": [
    "proj_root = os.path.abspath(os.path.join('../')) \n",
    "datadir = os.path.join(proj_root, 'data/caption/')\n",
    "modeldir = os.path.join(proj_root, 'models/')\n",
    "arcdir = os.path.join(proj_root, 'models/archive')\n",
    "\n",
    "if not os.path.isdir(datadir): \n",
    "    print('data directory not found', os.path.abspath(datadir))\n",
    "    raise\n",
    "if not os.path.isdir(modeldir): os.path.makedirs(modeldir)\n",
    "if not os.path.isdir(modeldir): os.path.makedirs(arcdir)"
   ]
  },
  {
   "cell_type": "code",
   "execution_count": 3,
   "metadata": {
    "collapsed": true
   },
   "outputs": [],
   "source": [
    "module_path = os.path.join(proj_root, 'kgschart')\n",
    "sys.path.append(module_path)\n",
    "from utils import pad_image"
   ]
  },
  {
   "cell_type": "code",
   "execution_count": 4,
   "metadata": {
    "collapsed": true
   },
   "outputs": [],
   "source": [
    "X = np.load(os.path.join(datadir, 'X-ja.npy'))\n",
    "Y = np.load(os.path.join(datadir, 'Y-ja.npy'))"
   ]
  },
  {
   "cell_type": "code",
   "execution_count": 5,
   "metadata": {},
   "outputs": [
    {
     "data": {
      "image/png": "[encoded data removed]",
      "text/plain": [
       "<matplotlib.figure.Figure at 0x7fb2bd957160>"
      ]
     },
     "metadata": {},
     "output_type": "display_data"
    }
   ],
   "source": [
    "# convenient functions\n",
    "def random_plot(X, Y, predicted=None):\n",
    "    sns.set_style('white')\n",
    "    indices = np.random.choice(len(Y), min(8, len(Y)))\n",
    "    count = 0\n",
    "    for i in indices:\n",
    "        count += 1\n",
    "        ax = plt.subplot(2, 4, count)\n",
    "        ax.imshow(X[i], cmap='gray')\n",
    "        text = Y[i] if predicted is None else 'tr: %s, pr: %s' % (Y[i], predicted[i])\n",
    "        ax.text(0, 0, text, bbox={'facecolor':\"wheat\"})\n",
    "    plt.show(block=False)\n",
    "\n",
    "random_plot(X, Y)\n",
    "\n",
    "\n",
    "def compare_plot(X1, X2):\n",
    "    sns.set_style('white')\n",
    "    indices = range(3) if len(X1) <= 3 else np.random.choice(len(X1), 3)\n",
    "    count = 0\n",
    "    for i in indices:\n",
    "        count += 1\n",
    "        plt.subplot(3, 2, count)\n",
    "        plt.imshow(X1[i], cmap='gray')\n",
    "        count += 1\n",
    "        plt.subplot(3, 2, count)\n",
    "        plt.imshow(X2[i], cmap='gray')\n",
    "    plt.show(block=False)\n",
    "\n",
    "def generate_augmented_data(X, Y, target_size, seed=None):\n",
    "    datagen = ImageDataGenerator(width_shift_range=0.1, height_shift_range=0.1, \n",
    "                                 data_format='channels_last', channel_shift_range=0.1)\n",
    "    out_X = None\n",
    "    out_Y = None\n",
    "    for x,y in datagen.flow(np.expand_dims(X, axis=4), Y, seed=seed):\n",
    "        if out_X is None:\n",
    "            out_X = x\n",
    "            out_Y = y\n",
    "        else:\n",
    "            out_X = np.vstack([out_X, x])\n",
    "            out_Y = np.concatenate([out_Y, y])\n",
    "        if len(out_Y) >= target_size: \n",
    "            break\n",
    "    out_X = out_X.squeeze()\n",
    "    return out_X, out_Y\n",
    "\n",
    "\n",
    "def diagnosis(fit, X, Y):\n",
    "    print('accuracy = ', fit.score(X, Y))\n",
    "    pred = fit.predict(X)\n",
    "    wrong = (Y != pred)\n",
    "    if np.any(wrong):\n",
    "        random_plot(X[wrong], Y[wrong], pred[wrong])\n",
    "    #print(classification_report(Y, pred))\n",
    "    print(pd.crosstab(pd.Series(Y), pd.Series(pred), margins=True))\n",
    "\n"
   ]
  },
  {
   "cell_type": "markdown",
   "metadata": {},
   "source": [
    "## Step 1 Remove background from all input data"
   ]
  },
  {
   "cell_type": "code",
   "execution_count": 6,
   "metadata": {},
   "outputs": [
    {
     "data": {
      "image/png": "[encoded data removed]",
      "text/plain": [
       "<matplotlib.figure.Figure at 0x7fb2bd932c50>"
      ]
     },
     "metadata": {},
     "output_type": "display_data"
    }
   ],
   "source": [
    "def remove_background(x, bg = 1.0, rows=False, cols=True):\n",
    "    \"\"\"\n",
    "    from a image array of size (nrow, ncol),\n",
    "    remove all rows and cols where values are all bg\n",
    "    \"\"\"\n",
    "    not_bg = (x != bg)\n",
    "    non_bg_rows = np.any(not_bg, axis=1)\n",
    "    non_bg_cols = np.any(not_bg, axis=0)\n",
    "    \n",
    "    if rows:\n",
    "        tmp = non_bg_rows.nonzero()[0]\n",
    "        if len(tmp) == 0: return None\n",
    "        i1 = tmp[0]\n",
    "        i2 = tmp[-1] + 1\n",
    "    else:\n",
    "        i1 = 0\n",
    "        i2 = x.shape[0]\n",
    "    \n",
    "    if cols:\n",
    "        tmp = non_bg_cols.nonzero()[0]\n",
    "        if len(tmp) == 0: return None\n",
    "        j1 = tmp[0]\n",
    "        j2 = tmp[-1] + 1\n",
    "    else:\n",
    "        j1 = 0\n",
    "        j2 = x.shape[1]\n",
    "        \n",
    "    return x[i1:i2, j1:j2]\n",
    "\n",
    "X_nobg = [remove_background(x, rows=False) for x in X]\n",
    "compare_plot(X, X_nobg)"
   ]
  },
  {
   "cell_type": "markdown",
   "metadata": {},
   "source": [
    "## Step 2 Get the maximum size of relevant letters -> (nr, nc)"
   ]
  },
  {
   "cell_type": "code",
   "execution_count": 7,
   "metadata": {},
   "outputs": [
    {
     "name": "stdout",
     "output_type": "stream",
     "text": [
      "14 7\n"
     ]
    }
   ],
   "source": [
    "max_rows = 0\n",
    "max_cols = 0\n",
    "\n",
    "relevant_letters = [s for s in '0123456789/:?']\n",
    "for i in range(len(Y)):\n",
    "    if Y[i] in relevant_letters:\n",
    "        max_rows = max(X_nobg[i].shape[0], max_rows)\n",
    "        max_cols = max(X_nobg[i].shape[1], max_cols)\n",
    "print(max_rows, max_cols)"
   ]
  },
  {
   "cell_type": "markdown",
   "metadata": {},
   "source": [
    "## Step 3 filter out the data with size larger than (nr+4, nc+4)"
   ]
  },
  {
   "cell_type": "code",
   "execution_count": 8,
   "metadata": {},
   "outputs": [
    {
     "name": "stdout",
     "output_type": "stream",
     "text": [
      "target shape = (18, 11)\n",
      "total: 109, included: 105, out: 4\n",
      "non-included samples\n"
     ]
    },
    {
     "data": {
      "image/png": "[encoded data removed]",
      "text/plain": [
       "<matplotlib.figure.Figure at 0x7fb2bae79e48>"
      ]
     },
     "metadata": {},
     "output_type": "display_data"
    },
    {
     "name": "stdout",
     "output_type": "stream",
     "text": [
      "included samples\n"
     ]
    },
    {
     "data": {
      "image/png": "[encoded data removed]",
      "text/plain": [
       "<matplotlib.figure.Figure at 0x7fb2bad14780>"
      ]
     },
     "metadata": {},
     "output_type": "display_data"
    }
   ],
   "source": [
    "target_shape = (max_rows+4, max_cols+4)\n",
    "print(\"target shape =\", target_shape)\n",
    "X_out = []\n",
    "Y_out = []\n",
    "X_in = []\n",
    "Y_in = []\n",
    "for i in range(len(Y)):\n",
    "    #print(i, X_nobg[i].shape)\n",
    "    if X_nobg[i].shape[0] <= target_shape[0] and X_nobg[i].shape[1] <= target_shape[1]:\n",
    "        X_in.append(X_nobg[i])\n",
    "        Y_in.append(Y[i])\n",
    "    else:\n",
    "        X_out.append(X_nobg[i])\n",
    "        Y_out.append(Y[i])\n",
    "print('total: %d, included: %d, out: %d' % (len(Y), len(Y_in), len(Y_out)))\n",
    "\n",
    "print('non-included samples')\n",
    "random_plot(X_out, Y_out)\n",
    "\n",
    "print('included samples')\n",
    "random_plot(X_in, Y_in)\n"
   ]
  },
  {
   "cell_type": "markdown",
   "metadata": {},
   "source": [
    "## Step 4 Pad all remaing data to the size (nr+4, nc+4)"
   ]
  },
  {
   "cell_type": "code",
   "execution_count": 9,
   "metadata": {},
   "outputs": [
    {
     "data": {
      "image/png": "[encoded data removed]",
      "text/plain": [
       "<matplotlib.figure.Figure at 0x7fb2badd4c88>"
      ]
     },
     "metadata": {},
     "output_type": "display_data"
    },
    {
     "data": {
      "text/plain": [
       "?    71\n",
       "5     3\n",
       "7     3\n",
       "1     3\n",
       "2     3\n",
       "9     3\n",
       "4     3\n",
       "3     3\n",
       "6     3\n",
       "0     3\n",
       "/     3\n",
       ":     2\n",
       "8     2\n",
       "dtype: int64"
      ]
     },
     "execution_count": 9,
     "metadata": {},
     "output_type": "execute_result"
    }
   ],
   "source": [
    "X_in = [pad_image(x, target_shape[0], target_shape[1], 1.0) for x in X_in]\n",
    "X_in = [np.expand_dims(x, axis=0) for x in X_in]\n",
    "X_in = np.vstack(X_in)\n",
    "\n",
    "Y_in_true = np.array(Y_in)\n",
    "Y_in = [y if y in relevant_letters else '?' for y in Y_in]\n",
    "Y_in = np.array(Y_in)\n",
    "\n",
    "random_plot(X_in, Y_in)\n",
    "pd.Series(Y_in).value_counts()"
   ]
  },
  {
   "cell_type": "markdown",
   "metadata": {},
   "source": [
    "## Step 5 Train classification model"
   ]
  },
  {
   "cell_type": "code",
   "execution_count": 10,
   "metadata": {
    "collapsed": true
   },
   "outputs": [],
   "source": [
    "# generate test data from image data generator\n",
    "X_test, Y_test = generate_augmented_data(X_in, Y_in, 10000, seed = 8)\n",
    "\n",
    "# generate train data too\n",
    "X_train, Y_train = generate_augmented_data(X_in, Y_in, 5000, seed = 7)"
   ]
  },
  {
   "cell_type": "code",
   "execution_count": 11,
   "metadata": {},
   "outputs": [
    {
     "name": "stdout",
     "output_type": "stream",
     "text": [
      "accuracy on original set =  0.866666666667\n",
      "accuracy =  0.866666666667\n"
     ]
    },
    {
     "data": {
      "image/png": "[encoded data removed]",
      "text/plain": [
       "<matplotlib.figure.Figure at 0x7fb2fbe635f8>"
      ]
     },
     "metadata": {},
     "output_type": "display_data"
    },
    {
     "name": "stdout",
     "output_type": "stream",
     "text": [
      "col_0  /  1  2  3  4  7  9   ?  All\n",
      "row_0                              \n",
      "/      3  0  0  0  0  0  0   0    3\n",
      "0      0  0  0  0  0  0  0   3    3\n",
      "1      0  3  0  0  0  0  0   0    3\n",
      "2      0  0  3  0  0  0  0   0    3\n",
      "3      0  0  0  2  0  0  0   1    3\n",
      "4      0  0  0  0  3  0  0   0    3\n",
      "5      0  0  0  0  0  0  0   3    3\n",
      "6      0  0  0  0  0  0  0   3    3\n",
      "7      0  0  0  0  0  3  0   0    3\n",
      "8      0  0  0  0  0  0  0   2    2\n",
      "9      0  0  0  0  0  0  3   0    3\n",
      ":      0  0  0  0  0  0  0   2    2\n",
      "?      0  0  0  0  0  0  0  71   71\n",
      "All    3  3  3  2  3  3  3  85  105\n",
      "accuracy =  0.767562706106\n"
     ]
    },
    {
     "data": {
      "image/png": "[encoded data removed]",
      "text/plain": [
       "<matplotlib.figure.Figure at 0x7fb2baf7bfd0>"
      ]
     },
     "metadata": {},
     "output_type": "display_data"
    },
    {
     "name": "stdout",
     "output_type": "stream",
     "text": [
      "col_0    /   1    2   3    4   5    7    9     ?    All\n",
      "row_0                                                  \n",
      "/      162   0    0   0    0   0    0    0   124    286\n",
      "0        0   0    0   0    0   0    0    0   286    286\n",
      "1        0  79    0   0    0   0    0    0   206    285\n",
      "2        0   0  204   0    0   0   20    0    62    286\n",
      "3        0   0    0  30    0   0    0    0   256    286\n",
      "4        0   0    0   0  167   0    0    0   118    285\n",
      "5        0   0    0   0    0  26    0    0   261    287\n",
      "6        0   0    0   0    0   0    0    0   285    285\n",
      "7        0   0   11   0    0   0  182    0    92    285\n",
      "8        0   0    0   0    0   0    0    0   191    191\n",
      "9        0   0    0   0    0   0    0  125   161    286\n",
      ":        0   0    0   0    0   0    0    0   191    191\n",
      "?        0   0   47   0    0   6    7    2  6706   6768\n",
      "All    162  79  262  30  167  32  209  127  8939  10007\n"
     ]
    }
   ],
   "source": [
    "# benchmark fit with support vector machine\n",
    "\n",
    "# used for data preprocess\n",
    "class Flatten:\n",
    "    def __init__(self):\n",
    "        pass\n",
    "    def fit(self, X, y=None):\n",
    "        return self\n",
    "    def transform(self, X, y=None):\n",
    "        return X.reshape(X.shape[0], -1)\n",
    "    def get_params(self, deep=True):\n",
    "        return {}\n",
    "\n",
    "    \n",
    "pipe_svm = Pipeline([\n",
    "    ('flatten', Flatten()), ('SVM', SVC())\n",
    "])    \n",
    "pipe_svm.fit(X_train, Y_train)\n",
    "\n",
    "\n",
    "print('accuracy on original set = ', pipe_svm.score(X_in, Y_in))\n",
    "diagnosis(pipe_svm, X_in, Y_in)\n",
    "diagnosis(pipe_svm, X_test, Y_test)"
   ]
  },
  {
   "cell_type": "code",
   "execution_count": 12,
   "metadata": {},
   "outputs": [
    {
     "data": {
      "text/plain": [
       "array(['/', '0', '1', '2', '3', '4', '5', '6', '7', '8', '9', ':', '?'], \n",
       "      dtype='<U1')"
      ]
     },
     "execution_count": 12,
     "metadata": {},
     "output_type": "execute_result"
    }
   ],
   "source": [
    "pipe_svm.classes_"
   ]
  },
  {
   "cell_type": "markdown",
   "metadata": {},
   "source": [
    "SVM is not so bad! Just a naive fit achieves 80% accuracy!"
   ]
  },
  {
   "cell_type": "markdown",
   "metadata": {},
   "source": [
    "### Consider Dimensionality reduction with PCA"
   ]
  },
  {
   "cell_type": "code",
   "execution_count": 13,
   "metadata": {},
   "outputs": [
    {
     "data": {
      "image/png": "[encoded data removed]",
      "text/plain": [
       "<matplotlib.figure.Figure at 0x7fb2bae8aa90>"
      ]
     },
     "metadata": {},
     "output_type": "display_data"
    },
    {
     "data": {
      "image/png": "[encoded data removed]",
      "text/plain": [
       "<matplotlib.figure.Figure at 0x7fb2bac5b710>"
      ]
     },
     "metadata": {},
     "output_type": "display_data"
    },
    {
     "name": "stdout",
     "output_type": "stream",
     "text": [
      "1 0.0873478478535\n",
      "2 0.164094278597\n",
      "3 0.222860938465\n",
      "4 0.276288810822\n",
      "5 0.32532734534\n",
      "6 0.370036580136\n",
      "7 0.408765440435\n",
      "8 0.443739488477\n",
      "9 0.472998344627\n",
      "10 0.501814843646\n",
      "11 0.527526446069\n",
      "12 0.550031652677\n",
      "13 0.571561499363\n",
      "14 0.591654020867\n",
      "15 0.611090935339\n",
      "16 0.628419585221\n",
      "17 0.644349214979\n",
      "18 0.65977840439\n",
      "19 0.67497817287\n",
      "20 0.689540703329\n",
      "21 0.702672307741\n",
      "22 0.71535333015\n",
      "23 0.727230164205\n",
      "24 0.737847444836\n",
      "25 0.748011475916\n",
      "26 0.758009208476\n",
      "27 0.767519949872\n",
      "28 0.776476022223\n",
      "29 0.785048190327\n",
      "30 0.792957596796\n",
      "31 0.80076366138\n",
      "32 0.808068493346\n",
      "33 0.81514542538\n",
      "34 0.82214680808\n",
      "35 0.828542808381\n",
      "36 0.834844799683\n",
      "37 0.84094831309\n",
      "38 0.846848100211\n",
      "39 0.852684283599\n",
      "40 0.857995213555\n",
      "41 0.863124486129\n",
      "42 0.868042505397\n",
      "43 0.8727424241\n",
      "44 0.877189948342\n",
      "45 0.881553882807\n",
      "46 0.885722448343\n",
      "47 0.889591468401\n",
      "48 0.893269823545\n",
      "49 0.896811625452\n",
      "50 0.900316223906\n",
      "51 0.903765454443\n",
      "52 0.907036258903\n",
      "53 0.910147049841\n",
      "54 0.913137184802\n",
      "55 0.915950469136\n",
      "56 0.918741266345\n",
      "57 0.921458283101\n",
      "58 0.924114981208\n",
      "59 0.926697490317\n",
      "60 0.929157559031\n",
      "61 0.93148251289\n",
      "62 0.933701627982\n",
      "63 0.935825759355\n",
      "64 0.93788846253\n",
      "65 0.93992491798\n",
      "66 0.94192075861\n",
      "67 0.943840614676\n",
      "68 0.945648616442\n",
      "69 0.947439377624\n",
      "70 0.94920697969\n",
      "71 0.950918086493\n",
      "72 0.952563899725\n",
      "73 0.954145740523\n",
      "74 0.95568250684\n",
      "75 0.957215269989\n",
      "76 0.9587213338\n",
      "77 0.960172253154\n",
      "78 0.961561874528\n",
      "79 0.962896399514\n",
      "80 0.964221427602\n",
      "81 0.965485167252\n",
      "82 0.966715081388\n",
      "83 0.967891861614\n",
      "84 0.969032018471\n",
      "85 0.970152245732\n",
      "86 0.9712470195\n",
      "87 0.972326710723\n",
      "88 0.973378577305\n",
      "89 0.974371541587\n",
      "90 0.975322525611\n",
      "91 0.976244680572\n",
      "92 0.977156211339\n",
      "93 0.978056909239\n",
      "94 0.978908246842\n",
      "95 0.979727475343\n",
      "96 0.980501131342\n",
      "97 0.981260905837\n",
      "98 0.982003633425\n",
      "99 0.982714938426\n",
      "100 0.98340281623\n",
      "101 0.984077656555\n",
      "102 0.984724000553\n",
      "103 0.985334885663\n",
      "104 0.985940601792\n",
      "105 0.986518696403\n",
      "106 0.987074248108\n",
      "107 0.987616955124\n",
      "108 0.988150951863\n",
      "109 0.988658018124\n",
      "110 0.9891628086\n",
      "111 0.989631629573\n",
      "112 0.99008578258\n",
      "113 0.990516866398\n",
      "114 0.990941985543\n",
      "115 0.99135967356\n",
      "116 0.991747093025\n",
      "117 0.992129789164\n",
      "118 0.992504229308\n",
      "119 0.99285637732\n",
      "120 0.993196495844\n",
      "121 0.99352676861\n",
      "122 0.993833755841\n",
      "123 0.994125620577\n",
      "124 0.994412060127\n",
      "125 0.994681403414\n",
      "126 0.994937360966\n",
      "127 0.995192264376\n",
      "128 0.995430223188\n",
      "129 0.995663669411\n",
      "130 0.995893013416\n",
      "131 0.996108086926\n",
      "132 0.996313506271\n",
      "133 0.996512457734\n",
      "134 0.996708509227\n",
      "135 0.99688843276\n",
      "136 0.9970612138\n",
      "137 0.997231530723\n",
      "138 0.997394425479\n",
      "139 0.997546588894\n",
      "140 0.997692785217\n",
      "141 0.997829553551\n",
      "142 0.997961523615\n",
      "143 0.998084844287\n",
      "144 0.998202825585\n",
      "145 0.998319919918\n",
      "146 0.998429705865\n",
      "147 0.998534476312\n",
      "148 0.99863206535\n",
      "149 0.99872613791\n",
      "150 0.998816749965\n",
      "151 0.998900419719\n",
      "152 0.998980181711\n",
      "153 0.999058139017\n",
      "154 0.999135004204\n",
      "155 0.999199374387\n",
      "156 0.999261417959\n",
      "157 0.999320668141\n",
      "158 0.999377015562\n",
      "159 0.999432708156\n",
      "160 0.999481365809\n",
      "161 0.999528591409\n",
      "162 0.999571832003\n",
      "163 0.999613380453\n",
      "164 0.999651021359\n",
      "165 0.999684523216\n",
      "166 0.999713256153\n",
      "167 0.999741100746\n",
      "168 0.999767941968\n",
      "169 0.999793327378\n",
      "170 0.9998152187\n",
      "171 0.999835592649\n",
      "172 0.999854467188\n",
      "173 0.99987238957\n",
      "174 0.999890002109\n",
      "175 0.999905402065\n",
      "176 0.999919639957\n",
      "177 0.999933349146\n",
      "178 0.999943708054\n",
      "179 0.999952194365\n",
      "180 0.999959953962\n",
      "181 0.999967391662\n",
      "182 0.999974134149\n",
      "183 0.999979555346\n",
      "184 0.999984822911\n",
      "185 0.999989333525\n",
      "186 0.999992048217\n",
      "187 0.999994714268\n",
      "188 0.999996941798\n",
      "189 0.999998748096\n",
      "190 0.999999694109\n",
      "191 0.999999956021\n",
      "192 0.999999980705\n",
      "193 0.999999999497\n",
      "194 1.0\n",
      "195 1.0\n",
      "196 1.0\n",
      "197 1.0\n",
      "198 1.0\n"
     ]
    }
   ],
   "source": [
    "pipe_pca = Pipeline([\n",
    "    ('flatten', Flatten()), \n",
    "    ('PCA', PCA())\n",
    "])\n",
    "\n",
    "pipe_pca.fit(X_train)\n",
    "sns.set()\n",
    "plt.plot(pipe_pca.named_steps['PCA'].explained_variance_ratio_, linewidth=2)\n",
    "plt.show(block=False)\n",
    "\n",
    "cum = pipe_pca.named_steps['PCA'].explained_variance_ratio_.cumsum()\n",
    "plt.plot(cum, linewidth=2)\n",
    "plt.show(block=False)\n",
    "for i in range(len(cum)):\n",
    "    print(i+1, cum[i])"
   ]
  },
  {
   "cell_type": "markdown",
   "metadata": {},
   "source": [
    "Maybe 100?"
   ]
  },
  {
   "cell_type": "markdown",
   "metadata": {},
   "source": [
    "### Fit MLP"
   ]
  },
  {
   "cell_type": "code",
   "execution_count": 14,
   "metadata": {},
   "outputs": [
    {
     "name": "stdout",
     "output_type": "stream",
     "text": [
      "accuracy on original set =  1.0\n",
      "accuracy =  0.995503147797\n"
     ]
    },
    {
     "data": {
      "image/png": "[encoded data removed]",
      "text/plain": [
       "<matplotlib.figure.Figure at 0x7fb2bad7bf28>"
      ]
     },
     "metadata": {},
     "output_type": "display_data"
    },
    {
     "name": "stdout",
     "output_type": "stream",
     "text": [
      "col_0    /    0    1    2    3    4    5    6    7    8    9    :     ?    All\n",
      "row_0                                                                         \n",
      "/      286    0    0    0    0    0    0    0    0    0    0    0     0    286\n",
      "0        0  277    0    0    0    0    0    0    0    0    1    0     8    286\n",
      "1        0    0  282    0    0    0    0    0    0    0    0    0     3    285\n",
      "2        0    0    0  286    0    0    0    0    0    0    0    0     0    286\n",
      "3        0    0    0    0  281    0    5    0    0    0    0    0     0    286\n",
      "4        0    0    0    0    0  285    0    0    0    0    0    0     0    285\n",
      "5        0    0    0    0    0    0  279    0    0    0    0    0     8    287\n",
      "6        0    0    0    0    0    0    0  274    0    0    0    0    11    285\n",
      "7        0    0    0    0    0    0    0    0  285    0    0    0     0    285\n",
      "8        0    0    0    0    0    0    0    0    0  191    0    0     0    191\n",
      "9        0    0    0    0    0    0    0    0    0    0  286    0     0    286\n",
      ":        0    0    0    0    0    0    0    0    0    0    0  189     2    191\n",
      "?        0    0    6    1    0    0    0    0    0    0    0    0  6761   6768\n",
      "All    286  277  288  287  281  285  284  274  285  191  287  189  6793  10007\n"
     ]
    }
   ],
   "source": [
    "pipe_mlp = Pipeline([\n",
    "    ('flatten', Flatten()), \n",
    "    ('PCA', PCA(n_components=100)),\n",
    "    ('MLP', MLPClassifier((100,100,100), alpha=0.01))\n",
    "])    \n",
    "\n",
    "pipe_mlp.fit(X_train, Y_train)\n",
    "\n",
    "\n",
    "print('accuracy on original set = ', pipe_mlp.score(X_in, Y_in))\n",
    "diagnosis(pipe_mlp, X_test, Y_test)"
   ]
  },
  {
   "cell_type": "markdown",
   "metadata": {},
   "source": [
    "MLP is just amazing... We already have 99% accuracy..."
   ]
  },
  {
   "cell_type": "markdown",
   "metadata": {},
   "source": [
    "#### Grid search for finding good configuration"
   ]
  },
  {
   "cell_type": "code",
   "execution_count": 15,
   "metadata": {},
   "outputs": [
    {
     "name": "stdout",
     "output_type": "stream",
     "text": [
      "Fitting 5 folds for each of 36 candidates, totalling 180 fits\n",
      "[CV] MLP__alpha=0.0001, MLP__hidden_layer_sizes=(100,), PCA__n_components=75 \n",
      "[CV] MLP__alpha=0.0001, MLP__hidden_layer_sizes=(100,), PCA__n_components=75 \n",
      "[CV]  MLP__alpha=0.0001, MLP__hidden_layer_sizes=(100,), PCA__n_components=75, score=0.990079, total=   8.9s\n",
      "[CV] MLP__alpha=0.0001, MLP__hidden_layer_sizes=(100,), PCA__n_components=75 \n",
      "[CV]  MLP__alpha=0.0001, MLP__hidden_layer_sizes=(100,), PCA__n_components=75, score=0.993076, total=   9.0s\n",
      "[CV] MLP__alpha=0.0001, MLP__hidden_layer_sizes=(100,), PCA__n_components=75 \n",
      "[CV]  MLP__alpha=0.0001, MLP__hidden_layer_sizes=(100,), PCA__n_components=75, score=0.989066, total=   8.3s\n",
      "[CV] MLP__alpha=0.0001, MLP__hidden_layer_sizes=(100,), PCA__n_components=75 \n",
      "[CV]  MLP__alpha=0.0001, MLP__hidden_layer_sizes=(100,), PCA__n_components=75, score=0.993056, total=   8.6s\n",
      "[CV] MLP__alpha=0.0001, MLP__hidden_layer_sizes=(100,), PCA__n_components=100 \n",
      "[CV]  MLP__alpha=0.0001, MLP__hidden_layer_sizes=(100,), PCA__n_components=75, score=0.995992, total=   9.3s\n",
      "[CV] MLP__alpha=0.0001, MLP__hidden_layer_sizes=(100,), PCA__n_components=100 \n",
      "[CV]  MLP__alpha=0.0001, MLP__hidden_layer_sizes=(100,), PCA__n_components=100, score=0.993076, total=   9.8s\n",
      "[CV] MLP__alpha=0.0001, MLP__hidden_layer_sizes=(100,), PCA__n_components=100 \n",
      "[CV]  MLP__alpha=0.0001, MLP__hidden_layer_sizes=(100,), PCA__n_components=100, score=0.992063, total=   9.3s\n",
      "[CV] MLP__alpha=0.0001, MLP__hidden_layer_sizes=(100,), PCA__n_components=100 \n",
      "[CV]  MLP__alpha=0.0001, MLP__hidden_layer_sizes=(100,), PCA__n_components=100, score=0.993056, total=  10.1s\n",
      "[CV] MLP__alpha=0.0001, MLP__hidden_layer_sizes=(100,), PCA__n_components=100 \n",
      "[CV]  MLP__alpha=0.0001, MLP__hidden_layer_sizes=(100,), PCA__n_components=100, score=0.987078, total=  10.3s\n",
      "[CV] MLP__alpha=0.0001, MLP__hidden_layer_sizes=(100,), PCA__n_components=125 \n",
      "[CV]  MLP__alpha=0.0001, MLP__hidden_layer_sizes=(100,), PCA__n_components=100, score=0.995992, total=   9.9s\n",
      "[CV] MLP__alpha=0.0001, MLP__hidden_layer_sizes=(100,), PCA__n_components=125 \n",
      "[CV]  MLP__alpha=0.0001, MLP__hidden_layer_sizes=(100,), PCA__n_components=125, score=0.991098, total=  10.0s\n",
      "[CV] MLP__alpha=0.0001, MLP__hidden_layer_sizes=(100,), PCA__n_components=125 \n",
      "[CV]  MLP__alpha=0.0001, MLP__hidden_layer_sizes=(100,), PCA__n_components=125, score=0.991071, total=   9.8s\n",
      "[CV] MLP__alpha=0.0001, MLP__hidden_layer_sizes=(100,), PCA__n_components=125 \n",
      "[CV]  MLP__alpha=0.0001, MLP__hidden_layer_sizes=(100,), PCA__n_components=125, score=0.991071, total=  10.1s\n",
      "[CV] MLP__alpha=0.0001, MLP__hidden_layer_sizes=(100,), PCA__n_components=125 \n",
      "[CV]  MLP__alpha=0.0001, MLP__hidden_layer_sizes=(100,), PCA__n_components=125, score=0.987078, total=  10.0s\n",
      "[CV] MLP__alpha=0.0001, MLP__hidden_layer_sizes=(100, 100), PCA__n_components=75 \n"
     ]
    },
    {
     "name": "stderr",
     "output_type": "stream",
     "text": [
      "[Parallel(n_jobs=2)]: Done  14 tasks      | elapsed:  1.1min\n"
     ]
    },
    {
     "name": "stdout",
     "output_type": "stream",
     "text": [
      "[CV]  MLP__alpha=0.0001, MLP__hidden_layer_sizes=(100, 100), PCA__n_components=75, score=0.994065, total=   7.7s\n",
      "[CV] MLP__alpha=0.0001, MLP__hidden_layer_sizes=(100, 100), PCA__n_components=75 \n",
      "[CV]  MLP__alpha=0.0001, MLP__hidden_layer_sizes=(100,), PCA__n_components=125, score=0.993988, total=   9.9s\n",
      "[CV] MLP__alpha=0.0001, MLP__hidden_layer_sizes=(100, 100), PCA__n_components=75 \n",
      "[CV]  MLP__alpha=0.0001, MLP__hidden_layer_sizes=(100, 100), PCA__n_components=75, score=0.991071, total=   7.5s\n",
      "[CV] MLP__alpha=0.0001, MLP__hidden_layer_sizes=(100, 100), PCA__n_components=75 \n",
      "[CV]  MLP__alpha=0.0001, MLP__hidden_layer_sizes=(100, 100), PCA__n_components=75, score=0.993056, total=   7.6s\n",
      "[CV] MLP__alpha=0.0001, MLP__hidden_layer_sizes=(100, 100), PCA__n_components=75 \n",
      "[CV]  MLP__alpha=0.0001, MLP__hidden_layer_sizes=(100, 100), PCA__n_components=75, score=0.987078, total=   7.8s\n",
      "[CV] MLP__alpha=0.0001, MLP__hidden_layer_sizes=(100, 100), PCA__n_components=100 \n",
      "[CV]  MLP__alpha=0.0001, MLP__hidden_layer_sizes=(100, 100), PCA__n_components=75, score=0.994990, total=   7.6s\n",
      "[CV] MLP__alpha=0.0001, MLP__hidden_layer_sizes=(100, 100), PCA__n_components=100 \n",
      "[CV]  MLP__alpha=0.0001, MLP__hidden_layer_sizes=(100, 100), PCA__n_components=100, score=0.993076, total=   8.6s\n",
      "[CV] MLP__alpha=0.0001, MLP__hidden_layer_sizes=(100, 100), PCA__n_components=100 \n",
      "[CV]  MLP__alpha=0.0001, MLP__hidden_layer_sizes=(100, 100), PCA__n_components=100, score=0.991071, total=   7.8s\n",
      "[CV] MLP__alpha=0.0001, MLP__hidden_layer_sizes=(100, 100), PCA__n_components=100 \n",
      "[CV]  MLP__alpha=0.0001, MLP__hidden_layer_sizes=(100, 100), PCA__n_components=100, score=0.989087, total=   9.4s\n",
      "[CV] MLP__alpha=0.0001, MLP__hidden_layer_sizes=(100, 100), PCA__n_components=100 \n",
      "[CV]  MLP__alpha=0.0001, MLP__hidden_layer_sizes=(100, 100), PCA__n_components=100, score=0.988072, total=  11.1s\n",
      "[CV] MLP__alpha=0.0001, MLP__hidden_layer_sizes=(100, 100), PCA__n_components=125 \n",
      "[CV]  MLP__alpha=0.0001, MLP__hidden_layer_sizes=(100, 100), PCA__n_components=100, score=0.994990, total=  11.9s\n",
      "[CV] MLP__alpha=0.0001, MLP__hidden_layer_sizes=(100, 100), PCA__n_components=125 \n",
      "[CV]  MLP__alpha=0.0001, MLP__hidden_layer_sizes=(100, 100), PCA__n_components=125, score=0.993076, total=  11.7s\n",
      "[CV] MLP__alpha=0.0001, MLP__hidden_layer_sizes=(100, 100), PCA__n_components=125 \n",
      "[CV]  MLP__alpha=0.0001, MLP__hidden_layer_sizes=(100, 100), PCA__n_components=125, score=0.989087, total=  11.5s\n",
      "[CV] MLP__alpha=0.0001, MLP__hidden_layer_sizes=(100, 100), PCA__n_components=125 \n",
      "[CV]  MLP__alpha=0.0001, MLP__hidden_layer_sizes=(100, 100), PCA__n_components=125, score=0.990079, total=  10.3s\n",
      "[CV] MLP__alpha=0.0001, MLP__hidden_layer_sizes=(100, 100), PCA__n_components=125 \n",
      "[CV]  MLP__alpha=0.0001, MLP__hidden_layer_sizes=(100, 100), PCA__n_components=125, score=0.987078, total=   8.7s\n",
      "[CV] MLP__alpha=0.0001, MLP__hidden_layer_sizes=(100, 100, 100), PCA__n_components=75 \n",
      "[CV]  MLP__alpha=0.0001, MLP__hidden_layer_sizes=(100, 100), PCA__n_components=125, score=0.995992, total=   9.0s\n",
      "[CV] MLP__alpha=0.0001, MLP__hidden_layer_sizes=(100, 100, 100), PCA__n_components=75 \n",
      "[CV]  MLP__alpha=0.0001, MLP__hidden_layer_sizes=(100, 100, 100), PCA__n_components=75, score=0.994065, total=   7.5s\n",
      "[CV] MLP__alpha=0.0001, MLP__hidden_layer_sizes=(100, 100, 100), PCA__n_components=75 \n",
      "[CV]  MLP__alpha=0.0001, MLP__hidden_layer_sizes=(100, 100, 100), PCA__n_components=75, score=0.992063, total=   7.0s\n",
      "[CV] MLP__alpha=0.0001, MLP__hidden_layer_sizes=(100, 100, 100), PCA__n_components=75 \n",
      "[CV]  MLP__alpha=0.0001, MLP__hidden_layer_sizes=(100, 100, 100), PCA__n_components=75, score=0.992063, total=   7.8s\n",
      "[CV] MLP__alpha=0.0001, MLP__hidden_layer_sizes=(100, 100, 100), PCA__n_components=75 \n",
      "[CV]  MLP__alpha=0.0001, MLP__hidden_layer_sizes=(100, 100, 100), PCA__n_components=75, score=0.987078, total=   9.2s\n",
      "[CV] MLP__alpha=0.0001, MLP__hidden_layer_sizes=(100, 100, 100), PCA__n_components=100 \n",
      "[CV]  MLP__alpha=0.0001, MLP__hidden_layer_sizes=(100, 100, 100), PCA__n_components=75, score=0.995992, total=   7.3s\n",
      "[CV] MLP__alpha=0.0001, MLP__hidden_layer_sizes=(100, 100, 100), PCA__n_components=100 \n",
      "[CV]  MLP__alpha=0.0001, MLP__hidden_layer_sizes=(100, 100, 100), PCA__n_components=100, score=0.992087, total=   7.5s\n",
      "[CV] MLP__alpha=0.0001, MLP__hidden_layer_sizes=(100, 100, 100), PCA__n_components=100 \n",
      "[CV]  MLP__alpha=0.0001, MLP__hidden_layer_sizes=(100, 100, 100), PCA__n_components=100, score=0.991071, total=   7.5s\n",
      "[CV] MLP__alpha=0.0001, MLP__hidden_layer_sizes=(100, 100, 100), PCA__n_components=100 \n",
      "[CV]  MLP__alpha=0.0001, MLP__hidden_layer_sizes=(100, 100, 100), PCA__n_components=100, score=0.991071, total=   7.7s\n",
      "[CV] MLP__alpha=0.0001, MLP__hidden_layer_sizes=(100, 100, 100), PCA__n_components=100 \n",
      "[CV]  MLP__alpha=0.0001, MLP__hidden_layer_sizes=(100, 100, 100), PCA__n_components=100, score=0.987078, total=   7.2s\n",
      "[CV] MLP__alpha=0.0001, MLP__hidden_layer_sizes=(100, 100, 100), PCA__n_components=125 \n",
      "[CV]  MLP__alpha=0.0001, MLP__hidden_layer_sizes=(100, 100, 100), PCA__n_components=100, score=0.991984, total=   7.8s\n",
      "[CV] MLP__alpha=0.0001, MLP__hidden_layer_sizes=(100, 100, 100), PCA__n_components=125 \n",
      "[CV]  MLP__alpha=0.0001, MLP__hidden_layer_sizes=(100, 100, 100), PCA__n_components=125, score=0.992087, total=   7.7s\n",
      "[CV] MLP__alpha=0.0001, MLP__hidden_layer_sizes=(100, 100, 100), PCA__n_components=125 \n",
      "[CV]  MLP__alpha=0.0001, MLP__hidden_layer_sizes=(100, 100, 100), PCA__n_components=125, score=0.990079, total=   8.2s\n",
      "[CV] MLP__alpha=0.0001, MLP__hidden_layer_sizes=(100, 100, 100), PCA__n_components=125 \n",
      "[CV]  MLP__alpha=0.0001, MLP__hidden_layer_sizes=(100, 100, 100), PCA__n_components=125, score=0.990079, total=   8.3s\n",
      "[CV] MLP__alpha=0.0001, MLP__hidden_layer_sizes=(100, 100, 100), PCA__n_components=125 \n",
      "[CV]  MLP__alpha=0.0001, MLP__hidden_layer_sizes=(100, 100, 100), PCA__n_components=125, score=0.987078, total=   8.0s\n",
      "[CV] MLP__alpha=0.001, MLP__hidden_layer_sizes=(100,), PCA__n_components=75 \n",
      "[CV]  MLP__alpha=0.0001, MLP__hidden_layer_sizes=(100, 100, 100), PCA__n_components=125, score=0.995992, total=   7.7s\n",
      "[CV] MLP__alpha=0.001, MLP__hidden_layer_sizes=(100,), PCA__n_components=75 \n",
      "[CV]  MLP__alpha=0.001, MLP__hidden_layer_sizes=(100,), PCA__n_components=75, score=0.993076, total=  10.1s\n",
      "[CV] MLP__alpha=0.001, MLP__hidden_layer_sizes=(100,), PCA__n_components=75 \n",
      "[CV]  MLP__alpha=0.001, MLP__hidden_layer_sizes=(100,), PCA__n_components=75, score=0.993056, total=  10.5s\n",
      "[CV] MLP__alpha=0.001, MLP__hidden_layer_sizes=(100,), PCA__n_components=75 \n",
      "[CV]  MLP__alpha=0.001, MLP__hidden_layer_sizes=(100,), PCA__n_components=75, score=0.993056, total=  10.5s\n",
      "[CV] MLP__alpha=0.001, MLP__hidden_layer_sizes=(100,), PCA__n_components=75 \n",
      "[CV]  MLP__alpha=0.001, MLP__hidden_layer_sizes=(100,), PCA__n_components=75, score=0.987078, total=   9.4s\n",
      "[CV] MLP__alpha=0.001, MLP__hidden_layer_sizes=(100,), PCA__n_components=100 \n",
      "[CV]  MLP__alpha=0.001, MLP__hidden_layer_sizes=(100,), PCA__n_components=75, score=0.995992, total=   9.5s\n",
      "[CV] MLP__alpha=0.001, MLP__hidden_layer_sizes=(100,), PCA__n_components=100 \n",
      "[CV]  MLP__alpha=0.001, MLP__hidden_layer_sizes=(100,), PCA__n_components=100, score=0.992087, total=  10.4s\n",
      "[CV] MLP__alpha=0.001, MLP__hidden_layer_sizes=(100,), PCA__n_components=100 \n",
      "[CV]  MLP__alpha=0.001, MLP__hidden_layer_sizes=(100,), PCA__n_components=100, score=0.992063, total=  10.1s\n",
      "[CV] MLP__alpha=0.001, MLP__hidden_layer_sizes=(100,), PCA__n_components=100 \n",
      "[CV]  MLP__alpha=0.001, MLP__hidden_layer_sizes=(100,), PCA__n_components=100, score=0.992063, total=  10.4s\n",
      "[CV] MLP__alpha=0.001, MLP__hidden_layer_sizes=(100,), PCA__n_components=100 \n",
      "[CV]  MLP__alpha=0.001, MLP__hidden_layer_sizes=(100,), PCA__n_components=100, score=0.987078, total=  10.1s\n",
      "[CV] MLP__alpha=0.001, MLP__hidden_layer_sizes=(100,), PCA__n_components=125 \n",
      "[CV]  MLP__alpha=0.001, MLP__hidden_layer_sizes=(100,), PCA__n_components=100, score=0.995992, total=  10.4s\n",
      "[CV] MLP__alpha=0.001, MLP__hidden_layer_sizes=(100,), PCA__n_components=125 \n",
      "[CV]  MLP__alpha=0.001, MLP__hidden_layer_sizes=(100,), PCA__n_components=125, score=0.993076, total=  11.0s\n"
     ]
    },
    {
     "name": "stdout",
     "output_type": "stream",
     "text": [
      "[CV] MLP__alpha=0.001, MLP__hidden_layer_sizes=(100,), PCA__n_components=125 \n",
      "[CV]  MLP__alpha=0.001, MLP__hidden_layer_sizes=(100,), PCA__n_components=125, score=0.990079, total=  10.6s\n",
      "[CV] MLP__alpha=0.001, MLP__hidden_layer_sizes=(100,), PCA__n_components=125 \n",
      "[CV]  MLP__alpha=0.001, MLP__hidden_layer_sizes=(100,), PCA__n_components=125, score=0.988095, total=  11.9s\n",
      "[CV] MLP__alpha=0.001, MLP__hidden_layer_sizes=(100,), PCA__n_components=125 \n",
      "[CV]  MLP__alpha=0.001, MLP__hidden_layer_sizes=(100,), PCA__n_components=125, score=0.987078, total=  11.5s\n",
      "[CV] MLP__alpha=0.001, MLP__hidden_layer_sizes=(100, 100), PCA__n_components=75 \n",
      "[CV]  MLP__alpha=0.001, MLP__hidden_layer_sizes=(100,), PCA__n_components=125, score=0.995992, total=  10.7s\n",
      "[CV] MLP__alpha=0.001, MLP__hidden_layer_sizes=(100, 100), PCA__n_components=75 \n",
      "[CV]  MLP__alpha=0.001, MLP__hidden_layer_sizes=(100, 100), PCA__n_components=75, score=0.993076, total=   8.3s\n",
      "[CV] MLP__alpha=0.001, MLP__hidden_layer_sizes=(100, 100), PCA__n_components=75 \n",
      "[CV]  MLP__alpha=0.001, MLP__hidden_layer_sizes=(100, 100), PCA__n_components=75, score=0.992063, total=   7.8s\n",
      "[CV] MLP__alpha=0.001, MLP__hidden_layer_sizes=(100, 100), PCA__n_components=75 \n",
      "[CV]  MLP__alpha=0.001, MLP__hidden_layer_sizes=(100, 100), PCA__n_components=75, score=0.993056, total=   8.2s\n",
      "[CV] MLP__alpha=0.001, MLP__hidden_layer_sizes=(100, 100), PCA__n_components=75 \n",
      "[CV]  MLP__alpha=0.001, MLP__hidden_layer_sizes=(100, 100), PCA__n_components=75, score=0.987078, total=   8.4s\n",
      "[CV] MLP__alpha=0.001, MLP__hidden_layer_sizes=(100, 100), PCA__n_components=100 \n",
      "[CV]  MLP__alpha=0.001, MLP__hidden_layer_sizes=(100, 100), PCA__n_components=75, score=0.995992, total=   8.5s\n",
      "[CV] MLP__alpha=0.001, MLP__hidden_layer_sizes=(100, 100), PCA__n_components=100 \n",
      "[CV]  MLP__alpha=0.001, MLP__hidden_layer_sizes=(100, 100), PCA__n_components=100, score=0.992087, total=   8.6s\n",
      "[CV] MLP__alpha=0.001, MLP__hidden_layer_sizes=(100, 100), PCA__n_components=100 \n",
      "[CV]  MLP__alpha=0.001, MLP__hidden_layer_sizes=(100, 100), PCA__n_components=100, score=0.991071, total=   8.2s\n",
      "[CV] MLP__alpha=0.001, MLP__hidden_layer_sizes=(100, 100), PCA__n_components=100 \n",
      "[CV]  MLP__alpha=0.001, MLP__hidden_layer_sizes=(100, 100), PCA__n_components=100, score=0.990079, total=   8.5s\n",
      "[CV] MLP__alpha=0.001, MLP__hidden_layer_sizes=(100, 100), PCA__n_components=100 \n"
     ]
    },
    {
     "name": "stderr",
     "output_type": "stream",
     "text": [
      "[Parallel(n_jobs=2)]: Done  68 tasks      | elapsed:  5.3min\n"
     ]
    },
    {
     "name": "stdout",
     "output_type": "stream",
     "text": [
      "[CV]  MLP__alpha=0.001, MLP__hidden_layer_sizes=(100, 100), PCA__n_components=100, score=0.986083, total=   9.2s\n",
      "[CV] MLP__alpha=0.001, MLP__hidden_layer_sizes=(100, 100), PCA__n_components=125 \n",
      "[CV]  MLP__alpha=0.001, MLP__hidden_layer_sizes=(100, 100), PCA__n_components=100, score=0.995992, total=   9.6s\n",
      "[CV] MLP__alpha=0.001, MLP__hidden_layer_sizes=(100, 100), PCA__n_components=125 \n",
      "[CV]  MLP__alpha=0.001, MLP__hidden_layer_sizes=(100, 100), PCA__n_components=125, score=0.992087, total=  10.5s\n",
      "[CV] MLP__alpha=0.001, MLP__hidden_layer_sizes=(100, 100), PCA__n_components=125 \n",
      "[CV]  MLP__alpha=0.001, MLP__hidden_layer_sizes=(100, 100), PCA__n_components=125, score=0.991071, total=  10.9s\n",
      "[CV] MLP__alpha=0.001, MLP__hidden_layer_sizes=(100, 100), PCA__n_components=125 \n",
      "[CV]  MLP__alpha=0.001, MLP__hidden_layer_sizes=(100, 100), PCA__n_components=125, score=0.991071, total=   9.8s\n",
      "[CV] MLP__alpha=0.001, MLP__hidden_layer_sizes=(100, 100), PCA__n_components=125 \n",
      "[CV]  MLP__alpha=0.001, MLP__hidden_layer_sizes=(100, 100), PCA__n_components=125, score=0.987078, total=   8.9s\n",
      "[CV] MLP__alpha=0.001, MLP__hidden_layer_sizes=(100, 100, 100), PCA__n_components=75 \n",
      "[CV]  MLP__alpha=0.001, MLP__hidden_layer_sizes=(100, 100), PCA__n_components=125, score=0.995992, total=   8.7s\n",
      "[CV] MLP__alpha=0.001, MLP__hidden_layer_sizes=(100, 100, 100), PCA__n_components=75 \n",
      "[CV]  MLP__alpha=0.001, MLP__hidden_layer_sizes=(100, 100, 100), PCA__n_components=75, score=0.991098, total=   7.7s\n",
      "[CV] MLP__alpha=0.001, MLP__hidden_layer_sizes=(100, 100, 100), PCA__n_components=75 \n",
      "[CV]  MLP__alpha=0.001, MLP__hidden_layer_sizes=(100, 100, 100), PCA__n_components=75, score=0.991071, total=   7.5s\n",
      "[CV] MLP__alpha=0.001, MLP__hidden_layer_sizes=(100, 100, 100), PCA__n_components=75 \n",
      "[CV]  MLP__alpha=0.001, MLP__hidden_layer_sizes=(100, 100, 100), PCA__n_components=75, score=0.993056, total=   8.1s\n",
      "[CV] MLP__alpha=0.001, MLP__hidden_layer_sizes=(100, 100, 100), PCA__n_components=75 \n",
      "[CV]  MLP__alpha=0.001, MLP__hidden_layer_sizes=(100, 100, 100), PCA__n_components=75, score=0.987078, total=   7.6s\n",
      "[CV] MLP__alpha=0.001, MLP__hidden_layer_sizes=(100, 100, 100), PCA__n_components=100 \n",
      "[CV]  MLP__alpha=0.001, MLP__hidden_layer_sizes=(100, 100, 100), PCA__n_components=75, score=0.995992, total=   7.4s\n",
      "[CV] MLP__alpha=0.001, MLP__hidden_layer_sizes=(100, 100, 100), PCA__n_components=100 \n",
      "[CV]  MLP__alpha=0.001, MLP__hidden_layer_sizes=(100, 100, 100), PCA__n_components=100, score=0.995054, total=   8.0s\n",
      "[CV] MLP__alpha=0.001, MLP__hidden_layer_sizes=(100, 100, 100), PCA__n_components=100 \n",
      "[CV]  MLP__alpha=0.001, MLP__hidden_layer_sizes=(100, 100, 100), PCA__n_components=100, score=0.989087, total=   7.9s\n",
      "[CV] MLP__alpha=0.001, MLP__hidden_layer_sizes=(100, 100, 100), PCA__n_components=100 \n",
      "[CV]  MLP__alpha=0.001, MLP__hidden_layer_sizes=(100, 100, 100), PCA__n_components=100, score=0.991071, total=   7.9s\n",
      "[CV] MLP__alpha=0.001, MLP__hidden_layer_sizes=(100, 100, 100), PCA__n_components=100 \n",
      "[CV]  MLP__alpha=0.001, MLP__hidden_layer_sizes=(100, 100, 100), PCA__n_components=100, score=0.986083, total=   7.5s\n",
      "[CV] MLP__alpha=0.001, MLP__hidden_layer_sizes=(100, 100, 100), PCA__n_components=125 \n",
      "[CV]  MLP__alpha=0.001, MLP__hidden_layer_sizes=(100, 100, 100), PCA__n_components=100, score=0.994990, total=   7.9s\n",
      "[CV] MLP__alpha=0.001, MLP__hidden_layer_sizes=(100, 100, 100), PCA__n_components=125 \n",
      "[CV]  MLP__alpha=0.001, MLP__hidden_layer_sizes=(100, 100, 100), PCA__n_components=125, score=0.994065, total=   8.1s\n",
      "[CV] MLP__alpha=0.001, MLP__hidden_layer_sizes=(100, 100, 100), PCA__n_components=125 \n",
      "[CV]  MLP__alpha=0.001, MLP__hidden_layer_sizes=(100, 100, 100), PCA__n_components=125, score=0.991071, total=   7.6s\n",
      "[CV] MLP__alpha=0.001, MLP__hidden_layer_sizes=(100, 100, 100), PCA__n_components=125 \n",
      "[CV]  MLP__alpha=0.001, MLP__hidden_layer_sizes=(100, 100, 100), PCA__n_components=125, score=0.991071, total=   8.9s\n",
      "[CV] MLP__alpha=0.001, MLP__hidden_layer_sizes=(100, 100, 100), PCA__n_components=125 \n",
      "[CV]  MLP__alpha=0.001, MLP__hidden_layer_sizes=(100, 100, 100), PCA__n_components=125, score=0.988072, total=   8.6s\n",
      "[CV] MLP__alpha=0.01, MLP__hidden_layer_sizes=(100,), PCA__n_components=75 \n",
      "[CV]  MLP__alpha=0.001, MLP__hidden_layer_sizes=(100, 100, 100), PCA__n_components=125, score=0.995992, total=   7.2s\n",
      "[CV] MLP__alpha=0.01, MLP__hidden_layer_sizes=(100,), PCA__n_components=75 \n",
      "[CV]  MLP__alpha=0.01, MLP__hidden_layer_sizes=(100,), PCA__n_components=75, score=0.993076, total=   9.8s\n",
      "[CV] MLP__alpha=0.01, MLP__hidden_layer_sizes=(100,), PCA__n_components=75 \n",
      "[CV]  MLP__alpha=0.01, MLP__hidden_layer_sizes=(100,), PCA__n_components=75, score=0.992063, total=   9.1s\n",
      "[CV] MLP__alpha=0.01, MLP__hidden_layer_sizes=(100,), PCA__n_components=75 \n",
      "[CV]  MLP__alpha=0.01, MLP__hidden_layer_sizes=(100,), PCA__n_components=75, score=0.990079, total=  10.6s\n",
      "[CV] MLP__alpha=0.01, MLP__hidden_layer_sizes=(100,), PCA__n_components=75 \n",
      "[CV]  MLP__alpha=0.01, MLP__hidden_layer_sizes=(100,), PCA__n_components=75, score=0.990060, total=  10.8s\n",
      "[CV] MLP__alpha=0.01, MLP__hidden_layer_sizes=(100,), PCA__n_components=100 \n",
      "[CV]  MLP__alpha=0.01, MLP__hidden_layer_sizes=(100,), PCA__n_components=75, score=0.994990, total=  10.3s\n",
      "[CV] MLP__alpha=0.01, MLP__hidden_layer_sizes=(100,), PCA__n_components=100 \n",
      "[CV]  MLP__alpha=0.01, MLP__hidden_layer_sizes=(100,), PCA__n_components=100, score=0.993076, total=  11.1s\n",
      "[CV] MLP__alpha=0.01, MLP__hidden_layer_sizes=(100,), PCA__n_components=100 \n",
      "[CV]  MLP__alpha=0.01, MLP__hidden_layer_sizes=(100,), PCA__n_components=100, score=0.991071, total=  10.7s\n",
      "[CV] MLP__alpha=0.01, MLP__hidden_layer_sizes=(100,), PCA__n_components=100 \n",
      "[CV]  MLP__alpha=0.01, MLP__hidden_layer_sizes=(100,), PCA__n_components=100, score=0.992063, total=  11.3s\n",
      "[CV] MLP__alpha=0.01, MLP__hidden_layer_sizes=(100,), PCA__n_components=100 \n",
      "[CV]  MLP__alpha=0.01, MLP__hidden_layer_sizes=(100,), PCA__n_components=100, score=0.988072, total=  12.0s\n",
      "[CV] MLP__alpha=0.01, MLP__hidden_layer_sizes=(100,), PCA__n_components=125 \n",
      "[CV]  MLP__alpha=0.01, MLP__hidden_layer_sizes=(100,), PCA__n_components=100, score=0.994990, total=  11.3s\n",
      "[CV] MLP__alpha=0.01, MLP__hidden_layer_sizes=(100,), PCA__n_components=125 \n",
      "[CV]  MLP__alpha=0.01, MLP__hidden_layer_sizes=(100,), PCA__n_components=125, score=0.993076, total=  12.8s\n",
      "[CV] MLP__alpha=0.01, MLP__hidden_layer_sizes=(100,), PCA__n_components=125 \n",
      "[CV]  MLP__alpha=0.01, MLP__hidden_layer_sizes=(100,), PCA__n_components=125, score=0.992063, total=  11.3s\n",
      "[CV] MLP__alpha=0.01, MLP__hidden_layer_sizes=(100,), PCA__n_components=125 \n",
      "[CV]  MLP__alpha=0.01, MLP__hidden_layer_sizes=(100,), PCA__n_components=125, score=0.990079, total=  12.7s\n",
      "[CV] MLP__alpha=0.01, MLP__hidden_layer_sizes=(100,), PCA__n_components=125 \n",
      "[CV]  MLP__alpha=0.01, MLP__hidden_layer_sizes=(100,), PCA__n_components=125, score=0.987078, total=  13.9s\n",
      "[CV] MLP__alpha=0.01, MLP__hidden_layer_sizes=(100, 100), PCA__n_components=75 \n",
      "[CV]  MLP__alpha=0.01, MLP__hidden_layer_sizes=(100,), PCA__n_components=125, score=0.994990, total=  12.9s\n",
      "[CV] MLP__alpha=0.01, MLP__hidden_layer_sizes=(100, 100), PCA__n_components=75 \n",
      "[CV]  MLP__alpha=0.01, MLP__hidden_layer_sizes=(100, 100), PCA__n_components=75, score=0.993076, total=   9.1s\n",
      "[CV] MLP__alpha=0.01, MLP__hidden_layer_sizes=(100, 100), PCA__n_components=75 \n",
      "[CV]  MLP__alpha=0.01, MLP__hidden_layer_sizes=(100, 100), PCA__n_components=75, score=0.991071, total=   8.6s\n",
      "[CV] MLP__alpha=0.01, MLP__hidden_layer_sizes=(100, 100), PCA__n_components=75 \n",
      "[CV]  MLP__alpha=0.01, MLP__hidden_layer_sizes=(100, 100), PCA__n_components=75, score=0.991071, total=   9.0s\n",
      "[CV] MLP__alpha=0.01, MLP__hidden_layer_sizes=(100, 100), PCA__n_components=75 \n",
      "[CV]  MLP__alpha=0.01, MLP__hidden_layer_sizes=(100, 100), PCA__n_components=75, score=0.989066, total=   9.2s\n",
      "[CV] MLP__alpha=0.01, MLP__hidden_layer_sizes=(100, 100), PCA__n_components=100 \n",
      "[CV]  MLP__alpha=0.01, MLP__hidden_layer_sizes=(100, 100), PCA__n_components=75, score=0.994990, total=  10.3s\n",
      "[CV] MLP__alpha=0.01, MLP__hidden_layer_sizes=(100, 100), PCA__n_components=100 \n",
      "[CV]  MLP__alpha=0.01, MLP__hidden_layer_sizes=(100, 100), PCA__n_components=100, score=0.991098, total=   9.2s\n"
     ]
    },
    {
     "name": "stdout",
     "output_type": "stream",
     "text": [
      "[CV] MLP__alpha=0.01, MLP__hidden_layer_sizes=(100, 100), PCA__n_components=100 \n",
      "[CV]  MLP__alpha=0.01, MLP__hidden_layer_sizes=(100, 100), PCA__n_components=100, score=0.992063, total=   8.2s\n",
      "[CV] MLP__alpha=0.01, MLP__hidden_layer_sizes=(100, 100), PCA__n_components=100 \n",
      "[CV]  MLP__alpha=0.01, MLP__hidden_layer_sizes=(100, 100), PCA__n_components=100, score=0.990079, total=   8.7s\n",
      "[CV] MLP__alpha=0.01, MLP__hidden_layer_sizes=(100, 100), PCA__n_components=100 \n",
      "[CV]  MLP__alpha=0.01, MLP__hidden_layer_sizes=(100, 100), PCA__n_components=100, score=0.986083, total=   9.2s\n",
      "[CV] MLP__alpha=0.01, MLP__hidden_layer_sizes=(100, 100), PCA__n_components=125 \n",
      "[CV]  MLP__alpha=0.01, MLP__hidden_layer_sizes=(100, 100), PCA__n_components=100, score=0.995992, total=   9.2s\n",
      "[CV] MLP__alpha=0.01, MLP__hidden_layer_sizes=(100, 100), PCA__n_components=125 \n",
      "[CV]  MLP__alpha=0.01, MLP__hidden_layer_sizes=(100, 100), PCA__n_components=125, score=0.992087, total=  10.4s\n",
      "[CV] MLP__alpha=0.01, MLP__hidden_layer_sizes=(100, 100), PCA__n_components=125 \n",
      "[CV]  MLP__alpha=0.01, MLP__hidden_layer_sizes=(100, 100), PCA__n_components=125, score=0.989087, total=   9.0s\n",
      "[CV] MLP__alpha=0.01, MLP__hidden_layer_sizes=(100, 100), PCA__n_components=125 \n",
      "[CV]  MLP__alpha=0.01, MLP__hidden_layer_sizes=(100, 100), PCA__n_components=125, score=0.988095, total=   9.7s\n",
      "[CV] MLP__alpha=0.01, MLP__hidden_layer_sizes=(100, 100), PCA__n_components=125 \n",
      "[CV]  MLP__alpha=0.01, MLP__hidden_layer_sizes=(100, 100), PCA__n_components=125, score=0.988072, total=   9.1s\n",
      "[CV] MLP__alpha=0.01, MLP__hidden_layer_sizes=(100, 100, 100), PCA__n_components=75 \n",
      "[CV]  MLP__alpha=0.01, MLP__hidden_layer_sizes=(100, 100), PCA__n_components=125, score=0.993988, total=   9.2s\n",
      "[CV] MLP__alpha=0.01, MLP__hidden_layer_sizes=(100, 100, 100), PCA__n_components=75 \n",
      "[CV]  MLP__alpha=0.01, MLP__hidden_layer_sizes=(100, 100, 100), PCA__n_components=75, score=0.993076, total=   8.5s\n",
      "[CV] MLP__alpha=0.01, MLP__hidden_layer_sizes=(100, 100, 100), PCA__n_components=75 \n",
      "[CV]  MLP__alpha=0.01, MLP__hidden_layer_sizes=(100, 100, 100), PCA__n_components=75, score=0.991071, total=   8.7s\n",
      "[CV] MLP__alpha=0.01, MLP__hidden_layer_sizes=(100, 100, 100), PCA__n_components=75 \n",
      "[CV]  MLP__alpha=0.01, MLP__hidden_layer_sizes=(100, 100, 100), PCA__n_components=75, score=0.990079, total=   9.2s\n",
      "[CV] MLP__alpha=0.01, MLP__hidden_layer_sizes=(100, 100, 100), PCA__n_components=75 \n",
      "[CV]  MLP__alpha=0.01, MLP__hidden_layer_sizes=(100, 100, 100), PCA__n_components=75, score=0.988072, total=   8.4s\n",
      "[CV] MLP__alpha=0.01, MLP__hidden_layer_sizes=(100, 100, 100), PCA__n_components=100 \n",
      "[CV]  MLP__alpha=0.01, MLP__hidden_layer_sizes=(100, 100, 100), PCA__n_components=75, score=0.993988, total=   8.5s\n",
      "[CV] MLP__alpha=0.01, MLP__hidden_layer_sizes=(100, 100, 100), PCA__n_components=100 \n",
      "[CV]  MLP__alpha=0.01, MLP__hidden_layer_sizes=(100, 100, 100), PCA__n_components=100, score=0.992087, total=   8.0s\n",
      "[CV] MLP__alpha=0.01, MLP__hidden_layer_sizes=(100, 100, 100), PCA__n_components=100 \n",
      "[CV]  MLP__alpha=0.01, MLP__hidden_layer_sizes=(100, 100, 100), PCA__n_components=100, score=0.989087, total=   8.1s\n",
      "[CV] MLP__alpha=0.01, MLP__hidden_layer_sizes=(100, 100, 100), PCA__n_components=100 \n",
      "[CV]  MLP__alpha=0.01, MLP__hidden_layer_sizes=(100, 100, 100), PCA__n_components=100, score=0.989087, total=   8.8s\n",
      "[CV] MLP__alpha=0.01, MLP__hidden_layer_sizes=(100, 100, 100), PCA__n_components=100 \n",
      "[CV]  MLP__alpha=0.01, MLP__hidden_layer_sizes=(100, 100, 100), PCA__n_components=100, score=0.988072, total=   8.2s\n",
      "[CV] MLP__alpha=0.01, MLP__hidden_layer_sizes=(100, 100, 100), PCA__n_components=125 \n",
      "[CV]  MLP__alpha=0.01, MLP__hidden_layer_sizes=(100, 100, 100), PCA__n_components=100, score=0.993988, total=   8.2s\n",
      "[CV] MLP__alpha=0.01, MLP__hidden_layer_sizes=(100, 100, 100), PCA__n_components=125 \n",
      "[CV]  MLP__alpha=0.01, MLP__hidden_layer_sizes=(100, 100, 100), PCA__n_components=125, score=0.993076, total=  10.0s\n",
      "[CV] MLP__alpha=0.01, MLP__hidden_layer_sizes=(100, 100, 100), PCA__n_components=125 \n",
      "[CV]  MLP__alpha=0.01, MLP__hidden_layer_sizes=(100, 100, 100), PCA__n_components=125, score=0.990079, total=   9.3s\n",
      "[CV] MLP__alpha=0.01, MLP__hidden_layer_sizes=(100, 100, 100), PCA__n_components=125 \n",
      "[CV]  MLP__alpha=0.01, MLP__hidden_layer_sizes=(100, 100, 100), PCA__n_components=125, score=0.991071, total=   8.8s\n",
      "[CV] MLP__alpha=0.01, MLP__hidden_layer_sizes=(100, 100, 100), PCA__n_components=125 \n",
      "[CV]  MLP__alpha=0.01, MLP__hidden_layer_sizes=(100, 100, 100), PCA__n_components=125, score=0.986083, total=   8.6s\n",
      "[CV] MLP__alpha=0.1, MLP__hidden_layer_sizes=(100,), PCA__n_components=75 \n",
      "[CV]  MLP__alpha=0.01, MLP__hidden_layer_sizes=(100, 100, 100), PCA__n_components=125, score=0.994990, total=   9.2s\n",
      "[CV] MLP__alpha=0.1, MLP__hidden_layer_sizes=(100,), PCA__n_components=75 \n",
      "[CV]  MLP__alpha=0.1, MLP__hidden_layer_sizes=(100,), PCA__n_components=75, score=0.992087, total=  16.4s\n",
      "[CV] MLP__alpha=0.1, MLP__hidden_layer_sizes=(100,), PCA__n_components=75 \n",
      "[CV]  MLP__alpha=0.1, MLP__hidden_layer_sizes=(100,), PCA__n_components=75, score=0.991071, total=  14.5s\n",
      "[CV] MLP__alpha=0.1, MLP__hidden_layer_sizes=(100,), PCA__n_components=75 \n",
      "[CV]  MLP__alpha=0.1, MLP__hidden_layer_sizes=(100,), PCA__n_components=75, score=0.993056, total=  14.5s\n",
      "[CV] MLP__alpha=0.1, MLP__hidden_layer_sizes=(100,), PCA__n_components=75 \n",
      "[CV]  MLP__alpha=0.1, MLP__hidden_layer_sizes=(100,), PCA__n_components=75, score=0.989066, total=  15.1s\n",
      "[CV] MLP__alpha=0.1, MLP__hidden_layer_sizes=(100,), PCA__n_components=100 \n"
     ]
    },
    {
     "name": "stderr",
     "output_type": "stream",
     "text": [
      "/home/kota/miniconda3/envs/kgschart/lib/python3.5/site-packages/sklearn/neural_network/multilayer_perceptron.py:563: ConvergenceWarning: Stochastic Optimizer: Maximum iterations reached and the optimization hasn't converged yet.\n",
      "  % (), ConvergenceWarning)\n"
     ]
    },
    {
     "name": "stdout",
     "output_type": "stream",
     "text": [
      "[CV]  MLP__alpha=0.1, MLP__hidden_layer_sizes=(100,), PCA__n_components=75, score=0.995992, total=  15.7s\n",
      "[CV] MLP__alpha=0.1, MLP__hidden_layer_sizes=(100,), PCA__n_components=100 \n",
      "[CV]  MLP__alpha=0.1, MLP__hidden_layer_sizes=(100,), PCA__n_components=100, score=0.993076, total=  14.6s\n",
      "[CV] MLP__alpha=0.1, MLP__hidden_layer_sizes=(100,), PCA__n_components=100 \n",
      "[CV]  MLP__alpha=0.1, MLP__hidden_layer_sizes=(100,), PCA__n_components=100, score=0.992063, total=  12.8s\n",
      "[CV] MLP__alpha=0.1, MLP__hidden_layer_sizes=(100,), PCA__n_components=100 \n",
      "[CV]  MLP__alpha=0.1, MLP__hidden_layer_sizes=(100,), PCA__n_components=100, score=0.992063, total=  14.2s\n",
      "[CV] MLP__alpha=0.1, MLP__hidden_layer_sizes=(100,), PCA__n_components=100 \n",
      "[CV]  MLP__alpha=0.1, MLP__hidden_layer_sizes=(100,), PCA__n_components=100, score=0.987078, total=  12.9s\n",
      "[CV] MLP__alpha=0.1, MLP__hidden_layer_sizes=(100,), PCA__n_components=125 \n"
     ]
    },
    {
     "name": "stderr",
     "output_type": "stream",
     "text": [
      "/home/kota/miniconda3/envs/kgschart/lib/python3.5/site-packages/sklearn/neural_network/multilayer_perceptron.py:563: ConvergenceWarning: Stochastic Optimizer: Maximum iterations reached and the optimization hasn't converged yet.\n",
      "  % (), ConvergenceWarning)\n"
     ]
    },
    {
     "name": "stdout",
     "output_type": "stream",
     "text": [
      "[CV]  MLP__alpha=0.1, MLP__hidden_layer_sizes=(100,), PCA__n_components=100, score=0.994990, total=  18.5s\n",
      "[CV] MLP__alpha=0.1, MLP__hidden_layer_sizes=(100,), PCA__n_components=125 \n",
      "[CV]  MLP__alpha=0.1, MLP__hidden_layer_sizes=(100,), PCA__n_components=125, score=0.993076, total=  15.3s\n",
      "[CV] MLP__alpha=0.1, MLP__hidden_layer_sizes=(100,), PCA__n_components=125 \n",
      "[CV]  MLP__alpha=0.1, MLP__hidden_layer_sizes=(100,), PCA__n_components=125, score=0.992063, total=  16.2s\n",
      "[CV] MLP__alpha=0.1, MLP__hidden_layer_sizes=(100,), PCA__n_components=125 \n",
      "[CV]  MLP__alpha=0.1, MLP__hidden_layer_sizes=(100,), PCA__n_components=125, score=0.992063, total=  16.0s\n",
      "[CV] MLP__alpha=0.1, MLP__hidden_layer_sizes=(100,), PCA__n_components=125 \n",
      "[CV]  MLP__alpha=0.1, MLP__hidden_layer_sizes=(100,), PCA__n_components=125, score=0.987078, total=  17.9s\n",
      "[CV] MLP__alpha=0.1, MLP__hidden_layer_sizes=(100, 100), PCA__n_components=75 \n",
      "[CV]  MLP__alpha=0.1, MLP__hidden_layer_sizes=(100,), PCA__n_components=125, score=0.995992, total=  16.8s\n",
      "[CV] MLP__alpha=0.1, MLP__hidden_layer_sizes=(100, 100), PCA__n_components=75 \n",
      "[CV]  MLP__alpha=0.1, MLP__hidden_layer_sizes=(100, 100), PCA__n_components=75, score=0.994065, total=  21.1s\n",
      "[CV] MLP__alpha=0.1, MLP__hidden_layer_sizes=(100, 100), PCA__n_components=75 \n",
      "[CV]  MLP__alpha=0.1, MLP__hidden_layer_sizes=(100, 100), PCA__n_components=75, score=0.992063, total=  21.3s\n",
      "[CV] MLP__alpha=0.1, MLP__hidden_layer_sizes=(100, 100), PCA__n_components=75 \n",
      "[CV]  MLP__alpha=0.1, MLP__hidden_layer_sizes=(100, 100), PCA__n_components=75, score=0.993056, total=  18.3s\n",
      "[CV] MLP__alpha=0.1, MLP__hidden_layer_sizes=(100, 100), PCA__n_components=75 \n",
      "[CV]  MLP__alpha=0.1, MLP__hidden_layer_sizes=(100, 100), PCA__n_components=75, score=0.986083, total=  17.2s\n",
      "[CV] MLP__alpha=0.1, MLP__hidden_layer_sizes=(100, 100), PCA__n_components=100 \n",
      "[CV]  MLP__alpha=0.1, MLP__hidden_layer_sizes=(100, 100), PCA__n_components=75, score=0.995992, total=  20.8s\n",
      "[CV] MLP__alpha=0.1, MLP__hidden_layer_sizes=(100, 100), PCA__n_components=100 \n",
      "[CV]  MLP__alpha=0.1, MLP__hidden_layer_sizes=(100, 100), PCA__n_components=100, score=0.993076, total=  20.8s\n",
      "[CV] MLP__alpha=0.1, MLP__hidden_layer_sizes=(100, 100), PCA__n_components=100 \n",
      "[CV]  MLP__alpha=0.1, MLP__hidden_layer_sizes=(100, 100), PCA__n_components=100, score=0.991071, total=  15.5s\n",
      "[CV] MLP__alpha=0.1, MLP__hidden_layer_sizes=(100, 100), PCA__n_components=100 \n",
      "[CV]  MLP__alpha=0.1, MLP__hidden_layer_sizes=(100, 100), PCA__n_components=100, score=0.992063, total=  19.8s\n",
      "[CV] MLP__alpha=0.1, MLP__hidden_layer_sizes=(100, 100), PCA__n_components=100 \n"
     ]
    },
    {
     "name": "stderr",
     "output_type": "stream",
     "text": [
      "[Parallel(n_jobs=2)]: Done 158 tasks      | elapsed: 13.7min\n"
     ]
    },
    {
     "name": "stdout",
     "output_type": "stream",
     "text": [
      "[CV]  MLP__alpha=0.1, MLP__hidden_layer_sizes=(100, 100), PCA__n_components=100, score=0.988072, total=  20.0s\n",
      "[CV] MLP__alpha=0.1, MLP__hidden_layer_sizes=(100, 100), PCA__n_components=125 \n",
      "[CV]  MLP__alpha=0.1, MLP__hidden_layer_sizes=(100, 100), PCA__n_components=100, score=0.995992, total=  21.8s\n",
      "[CV] MLP__alpha=0.1, MLP__hidden_layer_sizes=(100, 100), PCA__n_components=125 \n",
      "[CV]  MLP__alpha=0.1, MLP__hidden_layer_sizes=(100, 100), PCA__n_components=125, score=0.993076, total=  19.9s\n",
      "[CV] MLP__alpha=0.1, MLP__hidden_layer_sizes=(100, 100), PCA__n_components=125 \n",
      "[CV]  MLP__alpha=0.1, MLP__hidden_layer_sizes=(100, 100), PCA__n_components=125, score=0.991071, total=  18.4s\n",
      "[CV] MLP__alpha=0.1, MLP__hidden_layer_sizes=(100, 100), PCA__n_components=125 \n",
      "[CV]  MLP__alpha=0.1, MLP__hidden_layer_sizes=(100, 100), PCA__n_components=125, score=0.991071, total=  21.1s\n",
      "[CV] MLP__alpha=0.1, MLP__hidden_layer_sizes=(100, 100), PCA__n_components=125 \n",
      "[CV]  MLP__alpha=0.1, MLP__hidden_layer_sizes=(100, 100), PCA__n_components=125, score=0.987078, total=  24.7s\n",
      "[CV] MLP__alpha=0.1, MLP__hidden_layer_sizes=(100, 100, 100), PCA__n_components=75 \n",
      "[CV]  MLP__alpha=0.1, MLP__hidden_layer_sizes=(100, 100), PCA__n_components=125, score=0.994990, total=  17.8s\n",
      "[CV] MLP__alpha=0.1, MLP__hidden_layer_sizes=(100, 100, 100), PCA__n_components=75 \n",
      "[CV]  MLP__alpha=0.1, MLP__hidden_layer_sizes=(100, 100, 100), PCA__n_components=75, score=0.992087, total=  27.9s\n",
      "[CV] MLP__alpha=0.1, MLP__hidden_layer_sizes=(100, 100, 100), PCA__n_components=75 \n",
      "[CV]  MLP__alpha=0.1, MLP__hidden_layer_sizes=(100, 100, 100), PCA__n_components=75, score=0.967262, total=  20.8s\n",
      "[CV] MLP__alpha=0.1, MLP__hidden_layer_sizes=(100, 100, 100), PCA__n_components=75 \n",
      "[CV]  MLP__alpha=0.1, MLP__hidden_layer_sizes=(100, 100, 100), PCA__n_components=75, score=0.990079, total=  23.9s\n",
      "[CV] MLP__alpha=0.1, MLP__hidden_layer_sizes=(100, 100, 100), PCA__n_components=75 \n",
      "[CV]  MLP__alpha=0.1, MLP__hidden_layer_sizes=(100, 100, 100), PCA__n_components=75, score=0.978131, total=  27.0s\n",
      "[CV] MLP__alpha=0.1, MLP__hidden_layer_sizes=(100, 100, 100), PCA__n_components=100 \n",
      "[CV]  MLP__alpha=0.1, MLP__hidden_layer_sizes=(100, 100, 100), PCA__n_components=75, score=0.994990, total=  20.4s\n",
      "[CV] MLP__alpha=0.1, MLP__hidden_layer_sizes=(100, 100, 100), PCA__n_components=100 \n",
      "[CV]  MLP__alpha=0.1, MLP__hidden_layer_sizes=(100, 100, 100), PCA__n_components=100, score=0.976261, total=  19.8s\n",
      "[CV] MLP__alpha=0.1, MLP__hidden_layer_sizes=(100, 100, 100), PCA__n_components=100 \n",
      "[CV]  MLP__alpha=0.1, MLP__hidden_layer_sizes=(100, 100, 100), PCA__n_components=100, score=0.992063, total=  21.6s\n",
      "[CV] MLP__alpha=0.1, MLP__hidden_layer_sizes=(100, 100, 100), PCA__n_components=100 \n",
      "[CV]  MLP__alpha=0.1, MLP__hidden_layer_sizes=(100, 100, 100), PCA__n_components=100, score=0.990079, total=  23.4s\n",
      "[CV] MLP__alpha=0.1, MLP__hidden_layer_sizes=(100, 100, 100), PCA__n_components=100 \n",
      "[CV]  MLP__alpha=0.1, MLP__hidden_layer_sizes=(100, 100, 100), PCA__n_components=100, score=0.991054, total=  23.3s\n",
      "[CV] MLP__alpha=0.1, MLP__hidden_layer_sizes=(100, 100, 100), PCA__n_components=125 \n",
      "[CV]  MLP__alpha=0.1, MLP__hidden_layer_sizes=(100, 100, 100), PCA__n_components=100, score=0.959920, total=  21.9s\n",
      "[CV] MLP__alpha=0.1, MLP__hidden_layer_sizes=(100, 100, 100), PCA__n_components=125 \n",
      "[CV]  MLP__alpha=0.1, MLP__hidden_layer_sizes=(100, 100, 100), PCA__n_components=125, score=0.992087, total=  25.5s\n",
      "[CV] MLP__alpha=0.1, MLP__hidden_layer_sizes=(100, 100, 100), PCA__n_components=125 \n",
      "[CV]  MLP__alpha=0.1, MLP__hidden_layer_sizes=(100, 100, 100), PCA__n_components=125, score=0.990079, total=  21.4s\n",
      "[CV] MLP__alpha=0.1, MLP__hidden_layer_sizes=(100, 100, 100), PCA__n_components=125 \n",
      "[CV]  MLP__alpha=0.1, MLP__hidden_layer_sizes=(100, 100, 100), PCA__n_components=125, score=0.989087, total=  14.4s\n",
      "[CV] MLP__alpha=0.1, MLP__hidden_layer_sizes=(100, 100, 100), PCA__n_components=125 \n",
      "[CV]  MLP__alpha=0.1, MLP__hidden_layer_sizes=(100, 100, 100), PCA__n_components=125, score=0.989066, total=  27.4s\n",
      "[CV]  MLP__alpha=0.1, MLP__hidden_layer_sizes=(100, 100, 100), PCA__n_components=125, score=0.994990, total=  18.3s\n"
     ]
    },
    {
     "name": "stderr",
     "output_type": "stream",
     "text": [
      "[Parallel(n_jobs=2)]: Done 180 out of 180 | elapsed: 17.7min finished\n"
     ]
    }
   ],
   "source": [
    "pipe_grid = Pipeline([\n",
    "    ('flatten', Flatten()), \n",
    "    ('PCA', PCA(n_components=100)),\n",
    "    ('MLP', MLPClassifier((100,100,100), alpha=0.01))\n",
    "]) \n",
    "ncomp_options = [75, 100, 125]\n",
    "alpha_options = [0.0001, 0.001, 0.01, 0.1]\n",
    "layer_options = [(100,), (100,100), (100,100,100)]\n",
    "param_grid = dict(\n",
    "    PCA__n_components=ncomp_options,\n",
    "    MLP__alpha=alpha_options,\n",
    "    MLP__hidden_layer_sizes=layer_options\n",
    ")\n",
    "\n",
    "grid_savename = os.path.join(arcdir, 'caption-ja_pca-mlp-grid_all.pkl')\n",
    "if False:  # change to True to do grid search again\n",
    "    grid = GridSearchCV(pipe_grid, param_grid, cv=5, n_jobs=2, verbose=5)\n",
    "    grid.fit(X_train, Y_train)\n",
    "    \n",
    "    joblib.dump(grid, grid_savename)\n",
    "else:\n",
    "    grid = joblib.load(grid_savename)"
   ]
  },
  {
   "cell_type": "code",
   "execution_count": 16,
   "metadata": {},
   "outputs": [
    {
     "name": "stdout",
     "output_type": "stream",
     "text": [
      "0.9924 (+/-0.0058) for {'MLP__hidden_layer_sizes': (100,), 'MLP__alpha': 0.001, 'PCA__n_components': 75}\n",
      "0.9922 (+/-0.0049) for {'MLP__hidden_layer_sizes': (100,), 'MLP__alpha': 0.0001, 'PCA__n_components': 75}\n",
      "0.9922 (+/-0.0058) for {'MLP__hidden_layer_sizes': (100,), 'MLP__alpha': 0.0001, 'PCA__n_components': 100}\n",
      "0.9922 (+/-0.0059) for {'MLP__hidden_layer_sizes': (100, 100, 100), 'MLP__alpha': 0.0001, 'PCA__n_components': 75}\n",
      "0.9922 (+/-0.0067) for {'MLP__hidden_layer_sizes': (100, 100), 'MLP__alpha': 0.1, 'PCA__n_components': 75}\n",
      "0.9922 (+/-0.0058) for {'MLP__hidden_layer_sizes': (100, 100), 'MLP__alpha': 0.001, 'PCA__n_components': 75}\n",
      "0.9922 (+/-0.0046) for {'MLP__hidden_layer_sizes': (100,), 'MLP__alpha': 0.1, 'PCA__n_components': 75}\n",
      "0.9920 (+/-0.0037) for {'MLP__hidden_layer_sizes': (100,), 'MLP__alpha': 0.01, 'PCA__n_components': 75}\n",
      "0.9920 (+/-0.0056) for {'MLP__hidden_layer_sizes': (100, 100), 'MLP__alpha': 0.0001, 'PCA__n_components': 75}\n",
      "0.9920 (+/-0.0055) for {'MLP__hidden_layer_sizes': (100, 100, 100), 'MLP__alpha': 0.001, 'PCA__n_components': 125}\n",
      "0.9920 (+/-0.0052) for {'MLP__hidden_layer_sizes': (100, 100), 'MLP__alpha': 0.1, 'PCA__n_components': 100}\n",
      "0.9920 (+/-0.0057) for {'MLP__hidden_layer_sizes': (100,), 'MLP__alpha': 0.1, 'PCA__n_components': 125}\n",
      "0.9919 (+/-0.0052) for {'MLP__hidden_layer_sizes': (100,), 'MLP__alpha': 0.1, 'PCA__n_components': 100}\n",
      "0.9919 (+/-0.0057) for {'MLP__hidden_layer_sizes': (100,), 'MLP__alpha': 0.001, 'PCA__n_components': 100}\n",
      "0.9919 (+/-0.0040) for {'MLP__hidden_layer_sizes': (100, 100), 'MLP__alpha': 0.01, 'PCA__n_components': 75}\n",
      "0.9919 (+/-0.0046) for {'MLP__hidden_layer_sizes': (100,), 'MLP__alpha': 0.01, 'PCA__n_components': 100}\n",
      "0.9917 (+/-0.0058) for {'MLP__hidden_layer_sizes': (100, 100, 100), 'MLP__alpha': 0.001, 'PCA__n_components': 75}\n",
      "0.9915 (+/-0.0053) for {'MLP__hidden_layer_sizes': (100, 100), 'MLP__alpha': 0.1, 'PCA__n_components': 125}\n",
      "0.9915 (+/-0.0054) for {'MLP__hidden_layer_sizes': (100,), 'MLP__alpha': 0.01, 'PCA__n_components': 125}\n",
      "0.9915 (+/-0.0057) for {'MLP__hidden_layer_sizes': (100, 100), 'MLP__alpha': 0.001, 'PCA__n_components': 125}\n",
      "0.9913 (+/-0.0051) for {'MLP__hidden_layer_sizes': (100, 100), 'MLP__alpha': 0.0001, 'PCA__n_components': 100}\n",
      "0.9913 (+/-0.0069) for {'MLP__hidden_layer_sizes': (100, 100, 100), 'MLP__alpha': 0.001, 'PCA__n_components': 100}\n",
      "0.9913 (+/-0.0042) for {'MLP__hidden_layer_sizes': (100, 100, 100), 'MLP__alpha': 0.01, 'PCA__n_components': 75}\n",
      "0.9911 (+/-0.0063) for {'MLP__hidden_layer_sizes': (100, 100), 'MLP__alpha': 0.0001, 'PCA__n_components': 125}\n",
      "0.9911 (+/-0.0059) for {'MLP__hidden_layer_sizes': (100, 100, 100), 'MLP__alpha': 0.0001, 'PCA__n_components': 125}\n",
      "0.9911 (+/-0.0045) for {'MLP__hidden_layer_sizes': (100, 100, 100), 'MLP__alpha': 0.1, 'PCA__n_components': 125}\n",
      "0.9911 (+/-0.0064) for {'MLP__hidden_layer_sizes': (100, 100), 'MLP__alpha': 0.001, 'PCA__n_components': 100}\n",
      "0.9911 (+/-0.0060) for {'MLP__hidden_layer_sizes': (100, 100, 100), 'MLP__alpha': 0.01, 'PCA__n_components': 125}\n",
      "0.9911 (+/-0.0064) for {'MLP__hidden_layer_sizes': (100, 100), 'MLP__alpha': 0.01, 'PCA__n_components': 100}\n",
      "0.9909 (+/-0.0066) for {'MLP__hidden_layer_sizes': (100,), 'MLP__alpha': 0.001, 'PCA__n_components': 125}\n",
      "0.9909 (+/-0.0044) for {'MLP__hidden_layer_sizes': (100,), 'MLP__alpha': 0.0001, 'PCA__n_components': 125}\n",
      "0.9907 (+/-0.0037) for {'MLP__hidden_layer_sizes': (100, 100, 100), 'MLP__alpha': 0.0001, 'PCA__n_components': 100}\n",
      "0.9905 (+/-0.0044) for {'MLP__hidden_layer_sizes': (100, 100, 100), 'MLP__alpha': 0.01, 'PCA__n_components': 100}\n",
      "0.9903 (+/-0.0047) for {'MLP__hidden_layer_sizes': (100, 100), 'MLP__alpha': 0.01, 'PCA__n_components': 125}\n",
      "0.9845 (+/-0.0207) for {'MLP__hidden_layer_sizes': (100, 100, 100), 'MLP__alpha': 0.1, 'PCA__n_components': 75}\n",
      "0.9819 (+/-0.0247) for {'MLP__hidden_layer_sizes': (100, 100, 100), 'MLP__alpha': 0.1, 'PCA__n_components': 100}\n",
      "{'MLP__hidden_layer_sizes': (100,), 'MLP__alpha': 0.001, 'PCA__n_components': 75}\n"
     ]
    }
   ],
   "source": [
    "odr = np.argsort(grid.cv_results_['mean_test_score'])\n",
    "for i in reversed(odr):\n",
    "    print(\"%0.4f (+/-%0.04f) for %r\" % \n",
    "        (grid.cv_results_['mean_test_score'][i], \n",
    "         grid.cv_results_['std_test_score'][i] * 2, \n",
    "         grid.cv_results_['params'][i]))\n",
    "print(grid.best_params_)"
   ]
  },
  {
   "cell_type": "code",
   "execution_count": 17,
   "metadata": {},
   "outputs": [
    {
     "name": "stdout",
     "output_type": "stream",
     "text": [
      "accuracy on original set =  1.0\n",
      "accuracy =  1.0\n",
      "col_0  /  0  1  2  3  4  5  6  7  8  9  :   ?  All\n",
      "row_0                                             \n",
      "/      3  0  0  0  0  0  0  0  0  0  0  0   0    3\n",
      "0      0  3  0  0  0  0  0  0  0  0  0  0   0    3\n",
      "1      0  0  3  0  0  0  0  0  0  0  0  0   0    3\n",
      "2      0  0  0  3  0  0  0  0  0  0  0  0   0    3\n",
      "3      0  0  0  0  3  0  0  0  0  0  0  0   0    3\n",
      "4      0  0  0  0  0  3  0  0  0  0  0  0   0    3\n",
      "5      0  0  0  0  0  0  3  0  0  0  0  0   0    3\n",
      "6      0  0  0  0  0  0  0  3  0  0  0  0   0    3\n",
      "7      0  0  0  0  0  0  0  0  3  0  0  0   0    3\n",
      "8      0  0  0  0  0  0  0  0  0  2  0  0   0    2\n",
      "9      0  0  0  0  0  0  0  0  0  0  3  0   0    3\n",
      ":      0  0  0  0  0  0  0  0  0  0  0  2   0    2\n",
      "?      0  0  0  0  0  0  0  0  0  0  0  0  71   71\n",
      "All    3  3  3  3  3  3  3  3  3  2  3  2  71  105\n",
      "accuracy =  0.995403217748\n"
     ]
    },
    {
     "data": {
      "image/png": "[encoded data removed]",
      "text/plain": [
       "<matplotlib.figure.Figure at 0x7fb2bad6e908>"
      ]
     },
     "metadata": {},
     "output_type": "display_data"
    },
    {
     "name": "stdout",
     "output_type": "stream",
     "text": [
      "col_0    /    0    1    2    3    4    5    6    7    8    9    :     ?    All\n",
      "row_0                                                                         \n",
      "/      286    0    0    0    0    0    0    0    0    0    0    0     0    286\n",
      "0        0  277    0    0    0    0    0    0    0    0    0    0     9    286\n",
      "1        0    0  282    0    0    0    0    0    0    0    0    0     3    285\n",
      "2        0    0    0  286    0    0    0    0    0    0    0    0     0    286\n",
      "3        0    0    0    0  285    0    1    0    0    0    0    0     0    286\n",
      "4        0    0    0    0    0  283    0    0    0    0    2    0     0    285\n",
      "5        0    0    0    0    0    0  279    0    0    0    0    0     8    287\n",
      "6        0    0    0    0    0    0    0  274    0    0    0    0    11    285\n",
      "7        0    0    0    0    0    0    0    0  285    0    0    0     0    285\n",
      "8        0    0    0    0    0    0    0    0    0  191    0    0     0    191\n",
      "9        0    0    0    0    0    0    0    0    0    0  286    0     0    286\n",
      ":        0    0    0    0    0    0    0    0    0    0    0  189     2    191\n",
      "?        0    4    5    0    0    0    0    0    1    0    0    0  6758   6768\n",
      "All    286  281  287  286  285  283  280  274  286  191  288  189  6791  10007\n"
     ]
    }
   ],
   "source": [
    "print('accuracy on original set = ', grid.score(X_in, Y_in))\n",
    "\n",
    "diagnosis(grid, X_in, Y_in)\n",
    "diagnosis(grid, X_test, Y_test)"
   ]
  },
  {
   "cell_type": "code",
   "execution_count": 18,
   "metadata": {},
   "outputs": [
    {
     "data": {
      "text/plain": [
       "['/home/kota/Documents/kgschart/models/caption_pca-mlp-gridbest.pkl']"
      ]
     },
     "execution_count": 18,
     "metadata": {},
     "output_type": "execute_result"
    }
   ],
   "source": [
    "savename = os.path.join(modeldir, 'caption_pca-mlp-gridbest.pkl')\n",
    "\n",
    "pipe = Pipeline([\n",
    "    ('PCA', grid.best_estimator_.named_steps['PCA']),\n",
    "    ('MLP', grid.best_estimator_.named_steps['MLP'])\n",
    "])\n",
    "joblib.dump(pipe, savename)"
   ]
  },
  {
   "cell_type": "markdown",
   "metadata": {},
   "source": [
    "#### Exhaustive training until perfect accuracy"
   ]
  },
  {
   "cell_type": "code",
   "execution_count": 19,
   "metadata": {},
   "outputs": [
    {
     "name": "stdout",
     "output_type": "stream",
     "text": [
      "1009 score on test = 0.642750074948 score on original = 0.638095238095\n",
      "101909 score on test = 0.998501049266 score on original = 1.0\n",
      "DONE!\n"
     ]
    }
   ],
   "source": [
    "np.random.seed(87)\n",
    "\n",
    "# create data prep pipeline and\n",
    "# fit pca before learning\n",
    "# this way, we can fix the features to pass to MLP\n",
    "# if we use incrementalPCA and fit online, then the MLP learning would \n",
    "# mess up since there is no guarantee that PCA component i now is the \n",
    "# same as the component i in the next fitted PCA\n",
    "pca = PCA(n_components=125)\n",
    "pipe_prep = Pipeline([\n",
    "    ('flatten', Flatten()), \n",
    "    ('PCA', pca)\n",
    "])\n",
    "pipe_prep.fit(X_train)\n",
    "\n",
    "model = MLPClassifier((100,100,100), alpha=0.01, warm_start=True)\n",
    "pipe_pred = Pipeline([\n",
    "    ('prep', pipe_prep),\n",
    "    ('MLP', model)\n",
    "])\n",
    "\n",
    "classes = grid.best_estimator_.classes_\n",
    "\n",
    "train_gen = ImageDataGenerator(width_shift_range=0.1, height_shift_range=0.1, \n",
    "                               data_format='channels_last', channel_shift_range=0.1)\n",
    "\n",
    "num = 0\n",
    "result = None\n",
    "counter = 0\n",
    "consec_ones = 0\n",
    "#for X_batch,Y_batch in train_gen.flow(np.expand_dims(X_in, axis=4), \n",
    "#                                      Y_in, batch_size=1000):\n",
    "while counter <= 5000: \n",
    "    X_batch,Y_batch = generate_augmented_data(X_in, Y_in, 1000)\n",
    "    counter += 1\n",
    "    if counter > 5000: break\n",
    "        \n",
    "    model.partial_fit(pipe_prep.transform(X_batch.squeeze()), \n",
    "                      Y_batch, classes)\n",
    "    num += len(Y_batch)\n",
    "    \n",
    "    score_test     = pipe_pred.score(X_test, Y_test)\n",
    "    score_original = pipe_pred.score(X_in, Y_in)\n",
    "    tmp = dict(size = [num], score_test = [score_test], \n",
    "               score_original = [score_original])\n",
    "    tmp = pd.DataFrame(tmp)\n",
    "    if result is None:\n",
    "        result = tmp\n",
    "    else:\n",
    "        result = result.append(tmp)\n",
    "    \n",
    "    if counter % 100 == 1:\n",
    "        print(num, 'score on test =', score_test,\n",
    "              'score on original =', score_original)\n",
    "    if score_test == 1.0 and score_original == 1.0:\n",
    "        consec_ones += 1\n",
    "    if consec_ones >= 10:\n",
    "        print('DONE!')\n",
    "        break"
   ]
  },
  {
   "cell_type": "code",
   "execution_count": 20,
   "metadata": {},
   "outputs": [
    {
     "name": "stdout",
     "output_type": "stream",
     "text": [
      "accuracy =  1.0\n",
      "col_0  /  0  1  2  3  4  5  6  7  8  9  :   ?  All\n",
      "row_0                                             \n",
      "/      3  0  0  0  0  0  0  0  0  0  0  0   0    3\n",
      "0      0  3  0  0  0  0  0  0  0  0  0  0   0    3\n",
      "1      0  0  3  0  0  0  0  0  0  0  0  0   0    3\n",
      "2      0  0  0  3  0  0  0  0  0  0  0  0   0    3\n",
      "3      0  0  0  0  3  0  0  0  0  0  0  0   0    3\n",
      "4      0  0  0  0  0  3  0  0  0  0  0  0   0    3\n",
      "5      0  0  0  0  0  0  3  0  0  0  0  0   0    3\n",
      "6      0  0  0  0  0  0  0  3  0  0  0  0   0    3\n",
      "7      0  0  0  0  0  0  0  0  3  0  0  0   0    3\n",
      "8      0  0  0  0  0  0  0  0  0  2  0  0   0    2\n",
      "9      0  0  0  0  0  0  0  0  0  0  3  0   0    3\n",
      ":      0  0  0  0  0  0  0  0  0  0  0  2   0    2\n",
      "?      0  0  0  0  0  0  0  0  0  0  0  0  71   71\n",
      "All    3  3  3  3  3  3  3  3  3  2  3  2  71  105\n",
      "accuracy =  1.0\n",
      "col_0    /    0    1    2    3    4    5    6    7    8    9    :     ?    All\n",
      "row_0                                                                         \n",
      "/      286    0    0    0    0    0    0    0    0    0    0    0     0    286\n",
      "0        0  286    0    0    0    0    0    0    0    0    0    0     0    286\n",
      "1        0    0  285    0    0    0    0    0    0    0    0    0     0    285\n",
      "2        0    0    0  286    0    0    0    0    0    0    0    0     0    286\n",
      "3        0    0    0    0  286    0    0    0    0    0    0    0     0    286\n",
      "4        0    0    0    0    0  285    0    0    0    0    0    0     0    285\n",
      "5        0    0    0    0    0    0  287    0    0    0    0    0     0    287\n",
      "6        0    0    0    0    0    0    0  285    0    0    0    0     0    285\n",
      "7        0    0    0    0    0    0    0    0  285    0    0    0     0    285\n",
      "8        0    0    0    0    0    0    0    0    0  191    0    0     0    191\n",
      "9        0    0    0    0    0    0    0    0    0    0  286    0     0    286\n",
      ":        0    0    0    0    0    0    0    0    0    0    0  191     0    191\n",
      "?        0    0    0    0    0    0    0    0    0    0    0    0  6768   6768\n",
      "All    286  286  285  286  286  285  287  285  285  191  286  191  6768  10007\n"
     ]
    }
   ],
   "source": [
    "diagnosis(pipe_pred, X_in, Y_in)\n",
    "diagnosis(pipe_pred, X_test, Y_test)"
   ]
  },
  {
   "cell_type": "code",
   "execution_count": 21,
   "metadata": {},
   "outputs": [
    {
     "data": {
      "image/png": "[encoded data removed]",
      "text/plain": [
       "<matplotlib.figure.Figure at 0x7fb2badb0b70>"
      ]
     },
     "metadata": {},
     "output_type": "display_data"
    }
   ],
   "source": [
    "sns.set()\n",
    "plt.plot(result['size'], result['score_original'], 'b:', label='original')\n",
    "plt.plot(result['size'], result['score_test'], 'r--', label='test') \n",
    "plt.legend()\n",
    "plt.ylabel('accuracy')\n",
    "plt.xlabel('data size')\n",
    "plt.show(block=False)"
   ]
  },
  {
   "cell_type": "code",
   "execution_count": 22,
   "metadata": {},
   "outputs": [
    {
     "data": {
      "text/plain": [
       "['/home/kota/Documents/kgschart/models/caption-ja_pca-mlp-full.pkl']"
      ]
     },
     "execution_count": 22,
     "metadata": {},
     "output_type": "execute_result"
    }
   ],
   "source": [
    "# save PCA-MLP part\n",
    "savename = os.path.join(modeldir, 'caption-ja_pca-mlp-full.pkl')\n",
    "pipe = Pipeline([('PCA', pca), ('MLP', model)])\n",
    "joblib.dump(pipe, savename)"
   ]
  },
  {
   "cell_type": "markdown",
   "metadata": {},
   "source": [
    "This model looks reasonable!  This would be our first choice."
   ]
  },
  {
   "cell_type": "markdown",
   "metadata": {},
   "source": [
    "### Two step classification"
   ]
  },
  {
   "cell_type": "markdown",
   "metadata": {},
   "source": [
    "#### Classify relevant vs not"
   ]
  },
  {
   "cell_type": "code",
   "execution_count": 23,
   "metadata": {
    "collapsed": true
   },
   "outputs": [],
   "source": [
    "Y_in1 = (Y_in != '?') \n",
    "\n",
    "# generate test data from image data generator\n",
    "X_test, Y_test = generate_augmented_data(X_in, Y_in1, 10000, seed = 8)\n",
    "\n",
    "# generate train data too\n",
    "X_train, Y_train = generate_augmented_data(X_in, Y_in1, 5000, seed = 7)"
   ]
  },
  {
   "cell_type": "markdown",
   "metadata": {},
   "source": [
    "**Logistic regression**"
   ]
  },
  {
   "cell_type": "code",
   "execution_count": 24,
   "metadata": {},
   "outputs": [
    {
     "name": "stdout",
     "output_type": "stream",
     "text": [
      "accuracy =  0.80383731388\n"
     ]
    },
    {
     "data": {
      "image/png": "[encoded data removed]",
      "text/plain": [
       "<matplotlib.figure.Figure at 0x7fb2babddf28>"
      ]
     },
     "metadata": {},
     "output_type": "display_data"
    },
    {
     "name": "stdout",
     "output_type": "stream",
     "text": [
      "col_0  False  True    All\n",
      "row_0                    \n",
      "False   6046   722   6768\n",
      "True    1241  1998   3239\n",
      "All     7287  2720  10007\n",
      "accuracy =  0.819047619048\n"
     ]
    },
    {
     "data": {
      "image/png": "[encoded data removed]",
      "text/plain": [
       "<matplotlib.figure.Figure at 0x7fb2bb1d0b38>"
      ]
     },
     "metadata": {},
     "output_type": "display_data"
    },
    {
     "name": "stdout",
     "output_type": "stream",
     "text": [
      "col_0  False  True  All\n",
      "row_0                  \n",
      "False     63     8   71\n",
      "True      11    23   34\n",
      "All       74    31  105\n"
     ]
    }
   ],
   "source": [
    "pipe = Pipeline([\n",
    "    ('flatten', Flatten()), \n",
    "    ('PCA', PCA(n_components=100)),\n",
    "    ('Logit', LogisticRegression(penalty='l1'))\n",
    "])\n",
    "pipe.fit(X_train, Y_train)\n",
    "\n",
    "diagnosis(pipe, X_test, Y_test)\n",
    "diagnosis(pipe, X_in, Y_in1)"
   ]
  },
  {
   "cell_type": "markdown",
   "metadata": {},
   "source": [
    "**MLP**"
   ]
  },
  {
   "cell_type": "code",
   "execution_count": 25,
   "metadata": {},
   "outputs": [
    {
     "name": "stdout",
     "output_type": "stream",
     "text": [
      "accuracy =  0.996702308384\n"
     ]
    },
    {
     "data": {
      "image/png": "[encoded data removed]",
      "text/plain": [
       "<matplotlib.figure.Figure at 0x7fb2badaa668>"
      ]
     },
     "metadata": {},
     "output_type": "display_data"
    },
    {
     "name": "stdout",
     "output_type": "stream",
     "text": [
      "col_0  False  True    All\n",
      "row_0                    \n",
      "False   6760     8   6768\n",
      "True      25  3214   3239\n",
      "All     6785  3222  10007\n",
      "accuracy =  1.0\n",
      "col_0  False  True  All\n",
      "row_0                  \n",
      "False     71     0   71\n",
      "True       0    34   34\n",
      "All       71    34  105\n"
     ]
    }
   ],
   "source": [
    "pipe = Pipeline([\n",
    "    ('flatten', Flatten()), \n",
    "    ('PCA', PCA(n_components=100)),\n",
    "    ('MLP', MLPClassifier((100,100,100), alpha=0.001))\n",
    "])\n",
    "pipe.fit(X_train, Y_train)\n",
    "\n",
    "\n",
    "\n",
    "diagnosis(pipe, X_test, Y_test)\n",
    "diagnosis(pipe, X_in, Y_in1)"
   ]
  },
  {
   "cell_type": "markdown",
   "metadata": {},
   "source": [
    "**Exhaustive traiging**"
   ]
  },
  {
   "cell_type": "code",
   "execution_count": 26,
   "metadata": {
    "collapsed": true
   },
   "outputs": [],
   "source": [
    "classes = pipe.named_steps['MLP'].classes_"
   ]
  },
  {
   "cell_type": "code",
   "execution_count": 27,
   "metadata": {},
   "outputs": [
    {
     "name": "stdout",
     "output_type": "stream",
     "text": [
      "516 score on test = 0.57779554312 score on original = 0.590476190476\n",
      "52116 score on test = 0.999500349755 score on original = 1.0\n",
      "DONE!\n"
     ]
    }
   ],
   "source": [
    "np.random.seed(87)\n",
    "\n",
    "\n",
    "# create data prep pipeline and\n",
    "# fit pca before learning\n",
    "# this way, we can fix the features to pass to MLP\n",
    "# if we use incrementalPCA and fit online, then the MLP learning would \n",
    "# mess up since there is no guarantee that PCA component i now is the \n",
    "# same as the component i in the next fitted PCA\n",
    "pca = PCA(n_components=125)\n",
    "pipe_prep = Pipeline([\n",
    "    ('flatten', Flatten()), \n",
    "    ('PCA', pca)\n",
    "])\n",
    "pipe_prep.fit(X_train)\n",
    "\n",
    "model = MLPClassifier((100,100,100), alpha=0.01, warm_start=True)\n",
    "pipe_pred = Pipeline([\n",
    "    ('prep', pipe_prep),\n",
    "    ('MLP', model)\n",
    "])\n",
    "\n",
    "\n",
    "train_gen = ImageDataGenerator(width_shift_range=0.1, height_shift_range=0.1, \n",
    "                               data_format='channels_last', channel_shift_range=0.1)\n",
    "\n",
    "num = 0\n",
    "result = None\n",
    "counter = 0\n",
    "consec_ones = 0\n",
    "#for X_batch,Y_batch in train_gen.flow(np.expand_dims(X_in, axis=4), \n",
    "#                                      Y_in, batch_size=1000):\n",
    "while counter <= 5000: \n",
    "    X_batch,Y_batch = generate_augmented_data(X_in, Y_in1, 500)\n",
    "    counter += 1\n",
    "    if counter > 5000: break\n",
    "        \n",
    "    model.partial_fit(pipe_prep.transform(X_batch.squeeze()), \n",
    "                      Y_batch, classes)\n",
    "    num += len(Y_batch)\n",
    "    \n",
    "    score_test     = pipe_pred.score(X_test, Y_test)\n",
    "    score_original = pipe_pred.score(X_in, Y_in1)\n",
    "    tmp = dict(size = [num], score_test = [score_test], \n",
    "               score_original = [score_original])\n",
    "    tmp = pd.DataFrame(tmp)\n",
    "    if result is None:\n",
    "        result = tmp\n",
    "    else:\n",
    "        result = result.append(tmp)\n",
    "    \n",
    "    if counter % 100 == 1:\n",
    "        print(num, 'score on test =', score_test,\n",
    "              'score on original =', score_original)\n",
    "    if score_test == 1.0 and score_original == 1.0:\n",
    "        consec_ones += 1\n",
    "    if consec_ones >= 10:\n",
    "        print('DONE!')\n",
    "        break"
   ]
  },
  {
   "cell_type": "code",
   "execution_count": 28,
   "metadata": {},
   "outputs": [
    {
     "name": "stdout",
     "output_type": "stream",
     "text": [
      "accuracy =  1.0\n",
      "col_0  False  True  All\n",
      "row_0                  \n",
      "False     71     0   71\n",
      "True       0    34   34\n",
      "All       71    34  105\n",
      "accuracy =  1.0\n",
      "col_0  False  True    All\n",
      "row_0                    \n",
      "False   6768     0   6768\n",
      "True       0  3239   3239\n",
      "All     6768  3239  10007\n"
     ]
    }
   ],
   "source": [
    "diagnosis(pipe_pred, X_in, Y_in1)\n",
    "diagnosis(pipe_pred, X_test, Y_test)"
   ]
  },
  {
   "cell_type": "code",
   "execution_count": 29,
   "metadata": {},
   "outputs": [
    {
     "data": {
      "image/png": "[encoded data removed]",
      "text/plain": [
       "<matplotlib.figure.Figure at 0x7fb2bad77898>"
      ]
     },
     "metadata": {},
     "output_type": "display_data"
    }
   ],
   "source": [
    "sns.set()\n",
    "plt.plot(result['size'], result['score_original'], 'b:', label='original')\n",
    "plt.plot(result['size'], result['score_test'], 'r--', label='test') \n",
    "plt.legend()\n",
    "plt.ylabel('accuracy')\n",
    "plt.xlabel('data size')\n",
    "plt.show(block=False)"
   ]
  },
  {
   "cell_type": "code",
   "execution_count": 30,
   "metadata": {},
   "outputs": [
    {
     "data": {
      "text/plain": [
       "['/home/kota/Documents/kgschart/models/caption-ja_pca-mlp-step1-full.pkl']"
      ]
     },
     "execution_count": 30,
     "metadata": {},
     "output_type": "execute_result"
    }
   ],
   "source": [
    "savename = os.path.join(modeldir, 'caption-ja_pca-mlp-step1-full.pkl')\n",
    "pipe = Pipeline([('PCA', pca), ('MLP', model)])\n",
    "joblib.dump(pipe, savename)"
   ]
  },
  {
   "cell_type": "markdown",
   "metadata": {},
   "source": [
    "#### Classification among relevant letters"
   ]
  },
  {
   "cell_type": "code",
   "execution_count": 31,
   "metadata": {
    "collapsed": true
   },
   "outputs": [],
   "source": [
    "X_in2 = X_in[Y_in != '?']\n",
    "Y_in2 = Y_in[Y_in != '?']\n",
    "\n",
    "pd.Series(Y_in2).value_counts()\n",
    "\n",
    "# generate test data from image data generator\n",
    "X_test, Y_test = generate_augmented_data(X_in2, Y_in2, 10000, seed = 8)\n",
    "\n",
    "# generate train data too\n",
    "X_train, Y_train = generate_augmented_data(X_in2, Y_in2, 5000, seed = 7)"
   ]
  },
  {
   "cell_type": "code",
   "execution_count": 32,
   "metadata": {},
   "outputs": [
    {
     "data": {
      "image/png": "[encoded data removed]",
      "text/plain": [
       "<matplotlib.figure.Figure at 0x7fb2b9c00240>"
      ]
     },
     "metadata": {},
     "output_type": "display_data"
    },
    {
     "data": {
      "image/png": "[encoded data removed]",
      "text/plain": [
       "<matplotlib.figure.Figure at 0x7fb2bb0f4470>"
      ]
     },
     "metadata": {},
     "output_type": "display_data"
    },
    {
     "name": "stdout",
     "output_type": "stream",
     "text": [
      "1 0.0994826703501\n",
      "2 0.187846245339\n",
      "3 0.270651269605\n",
      "4 0.33731431113\n",
      "5 0.38855772138\n",
      "6 0.433641139819\n",
      "7 0.474991962131\n",
      "8 0.509380659415\n",
      "9 0.5399119377\n",
      "10 0.566554780107\n",
      "11 0.591758995748\n",
      "12 0.615413711749\n",
      "13 0.636509961816\n",
      "14 0.656910272855\n",
      "15 0.675986111694\n",
      "16 0.693350686119\n",
      "17 0.709426512444\n",
      "18 0.725157501282\n",
      "19 0.739061686988\n",
      "20 0.751989297276\n",
      "21 0.764493520014\n",
      "22 0.776288404849\n",
      "23 0.78753101968\n",
      "24 0.79845132003\n",
      "25 0.807790456413\n",
      "26 0.816712598997\n",
      "27 0.82490890232\n",
      "28 0.833004180722\n",
      "29 0.840506420498\n",
      "30 0.847602153904\n",
      "31 0.854040776801\n",
      "32 0.860385532761\n",
      "33 0.866286946142\n",
      "34 0.871879821102\n",
      "35 0.877305950458\n",
      "36 0.882491463507\n",
      "37 0.887325687981\n",
      "38 0.891992055899\n",
      "39 0.896543491549\n",
      "40 0.900944755635\n",
      "41 0.905196423117\n",
      "42 0.909219447407\n",
      "43 0.913165489503\n",
      "44 0.916914024805\n",
      "45 0.920424951753\n",
      "46 0.923877455466\n",
      "47 0.927205329905\n",
      "48 0.930304848613\n",
      "49 0.933329614678\n",
      "50 0.936165845909\n",
      "51 0.938914435781\n",
      "52 0.941502869149\n",
      "53 0.943879446237\n",
      "54 0.946239439698\n",
      "55 0.948556932144\n",
      "56 0.950848280922\n",
      "57 0.953029125148\n",
      "58 0.955093921052\n",
      "59 0.957117960373\n",
      "60 0.959099631197\n",
      "61 0.960996370751\n",
      "62 0.962844644219\n",
      "63 0.964626348149\n",
      "64 0.966300109944\n",
      "65 0.96787515939\n",
      "66 0.969379746024\n",
      "67 0.970823870336\n",
      "68 0.972221442126\n",
      "69 0.973609463352\n",
      "70 0.974874031274\n",
      "71 0.976101176864\n",
      "72 0.977286807959\n",
      "73 0.978416324808\n",
      "74 0.979534043068\n",
      "75 0.980624808348\n",
      "76 0.981644235476\n",
      "77 0.982597992448\n",
      "78 0.983516001128\n",
      "79 0.984368549893\n",
      "80 0.98521898855\n",
      "81 0.986025590079\n",
      "82 0.98680244825\n",
      "83 0.987512268556\n",
      "84 0.988205075055\n",
      "85 0.988877170594\n",
      "86 0.989501750684\n",
      "87 0.990072485594\n",
      "88 0.990620885229\n",
      "89 0.991150367329\n",
      "90 0.991664769289\n",
      "91 0.992142423882\n",
      "92 0.992599339859\n",
      "93 0.993050031889\n",
      "94 0.993462733938\n",
      "95 0.993860845835\n",
      "96 0.994223905765\n",
      "97 0.994583879947\n",
      "98 0.99492204974\n",
      "99 0.995242761003\n",
      "100 0.99554920573\n",
      "101 0.995849106153\n",
      "102 0.996136186037\n",
      "103 0.996407141143\n",
      "104 0.996665505325\n",
      "105 0.996908358504\n",
      "106 0.997136460296\n",
      "107 0.997341436298\n",
      "108 0.997540179751\n",
      "109 0.997723719008\n",
      "110 0.997899418609\n",
      "111 0.998069320866\n",
      "112 0.998231374135\n",
      "113 0.998391040547\n",
      "114 0.99853595267\n",
      "115 0.998680001296\n",
      "116 0.998814728976\n",
      "117 0.998935494868\n",
      "118 0.999049479092\n",
      "119 0.999154001244\n",
      "120 0.999242456764\n",
      "121 0.999326060519\n",
      "122 0.999402249375\n",
      "123 0.999475219817\n",
      "124 0.999540238594\n",
      "125 0.999598798909\n",
      "126 0.99964894889\n",
      "127 0.999694674065\n",
      "128 0.999737248958\n",
      "129 0.999775173196\n",
      "130 0.999808070605\n",
      "131 0.999837877291\n",
      "132 0.999866383782\n",
      "133 0.999892061388\n",
      "134 0.999913402797\n",
      "135 0.999931336994\n",
      "136 0.999947011823\n",
      "137 0.999961505295\n",
      "138 0.99997381249\n",
      "139 0.999984402426\n",
      "140 0.999991323437\n",
      "141 0.999996690655\n",
      "142 0.999999447787\n",
      "143 0.999999804756\n",
      "144 0.999999948138\n",
      "145 0.999999999992\n",
      "146 1.0\n",
      "147 1.0\n",
      "148 1.0\n",
      "149 1.0\n",
      "150 1.0\n",
      "151 1.0\n",
      "152 1.0\n",
      "153 1.0\n",
      "154 1.0\n",
      "155 1.0\n",
      "156 1.0\n",
      "157 1.0\n",
      "158 1.0\n",
      "159 1.0\n",
      "160 1.0\n",
      "161 1.0\n",
      "162 1.0\n",
      "163 1.0\n",
      "164 1.0\n",
      "165 1.0\n",
      "166 1.0\n",
      "167 1.0\n",
      "168 1.0\n",
      "169 1.0\n",
      "170 1.0\n",
      "171 1.0\n",
      "172 1.0\n",
      "173 1.0\n",
      "174 1.0\n",
      "175 1.0\n",
      "176 1.0\n",
      "177 1.0\n",
      "178 1.0\n",
      "179 1.0\n",
      "180 1.0\n",
      "181 1.0\n",
      "182 1.0\n",
      "183 1.0\n",
      "184 1.0\n",
      "185 1.0\n",
      "186 1.0\n",
      "187 1.0\n",
      "188 1.0\n",
      "189 1.0\n",
      "190 1.0\n",
      "191 1.0\n",
      "192 1.0\n",
      "193 1.0\n",
      "194 1.0\n",
      "195 1.0\n",
      "196 1.0\n",
      "197 1.0\n",
      "198 1.0\n"
     ]
    }
   ],
   "source": [
    "pipe_pca = Pipeline([('flatten', Flatten()), ('PCA', PCA())]) \n",
    "pipe_pca.fit(X_train)\n",
    "\n",
    "sns.set()\n",
    "plt.plot(pipe_pca.named_steps['PCA'].explained_variance_ratio_, linewidth=2)\n",
    "plt.show(block=False)\n",
    "\n",
    "cum = pipe_pca.named_steps['PCA'].explained_variance_ratio_.cumsum()\n",
    "plt.plot(cum, linewidth=2)\n",
    "plt.show(block=False)\n",
    "for i in range(len(cum)):\n",
    "    print(i+1, cum[i])"
   ]
  },
  {
   "cell_type": "markdown",
   "metadata": {},
   "source": [
    "100 or 80?"
   ]
  },
  {
   "cell_type": "code",
   "execution_count": 33,
   "metadata": {},
   "outputs": [
    {
     "name": "stdout",
     "output_type": "stream",
     "text": [
      "accuracy =  1.0\n",
      "col_0    /    0    1    2    3    4    5    6    7    8    9    :    All\n",
      "row_0                                                                   \n",
      "/      885    0    0    0    0    0    0    0    0    0    0    0    885\n",
      "0        0  885    0    0    0    0    0    0    0    0    0    0    885\n",
      "1        0    0  885    0    0    0    0    0    0    0    0    0    885\n",
      "2        0    0    0  885    0    0    0    0    0    0    0    0    885\n",
      "3        0    0    0    0  885    0    0    0    0    0    0    0    885\n",
      "4        0    0    0    0    0  885    0    0    0    0    0    0    885\n",
      "5        0    0    0    0    0    0  885    0    0    0    0    0    885\n",
      "6        0    0    0    0    0    0    0  885    0    0    0    0    885\n",
      "7        0    0    0    0    0    0    0    0  884    0    0    0    884\n",
      "8        0    0    0    0    0    0    0    0    0  590    0    0    590\n",
      "9        0    0    0    0    0    0    0    0    0    0  884    0    884\n",
      ":        0    0    0    0    0    0    0    0    0    0    0  590    590\n",
      "All    885  885  885  885  885  885  885  885  884  590  884  590  10028\n",
      "accuracy =  1.0\n",
      "col_0  /  0  1  2  3  4  5  6  7  8  9  :  All\n",
      "row_0                                         \n",
      "/      3  0  0  0  0  0  0  0  0  0  0  0    3\n",
      "0      0  3  0  0  0  0  0  0  0  0  0  0    3\n",
      "1      0  0  3  0  0  0  0  0  0  0  0  0    3\n",
      "2      0  0  0  3  0  0  0  0  0  0  0  0    3\n",
      "3      0  0  0  0  3  0  0  0  0  0  0  0    3\n",
      "4      0  0  0  0  0  3  0  0  0  0  0  0    3\n",
      "5      0  0  0  0  0  0  3  0  0  0  0  0    3\n",
      "6      0  0  0  0  0  0  0  3  0  0  0  0    3\n",
      "7      0  0  0  0  0  0  0  0  3  0  0  0    3\n",
      "8      0  0  0  0  0  0  0  0  0  2  0  0    2\n",
      "9      0  0  0  0  0  0  0  0  0  0  3  0    3\n",
      ":      0  0  0  0  0  0  0  0  0  0  0  2    2\n",
      "All    3  3  3  3  3  3  3  3  3  2  3  2   34\n"
     ]
    },
    {
     "data": {
      "text/plain": [
       "array(['/', '0', '1', '2', '3', '4', '5', '6', '7', '8', '9', ':'], \n",
       "      dtype='<U1')"
      ]
     },
     "execution_count": 33,
     "metadata": {},
     "output_type": "execute_result"
    }
   ],
   "source": [
    "pipe_mlp = Pipeline([\n",
    "    ('flatten', Flatten()), ('PCA', PCA(n_components=80)), ('MLP', MLPClassifier())\n",
    "]) \n",
    "pipe_mlp.fit(X_train, Y_train)\n",
    "diagnosis(pipe_mlp, X_test, Y_test)\n",
    "diagnosis(pipe_mlp, X_in2, Y_in2)\n",
    "\n",
    "classes = pipe_mlp.named_steps['MLP'].classes_\n",
    "classes"
   ]
  },
  {
   "cell_type": "code",
   "execution_count": 34,
   "metadata": {},
   "outputs": [
    {
     "name": "stdout",
     "output_type": "stream",
     "text": [
      "508 score on test = 0.165436777024 score on original = 0.235294117647\n",
      "DONE!\n"
     ]
    }
   ],
   "source": [
    "np.random.seed(87)\n",
    "\n",
    "\n",
    "# create data prep pipeline and\n",
    "# fit pca before learning\n",
    "# this way, we can fix the features to pass to MLP\n",
    "# if we use incrementalPCA and fit online, then the MLP learning would \n",
    "# mess up since there is no guarantee that PCA component i now is the \n",
    "# same as the component i in the next fitted PCA\n",
    "pca = PCA(n_components=80)\n",
    "pipe_prep = Pipeline([\n",
    "    ('flatten', Flatten()), \n",
    "    ('PCA', pca)\n",
    "])\n",
    "pipe_prep.fit(X_train)\n",
    "\n",
    "model = MLPClassifier((100,100,100), alpha=0.01, warm_start=True)\n",
    "pipe_pred = Pipeline([\n",
    "    ('prep', pipe_prep),\n",
    "    ('MLP', model)\n",
    "])\n",
    "\n",
    "\n",
    "train_gen = ImageDataGenerator(width_shift_range=0.1, height_shift_range=0.1, \n",
    "                               data_format='channels_last', channel_shift_range=0.1)\n",
    "\n",
    "num = 0\n",
    "result = None\n",
    "counter = 0\n",
    "consec_ones = 0\n",
    "#for X_batch,Y_batch in train_gen.flow(np.expand_dims(X_in, axis=4), \n",
    "#                                      Y_in, batch_size=1000):\n",
    "while counter <= 5000: \n",
    "    X_batch,Y_batch = generate_augmented_data(X_in2, Y_in2, 500)\n",
    "    counter += 1\n",
    "    if counter > 5000: break\n",
    "        \n",
    "    model.partial_fit(pipe_prep.transform(X_batch.squeeze()), \n",
    "                      Y_batch, classes)\n",
    "    num += len(Y_batch)\n",
    "    \n",
    "    score_test     = pipe_pred.score(X_test, Y_test)\n",
    "    score_original = pipe_pred.score(X_in2, Y_in2)\n",
    "    tmp = dict(size = [num], score_test = [score_test], \n",
    "               score_original = [score_original])\n",
    "    tmp = pd.DataFrame(tmp)\n",
    "    if result is None:\n",
    "        result = tmp\n",
    "    else:\n",
    "        result = result.append(tmp)\n",
    "    \n",
    "    if counter % 100 == 1:\n",
    "        print(num, 'score on test =', score_test,\n",
    "              'score on original =', score_original)\n",
    "    if score_test == 1.0 and score_original == 1.0:\n",
    "        consec_ones += 1\n",
    "    if consec_ones >= 10:\n",
    "        print('DONE!')\n",
    "        break"
   ]
  },
  {
   "cell_type": "code",
   "execution_count": 35,
   "metadata": {},
   "outputs": [
    {
     "name": "stdout",
     "output_type": "stream",
     "text": [
      "accuracy =  1.0\n",
      "col_0  /  0  1  2  3  4  5  6  7  8  9  :  All\n",
      "row_0                                         \n",
      "/      3  0  0  0  0  0  0  0  0  0  0  0    3\n",
      "0      0  3  0  0  0  0  0  0  0  0  0  0    3\n",
      "1      0  0  3  0  0  0  0  0  0  0  0  0    3\n",
      "2      0  0  0  3  0  0  0  0  0  0  0  0    3\n",
      "3      0  0  0  0  3  0  0  0  0  0  0  0    3\n",
      "4      0  0  0  0  0  3  0  0  0  0  0  0    3\n",
      "5      0  0  0  0  0  0  3  0  0  0  0  0    3\n",
      "6      0  0  0  0  0  0  0  3  0  0  0  0    3\n",
      "7      0  0  0  0  0  0  0  0  3  0  0  0    3\n",
      "8      0  0  0  0  0  0  0  0  0  2  0  0    2\n",
      "9      0  0  0  0  0  0  0  0  0  0  3  0    3\n",
      ":      0  0  0  0  0  0  0  0  0  0  0  2    2\n",
      "All    3  3  3  3  3  3  3  3  3  2  3  2   34\n",
      "accuracy =  1.0\n",
      "col_0    /    0    1    2    3    4    5    6    7    8    9    :    All\n",
      "row_0                                                                   \n",
      "/      885    0    0    0    0    0    0    0    0    0    0    0    885\n",
      "0        0  885    0    0    0    0    0    0    0    0    0    0    885\n",
      "1        0    0  885    0    0    0    0    0    0    0    0    0    885\n",
      "2        0    0    0  885    0    0    0    0    0    0    0    0    885\n",
      "3        0    0    0    0  885    0    0    0    0    0    0    0    885\n",
      "4        0    0    0    0    0  885    0    0    0    0    0    0    885\n",
      "5        0    0    0    0    0    0  885    0    0    0    0    0    885\n",
      "6        0    0    0    0    0    0    0  885    0    0    0    0    885\n",
      "7        0    0    0    0    0    0    0    0  884    0    0    0    884\n",
      "8        0    0    0    0    0    0    0    0    0  590    0    0    590\n",
      "9        0    0    0    0    0    0    0    0    0    0  884    0    884\n",
      ":        0    0    0    0    0    0    0    0    0    0    0  590    590\n",
      "All    885  885  885  885  885  885  885  885  884  590  884  590  10028\n"
     ]
    }
   ],
   "source": [
    "diagnosis(pipe_pred, X_in2, Y_in2)\n",
    "diagnosis(pipe_pred, X_test, Y_test)"
   ]
  },
  {
   "cell_type": "code",
   "execution_count": 36,
   "metadata": {},
   "outputs": [
    {
     "data": {
      "image/png": "[encoded data removed]",
      "text/plain": [
       "<matplotlib.figure.Figure at 0x7fb2bad4bcc0>"
      ]
     },
     "metadata": {},
     "output_type": "display_data"
    }
   ],
   "source": [
    "sns.set()\n",
    "plt.plot(result['size'], result['score_original'], 'b:', label='original')\n",
    "plt.plot(result['size'], result['score_test'], 'r--', label='test') \n",
    "plt.legend()\n",
    "plt.ylabel('accuracy')\n",
    "plt.xlabel('data size')\n",
    "plt.show(block=False)"
   ]
  },
  {
   "cell_type": "code",
   "execution_count": 37,
   "metadata": {},
   "outputs": [
    {
     "data": {
      "text/plain": [
       "['/home/kota/Documents/kgschart/models/caption-ja_pca-mlp-step2-full.pkl']"
      ]
     },
     "execution_count": 37,
     "metadata": {},
     "output_type": "execute_result"
    }
   ],
   "source": [
    "savename = os.path.join(modeldir, 'caption-ja_pca-mlp-step2-full.pkl')\n",
    "pipe = Pipeline([('PCA', pca), ('MLP', model)])\n",
    "joblib.dump(pipe, savename)"
   ]
  },
  {
   "cell_type": "markdown",
   "metadata": {},
   "source": [
    "It seems that the second step (classification among relevant letters) is much easier than that first step (classification between relevant vs non-relevant letters).  I guess the main reason is similarity between `S` and `5`, `Z` and `2`, etc.  \n",
    "Also, since we will have a lot more unseen letters in the practice, some care will be needed.\n",
    "One idea is that, for example, if a letter is between two or three consecutive relevant letter, we assume the letter is also relevant.  With this type of aid to create consecutive relevant letters, the second step classification will not fail almost surely. "
   ]
  },
  {
   "cell_type": "markdown",
   "metadata": {},
   "source": [
    "Finally, save the input shape as the reference for later application."
   ]
  },
  {
   "cell_type": "code",
   "execution_count": 38,
   "metadata": {
    "collapsed": true
   },
   "outputs": [],
   "source": [
    "with open(os.path.join(modeldir, 'caption-ja-config.json'), 'w') as file:\n",
    "    json.dump(dict(input_shape=X_in.shape[1:]), file)"
   ]
  },
  {
   "cell_type": "code",
   "execution_count": null,
   "metadata": {
    "collapsed": true
   },
   "outputs": [],
   "source": []
  }
 ],
 "metadata": {
  "anaconda-cloud": {},
  "kernelspec": {
   "display_name": "Python [conda env:kgschart]",
   "language": "python",
   "name": "conda-env-kgschart-py"
  },
  "language_info": {
   "codemirror_mode": {
    "name": "ipython",
    "version": 3
   },
   "file_extension": ".py",
   "mimetype": "text/x-python",
   "name": "python",
   "nbconvert_exporter": "python",
   "pygments_lexer": "ipython3",
   "version": "3.5.2"
  }
 },
 "nbformat": 4,
 "nbformat_minor": 2
}
