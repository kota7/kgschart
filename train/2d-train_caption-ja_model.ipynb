{
 "cells": [
  {
   "cell_type": "markdown",
   "metadata": {},
   "source": [
    "# Train Caption-ja letter classifier\n",
    "\n",
    "Goal: **Classify letters into digits, :, /, ~ and others**\n",
    "\n",
    "Let relevant letters = `{0-9, :, /, ~}`\n",
    "\n",
    "Steps\n",
    "\n",
    "\n",
    "1. Remove background from all input data\n",
    "\n",
    "2. Get the maximum size of relevant letters -> `(nr, nc)`\n",
    "\n",
    "3. filter out the data with size larger than `(nr+4, nc+4)`\n",
    "\n",
    "4. Pad all remaing data to the size `(nr+4, nc+4)`\n",
    "\n",
    "5. Train classification model on the created data\n",
    "  \n",
    "  A. One-step classifier\n",
    "  \n",
    "  B. Two-step classifer\n",
    "  \n",
    "    - Binary classification between relevant vs not\n",
    "  \n",
    "    - Multiclass classification among relevant letters"
   ]
  },
  {
   "cell_type": "code",
   "execution_count": 451,
   "metadata": {},
   "outputs": [],
   "source": [
    "import os\n",
    "import sys\n",
    "import json\n",
    "import numpy as np\n",
    "import pandas as pd\n",
    "from matplotlib import pyplot as plt\n",
    "import seaborn as sns\n",
    "from sklearn.externals import joblib\n",
    "from sklearn.svm import SVC\n",
    "from sklearn.decomposition import PCA\n",
    "from sklearn.neural_network import MLPClassifier\n",
    "from sklearn.linear_model import LogisticRegression\n",
    "from sklearn.pipeline import Pipeline\n",
    "from sklearn.metrics import classification_report\n",
    "from sklearn.model_selection import GridSearchCV\n",
    "from keras.preprocessing.image import ImageDataGenerator"
   ]
  },
  {
   "cell_type": "code",
   "execution_count": 415,
   "metadata": {
    "collapsed": true
   },
   "outputs": [],
   "source": [
    "proj_root = os.path.abspath(os.path.join('../')) \n",
    "datadir = os.path.join(proj_root, 'data/caption/')\n",
    "modeldir = os.path.join(proj_root, 'models/')\n",
    "arcdir = os.path.join(proj_root, 'models/archive')\n",
    "\n",
    "if not os.path.isdir(datadir): \n",
    "    print('data directory not found', os.path.abspath(datadir))\n",
    "    raise\n",
    "if not os.path.isdir(modeldir): os.path.makedirs(modeldir)\n",
    "if not os.path.isdir(modeldir): os.path.makedirs(arcdir)"
   ]
  },
  {
   "cell_type": "code",
   "execution_count": 416,
   "metadata": {
    "collapsed": true
   },
   "outputs": [],
   "source": [
    "module_path = os.path.join(proj_root, 'kgschart')\n",
    "sys.path.append(module_path)\n",
    "from utils import pad_image"
   ]
  },
  {
   "cell_type": "code",
   "execution_count": 417,
   "metadata": {},
   "outputs": [],
   "source": [
    "X = np.load(os.path.join(datadir, 'X-ja.npy'))\n",
    "Y = np.load(os.path.join(datadir, 'Y-ja.npy'))"
   ]
  },
  {
   "cell_type": "code",
   "execution_count": 418,
   "metadata": {},
   "outputs": [
    {
     "data": {
      "image/png": "[encoded data removed]",
      "text/plain": [
       "<matplotlib.figure.Figure at 0x7fb89f95fd30>"
      ]
     },
     "metadata": {},
     "output_type": "display_data"
    }
   ],
   "source": [
    "# convenient functions\n",
    "def random_plot(X, Y, predicted=None):\n",
    "    sns.set_style('white')\n",
    "    indices = np.random.choice(len(Y), min(8, len(Y)))\n",
    "    count = 0\n",
    "    for i in indices:\n",
    "        count += 1\n",
    "        ax = plt.subplot(2, 4, count)\n",
    "        ax.imshow(X[i], cmap='gray')\n",
    "        text = Y[i] if predicted is None else 'tr: %s, pr: %s' % (Y[i], predicted[i])\n",
    "        ax.text(0, 0, text, bbox={'facecolor':\"wheat\"})\n",
    "    plt.show(block=False)\n",
    "\n",
    "random_plot(X, Y)\n",
    "\n",
    "\n",
    "def compare_plot(X1, X2):\n",
    "    sns.set_style('white')\n",
    "    indices = range(3) if len(X1) <= 3 else np.random.choice(len(X1), 3)\n",
    "    count = 0\n",
    "    for i in indices:\n",
    "        count += 1\n",
    "        plt.subplot(3, 2, count)\n",
    "        plt.imshow(X1[i], cmap='gray')\n",
    "        count += 1\n",
    "        plt.subplot(3, 2, count)\n",
    "        plt.imshow(X2[i], cmap='gray')\n",
    "    plt.show(block=False)\n",
    "\n",
    "def generate_augmented_data(X, Y, target_size, seed=None):\n",
    "    datagen = ImageDataGenerator(width_shift_range=0.1, height_shift_range=0.1, \n",
    "                                 data_format='channels_last', channel_shift_range=0.1)\n",
    "    out_X = None\n",
    "    out_Y = None\n",
    "    for x,y in datagen.flow(np.expand_dims(X, axis=4), Y, seed=seed):\n",
    "        if out_X is None:\n",
    "            out_X = x\n",
    "            out_Y = y\n",
    "        else:\n",
    "            out_X = np.vstack([out_X, x])\n",
    "            out_Y = np.concatenate([out_Y, y])\n",
    "        if len(out_Y) >= target_size: \n",
    "            break\n",
    "    out_X = out_X.squeeze()\n",
    "    return out_X, out_Y\n",
    "\n",
    "\n",
    "def diagnosis(fit, X, Y):\n",
    "    print('accuracy = ', fit.score(X, Y))\n",
    "    pred = fit.predict(X)\n",
    "    wrong = (Y != pred)\n",
    "    if np.any(wrong):\n",
    "        random_plot(X[wrong], Y[wrong], pred[wrong])\n",
    "    #print(classification_report(Y, pred))\n",
    "    print(pd.crosstab(pd.Series(Y), pd.Series(pred), margins=True))\n",
    "\n"
   ]
  },
  {
   "cell_type": "markdown",
   "metadata": {},
   "source": [
    "## Step 1 Remove background from all input data"
   ]
  },
  {
   "cell_type": "code",
   "execution_count": 419,
   "metadata": {},
   "outputs": [
    {
     "data": {
      "image/png": "[encoded data removed]",
      "text/plain": [
       "<matplotlib.figure.Figure at 0x7fb89f602d30>"
      ]
     },
     "metadata": {},
     "output_type": "display_data"
    }
   ],
   "source": [
    "def remove_background(x, bg = 1.0):\n",
    "    \"\"\"\n",
    "    from a image array of size (nrow, ncol),\n",
    "    remove all rows and cols where values are all bg\n",
    "    \"\"\"\n",
    "    not_bg = (x != bg)\n",
    "    non_bg_rows = np.any(not_bg, axis=1)\n",
    "    non_bg_cols = np.any(not_bg, axis=0)\n",
    "    \n",
    "    tmp = non_bg_rows.nonzero()[0]\n",
    "    if len(tmp) == 0: return None\n",
    "    i1 = tmp[0]\n",
    "    i2 = tmp[-1] + 1\n",
    "    \n",
    "    tmp = non_bg_cols.nonzero()[0]\n",
    "    if len(tmp) == 0: return None\n",
    "    j1 = tmp[0]\n",
    "    j2 = tmp[-1] + 1\n",
    "    \n",
    "    return x[i1:i2, j1:j2]\n",
    "\n",
    "X_nobg = [remove_background(x) for x in X]\n",
    "compare_plot(X, X_nobg)"
   ]
  },
  {
   "cell_type": "markdown",
   "metadata": {},
   "source": [
    "## Step 2 Get the maximum size of relevant letters -> (nr, nc)"
   ]
  },
  {
   "cell_type": "code",
   "execution_count": 420,
   "metadata": {},
   "outputs": [
    {
     "name": "stdout",
     "output_type": "stream",
     "text": [
      "13 7\n"
     ]
    }
   ],
   "source": [
    "max_rows = 0\n",
    "max_cols = 0\n",
    "\n",
    "relevant_letters = [s for s in '0123456789/:?']\n",
    "for i in range(len(Y)):\n",
    "    if Y[i] in relevant_letters:\n",
    "        max_rows = max(X_nobg[i].shape[0], max_rows)\n",
    "        max_cols = max(X_nobg[i].shape[1], max_cols)\n",
    "print(max_rows, max_cols)"
   ]
  },
  {
   "cell_type": "markdown",
   "metadata": {},
   "source": [
    "## Step 3 filter out the data with size larger than (nr+4, nc+4)"
   ]
  },
  {
   "cell_type": "code",
   "execution_count": 421,
   "metadata": {},
   "outputs": [
    {
     "name": "stdout",
     "output_type": "stream",
     "text": [
      "target shape = (17, 11)\n",
      "total: 109, included: 105, out: 4\n",
      "non-included samples\n"
     ]
    },
    {
     "data": {
      "image/png": "[encoded data removed]",
      "text/plain": [
       "<matplotlib.figure.Figure at 0x7fb89f6ca390>"
      ]
     },
     "metadata": {},
     "output_type": "display_data"
    },
    {
     "name": "stdout",
     "output_type": "stream",
     "text": [
      "included samples\n"
     ]
    },
    {
     "data": {
      "image/png": "[encoded data removed]",
      "text/plain": [
       "<matplotlib.figure.Figure at 0x7fb89f923400>"
      ]
     },
     "metadata": {},
     "output_type": "display_data"
    }
   ],
   "source": [
    "target_shape = (max_rows+4, max_cols+4)\n",
    "print(\"target shape =\", target_shape)\n",
    "X_out = []\n",
    "Y_out = []\n",
    "X_in = []\n",
    "Y_in = []\n",
    "for i in range(len(Y)):\n",
    "    #print(i, X_nobg[i].shape)\n",
    "    if X_nobg[i].shape[0] <= target_shape[0] and X_nobg[i].shape[1] <= target_shape[1]:\n",
    "        X_in.append(X_nobg[i])\n",
    "        Y_in.append(Y[i])\n",
    "    else:\n",
    "        X_out.append(X_nobg[i])\n",
    "        Y_out.append(Y[i])\n",
    "print('total: %d, included: %d, out: %d' % (len(Y), len(Y_in), len(Y_out)))\n",
    "\n",
    "print('non-included samples')\n",
    "random_plot(X_out, Y_out)\n",
    "\n",
    "print('included samples')\n",
    "random_plot(X_in, Y_in)\n"
   ]
  },
  {
   "cell_type": "markdown",
   "metadata": {},
   "source": [
    "## Step 4 Pad all remaing data to the size (nr+4, nc+4)"
   ]
  },
  {
   "cell_type": "code",
   "execution_count": 422,
   "metadata": {},
   "outputs": [
    {
     "data": {
      "image/png": "[encoded data removed]",
      "text/plain": [
       "<matplotlib.figure.Figure at 0x7fb89c0e46a0>"
      ]
     },
     "metadata": {},
     "output_type": "display_data"
    },
    {
     "data": {
      "text/plain": [
       "?    69\n",
       "5     5\n",
       "6     3\n",
       "4     3\n",
       "9     3\n",
       "2     3\n",
       "1     3\n",
       "/     3\n",
       "7     3\n",
       "3     3\n",
       "0     3\n",
       "8     2\n",
       ":     2\n",
       "dtype: int64"
      ]
     },
     "execution_count": 422,
     "metadata": {},
     "output_type": "execute_result"
    }
   ],
   "source": [
    "X_in = [pad_image(x, target_shape[0], target_shape[1], 1.0) for x in X_in]\n",
    "X_in = [np.expand_dims(x, axis=0) for x in X_in]\n",
    "X_in = np.vstack(X_in)\n",
    "\n",
    "Y_in_true = np.array(Y_in)\n",
    "Y_in = [y if y in relevant_letters else '?' for y in Y_in]\n",
    "Y_in = np.array(Y_in)\n",
    "\n",
    "random_plot(X_in, Y_in)\n",
    "pd.Series(Y_in).value_counts()"
   ]
  },
  {
   "cell_type": "markdown",
   "metadata": {},
   "source": [
    "## Step 5 Train classification model"
   ]
  },
  {
   "cell_type": "code",
   "execution_count": 423,
   "metadata": {},
   "outputs": [],
   "source": [
    "# generate test data from image data generator\n",
    "X_test, Y_test = generate_augmented_data(X_in, Y_in, 10000, seed = 8)\n",
    "\n",
    "# generate train data too\n",
    "X_train, Y_train = generate_augmented_data(X_in, Y_in, 5000, seed = 7)"
   ]
  },
  {
   "cell_type": "code",
   "execution_count": 424,
   "metadata": {},
   "outputs": [
    {
     "name": "stdout",
     "output_type": "stream",
     "text": [
      "accuracy on original set =  0.914285714286\n",
      "accuracy =  0.914285714286\n"
     ]
    },
    {
     "data": {
      "image/png": "[encoded data removed]",
      "text/plain": [
       "<matplotlib.figure.Figure at 0x7fb89f84cd30>"
      ]
     },
     "metadata": {},
     "output_type": "display_data"
    },
    {
     "name": "stdout",
     "output_type": "stream",
     "text": [
      "col_0  /  0  1  2  3  4  5  6  7   ?  All\n",
      "row_0                                    \n",
      "/      3  0  0  0  0  0  0  0  0   0    3\n",
      "0      0  3  0  0  0  0  0  0  0   0    3\n",
      "1      0  0  3  0  0  0  0  0  0   0    3\n",
      "2      0  0  0  3  0  0  0  0  0   0    3\n",
      "3      0  0  0  0  3  0  0  0  0   0    3\n",
      "4      0  0  0  0  0  3  0  0  0   0    3\n",
      "5      0  0  0  0  0  0  5  0  0   0    5\n",
      "6      0  0  0  0  0  0  0  3  0   0    3\n",
      "7      0  0  0  0  0  0  0  0  3   0    3\n",
      "8      0  0  0  0  0  0  0  0  0   2    2\n",
      "9      0  0  0  0  0  0  0  0  0   3    3\n",
      ":      0  0  0  0  0  0  0  0  0   2    2\n",
      "?      0  0  0  1  0  0  1  0  0  67   69\n",
      "All    3  3  3  4  3  3  6  3  3  74  105\n",
      "accuracy =  0.806035774958\n"
     ]
    },
    {
     "data": {
      "image/png": "[encoded data removed]",
      "text/plain": [
       "<matplotlib.figure.Figure at 0x7fb8b06fb9e8>"
      ]
     },
     "metadata": {},
     "output_type": "display_data"
    },
    {
     "name": "stdout",
     "output_type": "stream",
     "text": [
      "col_0    /    0    1    2    3    4    5   6    7   9     ?    All\n",
      "row_0                                                             \n",
      "/      198    0    0    0    0    0    0   0    0   0    88    286\n",
      "0        0  112    0    0    0    0    0   0    0   0   175    287\n",
      "1        0    0  106    0    0    0    0   0    0   0   180    286\n",
      "2        0    0    0  193    0    0    0   0    0   0    94    287\n",
      "3        0    0    0    0  152    0    0   0    0   0   133    285\n",
      "4        0    0    0    0    0  154    0   0    0   0   132    286\n",
      "5        0    0    0    0    0    0  370   0    0   0   107    477\n",
      "6        0    0    0    0    0    0    0  89    0   0   197    286\n",
      "7        0    0    0   23    0    0    0   0  189   0    73    285\n",
      "8        0    0    0    0    0    0    0   0    0   0   190    190\n",
      "9        0    0    0    0    0    0    0   0    0  58   228    286\n",
      ":        0    0    0    0    0    0    0   0    0   0   190    190\n",
      "?        0    0    0   50    0    0   80   0    1   0  6445   6576\n",
      "All    198  112  106  266  152  154  450  89  190  58  8232  10007\n"
     ]
    }
   ],
   "source": [
    "# benchmark fit with support vector machine\n",
    "\n",
    "# used for data preprocess\n",
    "class Flatten:\n",
    "    def __init__(self):\n",
    "        pass\n",
    "    def fit(self, X, y=None):\n",
    "        return self\n",
    "    def transform(self, X, y=None):\n",
    "        return X.reshape(X.shape[0], -1)\n",
    "    def get_params(self, deep=True):\n",
    "        return {}\n",
    "\n",
    "    \n",
    "pipe_svm = Pipeline([\n",
    "    ('flatten', Flatten()), ('SVM', SVC())\n",
    "])    \n",
    "pipe_svm.fit(X_train, Y_train)\n",
    "\n",
    "\n",
    "print('accuracy on original set = ', pipe_svm.score(X_in, Y_in))\n",
    "diagnosis(pipe_svm, X_in, Y_in)\n",
    "diagnosis(pipe_svm, X_test, Y_test)"
   ]
  },
  {
   "cell_type": "code",
   "execution_count": 425,
   "metadata": {},
   "outputs": [
    {
     "data": {
      "text/plain": [
       "array(['/', '0', '1', '2', '3', '4', '5', '6', '7', '8', '9', ':', '?'], \n",
       "      dtype='<U1')"
      ]
     },
     "execution_count": 425,
     "metadata": {},
     "output_type": "execute_result"
    }
   ],
   "source": [
    "pipe_svm.classes_"
   ]
  },
  {
   "cell_type": "markdown",
   "metadata": {},
   "source": [
    "SVM is not so bad! Just a naive fit achieves 80% accuracy!"
   ]
  },
  {
   "cell_type": "markdown",
   "metadata": {},
   "source": [
    "### Consider Dimensionality reduction with PCA"
   ]
  },
  {
   "cell_type": "code",
   "execution_count": 426,
   "metadata": {},
   "outputs": [
    {
     "data": {
      "image/png": "[encoded data removed]",
      "text/plain": [
       "<matplotlib.figure.Figure at 0x7fb89637f9b0>"
      ]
     },
     "metadata": {},
     "output_type": "display_data"
    },
    {
     "data": {
      "image/png": "[encoded data removed]",
      "text/plain": [
       "<matplotlib.figure.Figure at 0x7fb896369f28>"
      ]
     },
     "metadata": {},
     "output_type": "display_data"
    },
    {
     "name": "stdout",
     "output_type": "stream",
     "text": [
      "1 0.0919845896003\n",
      "2 0.170014808089\n",
      "3 0.232161870298\n",
      "4 0.286532549442\n",
      "5 0.335820478888\n",
      "6 0.380363710189\n",
      "7 0.418155999135\n",
      "8 0.454800000546\n",
      "9 0.486029070867\n",
      "10 0.514755454056\n",
      "11 0.54152044802\n",
      "12 0.564966900914\n",
      "13 0.585530150548\n",
      "14 0.605929768564\n",
      "15 0.623830884\n",
      "16 0.641203422363\n",
      "17 0.658001840316\n",
      "18 0.673604707512\n",
      "19 0.688911294758\n",
      "20 0.703004768904\n",
      "21 0.715880084054\n",
      "22 0.728076139441\n",
      "23 0.739464102616\n",
      "24 0.750515461851\n",
      "25 0.760957691217\n",
      "26 0.770795168029\n",
      "27 0.780241665348\n",
      "28 0.788963242561\n",
      "29 0.797343932676\n",
      "30 0.80528139722\n",
      "31 0.813022255111\n",
      "32 0.82033633473\n",
      "33 0.827365187108\n",
      "34 0.834294155162\n",
      "35 0.84067797574\n",
      "36 0.846936547855\n",
      "37 0.852740790815\n",
      "38 0.858422169104\n",
      "39 0.864019337064\n",
      "40 0.869182755726\n",
      "41 0.874290010889\n",
      "42 0.878893214756\n",
      "43 0.883200702658\n",
      "44 0.887380731814\n",
      "45 0.891447368985\n",
      "46 0.895305953298\n",
      "47 0.899087068445\n",
      "48 0.902681469346\n",
      "49 0.906173759315\n",
      "50 0.909620797881\n",
      "51 0.912843055931\n",
      "52 0.915933562405\n",
      "53 0.91894470535\n",
      "54 0.92185447424\n",
      "55 0.924662587005\n",
      "56 0.927332842207\n",
      "57 0.929908526333\n",
      "58 0.932411085486\n",
      "59 0.93486026684\n",
      "60 0.937194573177\n",
      "61 0.939387824651\n",
      "62 0.941524550257\n",
      "63 0.943581055888\n",
      "64 0.945540235352\n",
      "65 0.947480077033\n",
      "66 0.949370852764\n",
      "67 0.951195448074\n",
      "68 0.953002875387\n",
      "69 0.954768152756\n",
      "70 0.956441347236\n",
      "71 0.957978041735\n",
      "72 0.959497427627\n",
      "73 0.960982128507\n",
      "74 0.962450893868\n",
      "75 0.963867542314\n",
      "76 0.965206456046\n",
      "77 0.96650832684\n",
      "78 0.967776850785\n",
      "79 0.969007693797\n",
      "80 0.970187900091\n",
      "81 0.971333861344\n",
      "82 0.972448248616\n",
      "83 0.973537592438\n",
      "84 0.974584431941\n",
      "85 0.975608839146\n",
      "86 0.976594725844\n",
      "87 0.977552633155\n",
      "88 0.978484505696\n",
      "89 0.979383539482\n",
      "90 0.980203541844\n",
      "91 0.981009588474\n",
      "92 0.981794537738\n",
      "93 0.982552918144\n",
      "94 0.983278676292\n",
      "95 0.983993379057\n",
      "96 0.984690464084\n",
      "97 0.985354788554\n",
      "98 0.986000335317\n",
      "99 0.986625708264\n",
      "100 0.987218481908\n",
      "101 0.987792596181\n",
      "102 0.988348644774\n",
      "103 0.988882792801\n",
      "104 0.989400945588\n",
      "105 0.989905753009\n",
      "106 0.990398307854\n",
      "107 0.99086584747\n",
      "108 0.991307668116\n",
      "109 0.991730588717\n",
      "110 0.992128273534\n",
      "111 0.992525129415\n",
      "112 0.992896685923\n",
      "113 0.993261668557\n",
      "114 0.993601682254\n",
      "115 0.993935801872\n",
      "116 0.994254325772\n",
      "117 0.994567096804\n",
      "118 0.994868353097\n",
      "119 0.995153589609\n",
      "120 0.995428574523\n",
      "121 0.995688748974\n",
      "122 0.99593899436\n",
      "123 0.996175612439\n",
      "124 0.996406559089\n",
      "125 0.996624728602\n",
      "126 0.996840693261\n",
      "127 0.997039177022\n",
      "128 0.997230028923\n",
      "129 0.997408325037\n",
      "130 0.997579802646\n",
      "131 0.997745990889\n",
      "132 0.997903316514\n",
      "133 0.998050980981\n",
      "134 0.998187667335\n",
      "135 0.998318827158\n",
      "136 0.998443559462\n",
      "137 0.998556085975\n",
      "138 0.998666622322\n",
      "139 0.998769235319\n",
      "140 0.998870664381\n",
      "141 0.998963882655\n",
      "142 0.999044798752\n",
      "143 0.99912055729\n",
      "144 0.999190268603\n",
      "145 0.999258427663\n",
      "146 0.99932073262\n",
      "147 0.999380663161\n",
      "148 0.999436601717\n",
      "149 0.999491350625\n",
      "150 0.999539188058\n",
      "151 0.999582957305\n",
      "152 0.999625852941\n",
      "153 0.999665257026\n",
      "154 0.999699932528\n",
      "155 0.999733897416\n",
      "156 0.999764588634\n",
      "157 0.999794646226\n",
      "158 0.999823401828\n",
      "159 0.99984995445\n",
      "160 0.999873898717\n",
      "161 0.999894657265\n",
      "162 0.999911138747\n",
      "163 0.999926816596\n",
      "164 0.999940949179\n",
      "165 0.999953516496\n",
      "166 0.999963147543\n",
      "167 0.999971690777\n",
      "168 0.999979391117\n",
      "169 0.99998608299\n",
      "170 0.99998990808\n",
      "171 0.999993180814\n",
      "172 0.999996312977\n",
      "173 0.999998320898\n",
      "174 0.999999217848\n",
      "175 0.99999988136\n",
      "176 0.999999999835\n",
      "177 1.0\n",
      "178 1.0\n",
      "179 1.0\n",
      "180 1.0\n",
      "181 1.0\n",
      "182 1.0\n",
      "183 1.0\n",
      "184 1.0\n",
      "185 1.0\n",
      "186 1.0\n",
      "187 1.0\n"
     ]
    }
   ],
   "source": [
    "pipe_pca = Pipeline([\n",
    "    ('flatten', Flatten()), \n",
    "    ('PCA', PCA())\n",
    "])\n",
    "\n",
    "pipe_pca.fit(X_train)\n",
    "sns.set()\n",
    "plt.plot(pipe_pca.named_steps['PCA'].explained_variance_ratio_, linewidth=2)\n",
    "plt.show(block=False)\n",
    "\n",
    "cum = pipe_pca.named_steps['PCA'].explained_variance_ratio_.cumsum()\n",
    "plt.plot(cum, linewidth=2)\n",
    "plt.show(block=False)\n",
    "for i in range(len(cum)):\n",
    "    print(i+1, cum[i])"
   ]
  },
  {
   "cell_type": "markdown",
   "metadata": {},
   "source": [
    "Maybe 100?"
   ]
  },
  {
   "cell_type": "markdown",
   "metadata": {},
   "source": [
    "### Fit MLP"
   ]
  },
  {
   "cell_type": "code",
   "execution_count": 427,
   "metadata": {},
   "outputs": [
    {
     "name": "stdout",
     "output_type": "stream",
     "text": [
      "accuracy on original set =  0.990476190476\n",
      "accuracy =  0.992805036474\n"
     ]
    },
    {
     "data": {
      "image/png": "[encoded data removed]",
      "text/plain": [
       "<matplotlib.figure.Figure at 0x7fb8963293c8>"
      ]
     },
     "metadata": {},
     "output_type": "display_data"
    },
    {
     "name": "stdout",
     "output_type": "stream",
     "text": [
      "col_0    /    0    1    2    3    4    5    6    7    8    9    :     ?    All\n",
      "row_0                                                                         \n",
      "/      285    0    0    0    0    0    0    0    0    0    0    1     0    286\n",
      "0        0  284    0    0    0    0    0    0    0    0    0    0     3    287\n",
      "1        0    0  285    0    0    0    0    0    0    0    0    0     1    286\n",
      "2        0    0    0  286    1    0    0    0    0    0    0    0     0    287\n",
      "3        0    0    1    0  283    0    0    0    0    0    0    0     1    285\n",
      "4        0    0    0    0    0  286    0    0    0    0    0    0     0    286\n",
      "5        0    0    0    0    0    0  477    0    0    0    0    0     0    477\n",
      "6        0    0    0    0    0    0    0  283    0    0    0    0     3    286\n",
      "7        0    0    0    0    0    0    0    0  284    0    0    1     0    285\n",
      "8        0    0    0    0    0    0    0    0    0  181    0    0     9    190\n",
      "9        0    0    0    0    0    0    0    0    0    0  286    0     0    286\n",
      ":        0    0    0    0    0    0    0    0    0    0    0  176    14    190\n",
      "?        1    1    0   12    0    0   11    2    4    5    0    1  6539   6576\n",
      "All    286  285  286  298  284  286  488  285  288  186  286  179  6570  10007\n"
     ]
    }
   ],
   "source": [
    "pipe_mlp = Pipeline([\n",
    "    ('flatten', Flatten()), \n",
    "    ('PCA', PCA(n_components=100)),\n",
    "    ('MLP', MLPClassifier((100,100,100), alpha=0.01))\n",
    "])    \n",
    "\n",
    "pipe_mlp.fit(X_train, Y_train)\n",
    "\n",
    "\n",
    "print('accuracy on original set = ', pipe_mlp.score(X_in, Y_in))\n",
    "diagnosis(pipe_mlp, X_test, Y_test)"
   ]
  },
  {
   "cell_type": "markdown",
   "metadata": {},
   "source": [
    "MLP is just amazing... We already have 99% accuracy..."
   ]
  },
  {
   "cell_type": "markdown",
   "metadata": {},
   "source": [
    "#### Grid search for finding good configuration"
   ]
  },
  {
   "cell_type": "code",
   "execution_count": 428,
   "metadata": {},
   "outputs": [
    {
     "name": "stdout",
     "output_type": "stream",
     "text": [
      "Fitting 5 folds for each of 36 candidates, totalling 180 fits\n",
      "[CV] MLP__hidden_layer_sizes=(100,), MLP__alpha=0.0001, PCA__n_components=75 \n",
      "[CV] MLP__hidden_layer_sizes=(100,), MLP__alpha=0.0001, PCA__n_components=75 \n",
      "[CV]  MLP__hidden_layer_sizes=(100,), MLP__alpha=0.0001, PCA__n_components=75, score=0.994054, total=   7.8s\n",
      "[CV] MLP__hidden_layer_sizes=(100,), MLP__alpha=0.0001, PCA__n_components=75 \n",
      "[CV]  MLP__hidden_layer_sizes=(100,), MLP__alpha=0.0001, PCA__n_components=75, score=0.988095, total=  10.5s\n",
      "[CV] MLP__hidden_layer_sizes=(100,), MLP__alpha=0.0001, PCA__n_components=75 \n",
      "[CV]  MLP__hidden_layer_sizes=(100,), MLP__alpha=0.0001, PCA__n_components=75, score=0.993056, total=   8.5s\n",
      "[CV] MLP__hidden_layer_sizes=(100,), MLP__alpha=0.0001, PCA__n_components=75 \n",
      "[CV]  MLP__hidden_layer_sizes=(100,), MLP__alpha=0.0001, PCA__n_components=75, score=0.992056, total=   9.5s\n",
      "[CV] MLP__hidden_layer_sizes=(100,), MLP__alpha=0.0001, PCA__n_components=100 \n",
      "[CV]  MLP__hidden_layer_sizes=(100,), MLP__alpha=0.0001, PCA__n_components=75, score=0.992993, total=   9.0s\n",
      "[CV] MLP__hidden_layer_sizes=(100,), MLP__alpha=0.0001, PCA__n_components=100 \n",
      "[CV]  MLP__hidden_layer_sizes=(100,), MLP__alpha=0.0001, PCA__n_components=100, score=0.993062, total=  10.7s\n",
      "[CV] MLP__hidden_layer_sizes=(100,), MLP__alpha=0.0001, PCA__n_components=100 \n",
      "[CV]  MLP__hidden_layer_sizes=(100,), MLP__alpha=0.0001, PCA__n_components=100, score=0.986111, total=   9.2s\n",
      "[CV] MLP__hidden_layer_sizes=(100,), MLP__alpha=0.0001, PCA__n_components=100 \n",
      "[CV]  MLP__hidden_layer_sizes=(100,), MLP__alpha=0.0001, PCA__n_components=100, score=0.993056, total=   7.7s\n",
      "[CV] MLP__hidden_layer_sizes=(100,), MLP__alpha=0.0001, PCA__n_components=100 \n",
      "[CV]  MLP__hidden_layer_sizes=(100,), MLP__alpha=0.0001, PCA__n_components=100, score=0.991063, total=   9.0s\n",
      "[CV] MLP__hidden_layer_sizes=(100,), MLP__alpha=0.0001, PCA__n_components=125 \n",
      "[CV]  MLP__hidden_layer_sizes=(100,), MLP__alpha=0.0001, PCA__n_components=100, score=0.993994, total=   9.8s\n",
      "[CV] MLP__hidden_layer_sizes=(100,), MLP__alpha=0.0001, PCA__n_components=125 \n",
      "[CV]  MLP__hidden_layer_sizes=(100,), MLP__alpha=0.0001, PCA__n_components=125, score=0.990089, total=   8.5s\n",
      "[CV] MLP__hidden_layer_sizes=(100,), MLP__alpha=0.0001, PCA__n_components=125 \n",
      "[CV]  MLP__hidden_layer_sizes=(100,), MLP__alpha=0.0001, PCA__n_components=125, score=0.991071, total=  12.0s\n",
      "[CV] MLP__hidden_layer_sizes=(100,), MLP__alpha=0.0001, PCA__n_components=125 \n",
      "[CV]  MLP__hidden_layer_sizes=(100,), MLP__alpha=0.0001, PCA__n_components=125, score=0.994048, total=  13.0s\n",
      "[CV] MLP__hidden_layer_sizes=(100,), MLP__alpha=0.0001, PCA__n_components=125 \n",
      "[CV]  MLP__hidden_layer_sizes=(100,), MLP__alpha=0.0001, PCA__n_components=125, score=0.993049, total=  11.9s\n",
      "[CV] MLP__hidden_layer_sizes=(100, 100), MLP__alpha=0.0001, PCA__n_components=75 \n"
     ]
    },
    {
     "name": "stderr",
     "output_type": "stream",
     "text": [
      "[Parallel(n_jobs=2)]: Done  14 tasks      | elapsed:  1.2min\n"
     ]
    },
    {
     "name": "stdout",
     "output_type": "stream",
     "text": [
      "[CV]  MLP__hidden_layer_sizes=(100,), MLP__alpha=0.0001, PCA__n_components=125, score=0.994995, total=  11.2s\n",
      "[CV] MLP__hidden_layer_sizes=(100, 100), MLP__alpha=0.0001, PCA__n_components=75 \n",
      "[CV]  MLP__hidden_layer_sizes=(100, 100), MLP__alpha=0.0001, PCA__n_components=75, score=0.994054, total=   6.9s\n",
      "[CV] MLP__hidden_layer_sizes=(100, 100), MLP__alpha=0.0001, PCA__n_components=75 \n",
      "[CV]  MLP__hidden_layer_sizes=(100, 100), MLP__alpha=0.0001, PCA__n_components=75, score=0.991071, total=   7.4s\n",
      "[CV] MLP__hidden_layer_sizes=(100, 100), MLP__alpha=0.0001, PCA__n_components=75 \n",
      "[CV]  MLP__hidden_layer_sizes=(100, 100), MLP__alpha=0.0001, PCA__n_components=75, score=0.995040, total=   6.9s\n",
      "[CV] MLP__hidden_layer_sizes=(100, 100), MLP__alpha=0.0001, PCA__n_components=75 \n",
      "[CV]  MLP__hidden_layer_sizes=(100, 100), MLP__alpha=0.0001, PCA__n_components=75, score=0.988989, total=   4.7s\n",
      "[CV] MLP__hidden_layer_sizes=(100, 100), MLP__alpha=0.0001, PCA__n_components=100 \n",
      "[CV]  MLP__hidden_layer_sizes=(100, 100), MLP__alpha=0.0001, PCA__n_components=75, score=0.994042, total=   8.3s\n",
      "[CV] MLP__hidden_layer_sizes=(100, 100), MLP__alpha=0.0001, PCA__n_components=100 \n",
      "[CV]  MLP__hidden_layer_sizes=(100, 100), MLP__alpha=0.0001, PCA__n_components=100, score=0.992071, total=   8.1s\n",
      "[CV] MLP__hidden_layer_sizes=(100, 100), MLP__alpha=0.0001, PCA__n_components=100 \n",
      "[CV]  MLP__hidden_layer_sizes=(100, 100), MLP__alpha=0.0001, PCA__n_components=100, score=0.990079, total=   8.7s\n",
      "[CV] MLP__hidden_layer_sizes=(100, 100), MLP__alpha=0.0001, PCA__n_components=100 \n",
      "[CV]  MLP__hidden_layer_sizes=(100, 100), MLP__alpha=0.0001, PCA__n_components=100, score=0.994048, total=   7.7s\n",
      "[CV] MLP__hidden_layer_sizes=(100, 100), MLP__alpha=0.0001, PCA__n_components=100 \n",
      "[CV]  MLP__hidden_layer_sizes=(100, 100), MLP__alpha=0.0001, PCA__n_components=100, score=0.993049, total=   8.8s\n",
      "[CV] MLP__hidden_layer_sizes=(100, 100), MLP__alpha=0.0001, PCA__n_components=125 \n",
      "[CV]  MLP__hidden_layer_sizes=(100, 100), MLP__alpha=0.0001, PCA__n_components=100, score=0.994995, total=   6.1s\n",
      "[CV] MLP__hidden_layer_sizes=(100, 100), MLP__alpha=0.0001, PCA__n_components=125 \n",
      "[CV]  MLP__hidden_layer_sizes=(100, 100), MLP__alpha=0.0001, PCA__n_components=125, score=0.989087, total=   5.6s\n",
      "[CV] MLP__hidden_layer_sizes=(100, 100), MLP__alpha=0.0001, PCA__n_components=125 \n",
      "[CV]  MLP__hidden_layer_sizes=(100, 100), MLP__alpha=0.0001, PCA__n_components=125, score=0.992071, total=  11.1s\n",
      "[CV] MLP__hidden_layer_sizes=(100, 100), MLP__alpha=0.0001, PCA__n_components=125 \n",
      "[CV]  MLP__hidden_layer_sizes=(100, 100), MLP__alpha=0.0001, PCA__n_components=125, score=0.994048, total=   7.7s\n",
      "[CV] MLP__hidden_layer_sizes=(100, 100), MLP__alpha=0.0001, PCA__n_components=125 \n",
      "[CV]  MLP__hidden_layer_sizes=(100, 100), MLP__alpha=0.0001, PCA__n_components=125, score=0.989076, total=   5.5s\n",
      "[CV] MLP__hidden_layer_sizes=(100, 100, 100), MLP__alpha=0.0001, PCA__n_components=75 \n",
      "[CV]  MLP__hidden_layer_sizes=(100, 100), MLP__alpha=0.0001, PCA__n_components=125, score=0.992993, total=   6.7s\n",
      "[CV] MLP__hidden_layer_sizes=(100, 100, 100), MLP__alpha=0.0001, PCA__n_components=75 \n",
      "[CV]  MLP__hidden_layer_sizes=(100, 100, 100), MLP__alpha=0.0001, PCA__n_components=75, score=0.992071, total=   7.6s\n",
      "[CV] MLP__hidden_layer_sizes=(100, 100, 100), MLP__alpha=0.0001, PCA__n_components=75 \n",
      "[CV]  MLP__hidden_layer_sizes=(100, 100, 100), MLP__alpha=0.0001, PCA__n_components=75, score=0.994048, total=   5.5s\n",
      "[CV] MLP__hidden_layer_sizes=(100, 100, 100), MLP__alpha=0.0001, PCA__n_components=75 \n",
      "[CV]  MLP__hidden_layer_sizes=(100, 100, 100), MLP__alpha=0.0001, PCA__n_components=75, score=0.989087, total=   8.4s\n",
      "[CV] MLP__hidden_layer_sizes=(100, 100, 100), MLP__alpha=0.0001, PCA__n_components=75 \n",
      "[CV]  MLP__hidden_layer_sizes=(100, 100, 100), MLP__alpha=0.0001, PCA__n_components=75, score=0.977160, total=   5.5s\n",
      "[CV] MLP__hidden_layer_sizes=(100, 100, 100), MLP__alpha=0.0001, PCA__n_components=100 \n",
      "[CV]  MLP__hidden_layer_sizes=(100, 100, 100), MLP__alpha=0.0001, PCA__n_components=75, score=0.992993, total=   5.8s\n",
      "[CV] MLP__hidden_layer_sizes=(100, 100, 100), MLP__alpha=0.0001, PCA__n_components=100 \n",
      "[CV]  MLP__hidden_layer_sizes=(100, 100, 100), MLP__alpha=0.0001, PCA__n_components=100, score=0.989087, total=   7.6s\n",
      "[CV] MLP__hidden_layer_sizes=(100, 100, 100), MLP__alpha=0.0001, PCA__n_components=100 \n",
      "[CV]  MLP__hidden_layer_sizes=(100, 100, 100), MLP__alpha=0.0001, PCA__n_components=100, score=0.991080, total=  10.6s\n",
      "[CV] MLP__hidden_layer_sizes=(100, 100, 100), MLP__alpha=0.0001, PCA__n_components=100 \n",
      "[CV]  MLP__hidden_layer_sizes=(100, 100, 100), MLP__alpha=0.0001, PCA__n_components=100, score=0.990070, total=   6.4s\n",
      "[CV] MLP__hidden_layer_sizes=(100, 100, 100), MLP__alpha=0.0001, PCA__n_components=100 \n",
      "[CV]  MLP__hidden_layer_sizes=(100, 100, 100), MLP__alpha=0.0001, PCA__n_components=100, score=0.992063, total=   9.4s\n",
      "[CV] MLP__hidden_layer_sizes=(100, 100, 100), MLP__alpha=0.0001, PCA__n_components=125 \n",
      "[CV]  MLP__hidden_layer_sizes=(100, 100, 100), MLP__alpha=0.0001, PCA__n_components=100, score=0.991992, total=   6.9s\n",
      "[CV] MLP__hidden_layer_sizes=(100, 100, 100), MLP__alpha=0.0001, PCA__n_components=125 \n",
      "[CV]  MLP__hidden_layer_sizes=(100, 100, 100), MLP__alpha=0.0001, PCA__n_components=125, score=0.991080, total=   7.8s\n",
      "[CV] MLP__hidden_layer_sizes=(100, 100, 100), MLP__alpha=0.0001, PCA__n_components=125 \n",
      "[CV]  MLP__hidden_layer_sizes=(100, 100, 100), MLP__alpha=0.0001, PCA__n_components=125, score=0.989087, total=   8.6s\n",
      "[CV] MLP__hidden_layer_sizes=(100, 100, 100), MLP__alpha=0.0001, PCA__n_components=125 \n",
      "[CV]  MLP__hidden_layer_sizes=(100, 100, 100), MLP__alpha=0.0001, PCA__n_components=125, score=0.993056, total=   7.8s\n",
      "[CV] MLP__hidden_layer_sizes=(100, 100, 100), MLP__alpha=0.0001, PCA__n_components=125 \n",
      "[CV]  MLP__hidden_layer_sizes=(100, 100, 100), MLP__alpha=0.0001, PCA__n_components=125, score=0.992056, total=   8.6s\n",
      "[CV] MLP__hidden_layer_sizes=(100,), MLP__alpha=0.001, PCA__n_components=75 \n",
      "[CV]  MLP__hidden_layer_sizes=(100, 100, 100), MLP__alpha=0.0001, PCA__n_components=125, score=0.995996, total=   7.2s\n",
      "[CV] MLP__hidden_layer_sizes=(100,), MLP__alpha=0.001, PCA__n_components=75 \n",
      "[CV]  MLP__hidden_layer_sizes=(100,), MLP__alpha=0.001, PCA__n_components=75, score=0.990089, total=   8.8s\n",
      "[CV] MLP__hidden_layer_sizes=(100,), MLP__alpha=0.001, PCA__n_components=75 \n",
      "[CV]  MLP__hidden_layer_sizes=(100,), MLP__alpha=0.001, PCA__n_components=75, score=0.991071, total=  11.9s\n",
      "[CV] MLP__hidden_layer_sizes=(100,), MLP__alpha=0.001, PCA__n_components=75 \n",
      "[CV]  MLP__hidden_layer_sizes=(100,), MLP__alpha=0.001, PCA__n_components=75, score=0.994048, total=  11.4s\n",
      "[CV] MLP__hidden_layer_sizes=(100,), MLP__alpha=0.001, PCA__n_components=75 \n",
      "[CV]  MLP__hidden_layer_sizes=(100,), MLP__alpha=0.001, PCA__n_components=75, score=0.994042, total=  13.3s\n",
      "[CV] MLP__hidden_layer_sizes=(100,), MLP__alpha=0.001, PCA__n_components=100 \n",
      "[CV]  MLP__hidden_layer_sizes=(100,), MLP__alpha=0.001, PCA__n_components=75, score=0.993994, total=   9.2s\n",
      "[CV] MLP__hidden_layer_sizes=(100,), MLP__alpha=0.001, PCA__n_components=100 \n",
      "[CV]  MLP__hidden_layer_sizes=(100,), MLP__alpha=0.001, PCA__n_components=100, score=0.988107, total=   8.5s\n",
      "[CV] MLP__hidden_layer_sizes=(100,), MLP__alpha=0.001, PCA__n_components=100 \n",
      "[CV]  MLP__hidden_layer_sizes=(100,), MLP__alpha=0.001, PCA__n_components=100, score=0.990079, total=   9.6s\n",
      "[CV] MLP__hidden_layer_sizes=(100,), MLP__alpha=0.001, PCA__n_components=100 \n",
      "[CV]  MLP__hidden_layer_sizes=(100,), MLP__alpha=0.001, PCA__n_components=100, score=0.993056, total=  11.6s\n",
      "[CV] MLP__hidden_layer_sizes=(100,), MLP__alpha=0.001, PCA__n_components=100 \n",
      "[CV]  MLP__hidden_layer_sizes=(100,), MLP__alpha=0.001, PCA__n_components=100, score=0.992056, total=  10.4s\n",
      "[CV] MLP__hidden_layer_sizes=(100,), MLP__alpha=0.001, PCA__n_components=125 \n",
      "[CV]  MLP__hidden_layer_sizes=(100,), MLP__alpha=0.001, PCA__n_components=100, score=0.995996, total=  11.4s\n",
      "[CV] MLP__hidden_layer_sizes=(100,), MLP__alpha=0.001, PCA__n_components=125 \n",
      "[CV]  MLP__hidden_layer_sizes=(100,), MLP__alpha=0.001, PCA__n_components=125, score=0.994054, total=  12.2s\n"
     ]
    },
    {
     "name": "stdout",
     "output_type": "stream",
     "text": [
      "[CV] MLP__hidden_layer_sizes=(100,), MLP__alpha=0.001, PCA__n_components=125 \n",
      "[CV]  MLP__hidden_layer_sizes=(100,), MLP__alpha=0.001, PCA__n_components=125, score=0.991071, total=  13.6s\n",
      "[CV] MLP__hidden_layer_sizes=(100,), MLP__alpha=0.001, PCA__n_components=125 \n",
      "[CV]  MLP__hidden_layer_sizes=(100,), MLP__alpha=0.001, PCA__n_components=125, score=0.994048, total=  12.8s\n",
      "[CV] MLP__hidden_layer_sizes=(100,), MLP__alpha=0.001, PCA__n_components=125 \n",
      "[CV]  MLP__hidden_layer_sizes=(100,), MLP__alpha=0.001, PCA__n_components=125, score=0.994042, total=  13.2s\n",
      "[CV] MLP__hidden_layer_sizes=(100, 100), MLP__alpha=0.001, PCA__n_components=75 \n",
      "[CV]  MLP__hidden_layer_sizes=(100,), MLP__alpha=0.001, PCA__n_components=125, score=0.995996, total=  13.3s\n",
      "[CV] MLP__hidden_layer_sizes=(100, 100), MLP__alpha=0.001, PCA__n_components=75 \n",
      "[CV]  MLP__hidden_layer_sizes=(100, 100), MLP__alpha=0.001, PCA__n_components=75, score=0.994054, total=   8.0s\n",
      "[CV] MLP__hidden_layer_sizes=(100, 100), MLP__alpha=0.001, PCA__n_components=75 \n",
      "[CV]  MLP__hidden_layer_sizes=(100, 100), MLP__alpha=0.001, PCA__n_components=75, score=0.991071, total=  10.9s\n",
      "[CV] MLP__hidden_layer_sizes=(100, 100), MLP__alpha=0.001, PCA__n_components=75 \n",
      "[CV]  MLP__hidden_layer_sizes=(100, 100), MLP__alpha=0.001, PCA__n_components=75, score=0.992063, total=   9.4s\n",
      "[CV] MLP__hidden_layer_sizes=(100, 100), MLP__alpha=0.001, PCA__n_components=75 \n",
      "[CV]  MLP__hidden_layer_sizes=(100, 100), MLP__alpha=0.001, PCA__n_components=75, score=0.990070, total=   6.7s\n",
      "[CV] MLP__hidden_layer_sizes=(100, 100), MLP__alpha=0.001, PCA__n_components=100 \n",
      "[CV]  MLP__hidden_layer_sizes=(100, 100), MLP__alpha=0.001, PCA__n_components=75, score=0.994995, total=   8.7s\n",
      "[CV] MLP__hidden_layer_sizes=(100, 100), MLP__alpha=0.001, PCA__n_components=100 \n",
      "[CV]  MLP__hidden_layer_sizes=(100, 100), MLP__alpha=0.001, PCA__n_components=100, score=0.990089, total=   5.2s\n",
      "[CV] MLP__hidden_layer_sizes=(100, 100), MLP__alpha=0.001, PCA__n_components=100 \n",
      "[CV]  MLP__hidden_layer_sizes=(100, 100), MLP__alpha=0.001, PCA__n_components=100, score=0.987103, total=   7.2s\n",
      "[CV] MLP__hidden_layer_sizes=(100, 100), MLP__alpha=0.001, PCA__n_components=100 \n",
      "[CV]  MLP__hidden_layer_sizes=(100, 100), MLP__alpha=0.001, PCA__n_components=100, score=0.993056, total=   9.1s\n",
      "[CV] MLP__hidden_layer_sizes=(100, 100), MLP__alpha=0.001, PCA__n_components=100 \n"
     ]
    },
    {
     "name": "stderr",
     "output_type": "stream",
     "text": [
      "[Parallel(n_jobs=2)]: Done  68 tasks      | elapsed:  5.1min\n"
     ]
    },
    {
     "name": "stdout",
     "output_type": "stream",
     "text": [
      "[CV]  MLP__hidden_layer_sizes=(100, 100), MLP__alpha=0.001, PCA__n_components=100, score=0.988083, total=   7.1s\n",
      "[CV] MLP__hidden_layer_sizes=(100, 100), MLP__alpha=0.001, PCA__n_components=125 \n",
      "[CV]  MLP__hidden_layer_sizes=(100, 100), MLP__alpha=0.001, PCA__n_components=100, score=0.995996, total=   8.6s\n",
      "[CV] MLP__hidden_layer_sizes=(100, 100), MLP__alpha=0.001, PCA__n_components=125 \n",
      "[CV]  MLP__hidden_layer_sizes=(100, 100), MLP__alpha=0.001, PCA__n_components=125, score=0.989098, total=   7.6s\n",
      "[CV] MLP__hidden_layer_sizes=(100, 100), MLP__alpha=0.001, PCA__n_components=125 \n",
      "[CV]  MLP__hidden_layer_sizes=(100, 100), MLP__alpha=0.001, PCA__n_components=125, score=0.989087, total=   9.5s\n",
      "[CV] MLP__hidden_layer_sizes=(100, 100), MLP__alpha=0.001, PCA__n_components=125 \n",
      "[CV]  MLP__hidden_layer_sizes=(100, 100), MLP__alpha=0.001, PCA__n_components=125, score=0.994048, total=   7.0s\n",
      "[CV] MLP__hidden_layer_sizes=(100, 100), MLP__alpha=0.001, PCA__n_components=125 \n",
      "[CV]  MLP__hidden_layer_sizes=(100, 100), MLP__alpha=0.001, PCA__n_components=125, score=0.994042, total=   8.2s\n",
      "[CV] MLP__hidden_layer_sizes=(100, 100, 100), MLP__alpha=0.001, PCA__n_components=75 \n",
      "[CV]  MLP__hidden_layer_sizes=(100, 100), MLP__alpha=0.001, PCA__n_components=125, score=0.991992, total=   7.2s\n",
      "[CV] MLP__hidden_layer_sizes=(100, 100, 100), MLP__alpha=0.001, PCA__n_components=75 \n",
      "[CV]  MLP__hidden_layer_sizes=(100, 100, 100), MLP__alpha=0.001, PCA__n_components=75, score=0.987103, total=   6.5s\n",
      "[CV] MLP__hidden_layer_sizes=(100, 100, 100), MLP__alpha=0.001, PCA__n_components=75 \n",
      "[CV]  MLP__hidden_layer_sizes=(100, 100, 100), MLP__alpha=0.001, PCA__n_components=75, score=0.992071, total=   8.4s\n",
      "[CV] MLP__hidden_layer_sizes=(100, 100, 100), MLP__alpha=0.001, PCA__n_components=75 \n",
      "[CV]  MLP__hidden_layer_sizes=(100, 100, 100), MLP__alpha=0.001, PCA__n_components=75, score=0.993056, total=   8.2s\n",
      "[CV] MLP__hidden_layer_sizes=(100, 100, 100), MLP__alpha=0.001, PCA__n_components=75 \n",
      "[CV]  MLP__hidden_layer_sizes=(100, 100, 100), MLP__alpha=0.001, PCA__n_components=75, score=0.985104, total=   7.7s\n",
      "[CV] MLP__hidden_layer_sizes=(100, 100, 100), MLP__alpha=0.001, PCA__n_components=100 \n",
      "[CV]  MLP__hidden_layer_sizes=(100, 100, 100), MLP__alpha=0.001, PCA__n_components=100, score=0.989098, total=   5.1s\n",
      "[CV] MLP__hidden_layer_sizes=(100, 100, 100), MLP__alpha=0.001, PCA__n_components=100 \n",
      "[CV]  MLP__hidden_layer_sizes=(100, 100, 100), MLP__alpha=0.001, PCA__n_components=75, score=0.991992, total=   6.4s\n",
      "[CV] MLP__hidden_layer_sizes=(100, 100, 100), MLP__alpha=0.001, PCA__n_components=100 \n",
      "[CV]  MLP__hidden_layer_sizes=(100, 100, 100), MLP__alpha=0.001, PCA__n_components=100, score=0.993056, total=   6.5s\n",
      "[CV] MLP__hidden_layer_sizes=(100, 100, 100), MLP__alpha=0.001, PCA__n_components=100 \n",
      "[CV]  MLP__hidden_layer_sizes=(100, 100, 100), MLP__alpha=0.001, PCA__n_components=100, score=0.988095, total=   8.3s\n",
      "[CV] MLP__hidden_layer_sizes=(100, 100, 100), MLP__alpha=0.001, PCA__n_components=100 \n",
      "[CV]  MLP__hidden_layer_sizes=(100, 100, 100), MLP__alpha=0.001, PCA__n_components=100, score=0.986097, total=   5.4s\n",
      "[CV] MLP__hidden_layer_sizes=(100, 100, 100), MLP__alpha=0.001, PCA__n_components=125 \n",
      "[CV]  MLP__hidden_layer_sizes=(100, 100, 100), MLP__alpha=0.001, PCA__n_components=100, score=0.991992, total=   8.9s\n",
      "[CV] MLP__hidden_layer_sizes=(100, 100, 100), MLP__alpha=0.001, PCA__n_components=125 \n",
      "[CV]  MLP__hidden_layer_sizes=(100, 100, 100), MLP__alpha=0.001, PCA__n_components=125, score=0.993062, total=   7.9s\n",
      "[CV] MLP__hidden_layer_sizes=(100, 100, 100), MLP__alpha=0.001, PCA__n_components=125 \n",
      "[CV]  MLP__hidden_layer_sizes=(100, 100, 100), MLP__alpha=0.001, PCA__n_components=125, score=0.989087, total=   8.2s\n",
      "[CV] MLP__hidden_layer_sizes=(100, 100, 100), MLP__alpha=0.001, PCA__n_components=125 \n",
      "[CV]  MLP__hidden_layer_sizes=(100, 100, 100), MLP__alpha=0.001, PCA__n_components=125, score=0.986111, total=   5.6s\n",
      "[CV] MLP__hidden_layer_sizes=(100, 100, 100), MLP__alpha=0.001, PCA__n_components=125 \n",
      "[CV]  MLP__hidden_layer_sizes=(100, 100, 100), MLP__alpha=0.001, PCA__n_components=125, score=0.993994, total=   6.5s\n",
      "[CV] MLP__hidden_layer_sizes=(100,), MLP__alpha=0.01, PCA__n_components=75 \n",
      "[CV]  MLP__hidden_layer_sizes=(100, 100, 100), MLP__alpha=0.001, PCA__n_components=125, score=0.996028, total=   8.2s\n",
      "[CV] MLP__hidden_layer_sizes=(100,), MLP__alpha=0.01, PCA__n_components=75 \n",
      "[CV]  MLP__hidden_layer_sizes=(100,), MLP__alpha=0.01, PCA__n_components=75, score=0.988095, total=   9.4s\n",
      "[CV] MLP__hidden_layer_sizes=(100,), MLP__alpha=0.01, PCA__n_components=75 \n",
      "[CV]  MLP__hidden_layer_sizes=(100,), MLP__alpha=0.01, PCA__n_components=75, score=0.993062, total=  10.8s\n",
      "[CV] MLP__hidden_layer_sizes=(100,), MLP__alpha=0.01, PCA__n_components=75 \n",
      "[CV]  MLP__hidden_layer_sizes=(100,), MLP__alpha=0.01, PCA__n_components=75, score=0.993056, total=  10.1s\n",
      "[CV] MLP__hidden_layer_sizes=(100,), MLP__alpha=0.01, PCA__n_components=75 \n",
      "[CV]  MLP__hidden_layer_sizes=(100,), MLP__alpha=0.01, PCA__n_components=75, score=0.993049, total=  13.1s\n",
      "[CV] MLP__hidden_layer_sizes=(100,), MLP__alpha=0.01, PCA__n_components=100 \n",
      "[CV]  MLP__hidden_layer_sizes=(100,), MLP__alpha=0.01, PCA__n_components=75, score=0.993994, total=  12.0s\n",
      "[CV] MLP__hidden_layer_sizes=(100,), MLP__alpha=0.01, PCA__n_components=100 \n",
      "[CV]  MLP__hidden_layer_sizes=(100,), MLP__alpha=0.01, PCA__n_components=100, score=0.991080, total=  10.7s\n",
      "[CV] MLP__hidden_layer_sizes=(100,), MLP__alpha=0.01, PCA__n_components=100 \n",
      "[CV]  MLP__hidden_layer_sizes=(100,), MLP__alpha=0.01, PCA__n_components=100, score=0.991071, total=   9.5s\n",
      "[CV] MLP__hidden_layer_sizes=(100,), MLP__alpha=0.01, PCA__n_components=100 \n",
      "[CV]  MLP__hidden_layer_sizes=(100,), MLP__alpha=0.01, PCA__n_components=100, score=0.993056, total=  13.5s\n",
      "[CV] MLP__hidden_layer_sizes=(100,), MLP__alpha=0.01, PCA__n_components=100 \n",
      "[CV]  MLP__hidden_layer_sizes=(100,), MLP__alpha=0.01, PCA__n_components=100, score=0.993049, total=  14.1s\n",
      "[CV] MLP__hidden_layer_sizes=(100,), MLP__alpha=0.01, PCA__n_components=125 \n",
      "[CV]  MLP__hidden_layer_sizes=(100,), MLP__alpha=0.01, PCA__n_components=100, score=0.991992, total=  10.6s\n",
      "[CV] MLP__hidden_layer_sizes=(100,), MLP__alpha=0.01, PCA__n_components=125 \n",
      "[CV]  MLP__hidden_layer_sizes=(100,), MLP__alpha=0.01, PCA__n_components=125, score=0.994054, total=  13.7s\n",
      "[CV] MLP__hidden_layer_sizes=(100,), MLP__alpha=0.01, PCA__n_components=125 \n",
      "[CV]  MLP__hidden_layer_sizes=(100,), MLP__alpha=0.01, PCA__n_components=125, score=0.990079, total=  13.1s\n",
      "[CV] MLP__hidden_layer_sizes=(100,), MLP__alpha=0.01, PCA__n_components=125 \n",
      "[CV]  MLP__hidden_layer_sizes=(100,), MLP__alpha=0.01, PCA__n_components=125, score=0.993056, total=  12.6s\n",
      "[CV] MLP__hidden_layer_sizes=(100,), MLP__alpha=0.01, PCA__n_components=125 \n",
      "[CV]  MLP__hidden_layer_sizes=(100,), MLP__alpha=0.01, PCA__n_components=125, score=0.993049, total=  11.1s\n",
      "[CV] MLP__hidden_layer_sizes=(100, 100), MLP__alpha=0.01, PCA__n_components=75 \n",
      "[CV]  MLP__hidden_layer_sizes=(100, 100), MLP__alpha=0.01, PCA__n_components=75, score=0.993062, total=   9.8s\n",
      "[CV] MLP__hidden_layer_sizes=(100, 100), MLP__alpha=0.01, PCA__n_components=75 \n",
      "[CV]  MLP__hidden_layer_sizes=(100,), MLP__alpha=0.01, PCA__n_components=125, score=0.993994, total=  14.5s\n",
      "[CV] MLP__hidden_layer_sizes=(100, 100), MLP__alpha=0.01, PCA__n_components=75 \n",
      "[CV]  MLP__hidden_layer_sizes=(100, 100), MLP__alpha=0.01, PCA__n_components=75, score=0.991071, total=   9.7s\n",
      "[CV] MLP__hidden_layer_sizes=(100, 100), MLP__alpha=0.01, PCA__n_components=75 \n",
      "[CV]  MLP__hidden_layer_sizes=(100, 100), MLP__alpha=0.01, PCA__n_components=75, score=0.989087, total=   8.0s\n",
      "[CV] MLP__hidden_layer_sizes=(100, 100), MLP__alpha=0.01, PCA__n_components=75 \n",
      "[CV]  MLP__hidden_layer_sizes=(100, 100), MLP__alpha=0.01, PCA__n_components=75, score=0.989076, total=   7.7s\n",
      "[CV] MLP__hidden_layer_sizes=(100, 100), MLP__alpha=0.01, PCA__n_components=100 \n",
      "[CV]  MLP__hidden_layer_sizes=(100, 100), MLP__alpha=0.01, PCA__n_components=75, score=0.994995, total=   7.9s\n",
      "[CV] MLP__hidden_layer_sizes=(100, 100), MLP__alpha=0.01, PCA__n_components=100 \n",
      "[CV]  MLP__hidden_layer_sizes=(100, 100), MLP__alpha=0.01, PCA__n_components=100, score=0.993062, total=   9.7s\n"
     ]
    },
    {
     "name": "stdout",
     "output_type": "stream",
     "text": [
      "[CV] MLP__hidden_layer_sizes=(100, 100), MLP__alpha=0.01, PCA__n_components=100 \n",
      "[CV]  MLP__hidden_layer_sizes=(100, 100), MLP__alpha=0.01, PCA__n_components=100, score=0.988095, total=  11.0s\n",
      "[CV] MLP__hidden_layer_sizes=(100, 100), MLP__alpha=0.01, PCA__n_components=100 \n",
      "[CV]  MLP__hidden_layer_sizes=(100, 100), MLP__alpha=0.01, PCA__n_components=100, score=0.989076, total=   7.1s\n",
      "[CV] MLP__hidden_layer_sizes=(100, 100), MLP__alpha=0.01, PCA__n_components=100 \n",
      "[CV]  MLP__hidden_layer_sizes=(100, 100), MLP__alpha=0.01, PCA__n_components=100, score=0.993056, total=  11.6s\n",
      "[CV] MLP__hidden_layer_sizes=(100, 100), MLP__alpha=0.01, PCA__n_components=125 \n",
      "[CV]  MLP__hidden_layer_sizes=(100, 100), MLP__alpha=0.01, PCA__n_components=125, score=0.992071, total=   6.9s\n",
      "[CV] MLP__hidden_layer_sizes=(100, 100), MLP__alpha=0.01, PCA__n_components=125 \n",
      "[CV]  MLP__hidden_layer_sizes=(100, 100), MLP__alpha=0.01, PCA__n_components=100, score=0.993994, total=  12.7s\n",
      "[CV] MLP__hidden_layer_sizes=(100, 100), MLP__alpha=0.01, PCA__n_components=125 \n",
      "[CV]  MLP__hidden_layer_sizes=(100, 100), MLP__alpha=0.01, PCA__n_components=125, score=0.985119, total=  10.2s\n",
      "[CV] MLP__hidden_layer_sizes=(100, 100), MLP__alpha=0.01, PCA__n_components=125 \n",
      "[CV]  MLP__hidden_layer_sizes=(100, 100), MLP__alpha=0.01, PCA__n_components=125, score=0.995040, total=  15.5s\n",
      "[CV] MLP__hidden_layer_sizes=(100, 100), MLP__alpha=0.01, PCA__n_components=125 \n",
      "[CV]  MLP__hidden_layer_sizes=(100, 100), MLP__alpha=0.01, PCA__n_components=125, score=0.995035, total=  16.6s\n",
      "[CV] MLP__hidden_layer_sizes=(100, 100, 100), MLP__alpha=0.01, PCA__n_components=75 \n",
      "[CV]  MLP__hidden_layer_sizes=(100, 100), MLP__alpha=0.01, PCA__n_components=125, score=0.993994, total=  13.6s\n",
      "[CV] MLP__hidden_layer_sizes=(100, 100, 100), MLP__alpha=0.01, PCA__n_components=75 \n",
      "[CV]  MLP__hidden_layer_sizes=(100, 100, 100), MLP__alpha=0.01, PCA__n_components=75, score=0.991080, total=   9.1s\n",
      "[CV] MLP__hidden_layer_sizes=(100, 100, 100), MLP__alpha=0.01, PCA__n_components=75 \n",
      "[CV]  MLP__hidden_layer_sizes=(100, 100, 100), MLP__alpha=0.01, PCA__n_components=75, score=0.992063, total=   8.5s\n",
      "[CV] MLP__hidden_layer_sizes=(100, 100, 100), MLP__alpha=0.01, PCA__n_components=75 \n",
      "[CV]  MLP__hidden_layer_sizes=(100, 100, 100), MLP__alpha=0.01, PCA__n_components=75, score=0.987103, total=  11.5s\n",
      "[CV] MLP__hidden_layer_sizes=(100, 100, 100), MLP__alpha=0.01, PCA__n_components=75 \n",
      "[CV]  MLP__hidden_layer_sizes=(100, 100, 100), MLP__alpha=0.01, PCA__n_components=75, score=0.991063, total=   6.8s\n",
      "[CV] MLP__hidden_layer_sizes=(100, 100, 100), MLP__alpha=0.01, PCA__n_components=100 \n",
      "[CV]  MLP__hidden_layer_sizes=(100, 100, 100), MLP__alpha=0.01, PCA__n_components=75, score=0.994995, total=   7.0s\n",
      "[CV] MLP__hidden_layer_sizes=(100, 100, 100), MLP__alpha=0.01, PCA__n_components=100 \n",
      "[CV]  MLP__hidden_layer_sizes=(100, 100, 100), MLP__alpha=0.01, PCA__n_components=100, score=0.993062, total=   8.3s\n",
      "[CV] MLP__hidden_layer_sizes=(100, 100, 100), MLP__alpha=0.01, PCA__n_components=100 \n",
      "[CV]  MLP__hidden_layer_sizes=(100, 100, 100), MLP__alpha=0.01, PCA__n_components=100, score=0.990079, total=  10.0s\n",
      "[CV] MLP__hidden_layer_sizes=(100, 100, 100), MLP__alpha=0.01, PCA__n_components=100 \n",
      "[CV]  MLP__hidden_layer_sizes=(100, 100, 100), MLP__alpha=0.01, PCA__n_components=100, score=0.982143, total=   5.9s\n",
      "[CV] MLP__hidden_layer_sizes=(100, 100, 100), MLP__alpha=0.01, PCA__n_components=100 \n",
      "[CV]  MLP__hidden_layer_sizes=(100, 100, 100), MLP__alpha=0.01, PCA__n_components=100, score=0.992056, total=   7.2s\n",
      "[CV] MLP__hidden_layer_sizes=(100, 100, 100), MLP__alpha=0.01, PCA__n_components=125 \n",
      "[CV]  MLP__hidden_layer_sizes=(100, 100, 100), MLP__alpha=0.01, PCA__n_components=100, score=0.990991, total=   8.0s\n",
      "[CV] MLP__hidden_layer_sizes=(100, 100, 100), MLP__alpha=0.01, PCA__n_components=125 \n",
      "[CV]  MLP__hidden_layer_sizes=(100, 100, 100), MLP__alpha=0.01, PCA__n_components=125, score=0.990089, total=   6.9s\n",
      "[CV] MLP__hidden_layer_sizes=(100, 100, 100), MLP__alpha=0.01, PCA__n_components=125 \n",
      "[CV]  MLP__hidden_layer_sizes=(100, 100, 100), MLP__alpha=0.01, PCA__n_components=125, score=0.989087, total=   6.3s\n",
      "[CV] MLP__hidden_layer_sizes=(100, 100, 100), MLP__alpha=0.01, PCA__n_components=125 \n",
      "[CV]  MLP__hidden_layer_sizes=(100, 100, 100), MLP__alpha=0.01, PCA__n_components=125, score=0.994048, total=   7.6s\n",
      "[CV] MLP__hidden_layer_sizes=(100, 100, 100), MLP__alpha=0.01, PCA__n_components=125 \n",
      "[CV]  MLP__hidden_layer_sizes=(100, 100, 100), MLP__alpha=0.01, PCA__n_components=125, score=0.988083, total=  12.4s\n",
      "[CV] MLP__hidden_layer_sizes=(100,), MLP__alpha=0.1, PCA__n_components=75 \n",
      "[CV]  MLP__hidden_layer_sizes=(100, 100, 100), MLP__alpha=0.01, PCA__n_components=125, score=0.990991, total=  10.0s\n",
      "[CV] MLP__hidden_layer_sizes=(100,), MLP__alpha=0.1, PCA__n_components=75 \n",
      "[CV]  MLP__hidden_layer_sizes=(100,), MLP__alpha=0.1, PCA__n_components=75, score=0.988107, total=  11.4s\n",
      "[CV] MLP__hidden_layer_sizes=(100,), MLP__alpha=0.1, PCA__n_components=75 \n",
      "[CV]  MLP__hidden_layer_sizes=(100,), MLP__alpha=0.1, PCA__n_components=75, score=0.988095, total=  13.9s\n",
      "[CV] MLP__hidden_layer_sizes=(100,), MLP__alpha=0.1, PCA__n_components=75 \n",
      "[CV]  MLP__hidden_layer_sizes=(100,), MLP__alpha=0.1, PCA__n_components=75, score=0.987090, total=  10.1s\n",
      "[CV] MLP__hidden_layer_sizes=(100,), MLP__alpha=0.1, PCA__n_components=75 \n",
      "[CV]  MLP__hidden_layer_sizes=(100,), MLP__alpha=0.1, PCA__n_components=75, score=0.994048, total=  16.4s\n",
      "[CV] MLP__hidden_layer_sizes=(100,), MLP__alpha=0.1, PCA__n_components=100 \n",
      "[CV]  MLP__hidden_layer_sizes=(100,), MLP__alpha=0.1, PCA__n_components=75, score=0.991992, total=  12.2s\n",
      "[CV] MLP__hidden_layer_sizes=(100,), MLP__alpha=0.1, PCA__n_components=100 \n",
      "[CV]  MLP__hidden_layer_sizes=(100,), MLP__alpha=0.1, PCA__n_components=100, score=0.990089, total=  14.1s\n",
      "[CV] MLP__hidden_layer_sizes=(100,), MLP__alpha=0.1, PCA__n_components=100 \n",
      "[CV]  MLP__hidden_layer_sizes=(100,), MLP__alpha=0.1, PCA__n_components=100, score=0.987103, total=  10.8s\n",
      "[CV] MLP__hidden_layer_sizes=(100,), MLP__alpha=0.1, PCA__n_components=100 \n",
      "[CV]  MLP__hidden_layer_sizes=(100,), MLP__alpha=0.1, PCA__n_components=100, score=0.995040, total=  16.1s\n",
      "[CV] MLP__hidden_layer_sizes=(100,), MLP__alpha=0.1, PCA__n_components=100 \n",
      "[CV]  MLP__hidden_layer_sizes=(100,), MLP__alpha=0.1, PCA__n_components=100, score=0.991063, total=  12.2s\n",
      "[CV] MLP__hidden_layer_sizes=(100,), MLP__alpha=0.1, PCA__n_components=125 \n",
      "[CV]  MLP__hidden_layer_sizes=(100,), MLP__alpha=0.1, PCA__n_components=100, score=0.992993, total=  14.7s\n",
      "[CV] MLP__hidden_layer_sizes=(100,), MLP__alpha=0.1, PCA__n_components=125 \n",
      "[CV]  MLP__hidden_layer_sizes=(100,), MLP__alpha=0.1, PCA__n_components=125, score=0.988107, total=  14.7s\n",
      "[CV] MLP__hidden_layer_sizes=(100,), MLP__alpha=0.1, PCA__n_components=125 \n",
      "[CV]  MLP__hidden_layer_sizes=(100,), MLP__alpha=0.1, PCA__n_components=125, score=0.988095, total=  21.7s\n",
      "[CV] MLP__hidden_layer_sizes=(100,), MLP__alpha=0.1, PCA__n_components=125 \n",
      "[CV]  MLP__hidden_layer_sizes=(100,), MLP__alpha=0.1, PCA__n_components=125, score=0.995040, total=  25.2s\n",
      "[CV] MLP__hidden_layer_sizes=(100,), MLP__alpha=0.1, PCA__n_components=125 \n",
      "[CV]  MLP__hidden_layer_sizes=(100,), MLP__alpha=0.1, PCA__n_components=125, score=0.986097, total=  14.2s\n",
      "[CV] MLP__hidden_layer_sizes=(100, 100), MLP__alpha=0.1, PCA__n_components=75 \n",
      "[CV]  MLP__hidden_layer_sizes=(100, 100), MLP__alpha=0.1, PCA__n_components=75, score=0.992071, total=  14.5s\n",
      "[CV] MLP__hidden_layer_sizes=(100, 100), MLP__alpha=0.1, PCA__n_components=75 \n",
      "[CV]  MLP__hidden_layer_sizes=(100,), MLP__alpha=0.1, PCA__n_components=125, score=0.992993, total=  22.3s\n",
      "[CV] MLP__hidden_layer_sizes=(100, 100), MLP__alpha=0.1, PCA__n_components=75 \n",
      "[CV]  MLP__hidden_layer_sizes=(100, 100), MLP__alpha=0.1, PCA__n_components=75, score=0.993056, total=  13.6s\n",
      "[CV] MLP__hidden_layer_sizes=(100, 100), MLP__alpha=0.1, PCA__n_components=75 \n",
      "[CV]  MLP__hidden_layer_sizes=(100, 100), MLP__alpha=0.1, PCA__n_components=75, score=0.990079, total=  15.0s\n",
      "[CV] MLP__hidden_layer_sizes=(100, 100), MLP__alpha=0.1, PCA__n_components=75 \n",
      "[CV]  MLP__hidden_layer_sizes=(100, 100), MLP__alpha=0.1, PCA__n_components=75, score=0.984111, total=   7.3s\n"
     ]
    },
    {
     "name": "stdout",
     "output_type": "stream",
     "text": [
      "[CV] MLP__hidden_layer_sizes=(100, 100), MLP__alpha=0.1, PCA__n_components=100 \n",
      "[CV]  MLP__hidden_layer_sizes=(100, 100), MLP__alpha=0.1, PCA__n_components=75, score=0.995996, total=  13.5s\n",
      "[CV] MLP__hidden_layer_sizes=(100, 100), MLP__alpha=0.1, PCA__n_components=100 \n",
      "[CV]  MLP__hidden_layer_sizes=(100, 100), MLP__alpha=0.1, PCA__n_components=100, score=0.993062, total=  15.3s\n",
      "[CV] MLP__hidden_layer_sizes=(100, 100), MLP__alpha=0.1, PCA__n_components=100 \n",
      "[CV]  MLP__hidden_layer_sizes=(100, 100), MLP__alpha=0.1, PCA__n_components=100, score=0.992063, total=  13.0s\n",
      "[CV] MLP__hidden_layer_sizes=(100, 100), MLP__alpha=0.1, PCA__n_components=100 \n",
      "[CV]  MLP__hidden_layer_sizes=(100, 100), MLP__alpha=0.1, PCA__n_components=100, score=0.994048, total=  13.3s\n",
      "[CV] MLP__hidden_layer_sizes=(100, 100), MLP__alpha=0.1, PCA__n_components=100 \n"
     ]
    },
    {
     "name": "stderr",
     "output_type": "stream",
     "text": [
      "[Parallel(n_jobs=2)]: Done 158 tasks      | elapsed: 13.3min\n"
     ]
    },
    {
     "name": "stdout",
     "output_type": "stream",
     "text": [
      "[CV]  MLP__hidden_layer_sizes=(100, 100), MLP__alpha=0.1, PCA__n_components=100, score=0.991063, total=  12.3s\n",
      "[CV] MLP__hidden_layer_sizes=(100, 100), MLP__alpha=0.1, PCA__n_components=125 \n",
      "[CV]  MLP__hidden_layer_sizes=(100, 100), MLP__alpha=0.1, PCA__n_components=100, score=0.993994, total=   9.7s\n",
      "[CV] MLP__hidden_layer_sizes=(100, 100), MLP__alpha=0.1, PCA__n_components=125 \n",
      "[CV]  MLP__hidden_layer_sizes=(100, 100), MLP__alpha=0.1, PCA__n_components=125, score=0.992071, total=  12.3s\n",
      "[CV] MLP__hidden_layer_sizes=(100, 100), MLP__alpha=0.1, PCA__n_components=125 \n",
      "[CV]  MLP__hidden_layer_sizes=(100, 100), MLP__alpha=0.1, PCA__n_components=125, score=0.990079, total=  14.6s\n",
      "[CV] MLP__hidden_layer_sizes=(100, 100), MLP__alpha=0.1, PCA__n_components=125 \n",
      "[CV]  MLP__hidden_layer_sizes=(100, 100), MLP__alpha=0.1, PCA__n_components=125, score=0.992063, total=  15.7s\n",
      "[CV] MLP__hidden_layer_sizes=(100, 100), MLP__alpha=0.1, PCA__n_components=125 \n",
      "[CV]  MLP__hidden_layer_sizes=(100, 100), MLP__alpha=0.1, PCA__n_components=125, score=0.994042, total=  13.7s\n",
      "[CV] MLP__hidden_layer_sizes=(100, 100, 100), MLP__alpha=0.1, PCA__n_components=75 \n",
      "[CV]  MLP__hidden_layer_sizes=(100, 100), MLP__alpha=0.1, PCA__n_components=125, score=0.994995, total=  15.6s\n",
      "[CV] MLP__hidden_layer_sizes=(100, 100, 100), MLP__alpha=0.1, PCA__n_components=75 \n",
      "[CV]  MLP__hidden_layer_sizes=(100, 100, 100), MLP__alpha=0.1, PCA__n_components=75, score=0.991080, total=  15.8s\n",
      "[CV] MLP__hidden_layer_sizes=(100, 100, 100), MLP__alpha=0.1, PCA__n_components=75 \n",
      "[CV]  MLP__hidden_layer_sizes=(100, 100, 100), MLP__alpha=0.1, PCA__n_components=75, score=0.991071, total=  12.5s\n",
      "[CV] MLP__hidden_layer_sizes=(100, 100, 100), MLP__alpha=0.1, PCA__n_components=75 \n",
      "[CV]  MLP__hidden_layer_sizes=(100, 100, 100), MLP__alpha=0.1, PCA__n_components=75, score=0.989087, total=   6.9s\n",
      "[CV] MLP__hidden_layer_sizes=(100, 100, 100), MLP__alpha=0.1, PCA__n_components=75 \n",
      "[CV]  MLP__hidden_layer_sizes=(100, 100, 100), MLP__alpha=0.1, PCA__n_components=75, score=0.991063, total=   9.9s\n",
      "[CV] MLP__hidden_layer_sizes=(100, 100, 100), MLP__alpha=0.1, PCA__n_components=100 \n",
      "[CV]  MLP__hidden_layer_sizes=(100, 100, 100), MLP__alpha=0.1, PCA__n_components=75, score=0.993994, total=  19.2s\n",
      "[CV] MLP__hidden_layer_sizes=(100, 100, 100), MLP__alpha=0.1, PCA__n_components=100 \n",
      "[CV]  MLP__hidden_layer_sizes=(100, 100, 100), MLP__alpha=0.1, PCA__n_components=100, score=0.992071, total=  13.7s\n",
      "[CV] MLP__hidden_layer_sizes=(100, 100, 100), MLP__alpha=0.1, PCA__n_components=100 \n",
      "[CV]  MLP__hidden_layer_sizes=(100, 100, 100), MLP__alpha=0.1, PCA__n_components=100, score=0.992063, total=  13.4s\n",
      "[CV] MLP__hidden_layer_sizes=(100, 100, 100), MLP__alpha=0.1, PCA__n_components=100 \n",
      "[CV]  MLP__hidden_layer_sizes=(100, 100, 100), MLP__alpha=0.1, PCA__n_components=100, score=0.993056, total=  14.0s\n",
      "[CV] MLP__hidden_layer_sizes=(100, 100, 100), MLP__alpha=0.1, PCA__n_components=100 \n",
      "[CV]  MLP__hidden_layer_sizes=(100, 100, 100), MLP__alpha=0.1, PCA__n_components=100, score=0.991063, total=   7.1s\n",
      "[CV] MLP__hidden_layer_sizes=(100, 100, 100), MLP__alpha=0.1, PCA__n_components=125 \n",
      "[CV]  MLP__hidden_layer_sizes=(100, 100, 100), MLP__alpha=0.1, PCA__n_components=125, score=0.991080, total=  13.0s\n",
      "[CV] MLP__hidden_layer_sizes=(100, 100, 100), MLP__alpha=0.1, PCA__n_components=125 \n",
      "[CV]  MLP__hidden_layer_sizes=(100, 100, 100), MLP__alpha=0.1, PCA__n_components=100, score=0.995996, total=  17.2s\n",
      "[CV] MLP__hidden_layer_sizes=(100, 100, 100), MLP__alpha=0.1, PCA__n_components=125 \n",
      "[CV]  MLP__hidden_layer_sizes=(100, 100, 100), MLP__alpha=0.1, PCA__n_components=125, score=0.995040, total=  12.0s\n",
      "[CV] MLP__hidden_layer_sizes=(100, 100, 100), MLP__alpha=0.1, PCA__n_components=125 \n",
      "[CV]  MLP__hidden_layer_sizes=(100, 100, 100), MLP__alpha=0.1, PCA__n_components=125, score=0.988095, total=  19.5s\n",
      "[CV] MLP__hidden_layer_sizes=(100, 100, 100), MLP__alpha=0.1, PCA__n_components=125 \n",
      "[CV]  MLP__hidden_layer_sizes=(100, 100, 100), MLP__alpha=0.1, PCA__n_components=125, score=0.995035, total=  13.0s\n",
      "[CV]  MLP__hidden_layer_sizes=(100, 100, 100), MLP__alpha=0.1, PCA__n_components=125, score=0.993994, total=   9.7s\n"
     ]
    },
    {
     "name": "stderr",
     "output_type": "stream",
     "text": [
      "[Parallel(n_jobs=2)]: Done 180 out of 180 | elapsed: 15.6min finished\n"
     ]
    }
   ],
   "source": [
    "pipe_grid = Pipeline([\n",
    "    ('flatten', Flatten()), \n",
    "    ('PCA', PCA(n_components=100)),\n",
    "    ('MLP', MLPClassifier((100,100,100), alpha=0.01))\n",
    "]) \n",
    "ncomp_options = [75, 100, 125]\n",
    "alpha_options = [0.0001, 0.001, 0.01, 0.1]\n",
    "layer_options = [(100,), (100,100), (100,100,100)]\n",
    "param_grid = dict(\n",
    "    PCA__n_components=ncomp_options,\n",
    "    MLP__alpha=alpha_options,\n",
    "    MLP__hidden_layer_sizes=layer_options\n",
    ")\n",
    "\n",
    "grid_savename = os.path.join(arcdir, 'caption-ja_pca-mlp-grid_all.pkl')\n",
    "if False:  # change to True to do grid search again\n",
    "    grid = GridSearchCV(pipe_grid, param_grid, cv=5, n_jobs=2, verbose=5)\n",
    "    grid.fit(X_train, Y_train)\n",
    "    \n",
    "    joblib.dump(grid, grid_savename)\n",
    "else:\n",
    "    grid = joblib.load(grid_savename)"
   ]
  },
  {
   "cell_type": "code",
   "execution_count": 429,
   "metadata": {},
   "outputs": [
    {
     "name": "stdout",
     "output_type": "stream",
     "text": [
      "0.9938 (+/-0.0032) for {'MLP__hidden_layer_sizes': (100,), 'MLP__alpha': 0.001, 'PCA__n_components': 125}\n",
      "0.9928 (+/-0.0029) for {'MLP__hidden_layer_sizes': (100,), 'MLP__alpha': 0.01, 'PCA__n_components': 125}\n",
      "0.9928 (+/-0.0023) for {'MLP__hidden_layer_sizes': (100, 100), 'MLP__alpha': 0.1, 'PCA__n_components': 100}\n",
      "0.9928 (+/-0.0034) for {'MLP__hidden_layer_sizes': (100, 100), 'MLP__alpha': 0.0001, 'PCA__n_components': 100}\n",
      "0.9928 (+/-0.0034) for {'MLP__hidden_layer_sizes': (100, 100, 100), 'MLP__alpha': 0.1, 'PCA__n_components': 100}\n",
      "0.9926 (+/-0.0054) for {'MLP__hidden_layer_sizes': (100, 100, 100), 'MLP__alpha': 0.1, 'PCA__n_components': 125}\n",
      "0.9926 (+/-0.0036) for {'MLP__hidden_layer_sizes': (100,), 'MLP__alpha': 0.0001, 'PCA__n_components': 125}\n",
      "0.9926 (+/-0.0034) for {'MLP__hidden_layer_sizes': (100, 100), 'MLP__alpha': 0.1, 'PCA__n_components': 125}\n",
      "0.9926 (+/-0.0045) for {'MLP__hidden_layer_sizes': (100, 100), 'MLP__alpha': 0.0001, 'PCA__n_components': 75}\n",
      "0.9926 (+/-0.0034) for {'MLP__hidden_layer_sizes': (100,), 'MLP__alpha': 0.001, 'PCA__n_components': 75}\n",
      "0.9924 (+/-0.0037) for {'MLP__hidden_layer_sizes': (100, 100), 'MLP__alpha': 0.001, 'PCA__n_components': 75}\n",
      "0.9922 (+/-0.0046) for {'MLP__hidden_layer_sizes': (100, 100, 100), 'MLP__alpha': 0.0001, 'PCA__n_components': 125}\n",
      "0.9922 (+/-0.0075) for {'MLP__hidden_layer_sizes': (100, 100), 'MLP__alpha': 0.01, 'PCA__n_components': 125}\n",
      "0.9922 (+/-0.0042) for {'MLP__hidden_layer_sizes': (100,), 'MLP__alpha': 0.01, 'PCA__n_components': 75}\n",
      "0.9920 (+/-0.0018) for {'MLP__hidden_layer_sizes': (100,), 'MLP__alpha': 0.01, 'PCA__n_components': 100}\n",
      "0.9920 (+/-0.0042) for {'MLP__hidden_layer_sizes': (100,), 'MLP__alpha': 0.0001, 'PCA__n_components': 75}\n",
      "0.9919 (+/-0.0053) for {'MLP__hidden_layer_sizes': (100,), 'MLP__alpha': 0.001, 'PCA__n_components': 100}\n",
      "0.9917 (+/-0.0072) for {'MLP__hidden_layer_sizes': (100, 100, 100), 'MLP__alpha': 0.001, 'PCA__n_components': 125}\n",
      "0.9917 (+/-0.0044) for {'MLP__hidden_layer_sizes': (100, 100), 'MLP__alpha': 0.001, 'PCA__n_components': 125}\n",
      "0.9915 (+/-0.0057) for {'MLP__hidden_layer_sizes': (100,), 'MLP__alpha': 0.0001, 'PCA__n_components': 100}\n",
      "0.9915 (+/-0.0041) for {'MLP__hidden_layer_sizes': (100, 100), 'MLP__alpha': 0.0001, 'PCA__n_components': 125}\n",
      "0.9915 (+/-0.0048) for {'MLP__hidden_layer_sizes': (100, 100), 'MLP__alpha': 0.01, 'PCA__n_components': 100}\n",
      "0.9915 (+/-0.0046) for {'MLP__hidden_layer_sizes': (100, 100), 'MLP__alpha': 0.01, 'PCA__n_components': 75}\n",
      "0.9913 (+/-0.0054) for {'MLP__hidden_layer_sizes': (100,), 'MLP__alpha': 0.1, 'PCA__n_components': 100}\n",
      "0.9913 (+/-0.0031) for {'MLP__hidden_layer_sizes': (100, 100, 100), 'MLP__alpha': 0.1, 'PCA__n_components': 75}\n",
      "0.9913 (+/-0.0051) for {'MLP__hidden_layer_sizes': (100, 100, 100), 'MLP__alpha': 0.01, 'PCA__n_components': 75}\n",
      "0.9911 (+/-0.0079) for {'MLP__hidden_layer_sizes': (100, 100), 'MLP__alpha': 0.1, 'PCA__n_components': 75}\n",
      "0.9909 (+/-0.0065) for {'MLP__hidden_layer_sizes': (100, 100), 'MLP__alpha': 0.001, 'PCA__n_components': 100}\n",
      "0.9909 (+/-0.0023) for {'MLP__hidden_layer_sizes': (100, 100, 100), 'MLP__alpha': 0.0001, 'PCA__n_components': 100}\n",
      "0.9905 (+/-0.0041) for {'MLP__hidden_layer_sizes': (100, 100, 100), 'MLP__alpha': 0.01, 'PCA__n_components': 125}\n",
      "0.9901 (+/-0.0067) for {'MLP__hidden_layer_sizes': (100,), 'MLP__alpha': 0.1, 'PCA__n_components': 125}\n",
      "0.9899 (+/-0.0063) for {'MLP__hidden_layer_sizes': (100, 100, 100), 'MLP__alpha': 0.001, 'PCA__n_components': 75}\n",
      "0.9899 (+/-0.0054) for {'MLP__hidden_layer_sizes': (100,), 'MLP__alpha': 0.1, 'PCA__n_components': 75}\n",
      "0.9897 (+/-0.0078) for {'MLP__hidden_layer_sizes': (100, 100, 100), 'MLP__alpha': 0.01, 'PCA__n_components': 100}\n",
      "0.9897 (+/-0.0051) for {'MLP__hidden_layer_sizes': (100, 100, 100), 'MLP__alpha': 0.001, 'PCA__n_components': 100}\n",
      "0.9891 (+/-0.0124) for {'MLP__hidden_layer_sizes': (100, 100, 100), 'MLP__alpha': 0.0001, 'PCA__n_components': 75}\n",
      "{'MLP__hidden_layer_sizes': (100,), 'MLP__alpha': 0.001, 'PCA__n_components': 125}\n"
     ]
    }
   ],
   "source": [
    "odr = np.argsort(grid.cv_results_['mean_test_score'])\n",
    "for i in reversed(odr):\n",
    "    print(\"%0.4f (+/-%0.04f) for %r\" % \n",
    "        (grid.cv_results_['mean_test_score'][i], \n",
    "         grid.cv_results_['std_test_score'][i] * 2, \n",
    "         grid.cv_results_['params'][i]))\n",
    "print(grid.best_params_)"
   ]
  },
  {
   "cell_type": "code",
   "execution_count": 430,
   "metadata": {},
   "outputs": [
    {
     "name": "stdout",
     "output_type": "stream",
     "text": [
      "accuracy on original set =  0.990476190476\n",
      "accuracy =  0.990476190476\n"
     ]
    },
    {
     "data": {
      "image/png": "[encoded data removed]",
      "text/plain": [
       "<matplotlib.figure.Figure at 0x7fb89f82a588>"
      ]
     },
     "metadata": {},
     "output_type": "display_data"
    },
    {
     "name": "stdout",
     "output_type": "stream",
     "text": [
      "col_0  /  0  1  2  3  4  5  6  7  8  9  :   ?  All\n",
      "row_0                                             \n",
      "/      3  0  0  0  0  0  0  0  0  0  0  0   0    3\n",
      "0      0  3  0  0  0  0  0  0  0  0  0  0   0    3\n",
      "1      0  0  3  0  0  0  0  0  0  0  0  0   0    3\n",
      "2      0  0  0  3  0  0  0  0  0  0  0  0   0    3\n",
      "3      0  0  0  0  3  0  0  0  0  0  0  0   0    3\n",
      "4      0  0  0  0  0  3  0  0  0  0  0  0   0    3\n",
      "5      0  0  0  0  0  0  5  0  0  0  0  0   0    5\n",
      "6      0  0  0  0  0  0  0  3  0  0  0  0   0    3\n",
      "7      0  0  0  0  0  0  0  0  3  0  0  0   0    3\n",
      "8      0  0  0  0  0  0  0  0  0  2  0  0   0    2\n",
      "9      0  0  0  0  0  0  0  0  0  0  3  0   0    3\n",
      ":      0  0  0  0  0  0  0  0  0  0  0  2   0    2\n",
      "?      0  0  0  1  0  0  0  0  0  0  0  0  68   69\n",
      "All    3  3  3  4  3  3  5  3  3  2  3  2  68  105\n",
      "accuracy =  0.993904267013\n"
     ]
    },
    {
     "data": {
      "image/png": "[encoded data removed]",
      "text/plain": [
       "<matplotlib.figure.Figure at 0x7fb89ebee2e8>"
      ]
     },
     "metadata": {},
     "output_type": "display_data"
    },
    {
     "name": "stdout",
     "output_type": "stream",
     "text": [
      "col_0    /    0    1    2    3    4    5    6    7    8    9    :     ?    All\n",
      "row_0                                                                         \n",
      "/      284    0    0    0    0    0    0    0    0    0    0    0     2    286\n",
      "0        0  284    0    0    0    0    0    0    0    0    0    0     3    287\n",
      "1        0    0  285    0    0    0    0    0    0    0    0    0     1    286\n",
      "2        0    0    0  286    0    0    1    0    0    0    0    0     0    287\n",
      "3        0    0    0    0  283    0    0    0    0    0    0    0     2    285\n",
      "4        0    0    0    0    0  286    0    0    0    0    0    0     0    286\n",
      "5        0    0    0    0    0    0  477    0    0    0    0    0     0    477\n",
      "6        0    0    0    0    0    0    0  283    0    0    0    0     3    286\n",
      "7        0    0    0    0    0    0    0    0  284    0    1    0     0    285\n",
      "8        0    0    0    0    0    0    0    0    0  181    0    0     9    190\n",
      "9        0    0    0    0    0    0    0    0    0    0  286    0     0    286\n",
      ":        0    0    0    0    0    0    0    0    0    0    0  176    14    190\n",
      "?        0    0    0   12    0    0    7    6    0    0    0    0  6551   6576\n",
      "All    284  284  285  298  283  286  485  289  284  181  287  176  6585  10007\n"
     ]
    }
   ],
   "source": [
    "print('accuracy on original set = ', grid.score(X_in, Y_in))\n",
    "\n",
    "diagnosis(grid, X_in, Y_in)\n",
    "diagnosis(grid, X_test, Y_test)"
   ]
  },
  {
   "cell_type": "code",
   "execution_count": 431,
   "metadata": {},
   "outputs": [
    {
     "data": {
      "text/plain": [
       "['/home/kota/Documents/kgschart/models/caption_pca-mlp-gridbest.pkl']"
      ]
     },
     "execution_count": 431,
     "metadata": {},
     "output_type": "execute_result"
    }
   ],
   "source": [
    "savename = os.path.join(modeldir, 'caption_pca-mlp-gridbest.pkl')\n",
    "\n",
    "pipe = Pipeline([\n",
    "    ('PCA', grid.best_estimator_.named_steps['PCA']),\n",
    "    ('MLP', grid.best_estimator_.named_steps['MLP'])\n",
    "])\n",
    "joblib.dump(pipe, savename)"
   ]
  },
  {
   "cell_type": "markdown",
   "metadata": {},
   "source": [
    "#### Exhaustive training until perfect accuracy"
   ]
  },
  {
   "cell_type": "code",
   "execution_count": 432,
   "metadata": {},
   "outputs": [
    {
     "name": "stdout",
     "output_type": "stream",
     "text": [
      "1009 score on test = 0.6473468572 score on original = 0.657142857143\n",
      "101909 score on test = 0.989007694614 score on original = 0.990476190476\n",
      "202809 score on test = 0.993404616768 score on original = 1.0\n",
      "303709 score on test = 0.997601678825 score on original = 1.0\n",
      "404609 score on test = 0.997301888678 score on original = 1.0\n",
      "505509 score on test = 0.998201259119 score on original = 1.0\n",
      "606409 score on test = 0.998800839412 score on original = 1.0\n",
      "707309 score on test = 0.99900069951 score on original = 1.0\n",
      "808209 score on test = 0.997801538923 score on original = 1.0\n",
      "909109 score on test = 0.999400419706 score on original = 1.0\n",
      "1010009 score on test = 0.999600279804 score on original = 1.0\n",
      "1110909 score on test = 0.999600279804 score on original = 1.0\n",
      "1211809 score on test = 0.998900769461 score on original = 1.0\n",
      "1312709 score on test = 0.999600279804 score on original = 1.0\n",
      "1413609 score on test = 0.999700209853 score on original = 1.0\n",
      "DONE!\n"
     ]
    }
   ],
   "source": [
    "np.random.seed(87)\n",
    "\n",
    "# create data prep pipeline and\n",
    "# fit pca before learning\n",
    "# this way, we can fix the features to pass to MLP\n",
    "# if we use incrementalPCA and fit online, then the MLP learning would \n",
    "# mess up since there is no guarantee that PCA component i now is the \n",
    "# same as the component i in the next fitted PCA\n",
    "pca = PCA(n_components=125)\n",
    "pipe_prep = Pipeline([\n",
    "    ('flatten', Flatten()), \n",
    "    ('PCA', pca)\n",
    "])\n",
    "pipe_prep.fit(X_train)\n",
    "\n",
    "model = MLPClassifier((100,100,100), alpha=0.01, warm_start=True)\n",
    "pipe_pred = Pipeline([\n",
    "    ('prep', pipe_prep),\n",
    "    ('MLP', model)\n",
    "])\n",
    "\n",
    "classes = grid.best_estimator_.classes_\n",
    "\n",
    "train_gen = ImageDataGenerator(width_shift_range=0.1, height_shift_range=0.1, \n",
    "                               data_format='channels_last', channel_shift_range=0.1)\n",
    "\n",
    "num = 0\n",
    "result = None\n",
    "counter = 0\n",
    "consec_ones = 0\n",
    "#for X_batch,Y_batch in train_gen.flow(np.expand_dims(X_in, axis=4), \n",
    "#                                      Y_in, batch_size=1000):\n",
    "while counter <= 5000: \n",
    "    X_batch,Y_batch = generate_augmented_data(X_in, Y_in, 1000)\n",
    "    counter += 1\n",
    "    if counter > 5000: break\n",
    "        \n",
    "    model.partial_fit(pipe_prep.transform(X_batch.squeeze()), \n",
    "                      Y_batch, classes)\n",
    "    num += len(Y_batch)\n",
    "    \n",
    "    score_test     = pipe_pred.score(X_test, Y_test)\n",
    "    score_original = pipe_pred.score(X_in, Y_in)\n",
    "    tmp = dict(size = [num], score_test = [score_test], \n",
    "               score_original = [score_original])\n",
    "    tmp = pd.DataFrame(tmp)\n",
    "    if result is None:\n",
    "        result = tmp\n",
    "    else:\n",
    "        result = result.append(tmp)\n",
    "    \n",
    "    if counter % 100 == 1:\n",
    "        print(num, 'score on test =', score_test,\n",
    "              'score on original =', score_original)\n",
    "    if score_test == 1.0 and score_original == 1.0:\n",
    "        consec_ones += 1\n",
    "    if consec_ones >= 10:\n",
    "        print('DONE!')\n",
    "        break"
   ]
  },
  {
   "cell_type": "code",
   "execution_count": 433,
   "metadata": {},
   "outputs": [
    {
     "name": "stdout",
     "output_type": "stream",
     "text": [
      "accuracy =  1.0\n",
      "col_0  /  0  1  2  3  4  5  6  7  8  9  :   ?  All\n",
      "row_0                                             \n",
      "/      3  0  0  0  0  0  0  0  0  0  0  0   0    3\n",
      "0      0  3  0  0  0  0  0  0  0  0  0  0   0    3\n",
      "1      0  0  3  0  0  0  0  0  0  0  0  0   0    3\n",
      "2      0  0  0  3  0  0  0  0  0  0  0  0   0    3\n",
      "3      0  0  0  0  3  0  0  0  0  0  0  0   0    3\n",
      "4      0  0  0  0  0  3  0  0  0  0  0  0   0    3\n",
      "5      0  0  0  0  0  0  5  0  0  0  0  0   0    5\n",
      "6      0  0  0  0  0  0  0  3  0  0  0  0   0    3\n",
      "7      0  0  0  0  0  0  0  0  3  0  0  0   0    3\n",
      "8      0  0  0  0  0  0  0  0  0  2  0  0   0    2\n",
      "9      0  0  0  0  0  0  0  0  0  0  3  0   0    3\n",
      ":      0  0  0  0  0  0  0  0  0  0  0  2   0    2\n",
      "?      0  0  0  0  0  0  0  0  0  0  0  0  69   69\n",
      "All    3  3  3  3  3  3  5  3  3  2  3  2  69  105\n",
      "accuracy =  1.0\n",
      "col_0    /    0    1    2    3    4    5    6    7    8    9    :     ?    All\n",
      "row_0                                                                         \n",
      "/      286    0    0    0    0    0    0    0    0    0    0    0     0    286\n",
      "0        0  287    0    0    0    0    0    0    0    0    0    0     0    287\n",
      "1        0    0  286    0    0    0    0    0    0    0    0    0     0    286\n",
      "2        0    0    0  287    0    0    0    0    0    0    0    0     0    287\n",
      "3        0    0    0    0  285    0    0    0    0    0    0    0     0    285\n",
      "4        0    0    0    0    0  286    0    0    0    0    0    0     0    286\n",
      "5        0    0    0    0    0    0  477    0    0    0    0    0     0    477\n",
      "6        0    0    0    0    0    0    0  286    0    0    0    0     0    286\n",
      "7        0    0    0    0    0    0    0    0  285    0    0    0     0    285\n",
      "8        0    0    0    0    0    0    0    0    0  190    0    0     0    190\n",
      "9        0    0    0    0    0    0    0    0    0    0  286    0     0    286\n",
      ":        0    0    0    0    0    0    0    0    0    0    0  190     0    190\n",
      "?        0    0    0    0    0    0    0    0    0    0    0    0  6576   6576\n",
      "All    286  287  286  287  285  286  477  286  285  190  286  190  6576  10007\n"
     ]
    }
   ],
   "source": [
    "diagnosis(pipe_pred, X_in, Y_in)\n",
    "diagnosis(pipe_pred, X_test, Y_test)"
   ]
  },
  {
   "cell_type": "code",
   "execution_count": 434,
   "metadata": {},
   "outputs": [
    {
     "data": {
      "image/png": "[encoded data removed]",
      "text/plain": [
       "<matplotlib.figure.Figure at 0x7fb89f279f98>"
      ]
     },
     "metadata": {},
     "output_type": "display_data"
    }
   ],
   "source": [
    "sns.set()\n",
    "plt.plot(result['size'], result['score_original'], 'b:', label='original')\n",
    "plt.plot(result['size'], result['score_test'], 'r--', label='test') \n",
    "plt.legend()\n",
    "plt.ylabel('accuracy')\n",
    "plt.xlabel('data size')\n",
    "plt.show(block=False)"
   ]
  },
  {
   "cell_type": "code",
   "execution_count": 435,
   "metadata": {},
   "outputs": [
    {
     "data": {
      "text/plain": [
       "['/home/kota/Documents/kgschart/models/caption-ja_pca-mlp-full.pkl']"
      ]
     },
     "execution_count": 435,
     "metadata": {},
     "output_type": "execute_result"
    }
   ],
   "source": [
    "# save PCA-MLP part\n",
    "savename = os.path.join(modeldir, 'caption-ja_pca-mlp-full.pkl')\n",
    "pipe = ([('PCA', pca), ('MLP', model)])\n",
    "joblib.dump(pipe, savename)"
   ]
  },
  {
   "cell_type": "markdown",
   "metadata": {},
   "source": [
    "This model looks reasonable!  This would be our first choice."
   ]
  },
  {
   "cell_type": "markdown",
   "metadata": {},
   "source": [
    "### Two step classification"
   ]
  },
  {
   "cell_type": "markdown",
   "metadata": {},
   "source": [
    "#### Classify relevant vs not"
   ]
  },
  {
   "cell_type": "code",
   "execution_count": 436,
   "metadata": {},
   "outputs": [],
   "source": [
    "Y_in1 = (Y_in != '?') \n",
    "\n",
    "# generate test data from image data generator\n",
    "X_test, Y_test = generate_augmented_data(X_in, Y_in1, 10000, seed = 8)\n",
    "\n",
    "# generate train data too\n",
    "X_train, Y_train = generate_augmented_data(X_in, Y_in1, 5000, seed = 7)"
   ]
  },
  {
   "cell_type": "markdown",
   "metadata": {},
   "source": [
    "**Logistic regression**"
   ]
  },
  {
   "cell_type": "code",
   "execution_count": 437,
   "metadata": {},
   "outputs": [
    {
     "name": "stdout",
     "output_type": "stream",
     "text": [
      "accuracy =  0.815629059658\n"
     ]
    },
    {
     "data": {
      "image/png": "[encoded data removed]",
      "text/plain": [
       "<matplotlib.figure.Figure at 0x7fb89f391358>"
      ]
     },
     "metadata": {},
     "output_type": "display_data"
    },
    {
     "name": "stdout",
     "output_type": "stream",
     "text": [
      "col_0  False  True    All\n",
      "row_0                    \n",
      "False   5807   769   6576\n",
      "True    1076  2355   3431\n",
      "All     6883  3124  10007\n",
      "accuracy =  0.895238095238\n"
     ]
    },
    {
     "data": {
      "image/png": "[encoded data removed]",
      "text/plain": [
       "<matplotlib.figure.Figure at 0x7fb89f454198>"
      ]
     },
     "metadata": {},
     "output_type": "display_data"
    },
    {
     "name": "stdout",
     "output_type": "stream",
     "text": [
      "col_0  False  True  All\n",
      "row_0                  \n",
      "False     62     7   69\n",
      "True       4    32   36\n",
      "All       66    39  105\n"
     ]
    }
   ],
   "source": [
    "pipe = Pipeline([\n",
    "    ('flatten', Flatten()), \n",
    "    ('PCA', PCA(n_components=100)),\n",
    "    ('Logit', LogisticRegression(penalty='l1'))\n",
    "])\n",
    "pipe.fit(X_train, Y_train)\n",
    "\n",
    "diagnosis(pipe, X_test, Y_test)\n",
    "diagnosis(pipe, X_in, Y_in1)"
   ]
  },
  {
   "cell_type": "markdown",
   "metadata": {},
   "source": [
    "**MLP**"
   ]
  },
  {
   "cell_type": "code",
   "execution_count": 438,
   "metadata": {},
   "outputs": [
    {
     "name": "stdout",
     "output_type": "stream",
     "text": [
      "accuracy =  0.993304686719\n"
     ]
    },
    {
     "data": {
      "image/png": "[encoded data removed]",
      "text/plain": [
       "<matplotlib.figure.Figure at 0x7fb89f3913c8>"
      ]
     },
     "metadata": {},
     "output_type": "display_data"
    },
    {
     "name": "stdout",
     "output_type": "stream",
     "text": [
      "col_0  False  True    All\n",
      "row_0                    \n",
      "False   6537    39   6576\n",
      "True      28  3403   3431\n",
      "All     6565  3442  10007\n",
      "accuracy =  0.990476190476\n"
     ]
    },
    {
     "data": {
      "image/png": "[encoded data removed]",
      "text/plain": [
       "<matplotlib.figure.Figure at 0x7fb896300320>"
      ]
     },
     "metadata": {},
     "output_type": "display_data"
    },
    {
     "name": "stdout",
     "output_type": "stream",
     "text": [
      "col_0  False  True  All\n",
      "row_0                  \n",
      "False     68     1   69\n",
      "True       0    36   36\n",
      "All       68    37  105\n"
     ]
    }
   ],
   "source": [
    "pipe = Pipeline([\n",
    "    ('flatten', Flatten()), \n",
    "    ('PCA', PCA(n_components=100)),\n",
    "    ('MLP', MLPClassifier((100,100,100), alpha=0.001))\n",
    "])\n",
    "pipe.fit(X_train, Y_train)\n",
    "\n",
    "\n",
    "\n",
    "diagnosis(pipe, X_test, Y_test)\n",
    "diagnosis(pipe, X_in, Y_in1)"
   ]
  },
  {
   "cell_type": "markdown",
   "metadata": {},
   "source": [
    "**Exhaustive traiging**"
   ]
  },
  {
   "cell_type": "code",
   "execution_count": 439,
   "metadata": {
    "collapsed": true
   },
   "outputs": [],
   "source": [
    "classes = pipe.named_steps['MLP'].classes_"
   ]
  },
  {
   "cell_type": "code",
   "execution_count": 440,
   "metadata": {},
   "outputs": [
    {
     "name": "stdout",
     "output_type": "stream",
     "text": [
      "516 score on test = 0.64634755671 score on original = 0.619047619048\n",
      "52116 score on test = 0.993104826621 score on original = 1.0\n",
      "103716 score on test = 0.999200559608 score on original = 1.0\n",
      "155316 score on test = 0.998600979314 score on original = 1.0\n",
      "206916 score on test = 0.99810132907 score on original = 1.0\n",
      "258516 score on test = 0.998800839412 score on original = 1.0\n",
      "310116 score on test = 0.999700209853 score on original = 1.0\n",
      "361716 score on test = 0.999400419706 score on original = 1.0\n",
      "413316 score on test = 0.999700209853 score on original = 1.0\n",
      "DONE!\n"
     ]
    }
   ],
   "source": [
    "np.random.seed(87)\n",
    "\n",
    "\n",
    "# create data prep pipeline and\n",
    "# fit pca before learning\n",
    "# this way, we can fix the features to pass to MLP\n",
    "# if we use incrementalPCA and fit online, then the MLP learning would \n",
    "# mess up since there is no guarantee that PCA component i now is the \n",
    "# same as the component i in the next fitted PCA\n",
    "pca = PCA(n_components=125)\n",
    "pipe_prep = Pipeline([\n",
    "    ('flatten', Flatten()), \n",
    "    ('PCA', pca)\n",
    "])\n",
    "pipe_prep.fit(X_train)\n",
    "\n",
    "model = MLPClassifier((100,100,100), alpha=0.01, warm_start=True)\n",
    "pipe_pred = Pipeline([\n",
    "    ('prep', pipe_prep),\n",
    "    ('MLP', model)\n",
    "])\n",
    "\n",
    "\n",
    "train_gen = ImageDataGenerator(width_shift_range=0.1, height_shift_range=0.1, \n",
    "                               data_format='channels_last', channel_shift_range=0.1)\n",
    "\n",
    "num = 0\n",
    "result = None\n",
    "counter = 0\n",
    "consec_ones = 0\n",
    "#for X_batch,Y_batch in train_gen.flow(np.expand_dims(X_in, axis=4), \n",
    "#                                      Y_in, batch_size=1000):\n",
    "while counter <= 5000: \n",
    "    X_batch,Y_batch = generate_augmented_data(X_in, Y_in1, 500)\n",
    "    counter += 1\n",
    "    if counter > 5000: break\n",
    "        \n",
    "    model.partial_fit(pipe_prep.transform(X_batch.squeeze()), \n",
    "                      Y_batch, classes)\n",
    "    num += len(Y_batch)\n",
    "    \n",
    "    score_test     = pipe_pred.score(X_test, Y_test)\n",
    "    score_original = pipe_pred.score(X_in, Y_in1)\n",
    "    tmp = dict(size = [num], score_test = [score_test], \n",
    "               score_original = [score_original])\n",
    "    tmp = pd.DataFrame(tmp)\n",
    "    if result is None:\n",
    "        result = tmp\n",
    "    else:\n",
    "        result = result.append(tmp)\n",
    "    \n",
    "    if counter % 100 == 1:\n",
    "        print(num, 'score on test =', score_test,\n",
    "              'score on original =', score_original)\n",
    "    if score_test == 1.0 and score_original == 1.0:\n",
    "        consec_ones += 1\n",
    "    if consec_ones >= 10:\n",
    "        print('DONE!')\n",
    "        break"
   ]
  },
  {
   "cell_type": "code",
   "execution_count": 441,
   "metadata": {},
   "outputs": [
    {
     "name": "stdout",
     "output_type": "stream",
     "text": [
      "accuracy =  1.0\n",
      "col_0  False  True  All\n",
      "row_0                  \n",
      "False     69     0   69\n",
      "True       0    36   36\n",
      "All       69    36  105\n",
      "accuracy =  1.0\n",
      "col_0  False  True    All\n",
      "row_0                    \n",
      "False   6576     0   6576\n",
      "True       0  3431   3431\n",
      "All     6576  3431  10007\n"
     ]
    }
   ],
   "source": [
    "diagnosis(pipe_pred, X_in, Y_in1)\n",
    "diagnosis(pipe_pred, X_test, Y_test)"
   ]
  },
  {
   "cell_type": "code",
   "execution_count": 442,
   "metadata": {},
   "outputs": [
    {
     "data": {
      "image/png": "[encoded data removed]",
      "text/plain": [
       "<matplotlib.figure.Figure at 0x7fb89f71a438>"
      ]
     },
     "metadata": {},
     "output_type": "display_data"
    }
   ],
   "source": [
    "sns.set()\n",
    "plt.plot(result['size'], result['score_original'], 'b:', label='original')\n",
    "plt.plot(result['size'], result['score_test'], 'r--', label='test') \n",
    "plt.legend()\n",
    "plt.ylabel('accuracy')\n",
    "plt.xlabel('data size')\n",
    "plt.show(block=False)"
   ]
  },
  {
   "cell_type": "code",
   "execution_count": 443,
   "metadata": {},
   "outputs": [
    {
     "data": {
      "text/plain": [
       "['/home/kota/Documents/kgschart/models/caption-ja_pca-mlp-step1-full.pkl']"
      ]
     },
     "execution_count": 443,
     "metadata": {},
     "output_type": "execute_result"
    }
   ],
   "source": [
    "savename = os.path.join(modeldir, 'caption-ja_pca-mlp-step1-full.pkl')\n",
    "pipe = ([('PCA', pca), ('MLP', model)])\n",
    "joblib.dump(pipe, savename)"
   ]
  },
  {
   "cell_type": "markdown",
   "metadata": {},
   "source": [
    "#### Classification among relevant letters"
   ]
  },
  {
   "cell_type": "code",
   "execution_count": 444,
   "metadata": {},
   "outputs": [],
   "source": [
    "X_in2 = X_in[Y_in != '?']\n",
    "Y_in2 = Y_in[Y_in != '?']\n",
    "\n",
    "pd.Series(Y_in2).value_counts()\n",
    "\n",
    "# generate test data from image data generator\n",
    "X_test, Y_test = generate_augmented_data(X_in2, Y_in2, 10000, seed = 8)\n",
    "\n",
    "# generate train data too\n",
    "X_train, Y_train = generate_augmented_data(X_in2, Y_in2, 5000, seed = 7)"
   ]
  },
  {
   "cell_type": "code",
   "execution_count": 445,
   "metadata": {},
   "outputs": [
    {
     "data": {
      "image/png": "[encoded data removed]",
      "text/plain": [
       "<matplotlib.figure.Figure at 0x7fb8a4096518>"
      ]
     },
     "metadata": {},
     "output_type": "display_data"
    },
    {
     "data": {
      "image/png": "[encoded data removed]",
      "text/plain": [
       "<matplotlib.figure.Figure at 0x7fb8b02de0b8>"
      ]
     },
     "metadata": {},
     "output_type": "display_data"
    },
    {
     "name": "stdout",
     "output_type": "stream",
     "text": [
      "1 0.106337789764\n",
      "2 0.206785193527\n",
      "3 0.288621481792\n",
      "4 0.357563263082\n",
      "5 0.409406179982\n",
      "6 0.449500613026\n",
      "7 0.488588549139\n",
      "8 0.524127327354\n",
      "9 0.554288814738\n",
      "10 0.583226291247\n",
      "11 0.610458775554\n",
      "12 0.634168548935\n",
      "13 0.65629153228\n",
      "14 0.67599837304\n",
      "15 0.694713071329\n",
      "16 0.711334256613\n",
      "17 0.727086410273\n",
      "18 0.74191893188\n",
      "19 0.755852644277\n",
      "20 0.768376816794\n",
      "21 0.780586328644\n",
      "22 0.792100025615\n",
      "23 0.802413652023\n",
      "24 0.812195713006\n",
      "25 0.821323224678\n",
      "26 0.829794077768\n",
      "27 0.837384590521\n",
      "28 0.844640851916\n",
      "29 0.851592014113\n",
      "30 0.858305055803\n",
      "31 0.864658873374\n",
      "32 0.870747364715\n",
      "33 0.876603567517\n",
      "34 0.882075566642\n",
      "35 0.887205535703\n",
      "36 0.892228055524\n",
      "37 0.897044228978\n",
      "38 0.901766374562\n",
      "39 0.906200125707\n",
      "40 0.910471933391\n",
      "41 0.914622849818\n",
      "42 0.918629828298\n",
      "43 0.922285740068\n",
      "44 0.92582918072\n",
      "45 0.929228716203\n",
      "46 0.932306679095\n",
      "47 0.935286071956\n",
      "48 0.938164506072\n",
      "49 0.941000507178\n",
      "50 0.943742511938\n",
      "51 0.946298564089\n",
      "52 0.948707575119\n",
      "53 0.950989302419\n",
      "54 0.953224379163\n",
      "55 0.955386008129\n",
      "56 0.957476892371\n",
      "57 0.959534776927\n",
      "58 0.961483903102\n",
      "59 0.963313779179\n",
      "60 0.965107299407\n",
      "61 0.966825973813\n",
      "62 0.968448362639\n",
      "63 0.970039566877\n",
      "64 0.971555677752\n",
      "65 0.973045083738\n",
      "66 0.974385537508\n",
      "67 0.975661655341\n",
      "68 0.976909617959\n",
      "69 0.978119965862\n",
      "70 0.979291082544\n",
      "71 0.980371823423\n",
      "72 0.981367963247\n",
      "73 0.982353148278\n",
      "74 0.98328402091\n",
      "75 0.984201452129\n",
      "76 0.984999778542\n",
      "77 0.98578539739\n",
      "78 0.986536080252\n",
      "79 0.987271233934\n",
      "80 0.987970662977\n",
      "81 0.988632964931\n",
      "82 0.989256173871\n",
      "83 0.989860014947\n",
      "84 0.990448029936\n",
      "85 0.99101638013\n",
      "86 0.991545288701\n",
      "87 0.992057706785\n",
      "88 0.992553770817\n",
      "89 0.993020385911\n",
      "90 0.99347617482\n",
      "91 0.993880071032\n",
      "92 0.994270602145\n",
      "93 0.994633739421\n",
      "94 0.994990862141\n",
      "95 0.995318592314\n",
      "96 0.995621035998\n",
      "97 0.995909391873\n",
      "98 0.99618458842\n",
      "99 0.996442362399\n",
      "100 0.996694073268\n",
      "101 0.996931274158\n",
      "102 0.997152602263\n",
      "103 0.997367298762\n",
      "104 0.997565745448\n",
      "105 0.99775098037\n",
      "106 0.997918622465\n",
      "107 0.998079033293\n",
      "108 0.998229894981\n",
      "109 0.998372988696\n",
      "110 0.99850812098\n",
      "111 0.998633897602\n",
      "112 0.998756812364\n",
      "113 0.998868350034\n",
      "114 0.998975327269\n",
      "115 0.99907867429\n",
      "116 0.999159925085\n",
      "117 0.99923723557\n",
      "118 0.999308978034\n",
      "119 0.999375397255\n",
      "120 0.99943639749\n",
      "121 0.999496219667\n",
      "122 0.999551814495\n",
      "123 0.999598694455\n",
      "124 0.999642521474\n",
      "125 0.999685584144\n",
      "126 0.99972507763\n",
      "127 0.99976036793\n",
      "128 0.999794991082\n",
      "129 0.999826710367\n",
      "130 0.999853924724\n",
      "131 0.999877811125\n",
      "132 0.999898999453\n",
      "133 0.999916672356\n",
      "134 0.999933371898\n",
      "135 0.999948301259\n",
      "136 0.999961360784\n",
      "137 0.99997160995\n",
      "138 0.999980449617\n",
      "139 0.999988214837\n",
      "140 0.99999313867\n",
      "141 0.999997924167\n",
      "142 0.999998875294\n",
      "143 0.999999611064\n",
      "144 0.999999880398\n",
      "145 0.999999999993\n",
      "146 1.0\n",
      "147 1.0\n",
      "148 1.0\n",
      "149 1.0\n",
      "150 1.0\n",
      "151 1.0\n",
      "152 1.0\n",
      "153 1.0\n",
      "154 1.0\n",
      "155 1.0\n",
      "156 1.0\n",
      "157 1.0\n",
      "158 1.0\n",
      "159 1.0\n",
      "160 1.0\n",
      "161 1.0\n",
      "162 1.0\n",
      "163 1.0\n",
      "164 1.0\n",
      "165 1.0\n",
      "166 1.0\n",
      "167 1.0\n",
      "168 1.0\n",
      "169 1.0\n",
      "170 1.0\n",
      "171 1.0\n",
      "172 1.0\n",
      "173 1.0\n",
      "174 1.0\n",
      "175 1.0\n",
      "176 1.0\n",
      "177 1.0\n",
      "178 1.0\n",
      "179 1.0\n",
      "180 1.0\n",
      "181 1.0\n",
      "182 1.0\n",
      "183 1.0\n",
      "184 1.0\n",
      "185 1.0\n",
      "186 1.0\n",
      "187 1.0\n"
     ]
    }
   ],
   "source": [
    "pipe_pca = Pipeline([('flatten', Flatten()), ('PCA', PCA())]) \n",
    "pipe_pca.fit(X_train)\n",
    "\n",
    "sns.set()\n",
    "plt.plot(pipe_pca.named_steps['PCA'].explained_variance_ratio_, linewidth=2)\n",
    "plt.show(block=False)\n",
    "\n",
    "cum = pipe_pca.named_steps['PCA'].explained_variance_ratio_.cumsum()\n",
    "plt.plot(cum, linewidth=2)\n",
    "plt.show(block=False)\n",
    "for i in range(len(cum)):\n",
    "    print(i+1, cum[i])"
   ]
  },
  {
   "cell_type": "markdown",
   "metadata": {},
   "source": [
    "100 or 80?"
   ]
  },
  {
   "cell_type": "code",
   "execution_count": 446,
   "metadata": {},
   "outputs": [
    {
     "name": "stdout",
     "output_type": "stream",
     "text": [
      "accuracy =  1.0\n",
      "col_0    /    0    1    2    3    4     5    6    7    8    9    :    All\n",
      "row_0                                                                    \n",
      "/      834    0    0    0    0    0     0    0    0    0    0    0    834\n",
      "0        0  834    0    0    0    0     0    0    0    0    0    0    834\n",
      "1        0    0  833    0    0    0     0    0    0    0    0    0    833\n",
      "2        0    0    0  834    0    0     0    0    0    0    0    0    834\n",
      "3        0    0    0    0  834    0     0    0    0    0    0    0    834\n",
      "4        0    0    0    0    0  834     0    0    0    0    0    0    834\n",
      "5        0    0    0    0    0    0  1390    0    0    0    0    0   1390\n",
      "6        0    0    0    0    0    0     0  833    0    0    0    0    833\n",
      "7        0    0    0    0    0    0     0    0  834    0    0    0    834\n",
      "8        0    0    0    0    0    0     0    0    0  555    0    0    555\n",
      "9        0    0    0    0    0    0     0    0    0    0  834    0    834\n",
      ":        0    0    0    0    0    0     0    0    0    0    0  555    555\n",
      "All    834  834  833  834  834  834  1390  833  834  555  834  555  10004\n",
      "accuracy =  1.0\n",
      "col_0  /  0  1  2  3  4  5  6  7  8  9  :  All\n",
      "row_0                                         \n",
      "/      3  0  0  0  0  0  0  0  0  0  0  0    3\n",
      "0      0  3  0  0  0  0  0  0  0  0  0  0    3\n",
      "1      0  0  3  0  0  0  0  0  0  0  0  0    3\n",
      "2      0  0  0  3  0  0  0  0  0  0  0  0    3\n",
      "3      0  0  0  0  3  0  0  0  0  0  0  0    3\n",
      "4      0  0  0  0  0  3  0  0  0  0  0  0    3\n",
      "5      0  0  0  0  0  0  5  0  0  0  0  0    5\n",
      "6      0  0  0  0  0  0  0  3  0  0  0  0    3\n",
      "7      0  0  0  0  0  0  0  0  3  0  0  0    3\n",
      "8      0  0  0  0  0  0  0  0  0  2  0  0    2\n",
      "9      0  0  0  0  0  0  0  0  0  0  3  0    3\n",
      ":      0  0  0  0  0  0  0  0  0  0  0  2    2\n",
      "All    3  3  3  3  3  3  5  3  3  2  3  2   36\n"
     ]
    },
    {
     "data": {
      "text/plain": [
       "array(['/', '0', '1', '2', '3', '4', '5', '6', '7', '8', '9', ':'], \n",
       "      dtype='<U1')"
      ]
     },
     "execution_count": 446,
     "metadata": {},
     "output_type": "execute_result"
    }
   ],
   "source": [
    "pipe_mlp = Pipeline([\n",
    "    ('flatten', Flatten()), ('PCA', PCA(n_components=80)), ('MLP', MLPClassifier())\n",
    "]) \n",
    "pipe_mlp.fit(X_train, Y_train)\n",
    "diagnosis(pipe_mlp, X_test, Y_test)\n",
    "diagnosis(pipe_mlp, X_in2, Y_in2)\n",
    "\n",
    "classes = pipe_mlp.named_steps['MLP'].classes_\n",
    "classes"
   ]
  },
  {
   "cell_type": "code",
   "execution_count": 447,
   "metadata": {},
   "outputs": [
    {
     "name": "stdout",
     "output_type": "stream",
     "text": [
      "500 score on test = 0.196721311475 score on original = 0.111111111111\n",
      "DONE!\n"
     ]
    }
   ],
   "source": [
    "np.random.seed(87)\n",
    "\n",
    "\n",
    "# create data prep pipeline and\n",
    "# fit pca before learning\n",
    "# this way, we can fix the features to pass to MLP\n",
    "# if we use incrementalPCA and fit online, then the MLP learning would \n",
    "# mess up since there is no guarantee that PCA component i now is the \n",
    "# same as the component i in the next fitted PCA\n",
    "pca = PCA(n_components=80)\n",
    "pipe_prep = Pipeline([\n",
    "    ('flatten', Flatten()), \n",
    "    ('PCA', pca)\n",
    "])\n",
    "pipe_prep.fit(X_train)\n",
    "\n",
    "model = MLPClassifier((100,100,100), alpha=0.01, warm_start=True)\n",
    "pipe_pred = Pipeline([\n",
    "    ('prep', pipe_prep),\n",
    "    ('MLP', model)\n",
    "])\n",
    "\n",
    "\n",
    "train_gen = ImageDataGenerator(width_shift_range=0.1, height_shift_range=0.1, \n",
    "                               data_format='channels_last', channel_shift_range=0.1)\n",
    "\n",
    "num = 0\n",
    "result = None\n",
    "counter = 0\n",
    "consec_ones = 0\n",
    "#for X_batch,Y_batch in train_gen.flow(np.expand_dims(X_in, axis=4), \n",
    "#                                      Y_in, batch_size=1000):\n",
    "while counter <= 5000: \n",
    "    X_batch,Y_batch = generate_augmented_data(X_in2, Y_in2, 500)\n",
    "    counter += 1\n",
    "    if counter > 5000: break\n",
    "        \n",
    "    model.partial_fit(pipe_prep.transform(X_batch.squeeze()), \n",
    "                      Y_batch, classes)\n",
    "    num += len(Y_batch)\n",
    "    \n",
    "    score_test     = pipe_pred.score(X_test, Y_test)\n",
    "    score_original = pipe_pred.score(X_in2, Y_in2)\n",
    "    tmp = dict(size = [num], score_test = [score_test], \n",
    "               score_original = [score_original])\n",
    "    tmp = pd.DataFrame(tmp)\n",
    "    if result is None:\n",
    "        result = tmp\n",
    "    else:\n",
    "        result = result.append(tmp)\n",
    "    \n",
    "    if counter % 100 == 1:\n",
    "        print(num, 'score on test =', score_test,\n",
    "              'score on original =', score_original)\n",
    "    if score_test == 1.0 and score_original == 1.0:\n",
    "        consec_ones += 1\n",
    "    if consec_ones >= 10:\n",
    "        print('DONE!')\n",
    "        break"
   ]
  },
  {
   "cell_type": "code",
   "execution_count": 448,
   "metadata": {},
   "outputs": [
    {
     "name": "stdout",
     "output_type": "stream",
     "text": [
      "accuracy =  1.0\n",
      "col_0  /  0  1  2  3  4  5  6  7  8  9  :  All\n",
      "row_0                                         \n",
      "/      3  0  0  0  0  0  0  0  0  0  0  0    3\n",
      "0      0  3  0  0  0  0  0  0  0  0  0  0    3\n",
      "1      0  0  3  0  0  0  0  0  0  0  0  0    3\n",
      "2      0  0  0  3  0  0  0  0  0  0  0  0    3\n",
      "3      0  0  0  0  3  0  0  0  0  0  0  0    3\n",
      "4      0  0  0  0  0  3  0  0  0  0  0  0    3\n",
      "5      0  0  0  0  0  0  5  0  0  0  0  0    5\n",
      "6      0  0  0  0  0  0  0  3  0  0  0  0    3\n",
      "7      0  0  0  0  0  0  0  0  3  0  0  0    3\n",
      "8      0  0  0  0  0  0  0  0  0  2  0  0    2\n",
      "9      0  0  0  0  0  0  0  0  0  0  3  0    3\n",
      ":      0  0  0  0  0  0  0  0  0  0  0  2    2\n",
      "All    3  3  3  3  3  3  5  3  3  2  3  2   36\n",
      "accuracy =  1.0\n",
      "col_0    /    0    1    2    3    4     5    6    7    8    9    :    All\n",
      "row_0                                                                    \n",
      "/      834    0    0    0    0    0     0    0    0    0    0    0    834\n",
      "0        0  834    0    0    0    0     0    0    0    0    0    0    834\n",
      "1        0    0  833    0    0    0     0    0    0    0    0    0    833\n",
      "2        0    0    0  834    0    0     0    0    0    0    0    0    834\n",
      "3        0    0    0    0  834    0     0    0    0    0    0    0    834\n",
      "4        0    0    0    0    0  834     0    0    0    0    0    0    834\n",
      "5        0    0    0    0    0    0  1390    0    0    0    0    0   1390\n",
      "6        0    0    0    0    0    0     0  833    0    0    0    0    833\n",
      "7        0    0    0    0    0    0     0    0  834    0    0    0    834\n",
      "8        0    0    0    0    0    0     0    0    0  555    0    0    555\n",
      "9        0    0    0    0    0    0     0    0    0    0  834    0    834\n",
      ":        0    0    0    0    0    0     0    0    0    0    0  555    555\n",
      "All    834  834  833  834  834  834  1390  833  834  555  834  555  10004\n"
     ]
    }
   ],
   "source": [
    "diagnosis(pipe_pred, X_in2, Y_in2)\n",
    "diagnosis(pipe_pred, X_test, Y_test)"
   ]
  },
  {
   "cell_type": "code",
   "execution_count": 449,
   "metadata": {},
   "outputs": [
    {
     "data": {
      "image/png": "[encoded data removed]",
      "text/plain": [
       "<matplotlib.figure.Figure at 0x7fb89f3aa630>"
      ]
     },
     "metadata": {},
     "output_type": "display_data"
    }
   ],
   "source": [
    "sns.set()\n",
    "plt.plot(result['size'], result['score_original'], 'b:', label='original')\n",
    "plt.plot(result['size'], result['score_test'], 'r--', label='test') \n",
    "plt.legend()\n",
    "plt.ylabel('accuracy')\n",
    "plt.xlabel('data size')\n",
    "plt.show(block=False)"
   ]
  },
  {
   "cell_type": "code",
   "execution_count": 450,
   "metadata": {},
   "outputs": [
    {
     "data": {
      "text/plain": [
       "['/home/kota/Documents/kgschart/models/caption-ja_pca-mlp-step2-full.pkl']"
      ]
     },
     "execution_count": 450,
     "metadata": {},
     "output_type": "execute_result"
    }
   ],
   "source": [
    "savename = os.path.join(modeldir, 'caption-ja_pca-mlp-step2-full.pkl')\n",
    "pipe = ([('PCA', pca), ('MLP', model)])\n",
    "joblib.dump(pipe, savename)"
   ]
  },
  {
   "cell_type": "markdown",
   "metadata": {},
   "source": [
    "It seems that the second step (classification among relevant letters) is much easier than that first step (classification between relevant vs non-relevant letters).  I guess the main reason is similarity between `S` and `5`, `Z` and `2`, etc.  \n",
    "Also, since we will have a lot more unseen letters in the practice, some care will be needed.\n",
    "One idea is that, for example, if a letter is between two or three consecutive relevant letter, we assume the letter is also relevant.  With this type of aid to create consecutive relevant letters, the second step classification will not fail almost surely. "
   ]
  },
  {
   "cell_type": "markdown",
   "metadata": {},
   "source": [
    "Finally, save the input shape as the reference for later application."
   ]
  },
  {
   "cell_type": "code",
   "execution_count": 454,
   "metadata": {},
   "outputs": [],
   "source": [
    "with open(os.path.join(modeldir, 'caption-ja-config.json'), 'w') as file:\n",
    "    json.dump(dict(input_shape=X_in.shape[1:]), file)"
   ]
  },
  {
   "cell_type": "code",
   "execution_count": null,
   "metadata": {
    "collapsed": true
   },
   "outputs": [],
   "source": []
  }
 ],
 "metadata": {
  "anaconda-cloud": {},
  "kernelspec": {
   "display_name": "Python [conda env:kgschart]",
   "language": "python",
   "name": "conda-env-kgschart-py"
  },
  "language_info": {
   "codemirror_mode": {
    "name": "ipython",
    "version": 3
   },
   "file_extension": ".py",
   "mimetype": "text/x-python",
   "name": "python",
   "nbconvert_exporter": "python",
   "pygments_lexer": "ipython3",
   "version": "3.5.2"
  }
 },
 "nbformat": 4,
 "nbformat_minor": 2
}
