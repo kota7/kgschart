{
 "cells": [
  {
   "cell_type": "markdown",
   "metadata": {},
   "source": [
    "# Train a loose version of Caption-ja letter classifier\n",
    "\n",
    "Goal: **Classify letters into digits, :, /, ~ and others**\n",
    "\n",
    "Let relevant letters = `{0-9, :, /, ~}`\n",
    "\n",
    "But this time, allow confusion between letters and numbers, such as, (2,z) (5,s) (0,o,O), (1,I,i,l) (9,g)\n",
    "Even if we classify z or s as relevant letters, we still can identify date-time by regex of DD/DD/DD HH:MM.\n",
    "Bu if we misclassify 2 as z and thus exclude from relevant string, then we can not identify the date time.\n",
    "In other words, false positives are acceptable.\n",
    "\n",
    "\n",
    "Steps\n",
    "\n",
    "\n",
    "1. Remove background from all input data\n",
    "\n",
    "2. Get the maximum size of relevant letters -> `(nr, nc)`\n",
    "\n",
    "3. filter out the data with size larger than `(nr+4, nc+4)`\n",
    "\n",
    "4. Pad all remaing data to the size `(nr+4, nc+4)`\n",
    "\n",
    "5. Train classification model on the created data\n",
    "  "
   ]
  },
  {
   "cell_type": "code",
   "execution_count": 69,
   "metadata": {},
   "outputs": [],
   "source": [
    "import os\n",
    "import sys\n",
    "import json\n",
    "import numpy as np\n",
    "import pandas as pd\n",
    "from matplotlib import pyplot as plt\n",
    "import seaborn as sns\n",
    "from sklearn.externals import joblib\n",
    "from sklearn.svm import SVC\n",
    "from sklearn.decomposition import PCA\n",
    "from sklearn.neural_network import MLPClassifier\n",
    "from sklearn.linear_model import LogisticRegression\n",
    "from sklearn.pipeline import Pipeline\n",
    "from sklearn.metrics import classification_report\n",
    "from sklearn.model_selection import GridSearchCV\n",
    "from keras.preprocessing.image import ImageDataGenerator"
   ]
  },
  {
   "cell_type": "code",
   "execution_count": 70,
   "metadata": {
    "collapsed": true
   },
   "outputs": [],
   "source": [
    "proj_root = os.path.abspath(os.path.join('../')) \n",
    "datadir = os.path.join(proj_root, 'data/caption/')\n",
    "modeldir = os.path.join(proj_root, 'models/')\n",
    "arcdir = os.path.join(proj_root, 'models/archive')\n",
    "\n",
    "if not os.path.isdir(datadir): \n",
    "    print('data directory not found', os.path.abspath(datadir))\n",
    "    raise\n",
    "if not os.path.isdir(modeldir): os.path.makedirs(modeldir)\n",
    "if not os.path.isdir(modeldir): os.path.makedirs(arcdir)"
   ]
  },
  {
   "cell_type": "code",
   "execution_count": 71,
   "metadata": {
    "collapsed": true
   },
   "outputs": [],
   "source": [
    "module_path = os.path.join(proj_root, 'kgschart')\n",
    "sys.path.append(module_path)\n",
    "from utils import pad_image"
   ]
  },
  {
   "cell_type": "code",
   "execution_count": 72,
   "metadata": {
    "collapsed": true
   },
   "outputs": [],
   "source": [
    "X = np.load(os.path.join(datadir, 'X-ja.npy'))\n",
    "Y = np.load(os.path.join(datadir, 'Y-ja.npy'))"
   ]
  },
  {
   "cell_type": "code",
   "execution_count": 73,
   "metadata": {},
   "outputs": [
    {
     "data": {
      "image/png": "[encoded data removed]",
      "text/plain": [
       "<matplotlib.figure.Figure at 0x7fb48a7e32b0>"
      ]
     },
     "metadata": {},
     "output_type": "display_data"
    }
   ],
   "source": [
    "# convenient functions\n",
    "def random_plot(X, Y, predicted=None):\n",
    "    sns.set_style('white')\n",
    "    indices = np.random.choice(len(Y), min(8, len(Y)))\n",
    "    count = 0\n",
    "    for i in indices:\n",
    "        count += 1\n",
    "        ax = plt.subplot(2, 4, count)\n",
    "        ax.imshow(X[i], cmap='gray')\n",
    "        text = Y[i] if predicted is None else 'tr: %s, pr: %s' % (Y[i], predicted[i])\n",
    "        ax.text(0, 0, text, bbox={'facecolor':\"wheat\"})\n",
    "    plt.show(block=False)\n",
    "\n",
    "random_plot(X, Y)\n",
    "\n",
    "\n",
    "def compare_plot(X1, X2):\n",
    "    sns.set_style('white')\n",
    "    indices = range(3) if len(X1) <= 3 else np.random.choice(len(X1), 3)\n",
    "    count = 0\n",
    "    for i in indices:\n",
    "        count += 1\n",
    "        plt.subplot(3, 2, count)\n",
    "        plt.imshow(X1[i], cmap='gray')\n",
    "        count += 1\n",
    "        plt.subplot(3, 2, count)\n",
    "        plt.imshow(X2[i], cmap='gray')\n",
    "    plt.show(block=False)\n",
    "\n",
    "def generate_augmented_data(X, Y, target_size, seed=None):\n",
    "    datagen = ImageDataGenerator(width_shift_range=0.1, height_shift_range=0.1, \n",
    "                                 data_format='channels_last', channel_shift_range=0.5)\n",
    "    out_X = None\n",
    "    out_Y = None\n",
    "    for x,y in datagen.flow(np.expand_dims(X, axis=4), Y, seed=seed):\n",
    "        if out_X is None:\n",
    "            out_X = x\n",
    "            out_Y = y\n",
    "        else:\n",
    "            out_X = np.vstack([out_X, x])\n",
    "            out_Y = np.concatenate([out_Y, y])\n",
    "        if len(out_Y) >= target_size: \n",
    "            break\n",
    "    out_X = out_X.squeeze()\n",
    "    return out_X, out_Y\n",
    "\n",
    "\n",
    "def diagnosis(fit, X, Y):\n",
    "    print('accuracy = ', fit.score(X, Y))\n",
    "    pred = fit.predict(X)\n",
    "    wrong = (Y != pred)\n",
    "    if np.any(wrong):\n",
    "        random_plot(X[wrong], Y[wrong], pred[wrong])\n",
    "    #print(classification_report(Y, pred))\n",
    "    print(pd.crosstab(pd.Series(Y), pd.Series(pred), margins=True))\n",
    "\n"
   ]
  },
  {
   "cell_type": "markdown",
   "metadata": {},
   "source": [
    "## Step 1 Remove background from all input data"
   ]
  },
  {
   "cell_type": "code",
   "execution_count": 74,
   "metadata": {},
   "outputs": [
    {
     "data": {
      "image/png": "[encoded data removed]",
      "text/plain": [
       "<matplotlib.figure.Figure at 0x7fb48acbdac8>"
      ]
     },
     "metadata": {},
     "output_type": "display_data"
    }
   ],
   "source": [
    "def remove_background(x, bg = 1.0):\n",
    "    \"\"\"\n",
    "    from a image array of size (nrow, ncol),\n",
    "    remove all rows and cols where values are all bg\n",
    "    \"\"\"\n",
    "    not_bg = (x != bg)\n",
    "    non_bg_rows = np.any(not_bg, axis=1)\n",
    "    non_bg_cols = np.any(not_bg, axis=0)\n",
    "    \n",
    "    tmp = non_bg_rows.nonzero()[0]\n",
    "    if len(tmp) == 0: return None\n",
    "    i1 = tmp[0]\n",
    "    i2 = tmp[-1] + 1\n",
    "    \n",
    "    tmp = non_bg_cols.nonzero()[0]\n",
    "    if len(tmp) == 0: return None\n",
    "    j1 = tmp[0]\n",
    "    j2 = tmp[-1] + 1\n",
    "    \n",
    "    return x[i1:i2, j1:j2]\n",
    "\n",
    "X_nobg = [remove_background(x) for x in X]\n",
    "compare_plot(X, X_nobg)"
   ]
  },
  {
   "cell_type": "markdown",
   "metadata": {},
   "source": [
    "## Step 2 Get the maximum size of relevant letters -> (nr, nc)"
   ]
  },
  {
   "cell_type": "code",
   "execution_count": 75,
   "metadata": {},
   "outputs": [
    {
     "name": "stdout",
     "output_type": "stream",
     "text": [
      "13 7\n"
     ]
    }
   ],
   "source": [
    "max_rows = 0\n",
    "max_cols = 0\n",
    "\n",
    "relevant_letters = [s for s in '0123456789/:?']\n",
    "for i in range(len(Y)):\n",
    "    if Y[i] in relevant_letters:\n",
    "        max_rows = max(X_nobg[i].shape[0], max_rows)\n",
    "        max_cols = max(X_nobg[i].shape[1], max_cols)\n",
    "print(max_rows, max_cols)"
   ]
  },
  {
   "cell_type": "markdown",
   "metadata": {},
   "source": [
    "## Step 3 filter out the data with size larger than (nr+4, nc+4)"
   ]
  },
  {
   "cell_type": "code",
   "execution_count": 76,
   "metadata": {},
   "outputs": [
    {
     "name": "stdout",
     "output_type": "stream",
     "text": [
      "target shape = (17, 11)\n",
      "total: 109, included: 105, out: 4\n",
      "non-included samples\n"
     ]
    },
    {
     "data": {
      "image/png": "[encoded data removed]",
      "text/plain": [
       "<matplotlib.figure.Figure at 0x7fb48ac04b00>"
      ]
     },
     "metadata": {},
     "output_type": "display_data"
    },
    {
     "name": "stdout",
     "output_type": "stream",
     "text": [
      "included samples\n"
     ]
    },
    {
     "data": {
      "image/png": "[encoded data removed]",
      "text/plain": [
       "<matplotlib.figure.Figure at 0x7fb489f23518>"
      ]
     },
     "metadata": {},
     "output_type": "display_data"
    }
   ],
   "source": [
    "target_shape = (max_rows+4, max_cols+4)\n",
    "print(\"target shape =\", target_shape)\n",
    "X_out = []\n",
    "Y_out = []\n",
    "X_in = []\n",
    "Y_in = []\n",
    "for i in range(len(Y)):\n",
    "    #print(i, X_nobg[i].shape)\n",
    "    if X_nobg[i].shape[0] <= target_shape[0] and X_nobg[i].shape[1] <= target_shape[1]:\n",
    "        X_in.append(X_nobg[i])\n",
    "        Y_in.append(Y[i])\n",
    "    else:\n",
    "        X_out.append(X_nobg[i])\n",
    "        Y_out.append(Y[i])\n",
    "print('total: %d, included: %d, out: %d' % (len(Y), len(Y_in), len(Y_out)))\n",
    "\n",
    "print('non-included samples')\n",
    "random_plot(X_out, Y_out)\n",
    "\n",
    "print('included samples')\n",
    "random_plot(X_in, Y_in)\n"
   ]
  },
  {
   "cell_type": "markdown",
   "metadata": {},
   "source": [
    "## Step 4 Pad all remaing data to the size (nr+4, nc+4)"
   ]
  },
  {
   "cell_type": "code",
   "execution_count": 77,
   "metadata": {},
   "outputs": [
    {
     "data": {
      "image/png": "[encoded data removed]",
      "text/plain": [
       "<matplotlib.figure.Figure at 0x7fb48a8660b8>"
      ]
     },
     "metadata": {},
     "output_type": "display_data"
    },
    {
     "data": {
      "image/png": "[encoded data removed]",
      "text/plain": [
       "<matplotlib.figure.Figure at 0x7fb48a7e6dd8>"
      ]
     },
     "metadata": {},
     "output_type": "display_data"
    },
    {
     "data": {
      "image/png": "[encoded data removed]",
      "text/plain": [
       "<matplotlib.figure.Figure at 0x7fb48a88f668>"
      ]
     },
     "metadata": {},
     "output_type": "display_data"
    }
   ],
   "source": [
    "X_in = [pad_image(x, target_shape[0], target_shape[1], 1.0) for x in X_in]\n",
    "X_in = [np.expand_dims(x, axis=0) for x in X_in]\n",
    "X_in = np.vstack(X_in)\n",
    "\n",
    "Y_in = np.array(Y_in)\n",
    "\n",
    "allowed_confusions = [\n",
    "    ('2', 'z'), ('2', 'Z'),\n",
    "    ('5', 's'), ('5', 'S'), \n",
    "    ('9', 'g'), \n",
    "    ('0', 'o'), ('0', 'O'), \n",
    "    ('1', 'I'), ('1', 'i'), ('1', 'l')\n",
    "]\n",
    "Y_in2 = np.array([y for y in Y_in])\n",
    "for a in allowed_confusions:\n",
    "    Y_in2[Y_in == a[1]] = a[0]\n",
    " \n",
    "random_plot(X_in[Y_in != Y_in2], Y_in[Y_in != Y_in2], Y_in2[Y_in != Y_in2])\n",
    "\n",
    "for i in range(len(Y_in2)):\n",
    "    if not Y_in2[i] in relevant_letters:\n",
    "        Y_in2[i] = '?'\n",
    "\n",
    "random_plot(X_in[Y_in2 == '?'], Y_in[Y_in2 == '?'], Y_in2[Y_in2 == '?'])\n",
    "\n",
    "random_plot(X_in[Y_in2 != '?'], Y_in[Y_in2 != '?'], Y_in2[Y_in2 != '?'])\n"
   ]
  },
  {
   "cell_type": "markdown",
   "metadata": {},
   "source": [
    "## Step 5 Train classification model"
   ]
  },
  {
   "cell_type": "code",
   "execution_count": 78,
   "metadata": {
    "collapsed": true
   },
   "outputs": [],
   "source": [
    "# generate test data from image data generator\n",
    "X_test, Y_test = generate_augmented_data(X_in, Y_in2, 10000, seed = 8)\n",
    "\n",
    "# generate train data too\n",
    "X_train, Y_train = generate_augmented_data(X_in, Y_in2, 5000, seed = 7)"
   ]
  },
  {
   "cell_type": "code",
   "execution_count": 79,
   "metadata": {},
   "outputs": [],
   "source": [
    "# benchmark fit with support vector machine\n",
    "\n",
    "# used for data preprocess\n",
    "class Flatten:\n",
    "    def __init__(self):\n",
    "        pass\n",
    "    def fit(self, X, y=None):\n",
    "        return self\n",
    "    def transform(self, X, y=None):\n",
    "        return X.reshape(X.shape[0], -1)\n",
    "    def get_params(self, deep=True):\n",
    "        return {}\n",
    "\n",
    "    "
   ]
  },
  {
   "cell_type": "markdown",
   "metadata": {},
   "source": [
    "SVM is not so bad! Just a naive fit achieves 80% accuracy!"
   ]
  },
  {
   "cell_type": "markdown",
   "metadata": {},
   "source": [
    "### Consider Dimensionality reduction with PCA"
   ]
  },
  {
   "cell_type": "code",
   "execution_count": 80,
   "metadata": {},
   "outputs": [
    {
     "data": {
      "image/png": "[encoded data removed]",
      "text/plain": [
       "<matplotlib.figure.Figure at 0x7fb48a83cf60>"
      ]
     },
     "metadata": {},
     "output_type": "display_data"
    },
    {
     "data": {
      "image/png": "[encoded data removed]",
      "text/plain": [
       "<matplotlib.figure.Figure at 0x7fb48acc1438>"
      ]
     },
     "metadata": {},
     "output_type": "display_data"
    },
    {
     "name": "stdout",
     "output_type": "stream",
     "text": [
      "1 0.261939252989\n",
      "2 0.322125332121\n",
      "3 0.376801302922\n",
      "4 0.424372694962\n",
      "5 0.464710895382\n",
      "6 0.502800226194\n",
      "7 0.536711225161\n",
      "8 0.564870553568\n",
      "9 0.589207995375\n",
      "10 0.611493743702\n",
      "11 0.63227102258\n",
      "12 0.650349681675\n",
      "13 0.667157438133\n",
      "14 0.682976132685\n",
      "15 0.697858900301\n",
      "16 0.711477245645\n",
      "17 0.724390762634\n",
      "18 0.737104596774\n",
      "19 0.748748503731\n",
      "20 0.760188216263\n",
      "21 0.770706095966\n",
      "22 0.780195473282\n",
      "23 0.78911299182\n",
      "24 0.797656378741\n",
      "25 0.80585984661\n",
      "26 0.813684303177\n",
      "27 0.821276089732\n",
      "28 0.828370724886\n",
      "29 0.835170323752\n",
      "30 0.841537177534\n",
      "31 0.847560682443\n",
      "32 0.85342057004\n",
      "33 0.858937560746\n",
      "34 0.864401248089\n",
      "35 0.869551272796\n",
      "36 0.874580844442\n",
      "37 0.879339273687\n",
      "38 0.883833079918\n",
      "39 0.888195636378\n",
      "40 0.892551918271\n",
      "41 0.896590918182\n",
      "42 0.900523163421\n",
      "43 0.904173192016\n",
      "44 0.907482814016\n",
      "45 0.910724731662\n",
      "46 0.913902912437\n",
      "47 0.91696468825\n",
      "48 0.919874098759\n",
      "49 0.922652243156\n",
      "50 0.925360892909\n",
      "51 0.927971470978\n",
      "52 0.930520752625\n",
      "53 0.93295065919\n",
      "54 0.935300026884\n",
      "55 0.937553552646\n",
      "56 0.93973499908\n",
      "57 0.941863114112\n",
      "58 0.943861178132\n",
      "59 0.945815411616\n",
      "60 0.947718267708\n",
      "61 0.949550927694\n",
      "62 0.951290708489\n",
      "63 0.952995283299\n",
      "64 0.954622542862\n",
      "65 0.95623222303\n",
      "66 0.957773694279\n",
      "67 0.959303885718\n",
      "68 0.96081607363\n",
      "69 0.96228852741\n",
      "70 0.963667462597\n",
      "71 0.964970093135\n",
      "72 0.966233308537\n",
      "73 0.967479144425\n",
      "74 0.968672572075\n",
      "75 0.969844859702\n",
      "76 0.970966447911\n",
      "77 0.972076882616\n",
      "78 0.973095240337\n",
      "79 0.974098843143\n",
      "80 0.975077939186\n",
      "81 0.97603532798\n",
      "82 0.976947493381\n",
      "83 0.977843095056\n",
      "84 0.978708290466\n",
      "85 0.97955988802\n",
      "86 0.980378448661\n",
      "87 0.981172705135\n",
      "88 0.981935906689\n",
      "89 0.98267833845\n",
      "90 0.983377738343\n",
      "91 0.984049902464\n",
      "92 0.984701815331\n",
      "93 0.985334697309\n",
      "94 0.9859417203\n",
      "95 0.986530617264\n",
      "96 0.98711051234\n",
      "97 0.987677544835\n",
      "98 0.988213852193\n",
      "99 0.988736785051\n",
      "100 0.989229418966\n",
      "101 0.989705818947\n",
      "102 0.990164583413\n",
      "103 0.990608524589\n",
      "104 0.991043941137\n",
      "105 0.991467189783\n",
      "106 0.991868575189\n",
      "107 0.992258898311\n",
      "108 0.992632968375\n",
      "109 0.992989991556\n",
      "110 0.993335053824\n",
      "111 0.993667142743\n",
      "112 0.993984678718\n",
      "113 0.994292502469\n",
      "114 0.994589401466\n",
      "115 0.994872685792\n",
      "116 0.995145009235\n",
      "117 0.995403337075\n",
      "118 0.995654043134\n",
      "119 0.995894715841\n",
      "120 0.996124539947\n",
      "121 0.996347373561\n",
      "122 0.996550666705\n",
      "123 0.996747007299\n",
      "124 0.996938323097\n",
      "125 0.997123401186\n",
      "126 0.997302741917\n",
      "127 0.997467609878\n",
      "128 0.997622138459\n",
      "129 0.99776977582\n",
      "130 0.997915983757\n",
      "131 0.998056742605\n",
      "132 0.998191753665\n",
      "133 0.998322256567\n",
      "134 0.998441447887\n",
      "135 0.998553047534\n",
      "136 0.998657499324\n",
      "137 0.99875554767\n",
      "138 0.998847048675\n",
      "139 0.998935118493\n",
      "140 0.99902283145\n",
      "141 0.999104604425\n",
      "142 0.999176691763\n",
      "143 0.999242271702\n",
      "144 0.999305634115\n",
      "145 0.999363301541\n",
      "146 0.999416388226\n",
      "147 0.999466057885\n",
      "148 0.999514170136\n",
      "149 0.999560330694\n",
      "150 0.999603013462\n",
      "151 0.999643345207\n",
      "152 0.999679554626\n",
      "153 0.999714661902\n",
      "154 0.9997461171\n",
      "155 0.999775005873\n",
      "156 0.999802319332\n",
      "157 0.999827750515\n",
      "158 0.999851251026\n",
      "159 0.999874198092\n",
      "160 0.999896579095\n",
      "161 0.999911584216\n",
      "162 0.999925811898\n",
      "163 0.999939230164\n",
      "164 0.999949861514\n",
      "165 0.999960224738\n",
      "166 0.999968887962\n",
      "167 0.999976365383\n",
      "168 0.999982876107\n",
      "169 0.999987969277\n",
      "170 0.999991561849\n",
      "171 0.999994416358\n",
      "172 0.999996768024\n",
      "173 0.999998568822\n",
      "174 0.999999336717\n",
      "175 0.999999865593\n",
      "176 1.0\n",
      "177 1.0\n",
      "178 1.0\n",
      "179 1.0\n",
      "180 1.0\n",
      "181 1.0\n",
      "182 1.0\n",
      "183 1.0\n",
      "184 1.0\n",
      "185 1.0\n",
      "186 1.0\n",
      "187 1.0\n"
     ]
    }
   ],
   "source": [
    "pipe_pca = Pipeline([\n",
    "    ('flatten', Flatten()), \n",
    "    ('PCA', PCA())\n",
    "])\n",
    "\n",
    "pipe_pca.fit(X_train)\n",
    "sns.set()\n",
    "plt.plot(pipe_pca.named_steps['PCA'].explained_variance_ratio_, linewidth=2)\n",
    "plt.show(block=False)\n",
    "\n",
    "cum = pipe_pca.named_steps['PCA'].explained_variance_ratio_.cumsum()\n",
    "plt.plot(cum, linewidth=2)\n",
    "plt.show(block=False)\n",
    "for i in range(len(cum)):\n",
    "    print(i+1, cum[i])"
   ]
  },
  {
   "cell_type": "markdown",
   "metadata": {},
   "source": [
    "Maybe 100?"
   ]
  },
  {
   "cell_type": "markdown",
   "metadata": {},
   "source": [
    "### Fit MLP"
   ]
  },
  {
   "cell_type": "code",
   "execution_count": 81,
   "metadata": {},
   "outputs": [
    {
     "name": "stdout",
     "output_type": "stream",
     "text": [
      "accuracy =  1.0\n",
      "col_0  /  0   1  2  3  4  5  6  7  8  9  :   ?  All\n",
      "row_0                                              \n",
      "/      3  0   0  0  0  0  0  0  0  0  0  0   0    3\n",
      "0      0  6   0  0  0  0  0  0  0  0  0  0   0    6\n",
      "1      0  0  11  0  0  0  0  0  0  0  0  0   0   11\n",
      "2      0  0   0  5  0  0  0  0  0  0  0  0   0    5\n",
      "3      0  0   0  0  3  0  0  0  0  0  0  0   0    3\n",
      "4      0  0   0  0  0  3  0  0  0  0  0  0   0    3\n",
      "5      0  0   0  0  0  0  8  0  0  0  0  0   0    8\n",
      "6      0  0   0  0  0  0  0  3  0  0  0  0   0    3\n",
      "7      0  0   0  0  0  0  0  0  3  0  0  0   0    3\n",
      "8      0  0   0  0  0  0  0  0  0  2  0  0   0    2\n",
      "9      0  0   0  0  0  0  0  0  0  0  5  0   0    5\n",
      ":      0  0   0  0  0  0  0  0  0  0  0  2   0    2\n",
      "?      0  0   0  0  0  0  0  0  0  0  0  0  51   51\n",
      "All    3  6  11  5  3  3  8  3  3  2  5  2  51  105\n",
      "accuracy =  0.990106925152\n"
     ]
    },
    {
     "data": {
      "image/png": "[encoded data removed]",
      "text/plain": [
       "<matplotlib.figure.Figure at 0x7fb48a63c7f0>"
      ]
     },
     "metadata": {},
     "output_type": "display_data"
    },
    {
     "name": "stdout",
     "output_type": "stream",
     "text": [
      "col_0    /    0     1    2    3    4    5    6    7    8    9    :     ?  \\\n",
      "row_0                                                                      \n",
      "/      284    0     0    0    0    0    0    0    0    0    0    0     2   \n",
      "0        0  562     0    0    0    0    0    2    0    0    0    0     8   \n",
      "1        0    0  1048    0    1    0    0    0    0    0    0    0     0   \n",
      "2        0    0     0  472    1    0    0    0    0    0    0    0     4   \n",
      "3        0    0     0    0  284    0    0    0    0    0    0    1     0   \n",
      "4        0    0     0    0    0  285    0    0    0    0    0    0     1   \n",
      "5        0    0     0    0    0    0  760    0    0    0    0    0     2   \n",
      "6        0    0     0    0    0    0    0  281    0    0    0    0     5   \n",
      "7        0    0     0    1    0    0    0    0  280    0    0    0     4   \n",
      "8        0    0     1    0    0    6    2    0    1  179    0    0     1   \n",
      "9        0    2     0    0    0    0    0    0    0    0  474    0     1   \n",
      ":        0    0    19    0    0    0    0    0    0    0    0  171     0   \n",
      "?        0    8     9    3    6    0    2    0    0    4    2    0  4828   \n",
      "All    284  572  1077  476  292  291  764  283  281  183  476  172  4856   \n",
      "\n",
      "col_0    All  \n",
      "row_0         \n",
      "/        286  \n",
      "0        572  \n",
      "1       1049  \n",
      "2        477  \n",
      "3        285  \n",
      "4        286  \n",
      "5        762  \n",
      "6        286  \n",
      "7        285  \n",
      "8        190  \n",
      "9        477  \n",
      ":        190  \n",
      "?       4862  \n",
      "All    10007  \n"
     ]
    }
   ],
   "source": [
    "pipe_mlp = Pipeline([\n",
    "    ('flatten', Flatten()), \n",
    "    ('PCA', PCA(n_components=100)),\n",
    "    ('MLP', MLPClassifier((100,100,100), alpha=0.01))\n",
    "])    \n",
    "\n",
    "pipe_mlp.fit(X_train, Y_train)\n",
    "\n",
    "\n",
    "diagnosis(pipe_mlp, X_in, Y_in2)\n",
    "diagnosis(pipe_mlp, X_test, Y_test)"
   ]
  },
  {
   "cell_type": "markdown",
   "metadata": {},
   "source": [
    "MLP is just amazing... We already have 99% accuracy..."
   ]
  },
  {
   "cell_type": "markdown",
   "metadata": {},
   "source": [
    "#### Exhaustive training until perfect accuracy"
   ]
  },
  {
   "cell_type": "code",
   "execution_count": 82,
   "metadata": {},
   "outputs": [
    {
     "name": "stdout",
     "output_type": "stream",
     "text": [
      "1009 score on test = 0.410312781053 score on original = 0.419047619048\n",
      "101909 score on test = 0.993404616768 score on original = 1.0\n",
      "202809 score on test = 0.999900069951 score on original = 1.0\n",
      "DONE!\n"
     ]
    }
   ],
   "source": [
    "np.random.seed(87)\n",
    "\n",
    "# create data prep pipeline and\n",
    "# fit pca before learning\n",
    "# this way, we can fix the features to pass to MLP\n",
    "# if we use incrementalPCA and fit online, then the MLP learning would \n",
    "# mess up since there is no guarantee that PCA component i now is the \n",
    "# same as the component i in the next fitted PCA\n",
    "pca = PCA(n_components=100)\n",
    "pipe_prep = Pipeline([\n",
    "    ('flatten', Flatten()), \n",
    "    ('PCA', pca)\n",
    "])\n",
    "pipe_prep.fit(X_train)\n",
    "\n",
    "model = MLPClassifier((100,100,100), alpha=0.01, warm_start=True)\n",
    "pipe_pred = Pipeline([\n",
    "    ('prep', pipe_prep),\n",
    "    ('MLP', model)\n",
    "])\n",
    "\n",
    "classes = pipe_mlp.classes_\n",
    "\n",
    "train_gen = ImageDataGenerator(width_shift_range=0.1, height_shift_range=0.1, \n",
    "                               data_format='channels_last', channel_shift_range=0.5)\n",
    "\n",
    "num = 0\n",
    "result = None\n",
    "counter = 0\n",
    "consec_ones = 0\n",
    "#for X_batch,Y_batch in train_gen.flow(np.expand_dims(X_in, axis=4), \n",
    "#                                      Y_in, batch_size=1000):\n",
    "while counter <= 5000: \n",
    "    X_batch,Y_batch = generate_augmented_data(X_in, Y_in2, 1000)\n",
    "    counter += 1\n",
    "    if counter > 5000: break\n",
    "        \n",
    "    model.partial_fit(pipe_prep.transform(X_batch.squeeze()), \n",
    "                      Y_batch, classes)\n",
    "    num += len(Y_batch)\n",
    "    \n",
    "    score_test     = pipe_pred.score(X_test, Y_test)\n",
    "    score_original = pipe_pred.score(X_in, Y_in2)\n",
    "    tmp = dict(size = [num], score_test = [score_test], \n",
    "               score_original = [score_original])\n",
    "    tmp = pd.DataFrame(tmp)\n",
    "    if result is None:\n",
    "        result = tmp\n",
    "    else:\n",
    "        result = result.append(tmp)\n",
    "    \n",
    "    if counter % 100 == 1:\n",
    "        print(num, 'score on test =', score_test,\n",
    "              'score on original =', score_original)\n",
    "    if score_test == 1.0 and score_original == 1.0:\n",
    "        consec_ones += 1\n",
    "    if consec_ones >= 10:\n",
    "        print('DONE!')\n",
    "        break"
   ]
  },
  {
   "cell_type": "code",
   "execution_count": 83,
   "metadata": {},
   "outputs": [
    {
     "name": "stdout",
     "output_type": "stream",
     "text": [
      "accuracy =  1.0\n",
      "col_0  /  0   1  2  3  4  5  6  7  8  9  :   ?  All\n",
      "row_0                                              \n",
      "/      3  0   0  0  0  0  0  0  0  0  0  0   0    3\n",
      "0      0  6   0  0  0  0  0  0  0  0  0  0   0    6\n",
      "1      0  0  11  0  0  0  0  0  0  0  0  0   0   11\n",
      "2      0  0   0  5  0  0  0  0  0  0  0  0   0    5\n",
      "3      0  0   0  0  3  0  0  0  0  0  0  0   0    3\n",
      "4      0  0   0  0  0  3  0  0  0  0  0  0   0    3\n",
      "5      0  0   0  0  0  0  8  0  0  0  0  0   0    8\n",
      "6      0  0   0  0  0  0  0  3  0  0  0  0   0    3\n",
      "7      0  0   0  0  0  0  0  0  3  0  0  0   0    3\n",
      "8      0  0   0  0  0  0  0  0  0  2  0  0   0    2\n",
      "9      0  0   0  0  0  0  0  0  0  0  5  0   0    5\n",
      ":      0  0   0  0  0  0  0  0  0  0  0  2   0    2\n",
      "?      0  0   0  0  0  0  0  0  0  0  0  0  51   51\n",
      "All    3  6  11  5  3  3  8  3  3  2  5  2  51  105\n",
      "accuracy =  1.0\n",
      "col_0    /    0     1    2    3    4    5    6    7    8    9    :     ?  \\\n",
      "row_0                                                                      \n",
      "/      286    0     0    0    0    0    0    0    0    0    0    0     0   \n",
      "0        0  572     0    0    0    0    0    0    0    0    0    0     0   \n",
      "1        0    0  1049    0    0    0    0    0    0    0    0    0     0   \n",
      "2        0    0     0  477    0    0    0    0    0    0    0    0     0   \n",
      "3        0    0     0    0  285    0    0    0    0    0    0    0     0   \n",
      "4        0    0     0    0    0  286    0    0    0    0    0    0     0   \n",
      "5        0    0     0    0    0    0  762    0    0    0    0    0     0   \n",
      "6        0    0     0    0    0    0    0  286    0    0    0    0     0   \n",
      "7        0    0     0    0    0    0    0    0  285    0    0    0     0   \n",
      "8        0    0     0    0    0    0    0    0    0  190    0    0     0   \n",
      "9        0    0     0    0    0    0    0    0    0    0  477    0     0   \n",
      ":        0    0     0    0    0    0    0    0    0    0    0  190     0   \n",
      "?        0    0     0    0    0    0    0    0    0    0    0    0  4862   \n",
      "All    286  572  1049  477  285  286  762  286  285  190  477  190  4862   \n",
      "\n",
      "col_0    All  \n",
      "row_0         \n",
      "/        286  \n",
      "0        572  \n",
      "1       1049  \n",
      "2        477  \n",
      "3        285  \n",
      "4        286  \n",
      "5        762  \n",
      "6        286  \n",
      "7        285  \n",
      "8        190  \n",
      "9        477  \n",
      ":        190  \n",
      "?       4862  \n",
      "All    10007  \n"
     ]
    }
   ],
   "source": [
    "diagnosis(pipe_pred, X_in, Y_in2)\n",
    "diagnosis(pipe_pred, X_test, Y_test)"
   ]
  },
  {
   "cell_type": "code",
   "execution_count": 84,
   "metadata": {},
   "outputs": [
    {
     "data": {
      "image/png": "[encoded data removed]",
      "text/plain": [
       "<matplotlib.figure.Figure at 0x7fb489fa8208>"
      ]
     },
     "metadata": {},
     "output_type": "display_data"
    }
   ],
   "source": [
    "sns.set()\n",
    "plt.plot(result['size'], result['score_original'], 'b:', label='original')\n",
    "plt.plot(result['size'], result['score_test'], 'r--', label='test') \n",
    "plt.legend()\n",
    "plt.ylabel('accuracy')\n",
    "plt.xlabel('data size')\n",
    "plt.show(block=False)"
   ]
  },
  {
   "cell_type": "code",
   "execution_count": 85,
   "metadata": {},
   "outputs": [
    {
     "data": {
      "text/plain": [
       "['/home/kota/Documents/kgschart/models/caption-ja-loose_pca-mlp-full.pkl']"
      ]
     },
     "execution_count": 85,
     "metadata": {},
     "output_type": "execute_result"
    }
   ],
   "source": [
    "# save PCA-MLP part\n",
    "savename = os.path.join(modeldir, 'caption-ja-loose_pca-mlp-full.pkl')\n",
    "pipe = ([('PCA', pca), ('MLP', model)])\n",
    "joblib.dump(pipe, savename)"
   ]
  },
  {
   "cell_type": "code",
   "execution_count": 87,
   "metadata": {},
   "outputs": [],
   "source": [
    "with open(os.path.join(modeldir, 'caption-ja-loose-config.json'), 'w') as file:\n",
    "    json.dump(dict(input_shape=X_in.shape[1:], \n",
    "                   allowed_confusions=allowed_confusions), file)"
   ]
  },
  {
   "cell_type": "code",
   "execution_count": null,
   "metadata": {
    "collapsed": true
   },
   "outputs": [],
   "source": []
  }
 ],
 "metadata": {
  "anaconda-cloud": {},
  "kernelspec": {
   "display_name": "Python [conda env:kgschart]",
   "language": "python",
   "name": "conda-env-kgschart-py"
  },
  "language_info": {
   "codemirror_mode": {
    "name": "ipython",
    "version": 3
   },
   "file_extension": ".py",
   "mimetype": "text/x-python",
   "name": "python",
   "nbconvert_exporter": "python",
   "pygments_lexer": "ipython3",
   "version": "3.5.2"
  }
 },
 "nbformat": 4,
 "nbformat_minor": 2
}
