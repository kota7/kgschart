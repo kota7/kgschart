{
 "cells": [
  {
   "cell_type": "markdown",
   "metadata": {},
   "source": [
    "# Train a loose version of Caption-ja letter classifier\n",
    "\n",
    "Goal: **Classify letters into digits, :, /, ~ and others**\n",
    "\n",
    "Let relevant letters = `{0-9, :, /, ~}`\n",
    "\n",
    "But this time, allow confusion between letters and numbers, such as, (2,z) (5,s) (0,o,O), (1,I,i,l) (9,g)\n",
    "Even if we classify z or s as relevant letters, we still can identify date-time by regex of DD/DD/DD HH:MM.\n",
    "Bu if we misclassify 2 as z and thus exclude from relevant string, then we can not identify the date time.\n",
    "In other words, false positives are acceptable.\n",
    "\n",
    "\n",
    "Steps\n",
    "\n",
    "\n",
    "1. Remove background columns (not rows) from all input data\n",
    "\n",
    "2. Get the maximum size of relevant letters -> `(nr, nc)`\n",
    "\n",
    "3. filter out the data with size larger than `(nr+4, nc+4)`\n",
    "\n",
    "4. Pad all remaing data to the size `(nr+4, nc+4)`\n",
    "\n",
    "5. Train classification model on the created data\n",
    "  "
   ]
  },
  {
   "cell_type": "code",
   "execution_count": 52,
   "metadata": {},
   "outputs": [],
   "source": [
    "import os\n",
    "import sys\n",
    "import json\n",
    "import numpy as np\n",
    "import pandas as pd\n",
    "from matplotlib import pyplot as plt\n",
    "import seaborn as sns\n",
    "from sklearn.externals import joblib\n",
    "from sklearn.svm import SVC\n",
    "from sklearn.decomposition import PCA\n",
    "from sklearn.neural_network import MLPClassifier\n",
    "from sklearn.linear_model import LogisticRegression\n",
    "from sklearn.pipeline import Pipeline\n",
    "from sklearn.metrics import classification_report\n",
    "from sklearn.model_selection import GridSearchCV\n",
    "from keras.preprocessing.image import ImageDataGenerator"
   ]
  },
  {
   "cell_type": "code",
   "execution_count": 53,
   "metadata": {
    "collapsed": true
   },
   "outputs": [],
   "source": [
    "proj_root = os.path.abspath(os.path.join('../')) \n",
    "datadir = os.path.join(proj_root, 'data/caption/')\n",
    "modeldir = os.path.join(proj_root, 'models/')\n",
    "arcdir = os.path.join(proj_root, 'models/archive')\n",
    "\n",
    "if not os.path.isdir(datadir): \n",
    "    print('data directory not found', os.path.abspath(datadir))\n",
    "    raise\n",
    "if not os.path.isdir(modeldir): os.path.makedirs(modeldir)\n",
    "if not os.path.isdir(modeldir): os.path.makedirs(arcdir)"
   ]
  },
  {
   "cell_type": "code",
   "execution_count": 54,
   "metadata": {
    "collapsed": true
   },
   "outputs": [],
   "source": [
    "module_path = os.path.join(proj_root, 'kgschart')\n",
    "sys.path.append(module_path)\n",
    "from utils import pad_image"
   ]
  },
  {
   "cell_type": "code",
   "execution_count": 55,
   "metadata": {
    "collapsed": true
   },
   "outputs": [],
   "source": [
    "X = np.load(os.path.join(datadir, 'X-ja.npy'))\n",
    "Y = np.load(os.path.join(datadir, 'Y-ja.npy'))"
   ]
  },
  {
   "cell_type": "code",
   "execution_count": 56,
   "metadata": {},
   "outputs": [
    {
     "data": {
      "image/png": "[encoded data removed]",
      "text/plain": [
       "<matplotlib.figure.Figure at 0x7480320>"
      ]
     },
     "metadata": {},
     "output_type": "display_data"
    }
   ],
   "source": [
    "# convenient functions\n",
    "def random_plot(X, Y, predicted=None):\n",
    "    sns.set_style('white')\n",
    "    indices = np.random.choice(len(Y), min(8, len(Y)))\n",
    "    count = 0\n",
    "    for i in indices:\n",
    "        count += 1\n",
    "        ax = plt.subplot(2, 4, count)\n",
    "        ax.imshow(X[i], cmap='gray')\n",
    "        text = Y[i] if predicted is None else 'tr: %s, pr: %s' % (Y[i], predicted[i])\n",
    "        ax.text(0, 0, text, bbox={'facecolor':\"wheat\"})\n",
    "    plt.show(block=False)\n",
    "\n",
    "random_plot(X, Y)\n",
    "\n",
    "\n",
    "def compare_plot(X1, X2):\n",
    "    sns.set_style('white')\n",
    "    indices = range(3) if len(X1) <= 3 else np.random.choice(len(X1), 3)\n",
    "    count = 0\n",
    "    for i in indices:\n",
    "        count += 1\n",
    "        plt.subplot(3, 2, count)\n",
    "        plt.imshow(X1[i], cmap='gray')\n",
    "        count += 1\n",
    "        plt.subplot(3, 2, count)\n",
    "        plt.imshow(X2[i], cmap='gray')\n",
    "    plt.show(block=False)\n",
    "\n",
    "def generate_augmented_data(X, Y, target_size, seed=None):\n",
    "    datagen = ImageDataGenerator(width_shift_range=0.1, height_shift_range=0.1, \n",
    "                                 data_format='channels_last', channel_shift_range=0.5)\n",
    "    out_X = None\n",
    "    out_Y = None\n",
    "    for x,y in datagen.flow(np.expand_dims(X, axis=4), Y, seed=seed):\n",
    "        if out_X is None:\n",
    "            out_X = x\n",
    "            out_Y = y\n",
    "        else:\n",
    "            out_X = np.vstack([out_X, x])\n",
    "            out_Y = np.concatenate([out_Y, y])\n",
    "        if len(out_Y) >= target_size: \n",
    "            break\n",
    "    out_X = out_X.squeeze()\n",
    "    return out_X, out_Y\n",
    "\n",
    "\n",
    "def diagnosis(fit, X, Y):\n",
    "    print('accuracy = ', fit.score(X, Y))\n",
    "    pred = fit.predict(X)\n",
    "    wrong = (Y != pred)\n",
    "    if np.any(wrong):\n",
    "        random_plot(X[wrong], Y[wrong], pred[wrong])\n",
    "    #print(classification_report(Y, pred))\n",
    "    print(pd.crosstab(pd.Series(Y), pd.Series(pred), margins=True))\n",
    "\n"
   ]
  },
  {
   "cell_type": "markdown",
   "metadata": {},
   "source": [
    "## Step 1 Remove background from all input data"
   ]
  },
  {
   "cell_type": "code",
   "execution_count": 57,
   "metadata": {},
   "outputs": [
    {
     "data": {
      "image/png": "[encoded data removed]",
      "text/plain": [
       "<matplotlib.figure.Figure at 0xd2a2438>"
      ]
     },
     "metadata": {},
     "output_type": "display_data"
    }
   ],
   "source": [
    "def remove_background(x, bg = 1.0, rows=False, cols=True):\n",
    "    \"\"\"\n",
    "    from a image array of size (nrow, ncol),\n",
    "    remove all rows and cols where values are all bg\n",
    "    \"\"\"\n",
    "    not_bg = (x != bg)\n",
    "    non_bg_rows = np.any(not_bg, axis=1)\n",
    "    non_bg_cols = np.any(not_bg, axis=0)\n",
    "    \n",
    "    if rows:\n",
    "        tmp = non_bg_rows.nonzero()[0]\n",
    "        if len(tmp) == 0: return None\n",
    "        i1 = tmp[0]\n",
    "        i2 = tmp[-1] + 1\n",
    "    else:\n",
    "        i1 = 0\n",
    "        i2 = x.shape[0]\n",
    "    \n",
    "    if cols:\n",
    "        tmp = non_bg_cols.nonzero()[0]\n",
    "        if len(tmp) == 0: return None\n",
    "        j1 = tmp[0]\n",
    "        j2 = tmp[-1] + 1\n",
    "    else:\n",
    "        j1 = 0\n",
    "        j2 = x.shape[1]\n",
    "        \n",
    "    return x[i1:i2, j1:j2]\n",
    "\n",
    "X_nobg = [remove_background(x, rows=False) for x in X]\n",
    "compare_plot(X, X_nobg)"
   ]
  },
  {
   "cell_type": "markdown",
   "metadata": {},
   "source": [
    "## Step 2 Get the maximum size of relevant letters -> (nr, nc)"
   ]
  },
  {
   "cell_type": "code",
   "execution_count": 58,
   "metadata": {},
   "outputs": [
    {
     "name": "stdout",
     "output_type": "stream",
     "text": [
      "14 7\n"
     ]
    }
   ],
   "source": [
    "max_rows = 0\n",
    "max_cols = 0\n",
    "\n",
    "relevant_letters = [s for s in '0123456789/:?']\n",
    "for i in range(len(Y)):\n",
    "    if Y[i] in relevant_letters:\n",
    "        max_rows = max(X_nobg[i].shape[0], max_rows)\n",
    "        max_cols = max(X_nobg[i].shape[1], max_cols)\n",
    "print(max_rows, max_cols)"
   ]
  },
  {
   "cell_type": "markdown",
   "metadata": {},
   "source": [
    "## Step 3 filter out the data with size larger than (nr+4, nc+4)"
   ]
  },
  {
   "cell_type": "code",
   "execution_count": 59,
   "metadata": {},
   "outputs": [
    {
     "name": "stdout",
     "output_type": "stream",
     "text": [
      "target shape = (18, 11)\n",
      "total: 109, included: 105, out: 4\n",
      "non-included samples\n"
     ]
    },
    {
     "data": {
      "image/png": "[encoded data removed]",
      "text/plain": [
       "<matplotlib.figure.Figure at 0x784f438>"
      ]
     },
     "metadata": {},
     "output_type": "display_data"
    },
    {
     "name": "stdout",
     "output_type": "stream",
     "text": [
      "included samples\n"
     ]
    },
    {
     "data": {
      "image/png": "[encoded data removed]",
      "text/plain": [
       "<matplotlib.figure.Figure at 0xd3d73c8>"
      ]
     },
     "metadata": {},
     "output_type": "display_data"
    }
   ],
   "source": [
    "target_shape = (max_rows+4, max_cols+4)\n",
    "print(\"target shape =\", target_shape)\n",
    "X_out = []\n",
    "Y_out = []\n",
    "X_in = []\n",
    "Y_in = []\n",
    "for i in range(len(Y)):\n",
    "    #print(i, X_nobg[i].shape)\n",
    "    if X_nobg[i].shape[0] <= target_shape[0] and X_nobg[i].shape[1] <= target_shape[1]:\n",
    "        X_in.append(X_nobg[i])\n",
    "        Y_in.append(Y[i])\n",
    "    else:\n",
    "        X_out.append(X_nobg[i])\n",
    "        Y_out.append(Y[i])\n",
    "print('total: %d, included: %d, out: %d' % (len(Y), len(Y_in), len(Y_out)))\n",
    "\n",
    "print('non-included samples')\n",
    "random_plot(X_out, Y_out)\n",
    "\n",
    "print('included samples')\n",
    "random_plot(X_in, Y_in)\n"
   ]
  },
  {
   "cell_type": "markdown",
   "metadata": {},
   "source": [
    "## Step 4 Pad all remaing data to the size (nr+4, nc+4)"
   ]
  },
  {
   "cell_type": "code",
   "execution_count": 60,
   "metadata": {},
   "outputs": [
    {
     "name": "stdout",
     "output_type": "stream",
     "text": [
      "(54, 18, 11) (54,)\n"
     ]
    },
    {
     "data": {
      "image/png": "[encoded data removed]",
      "text/plain": [
       "<matplotlib.figure.Figure at 0xd10f2e8>"
      ]
     },
     "metadata": {},
     "output_type": "display_data"
    }
   ],
   "source": [
    "X_in = [pad_image(x, target_shape[0], target_shape[1], 1.0) for x in X_in]\n",
    "X_in = [np.expand_dims(x, axis=0) for x in X_in]\n",
    "X_in = np.vstack(X_in)\n",
    "\n",
    "Y_in = np.array(Y_in)\n",
    "\n",
    "allowed_confusions = [\n",
    "    ('2', 'z'), ('2', 'Z'),\n",
    "    ('5', 's'), ('5', 'S'), \n",
    "    ('9', 'g'), \n",
    "    ('0', 'o'), ('0', 'O'), \n",
    "    ('1', 'I'), ('1', 'i'), ('1', 'l')\n",
    "]\n",
    "Y_in2 = np.array([y for y in Y_in])\n",
    "for a in allowed_confusions:\n",
    "    Y_in2[Y_in == a[1]] = a[0]\n",
    " \n",
    "#random_plot(X_in[Y_in != Y_in2], Y_in[Y_in != Y_in2], Y_in2[Y_in != Y_in2])\n",
    "\n",
    "for i in range(len(Y_in2)):\n",
    "    if not Y_in2[i] in relevant_letters:\n",
    "        Y_in2[i] = '?'\n",
    "\n",
    "#random_plot(X_in[Y_in2 == '?'], Y_in[Y_in2 == '?'], Y_in2[Y_in2 == '?'])\n",
    "#random_plot(X_in[Y_in2 != '?'], Y_in[Y_in2 != '?'], Y_in2[Y_in2 != '?'])\n",
    "\n",
    "\n",
    "flg = (Y_in2 != '?')\n",
    "X_in = X_in[flg,:,:]\n",
    "Y_in2 = Y_in2[flg]\n",
    "print(X_in.shape,Y_in2.shape)\n",
    "random_plot(X_in, Y_in2)\n"
   ]
  },
  {
   "cell_type": "markdown",
   "metadata": {},
   "source": [
    "## Step 5 Train classification model"
   ]
  },
  {
   "cell_type": "code",
   "execution_count": 61,
   "metadata": {
    "collapsed": true
   },
   "outputs": [],
   "source": [
    "# generate test data from image data generator\n",
    "X_test, Y_test = generate_augmented_data(X_in, Y_in2, 10000, seed = 8)\n",
    "\n",
    "# generate train data too\n",
    "X_train, Y_train = generate_augmented_data(X_in, Y_in2, 5000, seed = 7)"
   ]
  },
  {
   "cell_type": "code",
   "execution_count": 62,
   "metadata": {
    "collapsed": true
   },
   "outputs": [],
   "source": [
    "# benchmark fit with support vector machine\n",
    "\n",
    "# used for data preprocess\n",
    "class Flatten:\n",
    "    def __init__(self):\n",
    "        pass\n",
    "    def fit(self, X, y=None):\n",
    "        return self\n",
    "    def transform(self, X, y=None):\n",
    "        return X.reshape(X.shape[0], -1)\n",
    "    def get_params(self, deep=True):\n",
    "        return {}\n",
    "\n",
    "    "
   ]
  },
  {
   "cell_type": "markdown",
   "metadata": {},
   "source": [
    "### Consider Dimensionality reduction with PCA"
   ]
  },
  {
   "cell_type": "code",
   "execution_count": 63,
   "metadata": {},
   "outputs": [
    {
     "data": {
      "image/png": "[encoded data removed]",
      "text/plain": [
       "<matplotlib.figure.Figure at 0xcfb9748>"
      ]
     },
     "metadata": {},
     "output_type": "display_data"
    },
    {
     "data": {
      "image/png": "[encoded data removed]",
      "text/plain": [
       "<matplotlib.figure.Figure at 0x74440f0>"
      ]
     },
     "metadata": {},
     "output_type": "display_data"
    },
    {
     "name": "stdout",
     "output_type": "stream",
     "text": [
      "1 0.286786579222\n",
      "2 0.347903846553\n",
      "3 0.406346561789\n",
      "4 0.460697388395\n",
      "5 0.505276070701\n",
      "6 0.53974974724\n",
      "7 0.571308235513\n",
      "8 0.598366074978\n",
      "9 0.623817750049\n",
      "10 0.647983685323\n",
      "11 0.66802951915\n",
      "12 0.686328985897\n",
      "13 0.702890484049\n",
      "14 0.71853193656\n",
      "15 0.732490358597\n",
      "16 0.746088692168\n",
      "17 0.75905975206\n",
      "18 0.770157611241\n",
      "19 0.780325977383\n",
      "20 0.790097111546\n",
      "21 0.799109409665\n",
      "22 0.807778223901\n",
      "23 0.816144671805\n",
      "24 0.823693753299\n",
      "25 0.831168341704\n",
      "26 0.838410843084\n",
      "27 0.845466336672\n",
      "28 0.852303836091\n",
      "29 0.858525441344\n",
      "30 0.864392812103\n",
      "31 0.870153899919\n",
      "32 0.875645417126\n",
      "33 0.880635358258\n",
      "34 0.885530081\n",
      "35 0.890138338165\n",
      "36 0.894723974465\n",
      "37 0.899013302744\n",
      "38 0.903097315845\n",
      "39 0.907036728821\n",
      "40 0.910446973378\n",
      "41 0.913761594493\n",
      "42 0.916911035275\n",
      "43 0.919953930479\n",
      "44 0.922958805462\n",
      "45 0.925892427506\n",
      "46 0.928764719479\n",
      "47 0.931504027068\n",
      "48 0.93421636539\n",
      "49 0.936696442603\n",
      "50 0.939136581588\n",
      "51 0.941342366326\n",
      "52 0.943494639284\n",
      "53 0.945576179148\n",
      "54 0.947559487093\n",
      "55 0.949529295806\n",
      "56 0.951437297617\n",
      "57 0.953235410544\n",
      "58 0.954966984696\n",
      "59 0.95663089947\n",
      "60 0.958246145992\n",
      "61 0.959770722113\n",
      "62 0.961266021953\n",
      "63 0.962723942969\n",
      "64 0.964127170495\n",
      "65 0.965465252948\n",
      "66 0.96673882463\n",
      "67 0.967996872839\n",
      "68 0.9692246595\n",
      "69 0.970413130413\n",
      "70 0.971580459351\n",
      "71 0.972724963908\n",
      "72 0.97382351785\n",
      "73 0.974902185014\n",
      "74 0.975944601799\n",
      "75 0.976883816966\n",
      "76 0.977820406719\n",
      "77 0.978734414689\n",
      "78 0.979633954555\n",
      "79 0.980495577476\n",
      "80 0.981335716692\n",
      "81 0.982138281585\n",
      "82 0.982917810022\n",
      "83 0.98366964814\n",
      "84 0.984406925599\n",
      "85 0.985098573121\n",
      "86 0.985751745209\n",
      "87 0.986393733456\n",
      "88 0.987006848329\n",
      "89 0.987586195566\n",
      "90 0.988154404064\n",
      "91 0.988698101094\n",
      "92 0.989218451559\n",
      "93 0.989714293843\n",
      "94 0.990195115732\n",
      "95 0.990665193683\n",
      "96 0.991128119338\n",
      "97 0.991557329025\n",
      "98 0.991984159462\n",
      "99 0.992400628034\n",
      "100 0.992803324678\n",
      "101 0.993199329883\n",
      "102 0.993575325949\n",
      "103 0.993930889751\n",
      "104 0.994255129221\n",
      "105 0.994573831954\n",
      "106 0.994889893828\n",
      "107 0.995184670219\n",
      "108 0.995469649331\n",
      "109 0.995735342005\n",
      "110 0.995998074742\n",
      "111 0.9962503295\n",
      "112 0.996477299373\n",
      "113 0.996692207883\n",
      "114 0.996901215998\n",
      "115 0.997104489953\n",
      "116 0.997299773879\n",
      "117 0.997475385029\n",
      "118 0.997641576331\n",
      "119 0.997804873118\n",
      "120 0.99795487817\n",
      "121 0.998095926778\n",
      "122 0.998233548155\n",
      "123 0.998360799053\n",
      "124 0.998479840409\n",
      "125 0.998595238285\n",
      "126 0.998706726586\n",
      "127 0.998809033391\n",
      "128 0.998900909296\n",
      "129 0.998990412249\n",
      "130 0.999077873539\n",
      "131 0.999160884383\n",
      "132 0.999236350927\n",
      "133 0.999311008581\n",
      "134 0.999379090711\n",
      "135 0.999443122405\n",
      "136 0.999501017969\n",
      "137 0.999554405382\n",
      "138 0.999602874973\n",
      "139 0.999646165687\n",
      "140 0.999687463727\n",
      "141 0.999725001121\n",
      "142 0.999758437478\n",
      "143 0.99979116778\n",
      "144 0.99981749287\n",
      "145 0.9998393304\n",
      "146 0.99985758541\n",
      "147 0.999875033795\n",
      "148 0.999891055404\n",
      "149 0.999906393316\n",
      "150 0.999920823115\n",
      "151 0.999932405314\n",
      "152 0.999941745053\n",
      "153 0.999949997459\n",
      "154 0.999957292599\n",
      "155 0.999963455118\n",
      "156 0.99996899435\n",
      "157 0.99997344452\n",
      "158 0.999977773126\n",
      "159 0.999981891739\n",
      "160 0.999985554689\n",
      "161 0.999988667881\n",
      "162 0.999991594599\n",
      "163 0.999993863344\n",
      "164 0.999995831307\n",
      "165 0.999996783175\n",
      "166 0.999997550597\n",
      "167 0.999998242816\n",
      "168 0.999998864179\n",
      "169 0.999999195124\n",
      "170 0.999999430784\n",
      "171 0.999999637377\n",
      "172 0.999999841896\n",
      "173 0.999999920255\n",
      "174 0.999999947528\n",
      "175 0.99999996376\n",
      "176 0.99999997469\n",
      "177 0.999999984092\n",
      "178 0.999999992633\n",
      "179 0.999999999192\n",
      "180 1.0\n",
      "181 1.0\n",
      "182 1.0\n",
      "183 1.0\n",
      "184 1.0\n",
      "185 1.0\n",
      "186 1.0\n",
      "187 1.0\n",
      "188 1.0\n",
      "189 1.0\n",
      "190 1.0\n",
      "191 1.0\n",
      "192 1.0\n",
      "193 1.0\n",
      "194 1.0\n",
      "195 1.0\n",
      "196 1.0\n",
      "197 1.0\n",
      "198 1.0\n"
     ]
    }
   ],
   "source": [
    "pipe_pca = Pipeline([\n",
    "    ('flatten', Flatten()), \n",
    "    ('PCA', PCA())\n",
    "])\n",
    "\n",
    "pipe_pca.fit(X_train)\n",
    "sns.set()\n",
    "plt.plot(pipe_pca.named_steps['PCA'].explained_variance_ratio_, linewidth=2)\n",
    "plt.show(block=False)\n",
    "\n",
    "cum = pipe_pca.named_steps['PCA'].explained_variance_ratio_.cumsum()\n",
    "plt.plot(cum, linewidth=2)\n",
    "plt.show(block=False)\n",
    "for i in range(len(cum)):\n",
    "    print(i+1, cum[i])"
   ]
  },
  {
   "cell_type": "markdown",
   "metadata": {},
   "source": [
    "Maybe 100?"
   ]
  },
  {
   "cell_type": "markdown",
   "metadata": {},
   "source": [
    "### Fit MLP"
   ]
  },
  {
   "cell_type": "code",
   "execution_count": 64,
   "metadata": {},
   "outputs": [
    {
     "name": "stdout",
     "output_type": "stream",
     "text": [
      "accuracy =  1.0\n",
      "col_0  /  0   1  2  3  4  5  6  7  8  9  :  All\n",
      "row_0                                          \n",
      "/      3  0   0  0  0  0  0  0  0  0  0  0    3\n",
      "0      0  6   0  0  0  0  0  0  0  0  0  0    6\n",
      "1      0  0  11  0  0  0  0  0  0  0  0  0   11\n",
      "2      0  0   0  5  0  0  0  0  0  0  0  0    5\n",
      "3      0  0   0  0  3  0  0  0  0  0  0  0    3\n",
      "4      0  0   0  0  0  3  0  0  0  0  0  0    3\n",
      "5      0  0   0  0  0  0  8  0  0  0  0  0    8\n",
      "6      0  0   0  0  0  0  0  3  0  0  0  0    3\n",
      "7      0  0   0  0  0  0  0  0  3  0  0  0    3\n",
      "8      0  0   0  0  0  0  0  0  0  2  0  0    2\n",
      "9      0  0   0  0  0  0  0  0  0  0  5  0    5\n",
      ":      0  0   0  0  0  0  0  0  0  0  0  2    2\n",
      "All    3  6  11  5  3  3  8  3  3  2  5  2   54\n",
      "accuracy =  0.996707244063\n"
     ]
    },
    {
     "data": {
      "image/png": "[encoded data removed]",
      "text/plain": [
       "<matplotlib.figure.Figure at 0xd373b38>"
      ]
     },
     "metadata": {},
     "output_type": "display_data"
    },
    {
     "name": "stdout",
     "output_type": "stream",
     "text": [
      "col_0    /     0     1    2    3    4     5    6    7    8    9    :    All\n",
      "row_0                                                                      \n",
      "/      557     0     0    0    0    0     0    0    0    0    0    0    557\n",
      "0        0  1110     0    0    0    0     0    4    0    0    0    0   1114\n",
      "1        0     0  2042    0    0    0     0    0    0    0    0    0   2042\n",
      "2        0     0     0  924    0    0     0    0    0    0    3    0    927\n",
      "3        0     0     0    0  556    0     0    0    0    0    0    0    556\n",
      "4        0     0     0    4    0  546     6    0    0    0    0    0    556\n",
      "5        0     0     0    2    1    0  1484    0    0    0    0    0   1487\n",
      "6        0     2     0    0    0    0     0  555    0    0    0    0    557\n",
      "7        0     0     0    0    1    0     0    0  554    0    0    0    555\n",
      "8        0     0     0    0    0    0     1    0    0  369    0    0    370\n",
      "9        0     0     0    0    0    0     0    0    0    0  929    0    929\n",
      ":        0     0     9    0    0    0     0    0    0    0    0  363    372\n",
      "All    557  1112  2051  930  558  546  1491  559  554  369  932  363  10022\n"
     ]
    }
   ],
   "source": [
    "pipe_mlp = Pipeline([\n",
    "    ('flatten', Flatten()), \n",
    "    ('PCA', PCA(n_components=100)),\n",
    "    ('MLP', MLPClassifier((100,100,100), alpha=0.01))\n",
    "])    \n",
    "\n",
    "pipe_mlp.fit(X_train, Y_train)\n",
    "\n",
    "\n",
    "diagnosis(pipe_mlp, X_in, Y_in2)\n",
    "diagnosis(pipe_mlp, X_test, Y_test)"
   ]
  },
  {
   "cell_type": "markdown",
   "metadata": {},
   "source": [
    "MLP is just amazing... We already have 99% accuracy..."
   ]
  },
  {
   "cell_type": "markdown",
   "metadata": {},
   "source": [
    "#### Exhaustive training until perfect accuracy"
   ]
  },
  {
   "cell_type": "code",
   "execution_count": 65,
   "metadata": {},
   "outputs": [
    {
     "name": "stdout",
     "output_type": "stream",
     "text": [
      "1004 score on test = 0.152564358411 score on original = 0.185185185185\n",
      "101404 score on test = 0.994611853921 score on original = 1.0\n",
      "201804 score on test = 0.999201756136 score on original = 1.0\n",
      "302204 score on test = 0.999700658551 score on original = 1.0\n",
      "DONE!\n"
     ]
    }
   ],
   "source": [
    "np.random.seed(87)\n",
    "\n",
    "# create data prep pipeline and\n",
    "# fit pca before learning\n",
    "# this way, we can fix the features to pass to MLP\n",
    "# if we use incrementalPCA and fit online, then the MLP learning would \n",
    "# mess up since there is no guarantee that PCA component i now is the \n",
    "# same as the component i in the next fitted PCA\n",
    "pca = PCA(n_components=50)\n",
    "pipe_prep = Pipeline([\n",
    "    ('flatten', Flatten()), \n",
    "    ('PCA', pca)\n",
    "])\n",
    "pipe_prep.fit(X_train)\n",
    "\n",
    "model = MLPClassifier((50,50), alpha=0.001, warm_start=True,\n",
    "                      batch_size=100, max_iter=10)\n",
    "#model = MLPClassifier((100,100), alpha=0.001, warm_start=True)\n",
    "pipe_pred = Pipeline([\n",
    "    ('prep', pipe_prep),\n",
    "    ('MLP', model)\n",
    "])\n",
    "\n",
    "classes = pipe_mlp.classes_\n",
    "\n",
    "train_gen = ImageDataGenerator(width_shift_range=0.1, height_shift_range=0.1, \n",
    "                               data_format='channels_last', channel_shift_range=0.5)\n",
    "\n",
    "num = 0\n",
    "result = None\n",
    "counter = 0\n",
    "consec_ones = 0\n",
    "#for X_batch,Y_batch in train_gen.flow(np.expand_dims(X_in, axis=4), \n",
    "#                                      Y_in, batch_size=1000):\n",
    "while counter <= 5000: \n",
    "    X_batch,Y_batch = generate_augmented_data(X_in, Y_in2, 1000)\n",
    "    counter += 1\n",
    "    if counter > 5000: break\n",
    "        \n",
    "    model.partial_fit(pipe_prep.transform(X_batch.squeeze()), \n",
    "                      Y_batch, classes)\n",
    "    num += len(Y_batch)\n",
    "    \n",
    "    score_test     = pipe_pred.score(X_test, Y_test)\n",
    "    score_original = pipe_pred.score(X_in, Y_in2)\n",
    "    tmp = dict(size = [num], score_test = [score_test], \n",
    "               score_original = [score_original])\n",
    "    tmp = pd.DataFrame(tmp)\n",
    "    if result is None:\n",
    "        result = tmp\n",
    "    else:\n",
    "        result = result.append(tmp)\n",
    "    \n",
    "    if counter % 100 == 1:\n",
    "        print(num, 'score on test =', score_test,\n",
    "              'score on original =', score_original)\n",
    "    if score_test == 1.0 and score_original == 1.0:\n",
    "        consec_ones += 1\n",
    "    if consec_ones >= 10:\n",
    "        print('DONE!')\n",
    "        break"
   ]
  },
  {
   "cell_type": "code",
   "execution_count": 66,
   "metadata": {},
   "outputs": [
    {
     "name": "stdout",
     "output_type": "stream",
     "text": [
      "accuracy =  1.0\n",
      "col_0  /  0   1  2  3  4  5  6  7  8  9  :  All\n",
      "row_0                                          \n",
      "/      3  0   0  0  0  0  0  0  0  0  0  0    3\n",
      "0      0  6   0  0  0  0  0  0  0  0  0  0    6\n",
      "1      0  0  11  0  0  0  0  0  0  0  0  0   11\n",
      "2      0  0   0  5  0  0  0  0  0  0  0  0    5\n",
      "3      0  0   0  0  3  0  0  0  0  0  0  0    3\n",
      "4      0  0   0  0  0  3  0  0  0  0  0  0    3\n",
      "5      0  0   0  0  0  0  8  0  0  0  0  0    8\n",
      "6      0  0   0  0  0  0  0  3  0  0  0  0    3\n",
      "7      0  0   0  0  0  0  0  0  3  0  0  0    3\n",
      "8      0  0   0  0  0  0  0  0  0  2  0  0    2\n",
      "9      0  0   0  0  0  0  0  0  0  0  5  0    5\n",
      ":      0  0   0  0  0  0  0  0  0  0  0  2    2\n",
      "All    3  6  11  5  3  3  8  3  3  2  5  2   54\n",
      "accuracy =  1.0\n",
      "col_0    /     0     1    2    3    4     5    6    7    8    9    :    All\n",
      "row_0                                                                      \n",
      "/      557     0     0    0    0    0     0    0    0    0    0    0    557\n",
      "0        0  1114     0    0    0    0     0    0    0    0    0    0   1114\n",
      "1        0     0  2042    0    0    0     0    0    0    0    0    0   2042\n",
      "2        0     0     0  927    0    0     0    0    0    0    0    0    927\n",
      "3        0     0     0    0  556    0     0    0    0    0    0    0    556\n",
      "4        0     0     0    0    0  556     0    0    0    0    0    0    556\n",
      "5        0     0     0    0    0    0  1487    0    0    0    0    0   1487\n",
      "6        0     0     0    0    0    0     0  557    0    0    0    0    557\n",
      "7        0     0     0    0    0    0     0    0  555    0    0    0    555\n",
      "8        0     0     0    0    0    0     0    0    0  370    0    0    370\n",
      "9        0     0     0    0    0    0     0    0    0    0  929    0    929\n",
      ":        0     0     0    0    0    0     0    0    0    0    0  372    372\n",
      "All    557  1114  2042  927  556  556  1487  557  555  370  929  372  10022\n"
     ]
    }
   ],
   "source": [
    "diagnosis(pipe_pred, X_in, Y_in2)\n",
    "diagnosis(pipe_pred, X_test, Y_test)"
   ]
  },
  {
   "cell_type": "code",
   "execution_count": 67,
   "metadata": {},
   "outputs": [
    {
     "data": {
      "image/png": "[encoded data removed]",
      "text/plain": [
       "<matplotlib.figure.Figure at 0x784ff28>"
      ]
     },
     "metadata": {},
     "output_type": "display_data"
    }
   ],
   "source": [
    "sns.set()\n",
    "plt.plot(result['size'], result['score_original'], 'b:', label='original')\n",
    "plt.plot(result['size'], result['score_test'], 'r--', label='test') \n",
    "plt.legend()\n",
    "plt.ylabel('accuracy')\n",
    "plt.xlabel('data size')\n",
    "plt.show(block=False)"
   ]
  },
  {
   "cell_type": "code",
   "execution_count": 68,
   "metadata": {},
   "outputs": [
    {
     "data": {
      "text/plain": [
       "['C:\\\\Users\\\\Kota.Mori\\\\Documents\\\\_dev\\\\kgschart\\\\models/caption-ja-loose_pca-mlp-full.pkl']"
      ]
     },
     "execution_count": 68,
     "metadata": {},
     "output_type": "execute_result"
    }
   ],
   "source": [
    "# save PCA-MLP part\n",
    "savename = os.path.join(modeldir, 'caption-ja-loose_pca-mlp-full.pkl')\n",
    "pipe = Pipeline([('PCA', pca), ('MLP', model)])\n",
    "joblib.dump(pipe, savename)"
   ]
  },
  {
   "cell_type": "code",
   "execution_count": 69,
   "metadata": {
    "collapsed": true
   },
   "outputs": [],
   "source": [
    "with open(os.path.join(modeldir, 'caption-ja-loose-config.json'), 'w') as file:\n",
    "    json.dump(dict(input_shape=X_in.shape[1:], \n",
    "                   allowed_confusions=allowed_confusions), file)"
   ]
  },
  {
   "cell_type": "code",
   "execution_count": null,
   "metadata": {
    "collapsed": true
   },
   "outputs": [],
   "source": []
  }
 ],
 "metadata": {
  "anaconda-cloud": {},
  "kernelspec": {
   "display_name": "Python [default]",
   "language": "python",
   "name": "python3"
  },
  "language_info": {
   "codemirror_mode": {
    "name": "ipython",
    "version": 3
   },
   "file_extension": ".py",
   "mimetype": "text/x-python",
   "name": "python",
   "nbconvert_exporter": "python",
   "pygments_lexer": "ipython3",
   "version": "3.5.2"
  }
 },
 "nbformat": 4,
 "nbformat_minor": 2
}
