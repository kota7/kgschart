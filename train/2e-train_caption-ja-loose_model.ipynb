{
 "cells": [
  {
   "cell_type": "markdown",
   "metadata": {},
   "source": [
    "# Train a loose version of Caption-ja letter classifier\n",
    "\n",
    "Goal: **Classify letters into digits, :, /, ~ and others**\n",
    "\n",
    "Let relevant letters = `{0-9, :, /, ~}`\n",
    "\n",
    "But this time, allow confusion between letters and numbers, such as, (2,z) (5,s) (0,o,O), (1,I,i,l) (9,g)\n",
    "Even if we classify z or s as relevant letters, we still can identify date-time by regex of DD/DD/DD HH:MM.\n",
    "Bu if we misclassify 2 as z and thus exclude from relevant string, then we can not identify the date time.\n",
    "In other words, false positives are acceptable.\n",
    "\n",
    "\n",
    "Steps\n",
    "\n",
    "\n",
    "1. Remove background columns (not rows) from all input data\n",
    "\n",
    "2. Get the maximum size of relevant letters -> `(nr, nc)`\n",
    "\n",
    "3. filter out the data with size larger than `(nr+4, nc+4)`\n",
    "\n",
    "4. Pad all remaing data to the size `(nr+4, nc+4)`\n",
    "\n",
    "5. Train classification model on the created data\n",
    "  "
   ]
  },
  {
   "cell_type": "code",
   "execution_count": 56,
   "metadata": {},
   "outputs": [],
   "source": [
    "import os\n",
    "import sys\n",
    "import json\n",
    "import numpy as np\n",
    "import pandas as pd\n",
    "from matplotlib import pyplot as plt\n",
    "import seaborn as sns\n",
    "from sklearn.externals import joblib\n",
    "from sklearn.svm import SVC\n",
    "from sklearn.decomposition import PCA\n",
    "from sklearn.neural_network import MLPClassifier\n",
    "from sklearn.linear_model import LogisticRegression\n",
    "from sklearn.pipeline import Pipeline\n",
    "from sklearn.metrics import classification_report\n",
    "from sklearn.model_selection import GridSearchCV\n",
    "from keras.preprocessing.image import ImageDataGenerator"
   ]
  },
  {
   "cell_type": "code",
   "execution_count": 57,
   "metadata": {
    "collapsed": true
   },
   "outputs": [],
   "source": [
    "proj_root = os.path.abspath(os.path.join('../')) \n",
    "datadir = os.path.join(proj_root, 'data/caption/')\n",
    "modeldir = os.path.join(proj_root, 'models/')\n",
    "arcdir = os.path.join(proj_root, 'models/archive')\n",
    "\n",
    "if not os.path.isdir(datadir): \n",
    "    print('data directory not found', os.path.abspath(datadir))\n",
    "    raise\n",
    "if not os.path.isdir(modeldir): os.path.makedirs(modeldir)\n",
    "if not os.path.isdir(modeldir): os.path.makedirs(arcdir)"
   ]
  },
  {
   "cell_type": "code",
   "execution_count": 58,
   "metadata": {
    "collapsed": true
   },
   "outputs": [],
   "source": [
    "module_path = os.path.join(proj_root, 'kgschart')\n",
    "sys.path.append(module_path)\n",
    "from utils import pad_image"
   ]
  },
  {
   "cell_type": "code",
   "execution_count": 59,
   "metadata": {
    "collapsed": true
   },
   "outputs": [],
   "source": [
    "X = np.load(os.path.join(datadir, 'X-ja.npy'))\n",
    "Y = np.load(os.path.join(datadir, 'Y-ja.npy'))"
   ]
  },
  {
   "cell_type": "code",
   "execution_count": 60,
   "metadata": {},
   "outputs": [
    {
     "data": {
      "image/png": "[encoded data removed]",
      "text/plain": [
       "<matplotlib.figure.Figure at 0xcc1b240>"
      ]
     },
     "metadata": {},
     "output_type": "display_data"
    }
   ],
   "source": [
    "# convenient functions\n",
    "def random_plot(X, Y, predicted=None):\n",
    "    sns.set_style('white')\n",
    "    indices = np.random.choice(len(Y), min(8, len(Y)))\n",
    "    count = 0\n",
    "    for i in indices:\n",
    "        count += 1\n",
    "        ax = plt.subplot(2, 4, count)\n",
    "        ax.imshow(X[i], cmap='gray')\n",
    "        text = Y[i] if predicted is None else 'tr: %s, pr: %s' % (Y[i], predicted[i])\n",
    "        ax.text(0, 0, text, bbox={'facecolor':\"wheat\"})\n",
    "    plt.show(block=False)\n",
    "\n",
    "random_plot(X, Y)\n",
    "\n",
    "\n",
    "def compare_plot(X1, X2):\n",
    "    sns.set_style('white')\n",
    "    indices = range(3) if len(X1) <= 3 else np.random.choice(len(X1), 3)\n",
    "    count = 0\n",
    "    for i in indices:\n",
    "        count += 1\n",
    "        plt.subplot(3, 2, count)\n",
    "        plt.imshow(X1[i], cmap='gray')\n",
    "        count += 1\n",
    "        plt.subplot(3, 2, count)\n",
    "        plt.imshow(X2[i], cmap='gray')\n",
    "    plt.show(block=False)\n",
    "\n",
    "def generate_augmented_data(X, Y, target_size, seed=None):\n",
    "    datagen = ImageDataGenerator(width_shift_range=0.1, height_shift_range=0.1, \n",
    "                                 data_format='channels_last', channel_shift_range=0.5)\n",
    "    out_X = None\n",
    "    out_Y = None\n",
    "    for x,y in datagen.flow(np.expand_dims(X, axis=4), Y, seed=seed):\n",
    "        if out_X is None:\n",
    "            out_X = x\n",
    "            out_Y = y\n",
    "        else:\n",
    "            out_X = np.vstack([out_X, x])\n",
    "            out_Y = np.concatenate([out_Y, y])\n",
    "        if len(out_Y) >= target_size: \n",
    "            break\n",
    "    out_X = out_X.squeeze()\n",
    "    return out_X, out_Y\n",
    "\n",
    "\n",
    "def diagnosis(fit, X, Y):\n",
    "    print('accuracy = ', fit.score(X, Y))\n",
    "    pred = fit.predict(X)\n",
    "    wrong = (Y != pred)\n",
    "    if np.any(wrong):\n",
    "        random_plot(X[wrong], Y[wrong], pred[wrong])\n",
    "    #print(classification_report(Y, pred))\n",
    "    print(pd.crosstab(pd.Series(Y), pd.Series(pred), margins=True))\n",
    "\n"
   ]
  },
  {
   "cell_type": "markdown",
   "metadata": {},
   "source": [
    "## Step 1 Remove background from all input data"
   ]
  },
  {
   "cell_type": "code",
   "execution_count": 61,
   "metadata": {},
   "outputs": [
    {
     "data": {
      "image/png": "[encoded data removed]",
      "text/plain": [
       "<matplotlib.figure.Figure at 0xcc909e8>"
      ]
     },
     "metadata": {},
     "output_type": "display_data"
    }
   ],
   "source": [
    "def remove_background(x, bg = 1.0, rows=False, cols=True):\n",
    "    \"\"\"\n",
    "    from a image array of size (nrow, ncol),\n",
    "    remove all rows and cols where values are all bg\n",
    "    \"\"\"\n",
    "    not_bg = (x != bg)\n",
    "    non_bg_rows = np.any(not_bg, axis=1)\n",
    "    non_bg_cols = np.any(not_bg, axis=0)\n",
    "    \n",
    "    if rows:\n",
    "        tmp = non_bg_rows.nonzero()[0]\n",
    "        if len(tmp) == 0: return None\n",
    "        i1 = tmp[0]\n",
    "        i2 = tmp[-1] + 1\n",
    "    else:\n",
    "        i1 = 0\n",
    "        i2 = x.shape[0]\n",
    "    \n",
    "    if cols:\n",
    "        tmp = non_bg_cols.nonzero()[0]\n",
    "        if len(tmp) == 0: return None\n",
    "        j1 = tmp[0]\n",
    "        j2 = tmp[-1] + 1\n",
    "    else:\n",
    "        j1 = 0\n",
    "        j2 = x.shape[1]\n",
    "        \n",
    "    return x[i1:i2, j1:j2]\n",
    "\n",
    "X_nobg = [remove_background(x, rows=False) for x in X]\n",
    "compare_plot(X, X_nobg)"
   ]
  },
  {
   "cell_type": "markdown",
   "metadata": {},
   "source": [
    "## Step 2 Get the maximum size of relevant letters -> (nr, nc)"
   ]
  },
  {
   "cell_type": "code",
   "execution_count": 62,
   "metadata": {},
   "outputs": [
    {
     "name": "stdout",
     "output_type": "stream",
     "text": [
      "14 7\n"
     ]
    }
   ],
   "source": [
    "max_rows = 0\n",
    "max_cols = 0\n",
    "\n",
    "relevant_letters = [s for s in '0123456789/:?']\n",
    "for i in range(len(Y)):\n",
    "    if Y[i] in relevant_letters:\n",
    "        max_rows = max(X_nobg[i].shape[0], max_rows)\n",
    "        max_cols = max(X_nobg[i].shape[1], max_cols)\n",
    "print(max_rows, max_cols)"
   ]
  },
  {
   "cell_type": "markdown",
   "metadata": {},
   "source": [
    "## Step 3 filter out the data with size larger than (nr+4, nc+4)"
   ]
  },
  {
   "cell_type": "code",
   "execution_count": 63,
   "metadata": {},
   "outputs": [
    {
     "name": "stdout",
     "output_type": "stream",
     "text": [
      "target shape = (18, 11)\n",
      "total: 109, included: 105, out: 4\n",
      "non-included samples\n"
     ]
    },
    {
     "data": {
      "image/png": "[encoded data removed]",
      "text/plain": [
       "<matplotlib.figure.Figure at 0xcfb2358>"
      ]
     },
     "metadata": {},
     "output_type": "display_data"
    },
    {
     "name": "stdout",
     "output_type": "stream",
     "text": [
      "included samples\n"
     ]
    },
    {
     "data": {
      "image/png": "[encoded data removed]",
      "text/plain": [
       "<matplotlib.figure.Figure at 0xcd23630>"
      ]
     },
     "metadata": {},
     "output_type": "display_data"
    }
   ],
   "source": [
    "target_shape = (max_rows+4, max_cols+4)\n",
    "print(\"target shape =\", target_shape)\n",
    "X_out = []\n",
    "Y_out = []\n",
    "X_in = []\n",
    "Y_in = []\n",
    "for i in range(len(Y)):\n",
    "    #print(i, X_nobg[i].shape)\n",
    "    if X_nobg[i].shape[0] <= target_shape[0] and X_nobg[i].shape[1] <= target_shape[1]:\n",
    "        X_in.append(X_nobg[i])\n",
    "        Y_in.append(Y[i])\n",
    "    else:\n",
    "        X_out.append(X_nobg[i])\n",
    "        Y_out.append(Y[i])\n",
    "print('total: %d, included: %d, out: %d' % (len(Y), len(Y_in), len(Y_out)))\n",
    "\n",
    "print('non-included samples')\n",
    "random_plot(X_out, Y_out)\n",
    "\n",
    "print('included samples')\n",
    "random_plot(X_in, Y_in)\n"
   ]
  },
  {
   "cell_type": "markdown",
   "metadata": {},
   "source": [
    "## Step 4 Pad all remaing data to the size (nr+4, nc+4)"
   ]
  },
  {
   "cell_type": "code",
   "execution_count": 64,
   "metadata": {},
   "outputs": [
    {
     "data": {
      "image/png": "[encoded data removed]",
      "text/plain": [
       "<matplotlib.figure.Figure at 0xcd8be10>"
      ]
     },
     "metadata": {},
     "output_type": "display_data"
    },
    {
     "data": {
      "image/png": "[encoded data removed]",
      "text/plain": [
       "<matplotlib.figure.Figure at 0xcd65978>"
      ]
     },
     "metadata": {},
     "output_type": "display_data"
    },
    {
     "data": {
      "image/png": "[encoded data removed]",
      "text/plain": [
       "<matplotlib.figure.Figure at 0xd088978>"
      ]
     },
     "metadata": {},
     "output_type": "display_data"
    }
   ],
   "source": [
    "X_in = [pad_image(x, target_shape[0], target_shape[1], 1.0) for x in X_in]\n",
    "X_in = [np.expand_dims(x, axis=0) for x in X_in]\n",
    "X_in = np.vstack(X_in)\n",
    "\n",
    "Y_in = np.array(Y_in)\n",
    "\n",
    "allowed_confusions = [\n",
    "    ('2', 'z'), ('2', 'Z'),\n",
    "    ('5', 's'), ('5', 'S'), \n",
    "    ('9', 'g'), \n",
    "    ('0', 'o'), ('0', 'O'), \n",
    "    ('1', 'I'), ('1', 'i'), ('1', 'l')\n",
    "]\n",
    "Y_in2 = np.array([y for y in Y_in])\n",
    "for a in allowed_confusions:\n",
    "    Y_in2[Y_in == a[1]] = a[0]\n",
    " \n",
    "random_plot(X_in[Y_in != Y_in2], Y_in[Y_in != Y_in2], Y_in2[Y_in != Y_in2])\n",
    "\n",
    "for i in range(len(Y_in2)):\n",
    "    if not Y_in2[i] in relevant_letters:\n",
    "        Y_in2[i] = '?'\n",
    "\n",
    "random_plot(X_in[Y_in2 == '?'], Y_in[Y_in2 == '?'], Y_in2[Y_in2 == '?'])\n",
    "\n",
    "random_plot(X_in[Y_in2 != '?'], Y_in[Y_in2 != '?'], Y_in2[Y_in2 != '?'])\n"
   ]
  },
  {
   "cell_type": "markdown",
   "metadata": {},
   "source": [
    "## Step 5 Train classification model"
   ]
  },
  {
   "cell_type": "code",
   "execution_count": 65,
   "metadata": {
    "collapsed": true
   },
   "outputs": [],
   "source": [
    "# generate test data from image data generator\n",
    "X_test, Y_test = generate_augmented_data(X_in, Y_in2, 10000, seed = 8)\n",
    "\n",
    "# generate train data too\n",
    "X_train, Y_train = generate_augmented_data(X_in, Y_in2, 5000, seed = 7)"
   ]
  },
  {
   "cell_type": "code",
   "execution_count": 66,
   "metadata": {
    "collapsed": true
   },
   "outputs": [],
   "source": [
    "# benchmark fit with support vector machine\n",
    "\n",
    "# used for data preprocess\n",
    "class Flatten:\n",
    "    def __init__(self):\n",
    "        pass\n",
    "    def fit(self, X, y=None):\n",
    "        return self\n",
    "    def transform(self, X, y=None):\n",
    "        return X.reshape(X.shape[0], -1)\n",
    "    def get_params(self, deep=True):\n",
    "        return {}\n",
    "\n",
    "    "
   ]
  },
  {
   "cell_type": "markdown",
   "metadata": {},
   "source": [
    "### Consider Dimensionality reduction with PCA"
   ]
  },
  {
   "cell_type": "code",
   "execution_count": 67,
   "metadata": {},
   "outputs": [
    {
     "data": {
      "image/png": "[encoded data removed]",
      "text/plain": [
       "<matplotlib.figure.Figure at 0xce899b0>"
      ]
     },
     "metadata": {},
     "output_type": "display_data"
    },
    {
     "data": {
      "image/png": "[encoded data removed]",
      "text/plain": [
       "<matplotlib.figure.Figure at 0xcc0e5c0>"
      ]
     },
     "metadata": {},
     "output_type": "display_data"
    },
    {
     "name": "stdout",
     "output_type": "stream",
     "text": [
      "1 0.265655860153\n",
      "2 0.32519570516\n",
      "3 0.377113965991\n",
      "4 0.421118811853\n",
      "5 0.460312545767\n",
      "6 0.496308122333\n",
      "7 0.529956849393\n",
      "8 0.559142948908\n",
      "9 0.581739304799\n",
      "10 0.603683565478\n",
      "11 0.623750733001\n",
      "12 0.642165886643\n",
      "13 0.658699982108\n",
      "14 0.674516466687\n",
      "15 0.689775129713\n",
      "16 0.704025808365\n",
      "17 0.716629398776\n",
      "18 0.728780556851\n",
      "19 0.74044301583\n",
      "20 0.751707057237\n",
      "21 0.76271368785\n",
      "22 0.772736143686\n",
      "23 0.781940867711\n",
      "24 0.790128330311\n",
      "25 0.798053135893\n",
      "26 0.805885674845\n",
      "27 0.813181003545\n",
      "28 0.820056840805\n",
      "29 0.826672575236\n",
      "30 0.832816600389\n",
      "31 0.838910694568\n",
      "32 0.844762561024\n",
      "33 0.85036572771\n",
      "34 0.855801263137\n",
      "35 0.86105217741\n",
      "36 0.865997217978\n",
      "37 0.870905008864\n",
      "38 0.875570348307\n",
      "39 0.880129103542\n",
      "40 0.884583287425\n",
      "41 0.888698155627\n",
      "42 0.892691939405\n",
      "43 0.89649917233\n",
      "44 0.900102274192\n",
      "45 0.903538609575\n",
      "46 0.906768718314\n",
      "47 0.909855885242\n",
      "48 0.912850780837\n",
      "49 0.915683055538\n",
      "50 0.918443239982\n",
      "51 0.92117952399\n",
      "52 0.923803335441\n",
      "53 0.92625402506\n",
      "54 0.928630045222\n",
      "55 0.930995690556\n",
      "56 0.933218531376\n",
      "57 0.935438154691\n",
      "58 0.93759861204\n",
      "59 0.939671417941\n",
      "60 0.941695889824\n",
      "61 0.943574176945\n",
      "62 0.945357753763\n",
      "63 0.947117005828\n",
      "64 0.948813536739\n",
      "65 0.950452672685\n",
      "66 0.952070979987\n",
      "67 0.953625494568\n",
      "68 0.955115836569\n",
      "69 0.956568646015\n",
      "70 0.957990122542\n",
      "71 0.959394179753\n",
      "72 0.960737782254\n",
      "73 0.962034661105\n",
      "74 0.963280306175\n",
      "75 0.964519967308\n",
      "76 0.96574415089\n",
      "77 0.966914328255\n",
      "78 0.968041151637\n",
      "79 0.969143711639\n",
      "80 0.97020234172\n",
      "81 0.971226376472\n",
      "82 0.972240285694\n",
      "83 0.973212371163\n",
      "84 0.9741562976\n",
      "85 0.975084883742\n",
      "86 0.975980732009\n",
      "87 0.976862615567\n",
      "88 0.977734134314\n",
      "89 0.978559424598\n",
      "90 0.979346165445\n",
      "91 0.980114816915\n",
      "92 0.980861959514\n",
      "93 0.981603430779\n",
      "94 0.982325926737\n",
      "95 0.983005412117\n",
      "96 0.983663284449\n",
      "97 0.98429147509\n",
      "98 0.984902036823\n",
      "99 0.985484501865\n",
      "100 0.986048959392\n",
      "101 0.986597518038\n",
      "102 0.987134538211\n",
      "103 0.987650606772\n",
      "104 0.988166409548\n",
      "105 0.988657932199\n",
      "106 0.989122397157\n",
      "107 0.989578402161\n",
      "108 0.990017209564\n",
      "109 0.990448016113\n",
      "110 0.99086141847\n",
      "111 0.991265172946\n",
      "112 0.991643901543\n",
      "113 0.992009155757\n",
      "114 0.992364445493\n",
      "115 0.992708482745\n",
      "116 0.993034376063\n",
      "117 0.993351835076\n",
      "118 0.99365860793\n",
      "119 0.993954995344\n",
      "120 0.994248584606\n",
      "121 0.994524463715\n",
      "122 0.994781557993\n",
      "123 0.995032175932\n",
      "124 0.995265004982\n",
      "125 0.995483158046\n",
      "126 0.995700435245\n",
      "127 0.995911516858\n",
      "128 0.996118479149\n",
      "129 0.996320368932\n",
      "130 0.996511605254\n",
      "131 0.996695284064\n",
      "132 0.996869441639\n",
      "133 0.997036202122\n",
      "134 0.997195505071\n",
      "135 0.99734720797\n",
      "136 0.997494218185\n",
      "137 0.997637310471\n",
      "138 0.997774770479\n",
      "139 0.997901236672\n",
      "140 0.998025983882\n",
      "141 0.99814195538\n",
      "142 0.99825160902\n",
      "143 0.998358582092\n",
      "144 0.998457832098\n",
      "145 0.998555780316\n",
      "146 0.998645031049\n",
      "147 0.998732161811\n",
      "148 0.9988160419\n",
      "149 0.998897163662\n",
      "150 0.998973865214\n",
      "151 0.999046919598\n",
      "152 0.999118348307\n",
      "153 0.999187564478\n",
      "154 0.999253361298\n",
      "155 0.999310471167\n",
      "156 0.999364123161\n",
      "157 0.999414806892\n",
      "158 0.999463716292\n",
      "159 0.999509180934\n",
      "160 0.999550833544\n",
      "161 0.999588880754\n",
      "162 0.99962643816\n",
      "163 0.999660193419\n",
      "164 0.99969231065\n",
      "165 0.999719733205\n",
      "166 0.999746136898\n",
      "167 0.999770951023\n",
      "168 0.999794929384\n",
      "169 0.999818045382\n",
      "170 0.999838164913\n",
      "171 0.999856390627\n",
      "172 0.999873868617\n",
      "173 0.999889511225\n",
      "174 0.999902932295\n",
      "175 0.999915684505\n",
      "176 0.999927901326\n",
      "177 0.999939611535\n",
      "178 0.999948380454\n",
      "179 0.999956694209\n",
      "180 0.999964227405\n",
      "181 0.99997148661\n",
      "182 0.999977749478\n",
      "183 0.9999826988\n",
      "184 0.999986800442\n",
      "185 0.999990102829\n",
      "186 0.99999322246\n",
      "187 0.999996112353\n",
      "188 0.999997952785\n",
      "189 0.999999224311\n",
      "190 0.999999609705\n",
      "191 0.999999869734\n",
      "192 0.999999982423\n",
      "193 0.999999999382\n",
      "194 1.0\n",
      "195 1.0\n",
      "196 1.0\n",
      "197 1.0\n",
      "198 1.0\n"
     ]
    }
   ],
   "source": [
    "pipe_pca = Pipeline([\n",
    "    ('flatten', Flatten()), \n",
    "    ('PCA', PCA())\n",
    "])\n",
    "\n",
    "pipe_pca.fit(X_train)\n",
    "sns.set()\n",
    "plt.plot(pipe_pca.named_steps['PCA'].explained_variance_ratio_, linewidth=2)\n",
    "plt.show(block=False)\n",
    "\n",
    "cum = pipe_pca.named_steps['PCA'].explained_variance_ratio_.cumsum()\n",
    "plt.plot(cum, linewidth=2)\n",
    "plt.show(block=False)\n",
    "for i in range(len(cum)):\n",
    "    print(i+1, cum[i])"
   ]
  },
  {
   "cell_type": "markdown",
   "metadata": {},
   "source": [
    "Maybe 100?"
   ]
  },
  {
   "cell_type": "markdown",
   "metadata": {},
   "source": [
    "### Fit MLP"
   ]
  },
  {
   "cell_type": "code",
   "execution_count": 68,
   "metadata": {},
   "outputs": [
    {
     "name": "stdout",
     "output_type": "stream",
     "text": [
      "accuracy =  1.0\n",
      "col_0  /  0   1  2  3  4  5  6  7  8  9  :   ?  All\n",
      "row_0                                              \n",
      "/      3  0   0  0  0  0  0  0  0  0  0  0   0    3\n",
      "0      0  6   0  0  0  0  0  0  0  0  0  0   0    6\n",
      "1      0  0  11  0  0  0  0  0  0  0  0  0   0   11\n",
      "2      0  0   0  5  0  0  0  0  0  0  0  0   0    5\n",
      "3      0  0   0  0  3  0  0  0  0  0  0  0   0    3\n",
      "4      0  0   0  0  0  3  0  0  0  0  0  0   0    3\n",
      "5      0  0   0  0  0  0  8  0  0  0  0  0   0    8\n",
      "6      0  0   0  0  0  0  0  3  0  0  0  0   0    3\n",
      "7      0  0   0  0  0  0  0  0  3  0  0  0   0    3\n",
      "8      0  0   0  0  0  0  0  0  0  2  0  0   0    2\n",
      "9      0  0   0  0  0  0  0  0  0  0  5  0   0    5\n",
      ":      0  0   0  0  0  0  0  0  0  0  0  2   0    2\n",
      "?      0  0   0  0  0  0  0  0  0  0  0  0  51   51\n",
      "All    3  6  11  5  3  3  8  3  3  2  5  2  51  105\n",
      "accuracy =  0.988308184271\n"
     ]
    },
    {
     "data": {
      "image/png": "[encoded data removed]",
      "text/plain": [
       "<matplotlib.figure.Figure at 0xcfb2ef0>"
      ]
     },
     "metadata": {},
     "output_type": "display_data"
    },
    {
     "name": "stdout",
     "output_type": "stream",
     "text": [
      "col_0    /    0     1    2    3    4    5    6    7    8    9    :     ?  \\\n",
      "row_0                                                                      \n",
      "/      286    0     0    0    0    0    0    0    0    0    0    0     0   \n",
      "0        0  554     0    0    0    0    0    0    0    0    5    0    13   \n",
      "1        0    0  1046    0    0    0    0    0    0    0    0    0     3   \n",
      "2        1    0     0  465    0    0    0    0    1    0    1    0     9   \n",
      "3        0    0     1    0  283    0    1    0    0    1    0    0     0   \n",
      "4        0    0     0    0    0  285    0    0    0    0    0    0     0   \n",
      "5        0    0     4    0    1    0  749    0    0    0    0    0     9   \n",
      "6        0    0     0    0    0    0    0  274    0    0    0    0    11   \n",
      "7        0    0     0    0    0    0    0    0  285    0    0    0     0   \n",
      "8        0    0     0    0    0    0    0    0    0  190    0    0     1   \n",
      "9        0    0     0    0    0    0    0    0    1    0  474    0     2   \n",
      ":        0    0     4    0    0    0    0    0    0    0    0  187     0   \n",
      "?        0   11    20    1    0    0    5    3    0    1    2    5  4812   \n",
      "All    287  565  1075  466  284  285  755  277  287  192  482  192  4860   \n",
      "\n",
      "col_0    All  \n",
      "row_0         \n",
      "/        286  \n",
      "0        572  \n",
      "1       1049  \n",
      "2        477  \n",
      "3        286  \n",
      "4        285  \n",
      "5        763  \n",
      "6        285  \n",
      "7        285  \n",
      "8        191  \n",
      "9        477  \n",
      ":        191  \n",
      "?       4860  \n",
      "All    10007  \n"
     ]
    }
   ],
   "source": [
    "pipe_mlp = Pipeline([\n",
    "    ('flatten', Flatten()), \n",
    "    ('PCA', PCA(n_components=100)),\n",
    "    ('MLP', MLPClassifier((100,100,100), alpha=0.01))\n",
    "])    \n",
    "\n",
    "pipe_mlp.fit(X_train, Y_train)\n",
    "\n",
    "\n",
    "diagnosis(pipe_mlp, X_in, Y_in2)\n",
    "diagnosis(pipe_mlp, X_test, Y_test)"
   ]
  },
  {
   "cell_type": "markdown",
   "metadata": {},
   "source": [
    "MLP is just amazing... We already have 99% accuracy..."
   ]
  },
  {
   "cell_type": "markdown",
   "metadata": {},
   "source": [
    "#### Exhaustive training until perfect accuracy"
   ]
  },
  {
   "cell_type": "code",
   "execution_count": 69,
   "metadata": {},
   "outputs": [
    {
     "name": "stdout",
     "output_type": "stream",
     "text": [
      "1009 score on test = 0.484860597582 score on original = 0.485714285714\n",
      "101909 score on test = 0.992105526132 score on original = 1.0\n",
      "202809 score on test = 0.999900069951 score on original = 1.0\n",
      "303709 score on test = 1.0 score on original = 1.0\n",
      "DONE!\n"
     ]
    }
   ],
   "source": [
    "np.random.seed(87)\n",
    "\n",
    "# create data prep pipeline and\n",
    "# fit pca before learning\n",
    "# this way, we can fix the features to pass to MLP\n",
    "# if we use incrementalPCA and fit online, then the MLP learning would \n",
    "# mess up since there is no guarantee that PCA component i now is the \n",
    "# same as the component i in the next fitted PCA\n",
    "pca = PCA(n_components=100)\n",
    "pipe_prep = Pipeline([\n",
    "    ('flatten', Flatten()), \n",
    "    ('PCA', pca)\n",
    "])\n",
    "pipe_prep.fit(X_train)\n",
    "\n",
    "model = MLPClassifier((100,100,100), alpha=0.01, warm_start=True)\n",
    "#model = MLPClassifier((100,100), alpha=0.001, warm_start=True)\n",
    "pipe_pred = Pipeline([\n",
    "    ('prep', pipe_prep),\n",
    "    ('MLP', model)\n",
    "])\n",
    "\n",
    "classes = pipe_mlp.classes_\n",
    "\n",
    "train_gen = ImageDataGenerator(width_shift_range=0.1, height_shift_range=0.1, \n",
    "                               data_format='channels_last', channel_shift_range=0.5)\n",
    "\n",
    "num = 0\n",
    "result = None\n",
    "counter = 0\n",
    "consec_ones = 0\n",
    "#for X_batch,Y_batch in train_gen.flow(np.expand_dims(X_in, axis=4), \n",
    "#                                      Y_in, batch_size=1000):\n",
    "while counter <= 5000: \n",
    "    X_batch,Y_batch = generate_augmented_data(X_in, Y_in2, 1000)\n",
    "    counter += 1\n",
    "    if counter > 5000: break\n",
    "        \n",
    "    model.partial_fit(pipe_prep.transform(X_batch.squeeze()), \n",
    "                      Y_batch, classes)\n",
    "    num += len(Y_batch)\n",
    "    \n",
    "    score_test     = pipe_pred.score(X_test, Y_test)\n",
    "    score_original = pipe_pred.score(X_in, Y_in2)\n",
    "    tmp = dict(size = [num], score_test = [score_test], \n",
    "               score_original = [score_original])\n",
    "    tmp = pd.DataFrame(tmp)\n",
    "    if result is None:\n",
    "        result = tmp\n",
    "    else:\n",
    "        result = result.append(tmp)\n",
    "    \n",
    "    if counter % 100 == 1:\n",
    "        print(num, 'score on test =', score_test,\n",
    "              'score on original =', score_original)\n",
    "    if score_test == 1.0 and score_original == 1.0:\n",
    "        consec_ones += 1\n",
    "    if consec_ones >= 10:\n",
    "        print('DONE!')\n",
    "        break"
   ]
  },
  {
   "cell_type": "code",
   "execution_count": 70,
   "metadata": {},
   "outputs": [
    {
     "name": "stdout",
     "output_type": "stream",
     "text": [
      "accuracy =  1.0\n",
      "col_0  /  0   1  2  3  4  5  6  7  8  9  :   ?  All\n",
      "row_0                                              \n",
      "/      3  0   0  0  0  0  0  0  0  0  0  0   0    3\n",
      "0      0  6   0  0  0  0  0  0  0  0  0  0   0    6\n",
      "1      0  0  11  0  0  0  0  0  0  0  0  0   0   11\n",
      "2      0  0   0  5  0  0  0  0  0  0  0  0   0    5\n",
      "3      0  0   0  0  3  0  0  0  0  0  0  0   0    3\n",
      "4      0  0   0  0  0  3  0  0  0  0  0  0   0    3\n",
      "5      0  0   0  0  0  0  8  0  0  0  0  0   0    8\n",
      "6      0  0   0  0  0  0  0  3  0  0  0  0   0    3\n",
      "7      0  0   0  0  0  0  0  0  3  0  0  0   0    3\n",
      "8      0  0   0  0  0  0  0  0  0  2  0  0   0    2\n",
      "9      0  0   0  0  0  0  0  0  0  0  5  0   0    5\n",
      ":      0  0   0  0  0  0  0  0  0  0  0  2   0    2\n",
      "?      0  0   0  0  0  0  0  0  0  0  0  0  51   51\n",
      "All    3  6  11  5  3  3  8  3  3  2  5  2  51  105\n",
      "accuracy =  1.0\n",
      "col_0    /    0     1    2    3    4    5    6    7    8    9    :     ?  \\\n",
      "row_0                                                                      \n",
      "/      286    0     0    0    0    0    0    0    0    0    0    0     0   \n",
      "0        0  572     0    0    0    0    0    0    0    0    0    0     0   \n",
      "1        0    0  1049    0    0    0    0    0    0    0    0    0     0   \n",
      "2        0    0     0  477    0    0    0    0    0    0    0    0     0   \n",
      "3        0    0     0    0  286    0    0    0    0    0    0    0     0   \n",
      "4        0    0     0    0    0  285    0    0    0    0    0    0     0   \n",
      "5        0    0     0    0    0    0  763    0    0    0    0    0     0   \n",
      "6        0    0     0    0    0    0    0  285    0    0    0    0     0   \n",
      "7        0    0     0    0    0    0    0    0  285    0    0    0     0   \n",
      "8        0    0     0    0    0    0    0    0    0  191    0    0     0   \n",
      "9        0    0     0    0    0    0    0    0    0    0  477    0     0   \n",
      ":        0    0     0    0    0    0    0    0    0    0    0  191     0   \n",
      "?        0    0     0    0    0    0    0    0    0    0    0    0  4860   \n",
      "All    286  572  1049  477  286  285  763  285  285  191  477  191  4860   \n",
      "\n",
      "col_0    All  \n",
      "row_0         \n",
      "/        286  \n",
      "0        572  \n",
      "1       1049  \n",
      "2        477  \n",
      "3        286  \n",
      "4        285  \n",
      "5        763  \n",
      "6        285  \n",
      "7        285  \n",
      "8        191  \n",
      "9        477  \n",
      ":        191  \n",
      "?       4860  \n",
      "All    10007  \n"
     ]
    }
   ],
   "source": [
    "diagnosis(pipe_pred, X_in, Y_in2)\n",
    "diagnosis(pipe_pred, X_test, Y_test)"
   ]
  },
  {
   "cell_type": "code",
   "execution_count": 71,
   "metadata": {},
   "outputs": [
    {
     "data": {
      "image/png": "[encoded data removed]",
      "text/plain": [
       "<matplotlib.figure.Figure at 0xc7a5e48>"
      ]
     },
     "metadata": {},
     "output_type": "display_data"
    }
   ],
   "source": [
    "sns.set()\n",
    "plt.plot(result['size'], result['score_original'], 'b:', label='original')\n",
    "plt.plot(result['size'], result['score_test'], 'r--', label='test') \n",
    "plt.legend()\n",
    "plt.ylabel('accuracy')\n",
    "plt.xlabel('data size')\n",
    "plt.show(block=False)"
   ]
  },
  {
   "cell_type": "code",
   "execution_count": 72,
   "metadata": {},
   "outputs": [
    {
     "data": {
      "text/plain": [
       "['C:\\\\Users\\\\Kota.Mori\\\\Documents\\\\_dev\\\\kgschart\\\\models/caption-ja-loose_pca-mlp-full.pkl']"
      ]
     },
     "execution_count": 72,
     "metadata": {},
     "output_type": "execute_result"
    }
   ],
   "source": [
    "# save PCA-MLP part\n",
    "savename = os.path.join(modeldir, 'caption-ja-loose_pca-mlp-full.pkl')\n",
    "pipe = Pipeline([('PCA', pca), ('MLP', model)])\n",
    "joblib.dump(pipe, savename)"
   ]
  },
  {
   "cell_type": "code",
   "execution_count": 73,
   "metadata": {
    "collapsed": true
   },
   "outputs": [],
   "source": [
    "with open(os.path.join(modeldir, 'caption-ja-loose-config.json'), 'w') as file:\n",
    "    json.dump(dict(input_shape=X_in.shape[1:], \n",
    "                   allowed_confusions=allowed_confusions), file)"
   ]
  },
  {
   "cell_type": "code",
   "execution_count": null,
   "metadata": {
    "collapsed": true
   },
   "outputs": [],
   "source": []
  }
 ],
 "metadata": {
  "anaconda-cloud": {},
  "kernelspec": {
   "display_name": "Python [default]",
   "language": "python",
   "name": "python3"
  },
  "language_info": {
   "codemirror_mode": {
    "name": "ipython",
    "version": 3
   },
   "file_extension": ".py",
   "mimetype": "text/x-python",
   "name": "python",
   "nbconvert_exporter": "python",
   "pygments_lexer": "ipython3",
   "version": "3.5.2"
  }
 },
 "nbformat": 4,
 "nbformat_minor": 2
}
