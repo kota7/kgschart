{
 "cells": [
  {
   "cell_type": "markdown",
   "metadata": {},
   "source": [
    "# Train Caption-en model\n",
    "\n",
    "Goal: Extract data information from caption labels\n",
    "\n",
    "1. Classify opening and closing parentheses and others\n",
    "\n",
    "2. Classify letters that appear in Month description and digits\n",
    "\n",
    "Note: We include 't' as a possible letter to avoid confusion due to 'through' \n"
   ]
  },
  {
   "cell_type": "code",
   "execution_count": 156,
   "metadata": {},
   "outputs": [],
   "source": [
    "import os\n",
    "import sys\n",
    "import json\n",
    "import numpy as np\n",
    "import pandas as pd\n",
    "from matplotlib import pyplot as plt\n",
    "import seaborn as sns\n",
    "import re\n",
    "from keras.preprocessing.image import ImageDataGenerator\n",
    "from sklearn.decomposition import PCA\n",
    "from sklearn.pipeline import Pipeline\n",
    "from sklearn.neural_network import MLPClassifier\n",
    "from sklearn.externals import joblib"
   ]
  },
  {
   "cell_type": "code",
   "execution_count": 157,
   "metadata": {
    "collapsed": true
   },
   "outputs": [],
   "source": [
    "proj_root = os.path.abspath(os.path.join('../')) \n",
    "datadir = os.path.join(proj_root, 'data/caption/')\n",
    "modeldir = os.path.join(proj_root, 'models/')\n",
    "arcdir = os.path.join(proj_root, 'models/archive')\n",
    "\n",
    "if not os.path.isdir(datadir): \n",
    "    print('data directory not found', os.path.abspath(datadir))\n",
    "    raise\n",
    "if not os.path.isdir(modeldir): os.path.makedirs(modeldir)\n",
    "if not os.path.isdir(modeldir): os.path.makedirs(arcdir)"
   ]
  },
  {
   "cell_type": "code",
   "execution_count": 158,
   "metadata": {
    "collapsed": true
   },
   "outputs": [],
   "source": [
    "module_path = os.path.join(proj_root, 'kgschart')\n",
    "sys.path.append(module_path)\n",
    "from utils import pad_image"
   ]
  },
  {
   "cell_type": "code",
   "execution_count": 159,
   "metadata": {
    "collapsed": true
   },
   "outputs": [],
   "source": [
    "X = np.load(os.path.join(datadir, 'X-en.npy'))\n",
    "Y = np.load(os.path.join(datadir, 'Y-en.npy'))"
   ]
  },
  {
   "cell_type": "code",
   "execution_count": 160,
   "metadata": {},
   "outputs": [
    {
     "data": {
      "image/png": "[encoded data removed]",
      "text/plain": [
       "<matplotlib.figure.Figure at 0xd1d47f0>"
      ]
     },
     "metadata": {},
     "output_type": "display_data"
    }
   ],
   "source": [
    "# convenient functions\n",
    "def random_plot(X, Y, predicted=None):\n",
    "    if len(Y) < 1: return\n",
    "    sns.set_style('white')\n",
    "    indices = np.random.choice(len(Y), min(8, len(Y)))\n",
    "    count = 0\n",
    "    for i in indices:\n",
    "        count += 1\n",
    "        ax = plt.subplot(2, 4, count)\n",
    "        ax.imshow(X[i], cmap='gray')\n",
    "        text = Y[i] if predicted is None else 'tr: %s, pr: %s' % (Y[i], predicted[i])\n",
    "        ax.text(0, 0, text, bbox={'facecolor':\"wheat\"})\n",
    "    plt.show(block=False)\n",
    "\n",
    "random_plot(X, Y)\n",
    "\n",
    "\n",
    "def compare_plot(X1, X2):\n",
    "    sns.set_style('white')\n",
    "    indices = range(3) if len(X1) <= 3 else np.random.choice(len(X1), 3)\n",
    "    count = 0\n",
    "    for i in indices:\n",
    "        count += 1\n",
    "        plt.subplot(3, 2, count)\n",
    "        plt.imshow(X1[i], cmap='gray')\n",
    "        count += 1\n",
    "        plt.subplot(3, 2, count)\n",
    "        plt.imshow(X2[i], cmap='gray')\n",
    "    plt.show(block=False)\n",
    "\n",
    "def generate_augmented_data(X, Y, target_size, seed=None):\n",
    "    datagen = ImageDataGenerator(width_shift_range=0.1, height_shift_range=0.1, \n",
    "                                 data_format='channels_last', channel_shift_range=0.5)\n",
    "    out_X = None\n",
    "    out_Y = None\n",
    "    for x,y in datagen.flow(np.expand_dims(X, axis=4), Y, seed=seed):\n",
    "        if out_X is None:\n",
    "            out_X = x\n",
    "            out_Y = y\n",
    "        else:\n",
    "            out_X = np.vstack([out_X, x])\n",
    "            out_Y = np.concatenate([out_Y, y])\n",
    "        if len(out_Y) >= target_size: \n",
    "            break\n",
    "    out_X = out_X.squeeze()\n",
    "    return out_X, out_Y\n",
    "\n",
    "\n",
    "def diagnosis(fit, X, Y):\n",
    "    print('accuracy = ', fit.score(X, Y))\n",
    "    pred = fit.predict(X)\n",
    "    wrong = (Y != pred)\n",
    "    if np.any(wrong):\n",
    "        random_plot(X[wrong], Y[wrong], pred[wrong])\n",
    "    #print(classification_report(Y, pred))\n",
    "    print(pd.crosstab(pd.Series(Y), pd.Series(pred), margins=True))\n",
    "\n",
    "def ngram(x, n):\n",
    "    out = set()\n",
    "    for i in range(len(x)-n+1):\n",
    "        item = x[i:(i+n)]\n",
    "        if type(x) == str:\n",
    "            out.add(item)\n",
    "        else:\n",
    "            out.add(tuple(item))\n",
    "    return out \n"
   ]
  },
  {
   "cell_type": "code",
   "execution_count": 161,
   "metadata": {
    "collapsed": true
   },
   "outputs": [],
   "source": [
    "# used for data preprocess\n",
    "class Flatten:\n",
    "    def __init__(self):\n",
    "        pass\n",
    "    def fit(self, X, y=None):\n",
    "        return self\n",
    "    def transform(self, X, y=None):\n",
    "        return X.reshape(X.shape[0], -1)\n",
    "    def get_params(self, deep=True):\n",
    "        return {}\n"
   ]
  },
  {
   "cell_type": "markdown",
   "metadata": {},
   "source": [
    "## Classification of date-relevant letters\n",
    "\n",
    "Here, we remove irrelevant letters from samples.\n",
    "Also, allow some confusion of letters with numbers"
   ]
  },
  {
   "cell_type": "code",
   "execution_count": 162,
   "metadata": {},
   "outputs": [
    {
     "name": "stdout",
     "output_type": "stream",
     "text": [
      "a, n, J, e, F, b, a, r, M, r, p, A, a, M, y, u, n, J, u, l, J, u, I, J, u, g, A, S, e, p, c, O, t, o, v, N, D, c, e, Ja, an, eb, Fe, Ma, ar, Ap, pr, ay, Ma, un, Ju, ul, Ju, uI, Ju, Au, ug, ep, Se, Oc, ct, No, ov, De, ec, (J, (F, (M, (A, (M, (J, (J, (J, (A, (S, (O, (N, (D, 0, 1, 2, 3, 4, 5, 6, 7, 8, 9, (, ), ,, t, th\n"
     ]
    },
    {
     "data": {
      "text/plain": [
       "array([',', '0', '1', '2', '3', '4', '5', '6', '7', '8', '9', 'A', 'D',\n",
       "       'F', 'I', 'J', 'M', 'N', 'O', 'S', 'a', 'ay', 'b', 'c', 'e', 'g',\n",
       "       'l', 'n', 'o', 'ov', 'p', 'r', 't', 'u', 'v', 'y'], \n",
       "      dtype='<U3')"
      ]
     },
     "execution_count": 162,
     "metadata": {},
     "output_type": "execute_result"
    }
   ],
   "source": [
    "# ignore parentheses in text\n",
    "Y = np.array([y.replace('(', '').replace(')', '') for y in Y])\n",
    "\n",
    "# relevant letters\n",
    "month_names = ['Jan', 'Feb', 'Mar', 'Apr', 'May', 'Jun', 'Jul', 'JuI', 'Aug', 'Sep', 'Oct', 'Nov', 'Dec']\n",
    "\n",
    "month1 = sum([list(ngram(x, 1)) for x in month_names], [])\n",
    "month2 = sum([list(ngram(x, 2)) for x in month_names], [])\n",
    "month3 = ['(' + x[0] for x in month_names]\n",
    "dig_sym = [s for s in '0123456789(),']\n",
    "\n",
    "date_relevant = month1 + month2 + month3 + dig_sym + ['t', 'th']\n",
    "print(', '.join(date_relevant))\n",
    "\n",
    "# keep only cases of relevant letters\n",
    "incl = np.array([y in date_relevant for y in Y])\n",
    "Y = Y[incl]\n",
    "X = X[incl]\n",
    "np.unique(Y)"
   ]
  },
  {
   "cell_type": "code",
   "execution_count": 163,
   "metadata": {},
   "outputs": [
    {
     "data": {
      "text/plain": [
       "array([',', '0', '1', '2', '3', '4', '5', '6', '7', '8', '9', 'A', 'D',\n",
       "       'F', 'J', 'M', 'N', 'a', 'ay', 'c', 'e', 'n', 'o', 'ov', 'p', 'r',\n",
       "       't', 'u', 'v', 'y'], \n",
       "      dtype='<U2')"
      ]
     },
     "execution_count": 163,
     "metadata": {},
     "output_type": "execute_result"
    }
   ],
   "source": [
    "# next, we will incorporate fuzzy ness\n",
    "fuzzy_list = [('I', '1'),\n",
    "              ('l', '1'),\n",
    "              ('O', '0'),\n",
    "              ('S', '5'),\n",
    "              ('Z', '2'),\n",
    "              ('b', '6'),\n",
    "              ('g', '9')]\n",
    "for i in range(len(fuzzy_list)):\n",
    "    Y = [y.replace(fuzzy_list[i][0], fuzzy_list[i][1]) for y in Y]\n",
    "Y = np.array(Y) \n",
    "np.unique(Y)\n"
   ]
  },
  {
   "cell_type": "code",
   "execution_count": 164,
   "metadata": {},
   "outputs": [
    {
     "data": {
      "image/png": "[encoded data removed]",
      "text/plain": [
       "<matplotlib.figure.Figure at 0xce8ec88>"
      ]
     },
     "metadata": {},
     "output_type": "display_data"
    },
    {
     "data": {
      "text/plain": [
       "((39, 14, 22), (39,))"
      ]
     },
     "execution_count": 164,
     "metadata": {},
     "output_type": "execute_result"
    }
   ],
   "source": [
    "random_plot(X, Y)\n",
    "X.shape, Y.shape"
   ]
  },
  {
   "cell_type": "code",
   "execution_count": 165,
   "metadata": {},
   "outputs": [
    {
     "name": "stdout",
     "output_type": "stream",
     "text": [
      "0 13 4 17\n"
     ]
    },
    {
     "data": {
      "image/png": "[encoded data removed]",
      "text/plain": [
       "<matplotlib.figure.Figure at 0xd1933c8>"
      ]
     },
     "metadata": {},
     "output_type": "display_data"
    }
   ],
   "source": [
    "# crop letters as possible\n",
    "i1 = np.inf\n",
    "i2 = -1\n",
    "j1 = np.inf\n",
    "j2 = -1\n",
    "for i in range(len(X)):\n",
    "    nonbg = (X[i,:,:]<1)  # flag for non blank cells\n",
    "    nonbg_rows = np.any(nonbg, axis=1)  # flg for rows with some non-blank cells\n",
    "    nonbg_cols = np.any(nonbg, axis=0)  # flg for cols with some non-blank cells\n",
    "\n",
    "    a1 = np.min(nonbg_rows.nonzero()[0])\n",
    "    a2 = np.max(nonbg_rows.nonzero()[0])\n",
    "    b1 = np.min(nonbg_cols.nonzero()[0])\n",
    "    b2 = np.max(nonbg_cols.nonzero()[0])\n",
    "    \n",
    "    i1 = min(i1, a1)\n",
    "    i2 = max(i2, a2)\n",
    "    j1 = min(j1, b1)\n",
    "    j2 = max(j2, b2)\n",
    "\n",
    "print(i1,i2,j1,j2)\n",
    "\n",
    "X = X[:, i1:(i2+1), j1:(j2)]\n",
    "random_plot(X, Y)\n",
    "\n"
   ]
  },
  {
   "cell_type": "code",
   "execution_count": 166,
   "metadata": {},
   "outputs": [
    {
     "name": "stdout",
     "output_type": "stream",
     "text": [
      "(39, 14, 13) (39,)\n",
      "(39, 17, 16) (39,)\n"
     ]
    },
    {
     "data": {
      "image/png": "[encoded data removed]",
      "text/plain": [
       "<matplotlib.figure.Figure at 0xd4f0550>"
      ]
     },
     "metadata": {},
     "output_type": "display_data"
    }
   ],
   "source": [
    "# pad slightly\n",
    "target_rows = int(np.ceil(X.shape[1]*1.2))\n",
    "target_cols = int(np.ceil(X.shape[2]*1.2))\n",
    "\n",
    "print(X.shape, Y.shape)\n",
    "\n",
    "tmp = [pad_image(X[i], target_rows, target_cols, 1.0) for i in range(len(X))]\n",
    "tmp = [a.reshape(1, a.shape[0], a.shape[1]) for a in tmp]\n",
    "X = np.vstack(tmp)\n",
    "print(X.shape, Y.shape)\n",
    "random_plot(X, Y)\n"
   ]
  },
  {
   "cell_type": "code",
   "execution_count": 167,
   "metadata": {
    "collapsed": true
   },
   "outputs": [],
   "source": [
    "# generate test data from image data generator\n",
    "X_test, Y_test = generate_augmented_data(X, Y, 10000, seed = 8)\n",
    "\n",
    "# generate train data too\n",
    "X_train, Y_train = generate_augmented_data(X, Y, 5000, seed = 7)"
   ]
  },
  {
   "cell_type": "code",
   "execution_count": 168,
   "metadata": {},
   "outputs": [
    {
     "data": {
      "image/png": "[encoded data removed]",
      "text/plain": [
       "<matplotlib.figure.Figure at 0xd3a32b0>"
      ]
     },
     "metadata": {},
     "output_type": "display_data"
    },
    {
     "data": {
      "image/png": "[encoded data removed]",
      "text/plain": [
       "<matplotlib.figure.Figure at 0xd1b1978>"
      ]
     },
     "metadata": {},
     "output_type": "display_data"
    },
    {
     "name": "stdout",
     "output_type": "stream",
     "text": [
      "1 0.294786552714\n",
      "2 0.360390947638\n",
      "3 0.410031163686\n",
      "4 0.448179967123\n",
      "5 0.483624999619\n",
      "6 0.516304672641\n",
      "7 0.542545515122\n",
      "8 0.566450276667\n",
      "9 0.588466013528\n",
      "10 0.608505020618\n",
      "11 0.627717160628\n",
      "12 0.644898466226\n",
      "13 0.660749081816\n",
      "14 0.675577319238\n",
      "15 0.689857481813\n",
      "16 0.703351324976\n",
      "17 0.71619985784\n",
      "18 0.728622647814\n",
      "19 0.739965481012\n",
      "20 0.750455092938\n",
      "21 0.759819195386\n",
      "22 0.769123493231\n",
      "23 0.777555648959\n",
      "24 0.785879356854\n",
      "25 0.793515451866\n",
      "26 0.800352035655\n",
      "27 0.807038038915\n",
      "28 0.813562384777\n",
      "29 0.819966480796\n",
      "30 0.825769400819\n",
      "31 0.831407572391\n",
      "32 0.836804178745\n",
      "33 0.841993817669\n",
      "34 0.846981839005\n",
      "35 0.85191955509\n",
      "36 0.856670949993\n",
      "37 0.861225349203\n",
      "38 0.865494384698\n",
      "39 0.869720247803\n",
      "40 0.873768315583\n",
      "41 0.877657620319\n",
      "42 0.881421585163\n",
      "43 0.885076573461\n",
      "44 0.888530919733\n",
      "45 0.891947454178\n",
      "46 0.895216571969\n",
      "47 0.898271545774\n",
      "48 0.901231677595\n",
      "49 0.904183449172\n",
      "50 0.907019288405\n",
      "51 0.909783845504\n",
      "52 0.912495128049\n",
      "53 0.915128236631\n",
      "54 0.91763973525\n",
      "55 0.920048546224\n",
      "56 0.922392133011\n",
      "57 0.924634707247\n",
      "58 0.926751143032\n",
      "59 0.928838136424\n",
      "60 0.930830734139\n",
      "61 0.932787504023\n",
      "62 0.934679939712\n",
      "63 0.936503446565\n",
      "64 0.938316347162\n",
      "65 0.940027827701\n",
      "66 0.94173188362\n",
      "67 0.943368136969\n",
      "68 0.944937090324\n",
      "69 0.946456032559\n",
      "70 0.947959049034\n",
      "71 0.949411959454\n",
      "72 0.950835094227\n",
      "73 0.952229175926\n",
      "74 0.953556458522\n",
      "75 0.954859390845\n",
      "76 0.956152548951\n",
      "77 0.957388607603\n",
      "78 0.958598822855\n",
      "79 0.959793974679\n",
      "80 0.96096904049\n",
      "81 0.96206776276\n",
      "82 0.963146258255\n",
      "83 0.964193035686\n",
      "84 0.965223985563\n",
      "85 0.966223636833\n",
      "86 0.967211012444\n",
      "87 0.968182579712\n",
      "88 0.969105565929\n",
      "89 0.97002134223\n",
      "90 0.970924452684\n",
      "91 0.971798710823\n",
      "92 0.972653313847\n",
      "93 0.973469061379\n",
      "94 0.974268248741\n",
      "95 0.975058774347\n",
      "96 0.975814530644\n",
      "97 0.976556658183\n",
      "98 0.977254113964\n",
      "99 0.977946309268\n",
      "100 0.978611958326\n",
      "101 0.979269791336\n",
      "102 0.979921186241\n",
      "103 0.980533491551\n",
      "104 0.981130981927\n",
      "105 0.981719819015\n",
      "106 0.982303772981\n",
      "107 0.982878153447\n",
      "108 0.983432758053\n",
      "109 0.983973686226\n",
      "110 0.984488076498\n",
      "111 0.984992677782\n",
      "112 0.985471240882\n",
      "113 0.985940663189\n",
      "114 0.986400515432\n",
      "115 0.986850515118\n",
      "116 0.987296413761\n",
      "117 0.987719610596\n",
      "118 0.988128556598\n",
      "119 0.988528307223\n",
      "120 0.988920015861\n",
      "121 0.989303206367\n",
      "122 0.989683117484\n",
      "123 0.990051026372\n",
      "124 0.990414933647\n",
      "125 0.990759511777\n",
      "126 0.991087708194\n",
      "127 0.991401656777\n",
      "128 0.9917106082\n",
      "129 0.991997070568\n",
      "130 0.992276771022\n",
      "131 0.992551495416\n",
      "132 0.992822154321\n",
      "133 0.993081863585\n",
      "134 0.99333709935\n",
      "135 0.993589955106\n",
      "136 0.993832616512\n",
      "137 0.99406305143\n",
      "138 0.994291492017\n",
      "139 0.994508544122\n",
      "140 0.9947206638\n",
      "141 0.994927201005\n",
      "142 0.995130379915\n",
      "143 0.995326534611\n",
      "144 0.995513834951\n",
      "145 0.995693224791\n",
      "146 0.995865958697\n",
      "147 0.996033216731\n",
      "148 0.996194432566\n",
      "149 0.996349090789\n",
      "150 0.996495217312\n",
      "151 0.996638327696\n",
      "152 0.996778351612\n",
      "153 0.996912508422\n",
      "154 0.997043923542\n",
      "155 0.997173032154\n",
      "156 0.997299664515\n",
      "157 0.997423395486\n",
      "158 0.997542028567\n",
      "159 0.997655324072\n",
      "160 0.997762144959\n",
      "161 0.99786305284\n",
      "162 0.997961267857\n",
      "163 0.99805734281\n",
      "164 0.998149047918\n",
      "165 0.998239332813\n",
      "166 0.998321634556\n",
      "167 0.998401515818\n",
      "168 0.998479033845\n",
      "169 0.998553042077\n",
      "170 0.998624941216\n",
      "171 0.998696179299\n",
      "172 0.998761481069\n",
      "173 0.998825188037\n",
      "174 0.998885047278\n",
      "175 0.998941600705\n",
      "176 0.99899476988\n",
      "177 0.999046786924\n",
      "178 0.999096745652\n",
      "179 0.999144446739\n",
      "180 0.999191317057\n",
      "181 0.999235426634\n",
      "182 0.999276530228\n",
      "183 0.999316141431\n",
      "184 0.999354822996\n",
      "185 0.999391626746\n",
      "186 0.999427256077\n",
      "187 0.999460655889\n",
      "188 0.999492850622\n",
      "189 0.999523813923\n",
      "190 0.999552971432\n",
      "191 0.999580157959\n",
      "192 0.999607248099\n",
      "193 0.999631953896\n",
      "194 0.999655102402\n",
      "195 0.999677534784\n",
      "196 0.999697887752\n",
      "197 0.999717092158\n",
      "198 0.999735466826\n",
      "199 0.999752916936\n",
      "200 0.999769581973\n",
      "201 0.999785782067\n",
      "202 0.999800444975\n",
      "203 0.999813889523\n",
      "204 0.999826713264\n",
      "205 0.999838634448\n",
      "206 0.999850238025\n",
      "207 0.9998612277\n",
      "208 0.999870966359\n",
      "209 0.999880414399\n",
      "210 0.999889405934\n",
      "211 0.999897870971\n",
      "212 0.999906282612\n",
      "213 0.999914323202\n",
      "214 0.999921834981\n",
      "215 0.999929126502\n",
      "216 0.999935225319\n",
      "217 0.999941215955\n",
      "218 0.999947002573\n",
      "219 0.99995242712\n",
      "220 0.999957568494\n",
      "221 0.999962283793\n",
      "222 0.999966580671\n",
      "223 0.999970323658\n",
      "224 0.999973849085\n",
      "225 0.999977200811\n",
      "226 0.999980299064\n",
      "227 0.999982916332\n",
      "228 0.999985255009\n",
      "229 0.99998735468\n",
      "230 0.999989199774\n",
      "231 0.999990933325\n",
      "232 0.999992594731\n",
      "233 0.999993986961\n",
      "234 0.999995201856\n",
      "235 0.999996320413\n",
      "236 0.999997243792\n",
      "237 0.99999806064\n",
      "238 0.999998791947\n",
      "239 0.999999443443\n",
      "240 0.999999666877\n",
      "241 0.999999865222\n",
      "242 0.999999916426\n",
      "243 0.999999957953\n",
      "244 0.999999994689\n",
      "245 0.999999998608\n",
      "246 1.0\n",
      "247 1.0\n",
      "248 1.0\n",
      "249 1.0\n",
      "250 1.0\n",
      "251 1.0\n",
      "252 1.0\n",
      "253 1.0\n",
      "254 1.0\n",
      "255 1.0\n",
      "256 1.0\n",
      "257 1.0\n",
      "258 1.0\n",
      "259 1.0\n",
      "260 1.0\n",
      "261 1.0\n",
      "262 1.0\n",
      "263 1.0\n",
      "264 1.0\n",
      "265 1.0\n",
      "266 1.0\n",
      "267 1.0\n",
      "268 1.0\n",
      "269 1.0\n",
      "270 1.0\n",
      "271 1.0\n",
      "272 1.0\n"
     ]
    }
   ],
   "source": [
    "pipe_pca = Pipeline([\n",
    "    ('flatten', Flatten()), \n",
    "    ('PCA', PCA())\n",
    "])\n",
    "\n",
    "pipe_pca.fit(X_train)\n",
    "sns.set()\n",
    "plt.plot(pipe_pca.named_steps['PCA'].explained_variance_ratio_, linewidth=2)\n",
    "plt.show(block=False)\n",
    "\n",
    "cum = pipe_pca.named_steps['PCA'].explained_variance_ratio_.cumsum()\n",
    "plt.plot(cum, linewidth=2)\n",
    "plt.show(block=False)\n",
    "for i in range(len(cum)):\n",
    "    print(i+1, cum[i])\n"
   ]
  },
  {
   "cell_type": "code",
   "execution_count": 169,
   "metadata": {},
   "outputs": [
    {
     "name": "stdout",
     "output_type": "stream",
     "text": [
      "accuracy on original set =  1.0\n",
      "accuracy =  0.980730830671\n"
     ]
    },
    {
     "data": {
      "image/png": "[encoded data removed]",
      "text/plain": [
       "<matplotlib.figure.Figure at 0xd11c080>"
      ]
     },
     "metadata": {},
     "output_type": "display_data"
    },
    {
     "name": "stdout",
     "output_type": "stream",
     "text": [
      "col_0    ,    0    1    2    3    4    5    6    7    8  ...      n    o   ov  \\\n",
      "row_0                                                    ...                    \n",
      ",      256    0    0    0    0    0    0    0    0    0  ...      0    0    0   \n",
      "0        0  505    0    0    0    0    0    0    2    0  ...      0    0    0   \n",
      "1        0    0  771    0    0    0    0    0    0    0  ...      0    0    0   \n",
      "2        0    0    0  256    0    0    0    0    0    0  ...      0    0    0   \n",
      "3        0    0    2    0  253    0    0    0    1    0  ...      0    0    0   \n",
      "4        0    0    0    0    0  251    2    0    0    0  ...      0    0    0   \n",
      "5        0    1    0    0    4    0  504    0    0    5  ...      0    0    0   \n",
      "6        0    1    0    0    0    0    0  503    0    5  ...      0    2    0   \n",
      "7        0    0    1    0    0    0    0    0  255    0  ...      0    0    0   \n",
      "8        0    0    0    0    1    0    1    8    0  244  ...      0    0    0   \n",
      "9        0    0    0    0    0    0    0    0    0    0  ...      0    1    0   \n",
      "A        0    0    0    0    0    0    0    0    0    0  ...      3    1    0   \n",
      "D        0   12    0    0    0    0    0    0    0    0  ...      0    0    0   \n",
      "F        0    0    0    0    0    0    0    0    1    0  ...      0    0    0   \n",
      "J        3    5    4    0    0    0    0    0    0    0  ...      0    0    0   \n",
      "M        0    0    0    0    0    0    0    0    0    0  ...      0    0    0   \n",
      "N        0    0    0    0    0    0    0    0    0    0  ...      0    0    0   \n",
      "a        0    0    0    0    0    0    0    0    0    0  ...      0    0    0   \n",
      "ay       0    0    0    0    0    0    0    0    0    0  ...      0    0    3   \n",
      "c        0    0    0    1    0    0    0    0    0    0  ...      0    0    0   \n",
      "e        0    0    0    0    0    1    0    0    0    0  ...      0    0    0   \n",
      "n        0    0    0    0    0    0    0    0    0    0  ...    252    1    0   \n",
      "o        0    0    0    0    0    0    0    2    0    0  ...      0  248    0   \n",
      "ov       0    0    0    0    0    0    0    0    0    0  ...      0    1  241   \n",
      "p        0    0    0    0    0    0    0    0    0    0  ...      0    8    0   \n",
      "r        0    0    0    0    0    0    0    0    0    0  ...      0    0    0   \n",
      "t        0    0    5    0    0    0    0    0    0    0  ...      0    0    0   \n",
      "u        0    0    0    1    0    0    0    0    0    0  ...      0    6    0   \n",
      "v        0    0    0    0    0    0    0    0    0    0  ...      0    0    0   \n",
      "y        0    0    0    0    0    0    0    0    0    0  ...      0    0    0   \n",
      "All    259  524  783  258  258  252  507  513  259  254  ...    255  268  244   \n",
      "\n",
      "col_0    p    r    t    u    v    y    All  \n",
      "row_0                                       \n",
      ",        0    0    0    0    0    0    256  \n",
      "0        0    0    0    1    0    0    513  \n",
      "1        0    0    0    0    0    0    771  \n",
      "2        0    0    0    0    0    0    257  \n",
      "3        0    0    0    0    0    0    257  \n",
      "4        0    0    2    0    0    0    257  \n",
      "5        0    0    0    0    0    0    514  \n",
      "6        1    0    0    0    0    0    513  \n",
      "7        0    0    0    0    0    0    257  \n",
      "8        0    0    0    0    0    0    257  \n",
      "9        0    0    0    1    0    0    513  \n",
      "A        0    0    0    0    2    0    514  \n",
      "D        0    0    0    0    0    0    257  \n",
      "F        1    4    0    0    0    0    257  \n",
      "J        0    0    0    0    0    0    770  \n",
      "M        0    0    0    2    1    0    256  \n",
      "N        0    0    0    1    0    0    257  \n",
      "a        0    0    0    0    0    1    257  \n",
      "ay       0    0    0    2    0    0    257  \n",
      "c        1    0    1    1    0    2    256  \n",
      "e        0    0    0    0    0    1    257  \n",
      "n        0    2    0    0    0    0    257  \n",
      "o        4    0    0    1    1    0    257  \n",
      "ov       0    0    0    0    0    0    257  \n",
      "p      249    0    0    0    0    0    257  \n",
      "r        0  253    2    0    0    1    257  \n",
      "t        0    0  252    0    0    0    257  \n",
      "u        0    0    0  248    0    0    257  \n",
      "v        0    1    0    0  252    4    257  \n",
      "y        0    0    0    0    0  255    257  \n",
      "All    256  260  257  257  256  264  10016  \n",
      "\n",
      "[31 rows x 31 columns]\n",
      "accuracy =  0.980730830671\n"
     ]
    },
    {
     "data": {
      "image/png": "[encoded data removed]",
      "text/plain": [
       "<matplotlib.figure.Figure at 0xcc9e390>"
      ]
     },
     "metadata": {},
     "output_type": "display_data"
    },
    {
     "name": "stdout",
     "output_type": "stream",
     "text": [
      "col_0    ,    0    1    2    3    4    5    6    7    8  ...      n    o   ov  \\\n",
      "row_0                                                    ...                    \n",
      ",      256    0    0    0    0    0    0    0    0    0  ...      0    0    0   \n",
      "0        0  505    0    0    0    0    0    0    2    0  ...      0    0    0   \n",
      "1        0    0  771    0    0    0    0    0    0    0  ...      0    0    0   \n",
      "2        0    0    0  256    0    0    0    0    0    0  ...      0    0    0   \n",
      "3        0    0    2    0  253    0    0    0    1    0  ...      0    0    0   \n",
      "4        0    0    0    0    0  251    2    0    0    0  ...      0    0    0   \n",
      "5        0    1    0    0    4    0  504    0    0    5  ...      0    0    0   \n",
      "6        0    1    0    0    0    0    0  503    0    5  ...      0    2    0   \n",
      "7        0    0    1    0    0    0    0    0  255    0  ...      0    0    0   \n",
      "8        0    0    0    0    1    0    1    8    0  244  ...      0    0    0   \n",
      "9        0    0    0    0    0    0    0    0    0    0  ...      0    1    0   \n",
      "A        0    0    0    0    0    0    0    0    0    0  ...      3    1    0   \n",
      "D        0   12    0    0    0    0    0    0    0    0  ...      0    0    0   \n",
      "F        0    0    0    0    0    0    0    0    1    0  ...      0    0    0   \n",
      "J        3    5    4    0    0    0    0    0    0    0  ...      0    0    0   \n",
      "M        0    0    0    0    0    0    0    0    0    0  ...      0    0    0   \n",
      "N        0    0    0    0    0    0    0    0    0    0  ...      0    0    0   \n",
      "a        0    0    0    0    0    0    0    0    0    0  ...      0    0    0   \n",
      "ay       0    0    0    0    0    0    0    0    0    0  ...      0    0    3   \n",
      "c        0    0    0    1    0    0    0    0    0    0  ...      0    0    0   \n",
      "e        0    0    0    0    0    1    0    0    0    0  ...      0    0    0   \n",
      "n        0    0    0    0    0    0    0    0    0    0  ...    252    1    0   \n",
      "o        0    0    0    0    0    0    0    2    0    0  ...      0  248    0   \n",
      "ov       0    0    0    0    0    0    0    0    0    0  ...      0    1  241   \n",
      "p        0    0    0    0    0    0    0    0    0    0  ...      0    8    0   \n",
      "r        0    0    0    0    0    0    0    0    0    0  ...      0    0    0   \n",
      "t        0    0    5    0    0    0    0    0    0    0  ...      0    0    0   \n",
      "u        0    0    0    1    0    0    0    0    0    0  ...      0    6    0   \n",
      "v        0    0    0    0    0    0    0    0    0    0  ...      0    0    0   \n",
      "y        0    0    0    0    0    0    0    0    0    0  ...      0    0    0   \n",
      "All    259  524  783  258  258  252  507  513  259  254  ...    255  268  244   \n",
      "\n",
      "col_0    p    r    t    u    v    y    All  \n",
      "row_0                                       \n",
      ",        0    0    0    0    0    0    256  \n",
      "0        0    0    0    1    0    0    513  \n",
      "1        0    0    0    0    0    0    771  \n",
      "2        0    0    0    0    0    0    257  \n",
      "3        0    0    0    0    0    0    257  \n",
      "4        0    0    2    0    0    0    257  \n",
      "5        0    0    0    0    0    0    514  \n",
      "6        1    0    0    0    0    0    513  \n",
      "7        0    0    0    0    0    0    257  \n",
      "8        0    0    0    0    0    0    257  \n",
      "9        0    0    0    1    0    0    513  \n",
      "A        0    0    0    0    2    0    514  \n",
      "D        0    0    0    0    0    0    257  \n",
      "F        1    4    0    0    0    0    257  \n",
      "J        0    0    0    0    0    0    770  \n",
      "M        0    0    0    2    1    0    256  \n",
      "N        0    0    0    1    0    0    257  \n",
      "a        0    0    0    0    0    1    257  \n",
      "ay       0    0    0    2    0    0    257  \n",
      "c        1    0    1    1    0    2    256  \n",
      "e        0    0    0    0    0    1    257  \n",
      "n        0    2    0    0    0    0    257  \n",
      "o        4    0    0    1    1    0    257  \n",
      "ov       0    0    0    0    0    0    257  \n",
      "p      249    0    0    0    0    0    257  \n",
      "r        0  253    2    0    0    1    257  \n",
      "t        0    0  252    0    0    0    257  \n",
      "u        0    0    0  248    0    0    257  \n",
      "v        0    1    0    0  252    4    257  \n",
      "y        0    0    0    0    0  255    257  \n",
      "All    256  260  257  257  256  264  10016  \n",
      "\n",
      "[31 rows x 31 columns]\n"
     ]
    }
   ],
   "source": [
    "pipe_mlp = Pipeline([\n",
    "    ('flatten', Flatten()), \n",
    "    ('PCA', PCA(n_components=50)),\n",
    "    ('MLP', MLPClassifier((50,50), alpha=0.01))\n",
    "])    \n",
    "\n",
    "pipe_mlp.fit(X_train, Y_train)\n",
    "\n",
    "\n",
    "print('accuracy on original set = ', pipe_mlp.score(X, Y))\n",
    "diagnosis(pipe_mlp, X_test, Y_test)\n",
    "diagnosis(pipe_mlp, X_test, Y_test)"
   ]
  },
  {
   "cell_type": "code",
   "execution_count": 170,
   "metadata": {},
   "outputs": [
    {
     "name": "stdout",
     "output_type": "stream",
     "text": [
      "1007 score on test = 0.0688897763578 score on original = 0.102564102564\n",
      "101707 score on test = 0.945986421725 score on original = 0.974358974359\n",
      "202407 score on test = 0.986521565495 score on original = 1.0\n",
      "303107 score on test = 0.995806709265 score on original = 1.0\n",
      "403807 score on test = 0.998003194888 score on original = 1.0\n",
      "504507 score on test = 0.999001597444 score on original = 1.0\n",
      "605207 score on test = 0.999900159744 score on original = 1.0\n",
      "DONE!\n"
     ]
    }
   ],
   "source": [
    "np.random.seed(87)\n",
    "\n",
    "# create data prep pipeline and\n",
    "# fit pca before learning\n",
    "# this way, we can fix the features to pass to MLP\n",
    "# if we use incrementalPCA and fit online, then the MLP learning would \n",
    "# mess up since there is no guarantee that PCA component i now is the \n",
    "# same as the component i in the next fitted PCA\n",
    "pca = PCA(n_components=50)\n",
    "pipe_prep = Pipeline([\n",
    "    ('flatten', Flatten()), \n",
    "    ('PCA', pca)\n",
    "])\n",
    "pipe_prep.fit(X_train)\n",
    "\n",
    "#model = MLPClassifier((100,100,100), alpha=0.001, warm_start=True)\n",
    "model = MLPClassifier((50,50), alpha=0.001, warm_start=True,\n",
    "                      max_iter=10, batch_size=100)\n",
    "pipe_pred = Pipeline([\n",
    "    ('prep', pipe_prep),\n",
    "    ('MLP', model)\n",
    "])\n",
    "\n",
    "classes = pipe_mlp.classes_\n",
    "\n",
    "\n",
    "num = 0\n",
    "result = None\n",
    "counter = 0\n",
    "consec_ones = 0\n",
    "#for X_batch,Y_batch in train_gen.flow(np.expand_dims(X_in, axis=4), \n",
    "#                                      Y_in, batch_size=1000):\n",
    "while counter <= 10000: \n",
    "    X_batch,Y_batch = generate_augmented_data(X, Y, 1000)\n",
    "    counter += 1\n",
    "    if counter > 10000: break\n",
    "        \n",
    "    model.partial_fit(pipe_prep.transform(X_batch.squeeze()), \n",
    "                      Y_batch, classes)\n",
    "    num += len(Y_batch)\n",
    "    \n",
    "    score_test     = pipe_pred.score(X_test, Y_test)\n",
    "    score_original = pipe_pred.score(X, Y)\n",
    "    tmp = dict(size = [num], score_test = [score_test], \n",
    "               score_original = [score_original])\n",
    "    tmp = pd.DataFrame(tmp)\n",
    "    if result is None:\n",
    "        result = tmp\n",
    "    else:\n",
    "        result = result.append(tmp)\n",
    "    \n",
    "    if counter % 100 == 1:\n",
    "        print(num, 'score on test =', score_test,\n",
    "              'score on original =', score_original)\n",
    "    if score_test == 1.0 and score_original == 1.0:\n",
    "        consec_ones += 1\n",
    "    if consec_ones >= 10:\n",
    "        print('DONE!')\n",
    "        break"
   ]
  },
  {
   "cell_type": "code",
   "execution_count": 171,
   "metadata": {},
   "outputs": [
    {
     "data": {
      "image/png": "[encoded data removed]",
      "text/plain": [
       "<matplotlib.figure.Figure at 0xd1b1a90>"
      ]
     },
     "metadata": {},
     "output_type": "display_data"
    }
   ],
   "source": [
    "sns.set()\n",
    "plt.plot(result['size'], result['score_original'], 'b:', label='original')\n",
    "plt.plot(result['size'], result['score_test'], 'r--', label='test') \n",
    "plt.legend()\n",
    "plt.ylabel('accuracy')\n",
    "plt.xlabel('data size')\n",
    "plt.show(block=False)"
   ]
  },
  {
   "cell_type": "code",
   "execution_count": 172,
   "metadata": {},
   "outputs": [
    {
     "data": {
      "text/plain": [
       "['C:\\\\Users\\\\Kota.Mori\\\\Documents\\\\_dev\\\\kgschart\\\\models/caption-en_pca-loose-mlp-full.pkl']"
      ]
     },
     "execution_count": 172,
     "metadata": {},
     "output_type": "execute_result"
    }
   ],
   "source": [
    "savename = os.path.join(modeldir, 'caption-en_pca-loose-mlp-full.pkl')\n",
    "pipe = Pipeline([('PCA', pca), ('MLP', model)])\n",
    "joblib.dump(pipe, savename)"
   ]
  },
  {
   "cell_type": "code",
   "execution_count": 176,
   "metadata": {
    "collapsed": true
   },
   "outputs": [],
   "source": [
    "with open(os.path.join(modeldir, 'caption-en-loose-config.json'), 'w') as file:\n",
    "    json.dump(dict(input_shape=X.shape[1:]), file)"
   ]
  },
  {
   "cell_type": "code",
   "execution_count": 175,
   "metadata": {},
   "outputs": [
    {
     "data": {
      "text/plain": [
       "(39, 17, 16)"
      ]
     },
     "execution_count": 175,
     "metadata": {},
     "output_type": "execute_result"
    }
   ],
   "source": [
    "\n"
   ]
  },
  {
   "cell_type": "code",
   "execution_count": null,
   "metadata": {
    "collapsed": true
   },
   "outputs": [],
   "source": []
  }
 ],
 "metadata": {
  "anaconda-cloud": {},
  "kernelspec": {
   "display_name": "Python [conda env:kgschart]",
   "language": "python",
   "name": "conda-env-kgschart-py"
  },
  "language_info": {
   "codemirror_mode": {
    "name": "ipython",
    "version": 3
   },
   "file_extension": ".py",
   "mimetype": "text/x-python",
   "name": "python",
   "nbconvert_exporter": "python",
   "pygments_lexer": "ipython3",
   "version": "3.5.2"
  }
 },
 "nbformat": 4,
 "nbformat_minor": 2
}
