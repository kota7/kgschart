{
 "cells": [
  {
   "cell_type": "markdown",
   "metadata": {},
   "source": [
    "# Convert Models in Protocol 2\n",
    "We will open and resave all model objects in protocol 2, so that they can be used from python 2.\n",
    "For curiosity I will compare the file size and loading speed."
   ]
  },
  {
   "cell_type": "code",
   "execution_count": 1,
   "metadata": {
    "collapsed": true
   },
   "outputs": [],
   "source": [
    "import os\n",
    "from glob import glob\n",
    "from sklearn.externals import joblib\n",
    "import pandas as pd\n",
    "from matplotlib import pyplot as plt\n",
    "from time import time"
   ]
  },
  {
   "cell_type": "code",
   "execution_count": 2,
   "metadata": {
    "collapsed": true
   },
   "outputs": [],
   "source": [
    "proj_root = os.path.abspath(os.path.join('../')) \n",
    "modeldir = os.path.join(proj_root, 'models/')\n",
    "prot2dir = os.path.join(modeldir, 'prot2')\n",
    "\n",
    "if not os.path.isdir(modeldir): os.makedirs(modeldir)\n",
    "if not os.path.isdir(prot2dir): os.makedirs(prot2dir)"
   ]
  },
  {
   "cell_type": "code",
   "execution_count": 3,
   "metadata": {},
   "outputs": [
    {
     "name": "stdout",
     "output_type": "stream",
     "text": [
      "label_nb.pkl\n",
      "label_pca-mlp.pkl\n",
      "caption-ja_pca-mlp-step2-full.pkl\n",
      "caption-en-paren_pca-mlp-full.pkl\n",
      "caption-ja-loose_pca-mlp-full.pkl\n",
      "caption-en-letter_pca-mlp-full.pkl\n",
      "caption-ja_pca-mlp-full.pkl\n",
      "label_mlp.pkl\n",
      "label_pca-mlp-full.pkl\n",
      "caption-ja_pca-mlp-step1-full.pkl\n",
      "label_mlp-gridbest.pkl\n",
      "caption_pca-mlp-gridbest.pkl\n",
      "label_mlp-full.pkl\n"
     ]
    }
   ],
   "source": [
    "for from_file in glob(os.path.join(modeldir, '*.pkl')):\n",
    "    print(os.path.basename(from_file))\n",
    "    model = joblib.load(from_file)\n",
    "    out_file = os.path.join(prot2dir, os.path.basename(from_file)) \n",
    "    joblib.dump(model, out_file, protocol=2)"
   ]
  },
  {
   "cell_type": "markdown",
   "metadata": {},
   "source": [
    "## Compare size difference"
   ]
  },
  {
   "cell_type": "code",
   "execution_count": 4,
   "metadata": {},
   "outputs": [
    {
     "data": {
      "image/png": "[encoded data removed]",
      "text/plain": [
       "<matplotlib.figure.Figure at 0x7f0bcacc98d0>"
      ]
     },
     "metadata": {},
     "output_type": "display_data"
    },
    {
     "name": "stdout",
     "output_type": "stream",
     "text": [
      "0     1.000000\n",
      "1     1.002403\n",
      "2     1.001634\n",
      "3     1.005154\n",
      "4     1.006013\n",
      "5     1.068442\n",
      "6     1.002568\n",
      "7     1.000634\n",
      "8     1.006580\n",
      "9     1.002315\n",
      "10    1.000437\n",
      "11    1.006971\n",
      "12    1.015851\n",
      "dtype: float64\n"
     ]
    },
    {
     "data": {
      "text/html": [
       "<div>\n",
       "<style>\n",
       "    .dataframe thead tr:only-child th {\n",
       "        text-align: right;\n",
       "    }\n",
       "\n",
       "    .dataframe thead th {\n",
       "        text-align: left;\n",
       "    }\n",
       "\n",
       "    .dataframe tbody tr th {\n",
       "        vertical-align: top;\n",
       "    }\n",
       "</style>\n",
       "<table border=\"1\" class=\"dataframe\">\n",
       "  <thead>\n",
       "    <tr style=\"text-align: right;\">\n",
       "      <th></th>\n",
       "      <th>file</th>\n",
       "      <th>size_prot2</th>\n",
       "      <th>size_prot3</th>\n",
       "    </tr>\n",
       "  </thead>\n",
       "  <tbody>\n",
       "    <tr>\n",
       "      <th>0</th>\n",
       "      <td>label_nb.pkl</td>\n",
       "      <td>37689</td>\n",
       "      <td>37689</td>\n",
       "    </tr>\n",
       "    <tr>\n",
       "      <th>1</th>\n",
       "      <td>label_pca-mlp.pkl</td>\n",
       "      <td>351282</td>\n",
       "      <td>350440</td>\n",
       "    </tr>\n",
       "    <tr>\n",
       "      <th>2</th>\n",
       "      <td>caption-ja_pca-mlp-step2-full.pkl</td>\n",
       "      <td>1083993</td>\n",
       "      <td>1082225</td>\n",
       "    </tr>\n",
       "    <tr>\n",
       "      <th>3</th>\n",
       "      <td>caption-en-paren_pca-mlp-full.pkl</td>\n",
       "      <td>1234179</td>\n",
       "      <td>1227851</td>\n",
       "    </tr>\n",
       "    <tr>\n",
       "      <th>4</th>\n",
       "      <td>caption-ja-loose_pca-mlp-full.pkl</td>\n",
       "      <td>1195788</td>\n",
       "      <td>1188641</td>\n",
       "    </tr>\n",
       "    <tr>\n",
       "      <th>5</th>\n",
       "      <td>caption-en-letter_pca-mlp-full.pkl</td>\n",
       "      <td>1236949</td>\n",
       "      <td>1157713</td>\n",
       "    </tr>\n",
       "    <tr>\n",
       "      <th>6</th>\n",
       "      <td>caption-ja_pca-mlp-full.pkl</td>\n",
       "      <td>1306924</td>\n",
       "      <td>1303577</td>\n",
       "    </tr>\n",
       "    <tr>\n",
       "      <th>7</th>\n",
       "      <td>label_mlp.pkl</td>\n",
       "      <td>1309843</td>\n",
       "      <td>1309013</td>\n",
       "    </tr>\n",
       "    <tr>\n",
       "      <th>8</th>\n",
       "      <td>label_pca-mlp-full.pkl</td>\n",
       "      <td>1189230</td>\n",
       "      <td>1181456</td>\n",
       "    </tr>\n",
       "    <tr>\n",
       "      <th>9</th>\n",
       "      <td>caption-ja_pca-mlp-step1-full.pkl</td>\n",
       "      <td>1267055</td>\n",
       "      <td>1264129</td>\n",
       "    </tr>\n",
       "    <tr>\n",
       "      <th>10</th>\n",
       "      <td>label_mlp-gridbest.pkl</td>\n",
       "      <td>1309592</td>\n",
       "      <td>1309020</td>\n",
       "    </tr>\n",
       "    <tr>\n",
       "      <th>11</th>\n",
       "      <td>caption_pca-mlp-gridbest.pkl</td>\n",
       "      <td>418763</td>\n",
       "      <td>415864</td>\n",
       "    </tr>\n",
       "    <tr>\n",
       "      <th>12</th>\n",
       "      <td>label_mlp-full.pkl</td>\n",
       "      <td>1358013</td>\n",
       "      <td>1336823</td>\n",
       "    </tr>\n",
       "  </tbody>\n",
       "</table>\n",
       "</div>"
      ],
      "text/plain": [
       "                                  file  size_prot2  size_prot3\n",
       "0                         label_nb.pkl       37689       37689\n",
       "1                    label_pca-mlp.pkl      351282      350440\n",
       "2    caption-ja_pca-mlp-step2-full.pkl     1083993     1082225\n",
       "3    caption-en-paren_pca-mlp-full.pkl     1234179     1227851\n",
       "4    caption-ja-loose_pca-mlp-full.pkl     1195788     1188641\n",
       "5   caption-en-letter_pca-mlp-full.pkl     1236949     1157713\n",
       "6          caption-ja_pca-mlp-full.pkl     1306924     1303577\n",
       "7                        label_mlp.pkl     1309843     1309013\n",
       "8               label_pca-mlp-full.pkl     1189230     1181456\n",
       "9    caption-ja_pca-mlp-step1-full.pkl     1267055     1264129\n",
       "10              label_mlp-gridbest.pkl     1309592     1309020\n",
       "11        caption_pca-mlp-gridbest.pkl      418763      415864\n",
       "12                  label_mlp-full.pkl     1358013     1336823"
      ]
     },
     "execution_count": 4,
     "metadata": {},
     "output_type": "execute_result"
    }
   ],
   "source": [
    "data = []\n",
    "for file3 in glob(os.path.join(modeldir, '*.pkl')):\n",
    "    file2 = os.path.join(prot2dir, os.path.basename(file3))\n",
    "    data.append({'file':os.path.basename(file3), \n",
    "                 'size_prot3':os.path.getsize(file3), \n",
    "                 'size_prot2':os.path.getsize(file2), })\n",
    "data = pd.DataFrame(data)\n",
    "plt.scatter(data['size_prot2'], data['size_prot3'])\n",
    "plt.show()\n",
    "\n",
    "print(data['size_prot2'] / data['size_prot3'])\n",
    "data"
   ]
  },
  {
   "cell_type": "markdown",
   "metadata": {},
   "source": [
    "Hmm, almost same size (up to 1.1% size difference)"
   ]
  },
  {
   "cell_type": "markdown",
   "metadata": {},
   "source": [
    "## Compare load speed "
   ]
  },
  {
   "cell_type": "code",
   "execution_count": 5,
   "metadata": {},
   "outputs": [
    {
     "data": {
      "image/png": "[encoded data removed]",
      "text/plain": [
       "<matplotlib.figure.Figure at 0x7f0bcacdcf28>"
      ]
     },
     "metadata": {},
     "output_type": "display_data"
    },
    {
     "name": "stdout",
     "output_type": "stream",
     "text": [
      "0     14.958069\n",
      "1      6.202682\n",
      "2      4.033487\n",
      "3      3.523352\n",
      "4      3.384331\n",
      "5      0.560108\n",
      "6      4.331667\n",
      "7      6.305439\n",
      "8      3.141506\n",
      "9      4.491614\n",
      "10     6.299510\n",
      "11     6.085502\n",
      "12     1.849686\n",
      "dtype: float64\n"
     ]
    },
    {
     "data": {
      "text/html": [
       "<div>\n",
       "<style>\n",
       "    .dataframe thead tr:only-child th {\n",
       "        text-align: right;\n",
       "    }\n",
       "\n",
       "    .dataframe thead th {\n",
       "        text-align: left;\n",
       "    }\n",
       "\n",
       "    .dataframe tbody tr th {\n",
       "        vertical-align: top;\n",
       "    }\n",
       "</style>\n",
       "<table border=\"1\" class=\"dataframe\">\n",
       "  <thead>\n",
       "    <tr style=\"text-align: right;\">\n",
       "      <th></th>\n",
       "      <th>file</th>\n",
       "      <th>time_prot2</th>\n",
       "      <th>time_prot3</th>\n",
       "    </tr>\n",
       "  </thead>\n",
       "  <tbody>\n",
       "    <tr>\n",
       "      <th>0</th>\n",
       "      <td>label_nb.pkl</td>\n",
       "      <td>0.033170</td>\n",
       "      <td>0.002218</td>\n",
       "    </tr>\n",
       "    <tr>\n",
       "      <th>1</th>\n",
       "      <td>label_pca-mlp.pkl</td>\n",
       "      <td>0.032418</td>\n",
       "      <td>0.005226</td>\n",
       "    </tr>\n",
       "    <tr>\n",
       "      <th>2</th>\n",
       "      <td>caption-ja_pca-mlp-step2-full.pkl</td>\n",
       "      <td>0.030986</td>\n",
       "      <td>0.007682</td>\n",
       "    </tr>\n",
       "    <tr>\n",
       "      <th>3</th>\n",
       "      <td>caption-en-paren_pca-mlp-full.pkl</td>\n",
       "      <td>0.030073</td>\n",
       "      <td>0.008535</td>\n",
       "    </tr>\n",
       "    <tr>\n",
       "      <th>4</th>\n",
       "      <td>caption-ja-loose_pca-mlp-full.pkl</td>\n",
       "      <td>0.030516</td>\n",
       "      <td>0.009017</td>\n",
       "    </tr>\n",
       "    <tr>\n",
       "      <th>5</th>\n",
       "      <td>caption-en-letter_pca-mlp-full.pkl</td>\n",
       "      <td>0.029726</td>\n",
       "      <td>0.053071</td>\n",
       "    </tr>\n",
       "    <tr>\n",
       "      <th>6</th>\n",
       "      <td>caption-ja_pca-mlp-full.pkl</td>\n",
       "      <td>0.029341</td>\n",
       "      <td>0.006774</td>\n",
       "    </tr>\n",
       "    <tr>\n",
       "      <th>7</th>\n",
       "      <td>label_mlp.pkl</td>\n",
       "      <td>0.029713</td>\n",
       "      <td>0.004712</td>\n",
       "    </tr>\n",
       "    <tr>\n",
       "      <th>8</th>\n",
       "      <td>label_pca-mlp-full.pkl</td>\n",
       "      <td>0.029535</td>\n",
       "      <td>0.009402</td>\n",
       "    </tr>\n",
       "    <tr>\n",
       "      <th>9</th>\n",
       "      <td>caption-ja_pca-mlp-step1-full.pkl</td>\n",
       "      <td>0.029372</td>\n",
       "      <td>0.006539</td>\n",
       "    </tr>\n",
       "    <tr>\n",
       "      <th>10</th>\n",
       "      <td>label_mlp-gridbest.pkl</td>\n",
       "      <td>0.029411</td>\n",
       "      <td>0.004669</td>\n",
       "    </tr>\n",
       "    <tr>\n",
       "      <th>11</th>\n",
       "      <td>caption_pca-mlp-gridbest.pkl</td>\n",
       "      <td>0.029323</td>\n",
       "      <td>0.004818</td>\n",
       "    </tr>\n",
       "    <tr>\n",
       "      <th>12</th>\n",
       "      <td>label_mlp-full.pkl</td>\n",
       "      <td>0.031040</td>\n",
       "      <td>0.016781</td>\n",
       "    </tr>\n",
       "  </tbody>\n",
       "</table>\n",
       "</div>"
      ],
      "text/plain": [
       "                                  file  time_prot2  time_prot3\n",
       "0                         label_nb.pkl    0.033170    0.002218\n",
       "1                    label_pca-mlp.pkl    0.032418    0.005226\n",
       "2    caption-ja_pca-mlp-step2-full.pkl    0.030986    0.007682\n",
       "3    caption-en-paren_pca-mlp-full.pkl    0.030073    0.008535\n",
       "4    caption-ja-loose_pca-mlp-full.pkl    0.030516    0.009017\n",
       "5   caption-en-letter_pca-mlp-full.pkl    0.029726    0.053071\n",
       "6          caption-ja_pca-mlp-full.pkl    0.029341    0.006774\n",
       "7                        label_mlp.pkl    0.029713    0.004712\n",
       "8               label_pca-mlp-full.pkl    0.029535    0.009402\n",
       "9    caption-ja_pca-mlp-step1-full.pkl    0.029372    0.006539\n",
       "10              label_mlp-gridbest.pkl    0.029411    0.004669\n",
       "11        caption_pca-mlp-gridbest.pkl    0.029323    0.004818\n",
       "12                  label_mlp-full.pkl    0.031040    0.016781"
      ]
     },
     "execution_count": 5,
     "metadata": {},
     "output_type": "execute_result"
    }
   ],
   "source": [
    "data2 = []\n",
    "for file3 in glob(os.path.join(modeldir, '*.pkl')):\n",
    "    file2 = os.path.join(prot2dir, os.path.basename(from_file))\n",
    "    s = time()\n",
    "    joblib.load(file3)\n",
    "    time3 = time()-s\n",
    "    \n",
    "    s = time()\n",
    "    joblib.load(file2)\n",
    "    time2 = time()-s\n",
    "    data2.append({'file':os.path.basename(file3), \n",
    "                'time_prot3':time3, \n",
    "                'time_prot2':time2})    \n",
    "data2 = pd.DataFrame(data2)\n",
    "\n",
    "plt.scatter(data2['time_prot2'], data2['time_prot3'])\n",
    "plt.show()\n",
    "\n",
    "print(data2['time_prot2'] / data2['time_prot3'])\n",
    "\n",
    "data2"
   ]
  },
  {
   "cell_type": "markdown",
   "metadata": {},
   "source": [
    "About 3 to 5 times faster load for protocol 3!"
   ]
  },
  {
   "cell_type": "code",
   "execution_count": null,
   "metadata": {
    "collapsed": true
   },
   "outputs": [],
   "source": []
  }
 ],
 "metadata": {
  "anaconda-cloud": {},
  "kernelspec": {
   "display_name": "Python [conda env:kgschart]",
   "language": "python",
   "name": "conda-env-kgschart-py"
  },
  "language_info": {
   "codemirror_mode": {
    "name": "ipython",
    "version": 3
   },
   "file_extension": ".py",
   "mimetype": "text/x-python",
   "name": "python",
   "nbconvert_exporter": "python",
   "pygments_lexer": "ipython3",
   "version": "3.5.2"
  }
 },
 "nbformat": 4,
 "nbformat_minor": 2
}
