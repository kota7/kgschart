{
 "cells": [
  {
   "cell_type": "markdown",
   "metadata": {},
   "source": [
    "# Convert Models in Protocol 2\n",
    "We will open and resave all model objects in protocol 2, so that they can be used from python 2.\n",
    "For curiosity I will compare the file size and loading speed."
   ]
  },
  {
   "cell_type": "code",
   "execution_count": 16,
   "metadata": {
    "collapsed": true
   },
   "outputs": [],
   "source": [
    "import os\n",
    "from glob import glob\n",
    "from sklearn.externals import joblib\n",
    "import pandas as pd\n",
    "from matplotlib import pyplot as plt\n",
    "from time import time"
   ]
  },
  {
   "cell_type": "code",
   "execution_count": 17,
   "metadata": {
    "collapsed": true
   },
   "outputs": [],
   "source": [
    "proj_root = os.path.abspath(os.path.join('../')) \n",
    "modeldir = os.path.join(proj_root, 'models/')\n",
    "prot2dir = os.path.join(modeldir, 'prot2')\n",
    "\n",
    "if not os.path.isdir(modeldir): os.makedirs(modeldir)\n",
    "if not os.path.isdir(prot2dir): os.makedirs(prot2dir)"
   ]
  },
  {
   "cell_type": "code",
   "execution_count": 18,
   "metadata": {},
   "outputs": [
    {
     "name": "stdout",
     "output_type": "stream",
     "text": [
      "caption-en-letter_pca-mlp-full.pkl\n",
      "caption-en-paren_pca-mlp-full.pkl\n",
      "caption-en_pca-loose-mlp-full.pkl\n",
      "caption-en_pca-mlp-full.pkl\n",
      "caption-ja-loose_pca-mlp-full.pkl\n",
      "caption-ja_pca-mlp-full.pkl\n",
      "caption-ja_pca-mlp-step1-full.pkl\n",
      "caption-ja_pca-mlp-step2-full.pkl\n",
      "caption_pca-mlp-gridbest.pkl\n",
      "label_mlp-full.pkl\n",
      "label_mlp-gridbest.pkl\n",
      "label_mlp.pkl\n",
      "label_nb.pkl\n",
      "label_pca-mlp-full.pkl\n",
      "label_pca-mlp.pkl\n"
     ]
    }
   ],
   "source": [
    "for from_file in glob(os.path.join(modeldir, '*.pkl')):\n",
    "    print(os.path.basename(from_file))\n",
    "    model = joblib.load(from_file)\n",
    "    out_file = os.path.join(prot2dir, os.path.basename(from_file)) \n",
    "    joblib.dump(model, out_file, protocol=2)"
   ]
  },
  {
   "cell_type": "markdown",
   "metadata": {},
   "source": [
    "## Compare size difference"
   ]
  },
  {
   "cell_type": "code",
   "execution_count": 19,
   "metadata": {},
   "outputs": [
    {
     "data": {
      "image/png": "[encoded data removed]",
      "text/plain": [
       "<matplotlib.figure.Figure at 0xa64d588>"
      ]
     },
     "metadata": {},
     "output_type": "display_data"
    },
    {
     "name": "stdout",
     "output_type": "stream",
     "text": [
      "0     1.068447\n",
      "1     1.005159\n",
      "2     1.045256\n",
      "3     1.024882\n",
      "4     1.030306\n",
      "5     1.002568\n",
      "6     1.002317\n",
      "7     1.001636\n",
      "8     1.006971\n",
      "9     1.015849\n",
      "10    1.000444\n",
      "11    1.000643\n",
      "12    1.000000\n",
      "13    1.097722\n",
      "14    1.002428\n",
      "dtype: float64\n"
     ]
    },
    {
     "data": {
      "text/html": [
       "<div>\n",
       "<table border=\"1\" class=\"dataframe\">\n",
       "  <thead>\n",
       "    <tr style=\"text-align: right;\">\n",
       "      <th></th>\n",
       "      <th>file</th>\n",
       "      <th>size_prot2</th>\n",
       "      <th>size_prot3</th>\n",
       "    </tr>\n",
       "  </thead>\n",
       "  <tbody>\n",
       "    <tr>\n",
       "      <th>0</th>\n",
       "      <td>caption-en-letter_pca-mlp-full.pkl</td>\n",
       "      <td>1236955</td>\n",
       "      <td>1157713</td>\n",
       "    </tr>\n",
       "    <tr>\n",
       "      <th>1</th>\n",
       "      <td>caption-en-paren_pca-mlp-full.pkl</td>\n",
       "      <td>1234185</td>\n",
       "      <td>1227851</td>\n",
       "    </tr>\n",
       "    <tr>\n",
       "      <th>2</th>\n",
       "      <td>caption-en_pca-loose-mlp-full.pkl</td>\n",
       "      <td>367145</td>\n",
       "      <td>351249</td>\n",
       "    </tr>\n",
       "    <tr>\n",
       "      <th>3</th>\n",
       "      <td>caption-en_pca-mlp-full.pkl</td>\n",
       "      <td>335899</td>\n",
       "      <td>327744</td>\n",
       "    </tr>\n",
       "    <tr>\n",
       "      <th>4</th>\n",
       "      <td>caption-ja-loose_pca-mlp-full.pkl</td>\n",
       "      <td>289989</td>\n",
       "      <td>281459</td>\n",
       "    </tr>\n",
       "    <tr>\n",
       "      <th>5</th>\n",
       "      <td>caption-ja_pca-mlp-full.pkl</td>\n",
       "      <td>1306924</td>\n",
       "      <td>1303577</td>\n",
       "    </tr>\n",
       "    <tr>\n",
       "      <th>6</th>\n",
       "      <td>caption-ja_pca-mlp-step1-full.pkl</td>\n",
       "      <td>1267058</td>\n",
       "      <td>1264129</td>\n",
       "    </tr>\n",
       "    <tr>\n",
       "      <th>7</th>\n",
       "      <td>caption-ja_pca-mlp-step2-full.pkl</td>\n",
       "      <td>1083996</td>\n",
       "      <td>1082225</td>\n",
       "    </tr>\n",
       "    <tr>\n",
       "      <th>8</th>\n",
       "      <td>caption_pca-mlp-gridbest.pkl</td>\n",
       "      <td>418763</td>\n",
       "      <td>415864</td>\n",
       "    </tr>\n",
       "    <tr>\n",
       "      <th>9</th>\n",
       "      <td>label_mlp-full.pkl</td>\n",
       "      <td>1358001</td>\n",
       "      <td>1336814</td>\n",
       "    </tr>\n",
       "    <tr>\n",
       "      <th>10</th>\n",
       "      <td>label_mlp-gridbest.pkl</td>\n",
       "      <td>1309601</td>\n",
       "      <td>1309020</td>\n",
       "    </tr>\n",
       "    <tr>\n",
       "      <th>11</th>\n",
       "      <td>label_mlp.pkl</td>\n",
       "      <td>1309855</td>\n",
       "      <td>1309013</td>\n",
       "    </tr>\n",
       "    <tr>\n",
       "      <th>12</th>\n",
       "      <td>label_nb.pkl</td>\n",
       "      <td>37689</td>\n",
       "      <td>37689</td>\n",
       "    </tr>\n",
       "    <tr>\n",
       "      <th>13</th>\n",
       "      <td>label_pca-mlp-full.pkl</td>\n",
       "      <td>338476</td>\n",
       "      <td>308344</td>\n",
       "    </tr>\n",
       "    <tr>\n",
       "      <th>14</th>\n",
       "      <td>label_pca-mlp.pkl</td>\n",
       "      <td>351288</td>\n",
       "      <td>350437</td>\n",
       "    </tr>\n",
       "  </tbody>\n",
       "</table>\n",
       "</div>"
      ],
      "text/plain": [
       "                                  file  size_prot2  size_prot3\n",
       "0   caption-en-letter_pca-mlp-full.pkl     1236955     1157713\n",
       "1    caption-en-paren_pca-mlp-full.pkl     1234185     1227851\n",
       "2    caption-en_pca-loose-mlp-full.pkl      367145      351249\n",
       "3          caption-en_pca-mlp-full.pkl      335899      327744\n",
       "4    caption-ja-loose_pca-mlp-full.pkl      289989      281459\n",
       "5          caption-ja_pca-mlp-full.pkl     1306924     1303577\n",
       "6    caption-ja_pca-mlp-step1-full.pkl     1267058     1264129\n",
       "7    caption-ja_pca-mlp-step2-full.pkl     1083996     1082225\n",
       "8         caption_pca-mlp-gridbest.pkl      418763      415864\n",
       "9                   label_mlp-full.pkl     1358001     1336814\n",
       "10              label_mlp-gridbest.pkl     1309601     1309020\n",
       "11                       label_mlp.pkl     1309855     1309013\n",
       "12                        label_nb.pkl       37689       37689\n",
       "13              label_pca-mlp-full.pkl      338476      308344\n",
       "14                   label_pca-mlp.pkl      351288      350437"
      ]
     },
     "execution_count": 19,
     "metadata": {},
     "output_type": "execute_result"
    }
   ],
   "source": [
    "data = []\n",
    "for file3 in glob(os.path.join(modeldir, '*.pkl')):\n",
    "    file2 = os.path.join(prot2dir, os.path.basename(file3))\n",
    "    data.append({'file':os.path.basename(file3), \n",
    "                 'size_prot3':os.path.getsize(file3), \n",
    "                 'size_prot2':os.path.getsize(file2), })\n",
    "data = pd.DataFrame(data)\n",
    "plt.scatter(data['size_prot2'], data['size_prot3'])\n",
    "plt.show()\n",
    "\n",
    "print(data['size_prot2'] / data['size_prot3'])\n",
    "data"
   ]
  },
  {
   "cell_type": "markdown",
   "metadata": {},
   "source": [
    "Hmm, almost same size (up to 1.1% size difference)"
   ]
  },
  {
   "cell_type": "markdown",
   "metadata": {},
   "source": [
    "## Compare load speed "
   ]
  },
  {
   "cell_type": "code",
   "execution_count": 20,
   "metadata": {},
   "outputs": [
    {
     "data": {
      "image/png": "[encoded data removed]",
      "text/plain": [
       "<matplotlib.figure.Figure at 0xa4f31d0>"
      ]
     },
     "metadata": {},
     "output_type": "display_data"
    },
    {
     "name": "stdout",
     "output_type": "stream",
     "text": [
      "0     0.109375\n",
      "1     0.333360\n",
      "2     0.416680\n",
      "3     0.400005\n",
      "4     1.000000\n",
      "5     0.625007\n",
      "6     0.800029\n",
      "7     0.599981\n",
      "8     0.749985\n",
      "9     0.000000\n",
      "10         NaN\n",
      "11    0.000000\n",
      "12         NaN\n",
      "13    1.000000\n",
      "14    1.333360\n",
      "dtype: float64\n"
     ]
    },
    {
     "data": {
      "text/html": [
       "<div>\n",
       "<table border=\"1\" class=\"dataframe\">\n",
       "  <thead>\n",
       "    <tr style=\"text-align: right;\">\n",
       "      <th></th>\n",
       "      <th>file</th>\n",
       "      <th>time_prot2</th>\n",
       "      <th>time_prot3</th>\n",
       "    </tr>\n",
       "  </thead>\n",
       "  <tbody>\n",
       "    <tr>\n",
       "      <th>0</th>\n",
       "      <td>caption-en-letter_pca-mlp-full.pkl</td>\n",
       "      <td>0.007001</td>\n",
       "      <td>0.064006</td>\n",
       "    </tr>\n",
       "    <tr>\n",
       "      <th>1</th>\n",
       "      <td>caption-en-paren_pca-mlp-full.pkl</td>\n",
       "      <td>0.003000</td>\n",
       "      <td>0.009001</td>\n",
       "    </tr>\n",
       "    <tr>\n",
       "      <th>2</th>\n",
       "      <td>caption-en_pca-loose-mlp-full.pkl</td>\n",
       "      <td>0.005001</td>\n",
       "      <td>0.012001</td>\n",
       "    </tr>\n",
       "    <tr>\n",
       "      <th>3</th>\n",
       "      <td>caption-en_pca-mlp-full.pkl</td>\n",
       "      <td>0.004000</td>\n",
       "      <td>0.010001</td>\n",
       "    </tr>\n",
       "    <tr>\n",
       "      <th>4</th>\n",
       "      <td>caption-ja-loose_pca-mlp-full.pkl</td>\n",
       "      <td>0.007001</td>\n",
       "      <td>0.007001</td>\n",
       "    </tr>\n",
       "    <tr>\n",
       "      <th>5</th>\n",
       "      <td>caption-ja_pca-mlp-full.pkl</td>\n",
       "      <td>0.005001</td>\n",
       "      <td>0.008001</td>\n",
       "    </tr>\n",
       "    <tr>\n",
       "      <th>6</th>\n",
       "      <td>caption-ja_pca-mlp-step1-full.pkl</td>\n",
       "      <td>0.004000</td>\n",
       "      <td>0.005000</td>\n",
       "    </tr>\n",
       "    <tr>\n",
       "      <th>7</th>\n",
       "      <td>caption-ja_pca-mlp-step2-full.pkl</td>\n",
       "      <td>0.003000</td>\n",
       "      <td>0.005001</td>\n",
       "    </tr>\n",
       "    <tr>\n",
       "      <th>8</th>\n",
       "      <td>caption_pca-mlp-gridbest.pkl</td>\n",
       "      <td>0.003000</td>\n",
       "      <td>0.004000</td>\n",
       "    </tr>\n",
       "    <tr>\n",
       "      <th>9</th>\n",
       "      <td>label_mlp-full.pkl</td>\n",
       "      <td>0.000000</td>\n",
       "      <td>0.038201</td>\n",
       "    </tr>\n",
       "    <tr>\n",
       "      <th>10</th>\n",
       "      <td>label_mlp-gridbest.pkl</td>\n",
       "      <td>0.000000</td>\n",
       "      <td>0.000000</td>\n",
       "    </tr>\n",
       "    <tr>\n",
       "      <th>11</th>\n",
       "      <td>label_mlp.pkl</td>\n",
       "      <td>0.000000</td>\n",
       "      <td>0.015600</td>\n",
       "    </tr>\n",
       "    <tr>\n",
       "      <th>12</th>\n",
       "      <td>label_nb.pkl</td>\n",
       "      <td>0.000000</td>\n",
       "      <td>0.000000</td>\n",
       "    </tr>\n",
       "    <tr>\n",
       "      <th>13</th>\n",
       "      <td>label_pca-mlp-full.pkl</td>\n",
       "      <td>0.001000</td>\n",
       "      <td>0.001000</td>\n",
       "    </tr>\n",
       "    <tr>\n",
       "      <th>14</th>\n",
       "      <td>label_pca-mlp.pkl</td>\n",
       "      <td>0.004000</td>\n",
       "      <td>0.003000</td>\n",
       "    </tr>\n",
       "  </tbody>\n",
       "</table>\n",
       "</div>"
      ],
      "text/plain": [
       "                                  file  time_prot2  time_prot3\n",
       "0   caption-en-letter_pca-mlp-full.pkl    0.007001    0.064006\n",
       "1    caption-en-paren_pca-mlp-full.pkl    0.003000    0.009001\n",
       "2    caption-en_pca-loose-mlp-full.pkl    0.005001    0.012001\n",
       "3          caption-en_pca-mlp-full.pkl    0.004000    0.010001\n",
       "4    caption-ja-loose_pca-mlp-full.pkl    0.007001    0.007001\n",
       "5          caption-ja_pca-mlp-full.pkl    0.005001    0.008001\n",
       "6    caption-ja_pca-mlp-step1-full.pkl    0.004000    0.005000\n",
       "7    caption-ja_pca-mlp-step2-full.pkl    0.003000    0.005001\n",
       "8         caption_pca-mlp-gridbest.pkl    0.003000    0.004000\n",
       "9                   label_mlp-full.pkl    0.000000    0.038201\n",
       "10              label_mlp-gridbest.pkl    0.000000    0.000000\n",
       "11                       label_mlp.pkl    0.000000    0.015600\n",
       "12                        label_nb.pkl    0.000000    0.000000\n",
       "13              label_pca-mlp-full.pkl    0.001000    0.001000\n",
       "14                   label_pca-mlp.pkl    0.004000    0.003000"
      ]
     },
     "execution_count": 20,
     "metadata": {},
     "output_type": "execute_result"
    }
   ],
   "source": [
    "data2 = []\n",
    "for file3 in glob(os.path.join(modeldir, '*.pkl')):\n",
    "    file2 = os.path.join(prot2dir, os.path.basename(from_file))\n",
    "    s = time()\n",
    "    joblib.load(file3)\n",
    "    time3 = time()-s\n",
    "    \n",
    "    s = time()\n",
    "    joblib.load(file2)\n",
    "    time2 = time()-s\n",
    "    data2.append({'file':os.path.basename(file3), \n",
    "                'time_prot3':time3, \n",
    "                'time_prot2':time2})    \n",
    "data2 = pd.DataFrame(data2)\n",
    "\n",
    "plt.scatter(data2['time_prot2'], data2['time_prot3'])\n",
    "plt.show()\n",
    "\n",
    "print(data2['time_prot2'] / data2['time_prot3'])\n",
    "\n",
    "data2"
   ]
  },
  {
   "cell_type": "markdown",
   "metadata": {},
   "source": [
    "About 3 to 5 times faster load for protocol 3!"
   ]
  },
  {
   "cell_type": "code",
   "execution_count": null,
   "metadata": {
    "collapsed": true
   },
   "outputs": [],
   "source": []
  }
 ],
 "metadata": {
  "anaconda-cloud": {},
  "kernelspec": {
   "display_name": "Python [conda env:kgschart]",
   "language": "python",
   "name": "conda-env-kgschart-py"
  },
  "language_info": {
   "codemirror_mode": {
    "name": "ipython",
    "version": 3
   },
   "file_extension": ".py",
   "mimetype": "text/x-python",
   "name": "python",
   "nbconvert_exporter": "python",
   "pygments_lexer": "ipython3",
   "version": "3.5.2"
  }
 },
 "nbformat": 4,
 "nbformat_minor": 2
}
