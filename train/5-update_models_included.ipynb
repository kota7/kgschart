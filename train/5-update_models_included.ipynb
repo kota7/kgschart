{
 "cells": [
  {
   "cell_type": "code",
   "execution_count": 30,
   "metadata": {
    "collapsed": true
   },
   "outputs": [],
   "source": [
    "import os\n",
    "import json\n",
    "import shutil\n",
    "from glob import glob\n",
    "\n",
    "proj_root = os.path.abspath(os.path.join('../')) \n",
    "modeldir = os.path.join(proj_root, 'models/')\n",
    "prot2dir = os.path.join(modeldir, 'prot2')\n",
    "\n",
    "incl_dir3 = os.path.join(proj_root, 'kgschart/pretrained/prot3')\n",
    "incl_dir2 = os.path.join(proj_root, 'kgschart/pretrained/prot2')\n",
    "\n",
    "info_file = os.path.join(proj_root, 'kgschart/pretrained/model-info.json')"
   ]
  },
  {
   "cell_type": "code",
   "execution_count": 31,
   "metadata": {},
   "outputs": [],
   "source": [
    "models_dict = dict(\n",
    "    label      = dict(file='label_pca-mlp-full.pkl',\n",
    "                      conf='label-config.json'),\n",
    "    caption_ja = dict(file='caption-ja-loose_pca-mlp-full.pkl',\n",
    "                      conf='caption-ja-loose-config.json'),\n",
    "    caption_en = dict(file='caption-en_pca-loose-mlp-full.pkl',\n",
    "                      conf='caption-en-loose-config.json')\n",
    ")"
   ]
  },
  {
   "cell_type": "code",
   "execution_count": 32,
   "metadata": {
    "collapsed": true
   },
   "outputs": [],
   "source": [
    "# delete existing files\n",
    "for fn in glob(os.path.join(incl_dir3, '*')):\n",
    "    os.unlink(fn)\n",
    "for fn in glob(os.path.join(incl_dir2, '*')):\n",
    "    os.unlink(fn)\n",
    "    "
   ]
  },
  {
   "cell_type": "code",
   "execution_count": 33,
   "metadata": {},
   "outputs": [
    {
     "name": "stdout",
     "output_type": "stream",
     "text": [
      "caption_ja\n",
      "label\n",
      "caption_en\n"
     ]
    }
   ],
   "source": [
    "# copy latest models\n",
    "for k in models_dict:\n",
    "    print(k)\n",
    "    fn = models_dict[k]['file']\n",
    "    shutil.copy(os.path.join(modeldir, fn), incl_dir3)\n",
    "    shutil.copy(os.path.join(prot2dir, fn), incl_dir2)"
   ]
  },
  {
   "cell_type": "code",
   "execution_count": 34,
   "metadata": {},
   "outputs": [
    {
     "name": "stdout",
     "output_type": "stream",
     "text": [
      "caption_ja\n",
      "{'allowed_confusions': [['2', 'z'], ['2', 'Z'], ['5', 's'], ['5', 'S'], ['9', 'g'], ['0', 'o'], ['0', 'O'], ['1', 'I'], ['1', 'i'], ['1', 'l']], 'input_shape': [18, 11]}\n",
      "label\n",
      "{'input_shape': [16, 12]}\n",
      "caption_en\n",
      "{'input_shape': [17, 16]}\n"
     ]
    }
   ],
   "source": [
    "# update json info\n",
    "for k in models_dict:\n",
    "    print(k)\n",
    "    fn = models_dict[k]['conf']\n",
    "    with open(os.path.join(modeldir, fn)) as f:\n",
    "        a = json.load(f)\n",
    "    print(a)\n",
    "    models_dict[k]['shape'] = a['input_shape']\n",
    "    \n",
    "with open(info_file, 'w') as f:\n",
    "    json.dump(models_dict, f, indent=2)    "
   ]
  },
  {
   "cell_type": "code",
   "execution_count": null,
   "metadata": {},
   "outputs": [],
   "source": []
  },
  {
   "cell_type": "code",
   "execution_count": null,
   "metadata": {
    "collapsed": true
   },
   "outputs": [],
   "source": []
  }
 ],
 "metadata": {
  "anaconda-cloud": {},
  "kernelspec": {
   "display_name": "Python [conda env:kgschart]",
   "language": "python",
   "name": "conda-env-kgschart-py"
  },
  "language_info": {
   "codemirror_mode": {
    "name": "ipython",
    "version": 3
   },
   "file_extension": ".py",
   "mimetype": "text/x-python",
   "name": "python",
   "nbconvert_exporter": "python",
   "pygments_lexer": "ipython3",
   "version": "3.5.2"
  }
 },
 "nbformat": 4,
 "nbformat_minor": 2
}
